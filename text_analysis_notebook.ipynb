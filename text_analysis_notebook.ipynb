{
 "cells": [
  {
   "cell_type": "markdown",
   "id": "d08bc296-b953-4e67-b675-0a799b1677dd",
   "metadata": {
    "tags": []
   },
   "source": [
    "<div style=\"display: flex; background-color: #3F579F;\">\n",
    "    <h1 style=\"margin: auto; font-weight: bold; padding: 30px 30px 0px 30px;\" align=\"center\">Automatically classify consumer goods - P6</h1>\n",
    "</div>\n",
    "<div style=\"display: flex; background-color: #3F579F; margin: auto; padding: 5px 30px 0px 30px;\" >\n",
    "    <h3 style=\"width: 100%; text-align: center; float: left; font-size: 24px;\" align=\"center\">| Text analysis notebook |</h3>\n",
    "</div>\n",
    "<div style=\"display: flex; background-color: #3F579F; margin: auto; padding: 10px 30px 30px 30px;\">\n",
    "    <h4 style=\"width: 100%; text-align: center; float: left; font-size: 24px;\" align=\"center\">Data Scientist course - OpenClassrooms</h4>\n",
    "</div>"
   ]
  },
  {
   "cell_type": "markdown",
   "id": "15875b00-1c19-4742-a494-e7b8aaa37fe9",
   "metadata": {
    "tags": []
   },
   "source": [
    "<div style=\"background-color: #506AB9;\" >\n",
    "    <h2 style=\"margin: auto; padding: 20px; color:#fff; \">1. Libraries and functions</h2>\n",
    "</div>"
   ]
  },
  {
   "cell_type": "markdown",
   "id": "13c59a62-17d6-4cd4-a4d0-a9e197eedc22",
   "metadata": {},
   "source": [
    "<div style=\"background-color: #6D83C5;\" >\n",
    "    <h3 style=\"margin: auto; padding: 20px; color:#fff; \">1.1. Libraries and functions</h3>\n",
    "</div>"
   ]
  },
  {
   "cell_type": "code",
   "execution_count": 1,
   "id": "1c987284-6588-493d-8d3f-cee6272f6351",
   "metadata": {},
   "outputs": [],
   "source": [
    "## General\n",
    "import operator\n",
    "import pandas as pd\n",
    "import numpy as np\n",
    "import matplotlib.pyplot as plt\n",
    "import seaborn as sns\n",
    "\n",
    "# Own specific functions \n",
    "from functions_eda import *\n",
    "from functions_nlp import *\n",
    "\n",
    "%matplotlib inline\n",
    "sns.set_theme(style=\"darkgrid\")\n"
   ]
  },
  {
   "cell_type": "markdown",
   "id": "2114ab61-f7ce-46cb-9cf5-1607a77f6055",
   "metadata": {
    "tags": []
   },
   "source": [
    "<div style=\"background-color: #506AB9;\" >\n",
    "    <h2 style=\"margin: auto; padding: 20px; color:#fff; \">2. Importing files and Initial analysis</h2>\n",
    "</div>"
   ]
  },
  {
   "cell_type": "markdown",
   "id": "9a1f33ae-6c67-41e1-a821-dd694e3c7938",
   "metadata": {},
   "source": [
    "<div style=\"background-color: #6D83C5;\" >\n",
    "    <h3 style=\"margin: auto; padding: 20px; color:#fff; \">2.1. Importing and preparing files</h3>\n",
    "</div>"
   ]
  },
  {
   "cell_type": "markdown",
   "id": "e805a284-b2db-47e8-bde4-44440a51f284",
   "metadata": {
    "tags": []
   },
   "source": [
    "<div class=\"alert alert-block alert-info\">\n",
    "    We are going to load the dateset resulting from the RFM\n",
    "</div>"
   ]
  },
  {
   "cell_type": "code",
   "execution_count": 2,
   "id": "cba3d4ac-0632-44c2-a8e0-ac10b9712242",
   "metadata": {
    "tags": []
   },
   "outputs": [],
   "source": [
    "data = pd.read_csv(r\"datasets\\flipkart_com-ecommerce_sample_1050.csv\")"
   ]
  },
  {
   "cell_type": "code",
   "execution_count": 3,
   "id": "6cd1e69b-51d4-41cf-a31b-820a3d1a1a33",
   "metadata": {},
   "outputs": [
    {
     "data": {
      "text/html": [
       "<div>\n",
       "<style scoped>\n",
       "    .dataframe tbody tr th:only-of-type {\n",
       "        vertical-align: middle;\n",
       "    }\n",
       "\n",
       "    .dataframe tbody tr th {\n",
       "        vertical-align: top;\n",
       "    }\n",
       "\n",
       "    .dataframe thead th {\n",
       "        text-align: right;\n",
       "    }\n",
       "</style>\n",
       "<table border=\"1\" class=\"dataframe\">\n",
       "  <thead>\n",
       "    <tr style=\"text-align: right;\">\n",
       "      <th></th>\n",
       "      <th>uniq_id</th>\n",
       "      <th>crawl_timestamp</th>\n",
       "      <th>product_url</th>\n",
       "      <th>product_name</th>\n",
       "      <th>product_category_tree</th>\n",
       "      <th>pid</th>\n",
       "      <th>retail_price</th>\n",
       "      <th>discounted_price</th>\n",
       "      <th>image</th>\n",
       "      <th>is_FK_Advantage_product</th>\n",
       "      <th>description</th>\n",
       "      <th>product_rating</th>\n",
       "      <th>overall_rating</th>\n",
       "      <th>brand</th>\n",
       "      <th>product_specifications</th>\n",
       "    </tr>\n",
       "  </thead>\n",
       "  <tbody>\n",
       "    <tr>\n",
       "      <th>0</th>\n",
       "      <td>55b85ea15a1536d46b7190ad6fff8ce7</td>\n",
       "      <td>2016-04-30 03:22:56 +0000</td>\n",
       "      <td>http://www.flipkart.com/elegance-polyester-mul...</td>\n",
       "      <td>Elegance Polyester Multicolor Abstract Eyelet ...</td>\n",
       "      <td>[\"Home Furnishing &gt;&gt; Curtains &amp; Accessories &gt;&gt;...</td>\n",
       "      <td>CRNEG7BKMFFYHQ8Z</td>\n",
       "      <td>1899.0</td>\n",
       "      <td>899.0</td>\n",
       "      <td>55b85ea15a1536d46b7190ad6fff8ce7.jpg</td>\n",
       "      <td>False</td>\n",
       "      <td>Key Features of Elegance Polyester Multicolor ...</td>\n",
       "      <td>No rating available</td>\n",
       "      <td>No rating available</td>\n",
       "      <td>Elegance</td>\n",
       "      <td>{\"product_specification\"=&gt;[{\"key\"=&gt;\"Brand\", \"v...</td>\n",
       "    </tr>\n",
       "    <tr>\n",
       "      <th>1</th>\n",
       "      <td>7b72c92c2f6c40268628ec5f14c6d590</td>\n",
       "      <td>2016-04-30 03:22:56 +0000</td>\n",
       "      <td>http://www.flipkart.com/sathiyas-cotton-bath-t...</td>\n",
       "      <td>Sathiyas Cotton Bath Towel</td>\n",
       "      <td>[\"Baby Care &gt;&gt; Baby Bath &amp; Skin &gt;&gt; Baby Bath T...</td>\n",
       "      <td>BTWEGFZHGBXPHZUH</td>\n",
       "      <td>600.0</td>\n",
       "      <td>449.0</td>\n",
       "      <td>7b72c92c2f6c40268628ec5f14c6d590.jpg</td>\n",
       "      <td>False</td>\n",
       "      <td>Specifications of Sathiyas Cotton Bath Towel (...</td>\n",
       "      <td>No rating available</td>\n",
       "      <td>No rating available</td>\n",
       "      <td>Sathiyas</td>\n",
       "      <td>{\"product_specification\"=&gt;[{\"key\"=&gt;\"Machine Wa...</td>\n",
       "    </tr>\n",
       "    <tr>\n",
       "      <th>2</th>\n",
       "      <td>64d5d4a258243731dc7bbb1eef49ad74</td>\n",
       "      <td>2016-04-30 03:22:56 +0000</td>\n",
       "      <td>http://www.flipkart.com/eurospa-cotton-terry-f...</td>\n",
       "      <td>Eurospa Cotton Terry Face Towel Set</td>\n",
       "      <td>[\"Baby Care &gt;&gt; Baby Bath &amp; Skin &gt;&gt; Baby Bath T...</td>\n",
       "      <td>BTWEG6SHXTDB2A2Y</td>\n",
       "      <td>NaN</td>\n",
       "      <td>NaN</td>\n",
       "      <td>64d5d4a258243731dc7bbb1eef49ad74.jpg</td>\n",
       "      <td>False</td>\n",
       "      <td>Key Features of Eurospa Cotton Terry Face Towe...</td>\n",
       "      <td>No rating available</td>\n",
       "      <td>No rating available</td>\n",
       "      <td>Eurospa</td>\n",
       "      <td>{\"product_specification\"=&gt;[{\"key\"=&gt;\"Material\",...</td>\n",
       "    </tr>\n",
       "    <tr>\n",
       "      <th>3</th>\n",
       "      <td>d4684dcdc759dd9cdf41504698d737d8</td>\n",
       "      <td>2016-06-20 08:49:52 +0000</td>\n",
       "      <td>http://www.flipkart.com/santosh-royal-fashion-...</td>\n",
       "      <td>SANTOSH ROYAL FASHION Cotton Printed King size...</td>\n",
       "      <td>[\"Home Furnishing &gt;&gt; Bed Linen &gt;&gt; Bedsheets &gt;&gt;...</td>\n",
       "      <td>BDSEJT9UQWHDUBH4</td>\n",
       "      <td>2699.0</td>\n",
       "      <td>1299.0</td>\n",
       "      <td>d4684dcdc759dd9cdf41504698d737d8.jpg</td>\n",
       "      <td>False</td>\n",
       "      <td>Key Features of SANTOSH ROYAL FASHION Cotton P...</td>\n",
       "      <td>No rating available</td>\n",
       "      <td>No rating available</td>\n",
       "      <td>SANTOSH ROYAL FASHION</td>\n",
       "      <td>{\"product_specification\"=&gt;[{\"key\"=&gt;\"Brand\", \"v...</td>\n",
       "    </tr>\n",
       "    <tr>\n",
       "      <th>4</th>\n",
       "      <td>6325b6870c54cd47be6ebfbffa620ec7</td>\n",
       "      <td>2016-06-20 08:49:52 +0000</td>\n",
       "      <td>http://www.flipkart.com/jaipur-print-cotton-fl...</td>\n",
       "      <td>Jaipur Print Cotton Floral King sized Double B...</td>\n",
       "      <td>[\"Home Furnishing &gt;&gt; Bed Linen &gt;&gt; Bedsheets &gt;&gt;...</td>\n",
       "      <td>BDSEJTHNGWVGWWQU</td>\n",
       "      <td>2599.0</td>\n",
       "      <td>698.0</td>\n",
       "      <td>6325b6870c54cd47be6ebfbffa620ec7.jpg</td>\n",
       "      <td>False</td>\n",
       "      <td>Key Features of Jaipur Print Cotton Floral Kin...</td>\n",
       "      <td>No rating available</td>\n",
       "      <td>No rating available</td>\n",
       "      <td>Jaipur Print</td>\n",
       "      <td>{\"product_specification\"=&gt;[{\"key\"=&gt;\"Machine Wa...</td>\n",
       "    </tr>\n",
       "  </tbody>\n",
       "</table>\n",
       "</div>"
      ],
      "text/plain": [
       "                            uniq_id            crawl_timestamp  \\\n",
       "0  55b85ea15a1536d46b7190ad6fff8ce7  2016-04-30 03:22:56 +0000   \n",
       "1  7b72c92c2f6c40268628ec5f14c6d590  2016-04-30 03:22:56 +0000   \n",
       "2  64d5d4a258243731dc7bbb1eef49ad74  2016-04-30 03:22:56 +0000   \n",
       "3  d4684dcdc759dd9cdf41504698d737d8  2016-06-20 08:49:52 +0000   \n",
       "4  6325b6870c54cd47be6ebfbffa620ec7  2016-06-20 08:49:52 +0000   \n",
       "\n",
       "                                         product_url  \\\n",
       "0  http://www.flipkart.com/elegance-polyester-mul...   \n",
       "1  http://www.flipkart.com/sathiyas-cotton-bath-t...   \n",
       "2  http://www.flipkart.com/eurospa-cotton-terry-f...   \n",
       "3  http://www.flipkart.com/santosh-royal-fashion-...   \n",
       "4  http://www.flipkart.com/jaipur-print-cotton-fl...   \n",
       "\n",
       "                                        product_name  \\\n",
       "0  Elegance Polyester Multicolor Abstract Eyelet ...   \n",
       "1                         Sathiyas Cotton Bath Towel   \n",
       "2                Eurospa Cotton Terry Face Towel Set   \n",
       "3  SANTOSH ROYAL FASHION Cotton Printed King size...   \n",
       "4  Jaipur Print Cotton Floral King sized Double B...   \n",
       "\n",
       "                               product_category_tree               pid  \\\n",
       "0  [\"Home Furnishing >> Curtains & Accessories >>...  CRNEG7BKMFFYHQ8Z   \n",
       "1  [\"Baby Care >> Baby Bath & Skin >> Baby Bath T...  BTWEGFZHGBXPHZUH   \n",
       "2  [\"Baby Care >> Baby Bath & Skin >> Baby Bath T...  BTWEG6SHXTDB2A2Y   \n",
       "3  [\"Home Furnishing >> Bed Linen >> Bedsheets >>...  BDSEJT9UQWHDUBH4   \n",
       "4  [\"Home Furnishing >> Bed Linen >> Bedsheets >>...  BDSEJTHNGWVGWWQU   \n",
       "\n",
       "   retail_price  discounted_price                                 image  \\\n",
       "0        1899.0             899.0  55b85ea15a1536d46b7190ad6fff8ce7.jpg   \n",
       "1         600.0             449.0  7b72c92c2f6c40268628ec5f14c6d590.jpg   \n",
       "2           NaN               NaN  64d5d4a258243731dc7bbb1eef49ad74.jpg   \n",
       "3        2699.0            1299.0  d4684dcdc759dd9cdf41504698d737d8.jpg   \n",
       "4        2599.0             698.0  6325b6870c54cd47be6ebfbffa620ec7.jpg   \n",
       "\n",
       "   is_FK_Advantage_product                                        description  \\\n",
       "0                    False  Key Features of Elegance Polyester Multicolor ...   \n",
       "1                    False  Specifications of Sathiyas Cotton Bath Towel (...   \n",
       "2                    False  Key Features of Eurospa Cotton Terry Face Towe...   \n",
       "3                    False  Key Features of SANTOSH ROYAL FASHION Cotton P...   \n",
       "4                    False  Key Features of Jaipur Print Cotton Floral Kin...   \n",
       "\n",
       "        product_rating       overall_rating                  brand  \\\n",
       "0  No rating available  No rating available               Elegance   \n",
       "1  No rating available  No rating available               Sathiyas   \n",
       "2  No rating available  No rating available                Eurospa   \n",
       "3  No rating available  No rating available  SANTOSH ROYAL FASHION   \n",
       "4  No rating available  No rating available           Jaipur Print   \n",
       "\n",
       "                              product_specifications  \n",
       "0  {\"product_specification\"=>[{\"key\"=>\"Brand\", \"v...  \n",
       "1  {\"product_specification\"=>[{\"key\"=>\"Machine Wa...  \n",
       "2  {\"product_specification\"=>[{\"key\"=>\"Material\",...  \n",
       "3  {\"product_specification\"=>[{\"key\"=>\"Brand\", \"v...  \n",
       "4  {\"product_specification\"=>[{\"key\"=>\"Machine Wa...  "
      ]
     },
     "execution_count": 3,
     "metadata": {},
     "output_type": "execute_result"
    }
   ],
   "source": [
    "data.head()"
   ]
  },
  {
   "cell_type": "markdown",
   "id": "b252417d-2bfe-472a-be5f-f95a04d90345",
   "metadata": {},
   "source": [
    "<div style=\"background-color: #6D83C5;\" >\n",
    "    <h3 style=\"margin: auto; padding: 20px; color:#fff; \">2.2. Initial analysis</h3>\n",
    "</div>"
   ]
  },
  {
   "cell_type": "code",
   "execution_count": 4,
   "id": "ac074185-00a0-4f7c-a777-6f488681e67e",
   "metadata": {},
   "outputs": [
    {
     "name": "stdout",
     "output_type": "stream",
     "text": [
      "\n",
      "Analysis Header of data dataset\n",
      "--------------------------------------------------------------------------------\n",
      "- Dataset shape:\t\t\t 1050 rows and 15 columns\n",
      "- Total of NaN values:\t\t\t 341\n",
      "- Percentage of NaN:\t\t\t 2.17 %\n",
      "- Total of full duplicates rows:\t 0\n",
      "- Total of empty rows:\t\t\t 0\n",
      "- Total of empty columns:\t\t 0\n",
      "- Unique indexes:\t\t\t True\n",
      "- Memory usage:\t\t\t\t 116.0+ KB\n",
      "\n",
      "- The key(s):\t ['uniq_id'] is not present multiple times in the dataframe. \n",
      "\t\t It CAN be used as a primary key.\n",
      "\n",
      "Detailed analysis of data dataset\n",
      "------------------------------------------------------------------------------------------------------------------------------------\n"
     ]
    },
    {
     "data": {
      "text/html": [
       "<div>\n",
       "<style scoped>\n",
       "    .dataframe tbody tr th:only-of-type {\n",
       "        vertical-align: middle;\n",
       "    }\n",
       "\n",
       "    .dataframe tbody tr th {\n",
       "        vertical-align: top;\n",
       "    }\n",
       "\n",
       "    .dataframe thead th {\n",
       "        text-align: right;\n",
       "    }\n",
       "</style>\n",
       "<table border=\"1\" class=\"dataframe\">\n",
       "  <thead>\n",
       "    <tr style=\"text-align: right;\">\n",
       "      <th></th>\n",
       "      <th>name</th>\n",
       "      <th>type</th>\n",
       "      <th>records</th>\n",
       "      <th>unique</th>\n",
       "      <th># NaN</th>\n",
       "      <th>% NaN</th>\n",
       "      <th>mean</th>\n",
       "      <th>min</th>\n",
       "      <th>25%</th>\n",
       "      <th>50%</th>\n",
       "      <th>75%</th>\n",
       "      <th>max</th>\n",
       "      <th>std</th>\n",
       "    </tr>\n",
       "  </thead>\n",
       "  <tbody>\n",
       "    <tr>\n",
       "      <th>0</th>\n",
       "      <td>uniq_id</td>\n",
       "      <td>object</td>\n",
       "      <td>1050</td>\n",
       "      <td>1050</td>\n",
       "      <td>0</td>\n",
       "      <td>0.00000</td>\n",
       "      <td>NaN</td>\n",
       "      <td>NaN</td>\n",
       "      <td>NaN</td>\n",
       "      <td>NaN</td>\n",
       "      <td>NaN</td>\n",
       "      <td>NaN</td>\n",
       "      <td>NaN</td>\n",
       "    </tr>\n",
       "    <tr>\n",
       "      <th>1</th>\n",
       "      <td>crawl_timestamp</td>\n",
       "      <td>object</td>\n",
       "      <td>1050</td>\n",
       "      <td>149</td>\n",
       "      <td>0</td>\n",
       "      <td>0.00000</td>\n",
       "      <td>NaN</td>\n",
       "      <td>NaN</td>\n",
       "      <td>NaN</td>\n",
       "      <td>NaN</td>\n",
       "      <td>NaN</td>\n",
       "      <td>NaN</td>\n",
       "      <td>NaN</td>\n",
       "    </tr>\n",
       "    <tr>\n",
       "      <th>2</th>\n",
       "      <td>product_url</td>\n",
       "      <td>object</td>\n",
       "      <td>1050</td>\n",
       "      <td>1050</td>\n",
       "      <td>0</td>\n",
       "      <td>0.00000</td>\n",
       "      <td>NaN</td>\n",
       "      <td>NaN</td>\n",
       "      <td>NaN</td>\n",
       "      <td>NaN</td>\n",
       "      <td>NaN</td>\n",
       "      <td>NaN</td>\n",
       "      <td>NaN</td>\n",
       "    </tr>\n",
       "    <tr>\n",
       "      <th>3</th>\n",
       "      <td>product_name</td>\n",
       "      <td>object</td>\n",
       "      <td>1050</td>\n",
       "      <td>1050</td>\n",
       "      <td>0</td>\n",
       "      <td>0.00000</td>\n",
       "      <td>NaN</td>\n",
       "      <td>NaN</td>\n",
       "      <td>NaN</td>\n",
       "      <td>NaN</td>\n",
       "      <td>NaN</td>\n",
       "      <td>NaN</td>\n",
       "      <td>NaN</td>\n",
       "    </tr>\n",
       "    <tr>\n",
       "      <th>4</th>\n",
       "      <td>product_category_tree</td>\n",
       "      <td>object</td>\n",
       "      <td>1050</td>\n",
       "      <td>642</td>\n",
       "      <td>0</td>\n",
       "      <td>0.00000</td>\n",
       "      <td>NaN</td>\n",
       "      <td>NaN</td>\n",
       "      <td>NaN</td>\n",
       "      <td>NaN</td>\n",
       "      <td>NaN</td>\n",
       "      <td>NaN</td>\n",
       "      <td>NaN</td>\n",
       "    </tr>\n",
       "    <tr>\n",
       "      <th>5</th>\n",
       "      <td>pid</td>\n",
       "      <td>object</td>\n",
       "      <td>1050</td>\n",
       "      <td>1050</td>\n",
       "      <td>0</td>\n",
       "      <td>0.00000</td>\n",
       "      <td>NaN</td>\n",
       "      <td>NaN</td>\n",
       "      <td>NaN</td>\n",
       "      <td>NaN</td>\n",
       "      <td>NaN</td>\n",
       "      <td>NaN</td>\n",
       "      <td>NaN</td>\n",
       "    </tr>\n",
       "    <tr>\n",
       "      <th>8</th>\n",
       "      <td>image</td>\n",
       "      <td>object</td>\n",
       "      <td>1050</td>\n",
       "      <td>1050</td>\n",
       "      <td>0</td>\n",
       "      <td>0.00000</td>\n",
       "      <td>NaN</td>\n",
       "      <td>NaN</td>\n",
       "      <td>NaN</td>\n",
       "      <td>NaN</td>\n",
       "      <td>NaN</td>\n",
       "      <td>NaN</td>\n",
       "      <td>NaN</td>\n",
       "    </tr>\n",
       "    <tr>\n",
       "      <th>9</th>\n",
       "      <td>is_FK_Advantage_product</td>\n",
       "      <td>bool</td>\n",
       "      <td>1050</td>\n",
       "      <td>2</td>\n",
       "      <td>0</td>\n",
       "      <td>0.00000</td>\n",
       "      <td>NaN</td>\n",
       "      <td>NaN</td>\n",
       "      <td>NaN</td>\n",
       "      <td>NaN</td>\n",
       "      <td>NaN</td>\n",
       "      <td>NaN</td>\n",
       "      <td>NaN</td>\n",
       "    </tr>\n",
       "    <tr>\n",
       "      <th>10</th>\n",
       "      <td>description</td>\n",
       "      <td>object</td>\n",
       "      <td>1050</td>\n",
       "      <td>1050</td>\n",
       "      <td>0</td>\n",
       "      <td>0.00000</td>\n",
       "      <td>NaN</td>\n",
       "      <td>NaN</td>\n",
       "      <td>NaN</td>\n",
       "      <td>NaN</td>\n",
       "      <td>NaN</td>\n",
       "      <td>NaN</td>\n",
       "      <td>NaN</td>\n",
       "    </tr>\n",
       "    <tr>\n",
       "      <th>11</th>\n",
       "      <td>product_rating</td>\n",
       "      <td>object</td>\n",
       "      <td>1050</td>\n",
       "      <td>27</td>\n",
       "      <td>0</td>\n",
       "      <td>0.00000</td>\n",
       "      <td>NaN</td>\n",
       "      <td>NaN</td>\n",
       "      <td>NaN</td>\n",
       "      <td>NaN</td>\n",
       "      <td>NaN</td>\n",
       "      <td>NaN</td>\n",
       "      <td>NaN</td>\n",
       "    </tr>\n",
       "    <tr>\n",
       "      <th>12</th>\n",
       "      <td>overall_rating</td>\n",
       "      <td>object</td>\n",
       "      <td>1050</td>\n",
       "      <td>27</td>\n",
       "      <td>0</td>\n",
       "      <td>0.00000</td>\n",
       "      <td>NaN</td>\n",
       "      <td>NaN</td>\n",
       "      <td>NaN</td>\n",
       "      <td>NaN</td>\n",
       "      <td>NaN</td>\n",
       "      <td>NaN</td>\n",
       "      <td>NaN</td>\n",
       "    </tr>\n",
       "    <tr>\n",
       "      <th>6</th>\n",
       "      <td>retail_price</td>\n",
       "      <td>float64</td>\n",
       "      <td>1049</td>\n",
       "      <td>354</td>\n",
       "      <td>1</td>\n",
       "      <td>0.10000</td>\n",
       "      <td>2186.19733</td>\n",
       "      <td>35.00000</td>\n",
       "      <td>555.00000</td>\n",
       "      <td>999.00000</td>\n",
       "      <td>1999.00000</td>\n",
       "      <td>201000.00000</td>\n",
       "      <td>7639.22941</td>\n",
       "    </tr>\n",
       "    <tr>\n",
       "      <th>7</th>\n",
       "      <td>discounted_price</td>\n",
       "      <td>float64</td>\n",
       "      <td>1049</td>\n",
       "      <td>424</td>\n",
       "      <td>1</td>\n",
       "      <td>0.10000</td>\n",
       "      <td>1584.52717</td>\n",
       "      <td>35.00000</td>\n",
       "      <td>340.00000</td>\n",
       "      <td>600.00000</td>\n",
       "      <td>1199.00000</td>\n",
       "      <td>201000.00000</td>\n",
       "      <td>7475.09968</td>\n",
       "    </tr>\n",
       "    <tr>\n",
       "      <th>14</th>\n",
       "      <td>product_specifications</td>\n",
       "      <td>object</td>\n",
       "      <td>1049</td>\n",
       "      <td>984</td>\n",
       "      <td>1</td>\n",
       "      <td>0.10000</td>\n",
       "      <td>NaN</td>\n",
       "      <td>NaN</td>\n",
       "      <td>NaN</td>\n",
       "      <td>NaN</td>\n",
       "      <td>NaN</td>\n",
       "      <td>NaN</td>\n",
       "      <td>NaN</td>\n",
       "    </tr>\n",
       "    <tr>\n",
       "      <th>13</th>\n",
       "      <td>brand</td>\n",
       "      <td>object</td>\n",
       "      <td>712</td>\n",
       "      <td>490</td>\n",
       "      <td>338</td>\n",
       "      <td>32.19000</td>\n",
       "      <td>NaN</td>\n",
       "      <td>NaN</td>\n",
       "      <td>NaN</td>\n",
       "      <td>NaN</td>\n",
       "      <td>NaN</td>\n",
       "      <td>NaN</td>\n",
       "      <td>NaN</td>\n",
       "    </tr>\n",
       "  </tbody>\n",
       "</table>\n",
       "</div>"
      ],
      "text/plain": [
       "                       name     type  records  unique  # NaN    % NaN  \\\n",
       "0                   uniq_id   object     1050    1050      0  0.00000   \n",
       "1           crawl_timestamp   object     1050     149      0  0.00000   \n",
       "2               product_url   object     1050    1050      0  0.00000   \n",
       "3              product_name   object     1050    1050      0  0.00000   \n",
       "4     product_category_tree   object     1050     642      0  0.00000   \n",
       "5                       pid   object     1050    1050      0  0.00000   \n",
       "8                     image   object     1050    1050      0  0.00000   \n",
       "9   is_FK_Advantage_product     bool     1050       2      0  0.00000   \n",
       "10              description   object     1050    1050      0  0.00000   \n",
       "11           product_rating   object     1050      27      0  0.00000   \n",
       "12           overall_rating   object     1050      27      0  0.00000   \n",
       "6              retail_price  float64     1049     354      1  0.10000   \n",
       "7          discounted_price  float64     1049     424      1  0.10000   \n",
       "14   product_specifications   object     1049     984      1  0.10000   \n",
       "13                    brand   object      712     490    338 32.19000   \n",
       "\n",
       "         mean      min       25%       50%        75%          max        std  \n",
       "0         NaN      NaN       NaN       NaN        NaN          NaN        NaN  \n",
       "1         NaN      NaN       NaN       NaN        NaN          NaN        NaN  \n",
       "2         NaN      NaN       NaN       NaN        NaN          NaN        NaN  \n",
       "3         NaN      NaN       NaN       NaN        NaN          NaN        NaN  \n",
       "4         NaN      NaN       NaN       NaN        NaN          NaN        NaN  \n",
       "5         NaN      NaN       NaN       NaN        NaN          NaN        NaN  \n",
       "8         NaN      NaN       NaN       NaN        NaN          NaN        NaN  \n",
       "9         NaN      NaN       NaN       NaN        NaN          NaN        NaN  \n",
       "10        NaN      NaN       NaN       NaN        NaN          NaN        NaN  \n",
       "11        NaN      NaN       NaN       NaN        NaN          NaN        NaN  \n",
       "12        NaN      NaN       NaN       NaN        NaN          NaN        NaN  \n",
       "6  2186.19733 35.00000 555.00000 999.00000 1999.00000 201000.00000 7639.22941  \n",
       "7  1584.52717 35.00000 340.00000 600.00000 1199.00000 201000.00000 7475.09968  \n",
       "14        NaN      NaN       NaN       NaN        NaN          NaN        NaN  \n",
       "13        NaN      NaN       NaN       NaN        NaN          NaN        NaN  "
      ]
     },
     "metadata": {},
     "output_type": "display_data"
    }
   ],
   "source": [
    "df_analysis(data, \"data\", columns=[\"uniq_id\"], analysis_type=\"complete\")"
   ]
  },
  {
   "cell_type": "markdown",
   "id": "f14868c1-f115-41d8-8b46-c991652d32db",
   "metadata": {
    "tags": []
   },
   "source": [
    "<div class=\"alert alert-block alert-info\">\n",
    "    <p>Plotting the percentage of missing values by features</p>\n",
    "</div>"
   ]
  },
  {
   "cell_type": "code",
   "execution_count": 5,
   "id": "e4c2568d-0631-48f8-ab44-7b1d7eaefd39",
   "metadata": {},
   "outputs": [
    {
     "data": {
      "image/png": "[encoded data removed]",
      "text/plain": [
       "<Figure size 720x504 with 1 Axes>"
      ]
     },
     "metadata": {},
     "output_type": "display_data"
    }
   ],
   "source": [
    "missing_values = data.isnull().sum(axis=0).sort_values(ascending=False)/len(data.index)*100\n",
    "\n",
    "fig = plt.figure(figsize=(10, 7))\n",
    "plot = sns.barplot(x=missing_values.index.tolist(), y=missing_values.values.tolist())\n",
    "for p in plot.patches:\n",
    "    plot.annotate(format(p.get_height(), \".1f\"), (p.get_x() + p.get_width() / 2., p.get_height()), \n",
    "                    ha=\"center\", va=\"center\", xytext=(0, 9), textcoords=\"offset points\")\n",
    "plot.set_xticklabels(labels=missing_values.index.tolist(), rotation=70, size=12, horizontalalignment=\"right\")\n",
    "plt.ylabel(\"%\", size=12)\n",
    "plt.xlabel(\"Features\", size=12)\n",
    "plt.title(\"Missing values percentage by feature\", size=16)\n",
    "plt.tight_layout()\n",
    "plt.savefig(\"images/text_analysis/missing-values-percentage-by-feature.png\")\n",
    "plt.show()"
   ]
  },
  {
   "cell_type": "markdown",
   "id": "bd8011db-a556-491b-80bf-728b6e5dc8c8",
   "metadata": {},
   "source": [
    "<div class=\"alert alert-block alert-success\">\n",
    "    <p><b>Observations / Conclusions</b></p>\n",
    "    <ul>\n",
    "        <li>There are some features that are not important to our text analysis. For example, pid, uniq_id, etc.</li>\n",
    "        <li>The missing value percentage is higher only in one feature.</li>\n",
    "    </ul>\n",
    "</div>"
   ]
  },
  {
   "cell_type": "markdown",
   "id": "7a73cb03-1dad-4887-8059-73ee96b360a4",
   "metadata": {
    "tags": []
   },
   "source": [
    "<div style=\"background-color: #506AB9;\" >\n",
    "    <h2 style=\"margin: auto; padding: 20px; color:#fff; \">3. Selecting the features to work</h2>\n",
    "</div>"
   ]
  },
  {
   "cell_type": "markdown",
   "id": "e719ccbc-5e72-4d7b-ac7f-938b1868811b",
   "metadata": {},
   "source": [
    "<div style=\"background-color: #6D83C5;\" >\n",
    "    <h3 style=\"margin: auto; padding: 20px; color:#fff; \">3.1. Analyzing the features</h3>\n",
    "</div>"
   ]
  },
  {
   "cell_type": "code",
   "execution_count": 6,
   "id": "02842532-d5a5-4e50-92b8-45548c0995c3",
   "metadata": {},
   "outputs": [],
   "source": [
    "pd.set_option(\"display.max_rows\", None) # show full of showing rows\n",
    "pd.set_option(\"display.max_columns\", None) # show full of showing cols\n",
    "pd.set_option(\"display.max_colwidth\", None) # show full width of showing cols\n",
    "pd.set_option(\"display.float_format\", lambda x: \"%.5f\" % x) # show full content in cell    "
   ]
  },
  {
   "cell_type": "code",
   "execution_count": 7,
   "id": "2b73c759-e824-4df3-b945-e88fc9e2eaba",
   "metadata": {},
   "outputs": [
    {
     "data": {
      "text/html": [
       "<div>\n",
       "<style scoped>\n",
       "    .dataframe tbody tr th:only-of-type {\n",
       "        vertical-align: middle;\n",
       "    }\n",
       "\n",
       "    .dataframe tbody tr th {\n",
       "        vertical-align: top;\n",
       "    }\n",
       "\n",
       "    .dataframe thead th {\n",
       "        text-align: right;\n",
       "    }\n",
       "</style>\n",
       "<table border=\"1\" class=\"dataframe\">\n",
       "  <thead>\n",
       "    <tr style=\"text-align: right;\">\n",
       "      <th></th>\n",
       "      <th>uniq_id</th>\n",
       "      <th>crawl_timestamp</th>\n",
       "      <th>product_url</th>\n",
       "      <th>product_name</th>\n",
       "      <th>product_category_tree</th>\n",
       "      <th>pid</th>\n",
       "      <th>retail_price</th>\n",
       "      <th>discounted_price</th>\n",
       "      <th>image</th>\n",
       "      <th>is_FK_Advantage_product</th>\n",
       "      <th>description</th>\n",
       "      <th>product_rating</th>\n",
       "      <th>overall_rating</th>\n",
       "      <th>brand</th>\n",
       "      <th>product_specifications</th>\n",
       "    </tr>\n",
       "  </thead>\n",
       "  <tbody>\n",
       "    <tr>\n",
       "      <th>1049</th>\n",
       "      <td>f2f027ad6a6df617c9f125173da71e44</td>\n",
       "      <td>2015-12-01 10:15:43 +0000</td>\n",
       "      <td>http://www.flipkart.com/uberlyfe-large-vinyl-sticker/p/itme2zepqqzr9jt5?pid=STIE2ZEPACRQJKH7</td>\n",
       "      <td>Uberlyfe Large Vinyl Sticker</td>\n",
       "      <td>[\"Baby Care &gt;&gt; Baby &amp; Kids Gifts &gt;&gt; Stickers &gt;&gt; Uberlyfe Stickers\"]</td>\n",
       "      <td>STIE2ZEPACRQJKH7</td>\n",
       "      <td>1190.00000</td>\n",
       "      <td>595.00000</td>\n",
       "      <td>f2f027ad6a6df617c9f125173da71e44.jpg</td>\n",
       "      <td>False</td>\n",
       "      <td>Buy Uberlyfe Large Vinyl Sticker for Rs.595 online. Uberlyfe Large Vinyl Sticker at best prices with FREE shipping &amp; cash on delivery. Only Genuine Products. 30 Day Replacement Guarantee.</td>\n",
       "      <td>4</td>\n",
       "      <td>4</td>\n",
       "      <td>Uberlyfe</td>\n",
       "      <td>{\"product_specification\"=&gt;[{\"key\"=&gt;\"Sales Package\", \"value\"=&gt;\"Sticker\"}, {\"key\"=&gt;\"Brand\", \"value\"=&gt;\"Uberlyfe\"}, {\"key\"=&gt;\"Type\", \"value\"=&gt;\"Vinyl\"}, {\"key\"=&gt;\"Number of Stickers\", \"value\"=&gt;\"1\"}, {\"key\"=&gt;\"Size\", \"value\"=&gt;\"Large\"}]}</td>\n",
       "    </tr>\n",
       "  </tbody>\n",
       "</table>\n",
       "</div>"
      ],
      "text/plain": [
       "                               uniq_id            crawl_timestamp  \\\n",
       "1049  f2f027ad6a6df617c9f125173da71e44  2015-12-01 10:15:43 +0000   \n",
       "\n",
       "                                                                                       product_url  \\\n",
       "1049  http://www.flipkart.com/uberlyfe-large-vinyl-sticker/p/itme2zepqqzr9jt5?pid=STIE2ZEPACRQJKH7   \n",
       "\n",
       "                      product_name  \\\n",
       "1049  Uberlyfe Large Vinyl Sticker   \n",
       "\n",
       "                                                    product_category_tree  \\\n",
       "1049  [\"Baby Care >> Baby & Kids Gifts >> Stickers >> Uberlyfe Stickers\"]   \n",
       "\n",
       "                   pid  retail_price  discounted_price  \\\n",
       "1049  STIE2ZEPACRQJKH7    1190.00000         595.00000   \n",
       "\n",
       "                                     image  is_FK_Advantage_product  \\\n",
       "1049  f2f027ad6a6df617c9f125173da71e44.jpg                    False   \n",
       "\n",
       "                                                                                                                                                                                      description  \\\n",
       "1049  Buy Uberlyfe Large Vinyl Sticker for Rs.595 online. Uberlyfe Large Vinyl Sticker at best prices with FREE shipping & cash on delivery. Only Genuine Products. 30 Day Replacement Guarantee.   \n",
       "\n",
       "     product_rating overall_rating     brand  \\\n",
       "1049              4              4  Uberlyfe   \n",
       "\n",
       "                                                                                                                                                                                                                   product_specifications  \n",
       "1049  {\"product_specification\"=>[{\"key\"=>\"Sales Package\", \"value\"=>\"Sticker\"}, {\"key\"=>\"Brand\", \"value\"=>\"Uberlyfe\"}, {\"key\"=>\"Type\", \"value\"=>\"Vinyl\"}, {\"key\"=>\"Number of Stickers\", \"value\"=>\"1\"}, {\"key\"=>\"Size\", \"value\"=>\"Large\"}]}  "
      ]
     },
     "execution_count": 7,
     "metadata": {},
     "output_type": "execute_result"
    }
   ],
   "source": [
    "data.tail(1)"
   ]
  },
  {
   "cell_type": "code",
   "execution_count": 8,
   "id": "709668bf-78d0-4353-a819-e61a6a6bccaf",
   "metadata": {},
   "outputs": [],
   "source": [
    "pd.reset_option(\"display.max_rows\") # reset max of showing rows\n",
    "pd.reset_option(\"display.max_columns\") # reset max of showing cols\n",
    "pd.reset_option(\"display.max_colwidth\") # reset width of showing cols\n",
    "pd.reset_option(\"display.float_format\") # reset show full content in cell"
   ]
  },
  {
   "cell_type": "markdown",
   "id": "a9ac4a29-b582-41f8-a72d-b9eebdaafbc3",
   "metadata": {
    "tags": []
   },
   "source": [
    "<div class=\"alert alert-block alert-info\">\n",
    "    <p>Let's analyze in detail the feature <b>brand</b></p>\n",
    "</div>"
   ]
  },
  {
   "cell_type": "code",
   "execution_count": 9,
   "id": "447840b3-9fbc-497d-985d-929afa9ef82f",
   "metadata": {},
   "outputs": [
    {
     "data": {
      "text/plain": [
       "array(['Elegance', 'Sathiyas', 'Eurospa', 'SANTOSH ROYAL FASHION',\n",
       "       'Jaipur Print', nan, 'House This', 'Riva Carpets', 'Myesquire',\n",
       "       'Dungri India Craft', 'BFT', 'JMD', 'Mom and Kid', \"Kripa's\",\n",
       "       'Burt s Bees', 'AKUP', 'D-Link', 'Suave', 'RoQ', 'Cookart', 'JRB',\n",
       "       'RYTHMX', 'Brillare Science', 'Mars', 'Aroma Care', 'KOHL',\n",
       "       'Shopmania', 'CHHOTE JANAB', 'Prime', 'SKI', 'GAYATRI CREATIONS',\n",
       "       'Caffeine', 'Garnet', 'Vitamins', 'KE', 'Giorgio Armani',\n",
       "       'florence9', 'VarEesha', 'Treasure', 'CHINMAY KIDS', 'HEAVENLY',\n",
       "       '@home', 'Smart Wall Guru', 'oxford', 'Eureka.in', 'Craft Trade',\n",
       "       'Parv Collections', 'Exotic India', 'Aapno Rajasthan',\n",
       "       'BeYOUtiful', 'My Angel', 'Diviniti', 'K&P', 'Rama',\n",
       "       'Shop Rajasthan', 'Bestway', 'Artisan Creation', 'Remtex Export',\n",
       "       'TWISHA', 'Eternity', 'FS Mini Klub', 'Omic', 'Filink', 'Recrafto',\n",
       "       'FRENEMY', 'Quilt India', 'Toffyhouse', 'Shopizone', 'Craftcart',\n",
       "       'SOS', 'Arsalan', 'Famous', 'Rastogi Handicrafts', 'NEHP',\n",
       "       'S C Handicrafts', 'Tatvaarts', 'Sam', 'Surface180', 'Step4deal',\n",
       "       'MA Design Hut', 'Lal Haveli', 'Purpledip', 'Tirupati',\n",
       "       'Shoppingtara', 'Orange Tree', 'Unique Design', 'Port',\n",
       "       'King International', 'Go Hooked', 'RoyalsCart', 'Apex',\n",
       "       'MCB Exports', 'Agromech', 'Tiedribbons', 'Rajo Raja',\n",
       "       'Surface 180', 'Sovam International', 'The Ethnic Story', 'JSM',\n",
       "       'Celebrity', 'Metallino', 'Ruchiworld', 'Kosher', 'Recon',\n",
       "       'Indian Art Villa', 'Suruchi', 'Bergner', 'Kalash', 'Peacock',\n",
       "       'Leo Natura', 'Malhar', 'Sumeet', 'TRUE', 'The Crafts House',\n",
       "       'Jaipan', 'Unravel India', 'Ruchikainternational', 'Nirlon',\n",
       "       'Monil', 'Pristine', 'Woodino Handicrafts', 'Unique Handicrafts',\n",
       "       'Pigeon', 'Sahara Q Shop', 'Mom Italy', 'Mavi', 'Ndura',\n",
       "       'Supreme Cookwares', 'Babeezworld', 'Pittsburgh Polo Club',\n",
       "       'palito', 'Adino', 'ESIDON', 'Bhavya', 'cherry crumble california',\n",
       "       'Yves Bertelin', 'Services Junction', 'V9', 'Dreamshomes',\n",
       "       'Kandyfloss', 'Brahmz', 'MKB', 'Toddla', 'Baby Moshai',\n",
       "       'My Little Lambs', 'arnavs', 'I Ball', 'Globe', 'JayEnterprise',\n",
       "       'Craftuno', 'Elephant', 'Nihar', 'Homedesires', 'Pg handicrafts',\n",
       "       'Ravishing Variety', 'Infinity India', 'Linksys', 'Intex', 'Asus',\n",
       "       'Apple', 'Tenda', 'Huawei', 'TRENDnet', 'Edimax', 'Binatone',\n",
       "       'Belkin', 'Zyxel', 'TP-LINK', 'Netgear', 'iBall', 'Netis',\n",
       "       'Airtel', 'Digisol', 'Clear Face', 'YGS', 'Majik', 'Zingalalaa',\n",
       "       'BASRA', 'Smartpro', 'Graco', 'ocean', 'Reiki Crystal Products',\n",
       "       'HomeEdge', 'Budding Bees', 'JewelKraft Designs', 'Baby Bucket',\n",
       "       'NAMS', 'Rute', 'Tidy', 'JBC Collection', 'Hako', '3kFactory',\n",
       "       'Saba Garments', 'Upside Down', 'Lushomes', 'Prestige',\n",
       "       'Bed & Bath', 'Scalabedding', 'SRP Linen', 'HP', 'TIGI BED HEAD',\n",
       "       'Beebay', 'vatika', 'Amit Carpet', 'Garnier', 'Fs Mini Klub',\n",
       "       'Chokree', 'Shaun', 'Tks', 'Ocean', 'OGX', 'giftsthatwow',\n",
       "       'Allin Exporters', 'Art n Beyond', 'Cotonex', 'Lapguard', 'ARB',\n",
       "       '4D', 'Clublaptop', 'Rega IT', 'Shopfloor.XYZ', 'Babyoye Premium',\n",
       "       'Furnishing Zone', 'GREENWICH', 'Miracle Retail', 'Mayursflora',\n",
       "       'V Creations', 'LITTLE FEETZ', 'Saco', 'R&Mshoppee',\n",
       "       'posterchacha', 'Curren Nx', 'Soulful Threads', 'MohanJodero',\n",
       "       'Rrsskids', 'Ally The Creations', 'Cheeky Chompers', 'Piyo Piyo',\n",
       "       'Innovative', 'Boreal', 'Pokizo', 'Titrit', 'Young Birds',\n",
       "       'chota packet', 'You Got Plan B', 'Mee Mee', 'Zero', 'Oxolloxo',\n",
       "       'SHOPOJ', 'Ville Style', 'Sarah', 'Wonderchef', 'Kushies baby',\n",
       "       'Wow!', 'CHOCOBERRY', 'Lilliput', 'Jacadi Paris', 'Geol',\n",
       "       'Sunlast', 'NammaBaby', 'Thakkar', 'next steps', 'Intel',\n",
       "       'NeedyBee', 'Seals', 'Esteem', 'KLOCX', 'HomeeHub', 'Marvel',\n",
       "       'Home Creations', 'The Intellect Bazaar', 'BornBabyKids',\n",
       "       'Creative Width Decor', 'Handloomhub', 'Fabutex',\n",
       "       'Divine Gifts & Artificial Jewellery', 'Hargunz',\n",
       "       'Galaxy Decorations', 'Welhouse', 'Ornate', 'Shrikant Traders',\n",
       "       'NIKsales', 'VRCT', 'Home Fashion Gallery', 'BabyBucket', 'Simoco',\n",
       "       'Neyth', 'AsiaCraft', 'Soy Impulse', 'Philips', 'Wallmantra',\n",
       "       'Tallenge', 'HouseAttire', 'Moonleaf', 'Vgstore', 'Sapatos',\n",
       "       'Jaipur Raga', 'Home Originals', 'RajasthaniKart', 'Golmaalshop',\n",
       "       'Indigocart', 'U & ME', 'Frabjous', 'MyKid', 'Pioneer Pragati',\n",
       "       'Pompom Sweethearts', 'SPANGLE', 'Flazee Home Trends', 'Craftartz',\n",
       "       'HoA', 'Gift Studios', 'Dhrohar', 'Canon',\n",
       "       \"Radhika's World of Crafts\", 'AntiqueShop', 'brass gift center',\n",
       "       \"Buyer's Beach\", 'Pindia', 'eCraftIndia', 'Rajasthan Crafts',\n",
       "       'Tuktuk', 'Onlinemaniya', 'Buy Clues', 'Rajlaxmi', 'Bajya',\n",
       "       'Offspring', 'Ireeya', \"Carter'S\", 'My NewBorn', 'Funcart',\n",
       "       'EZ Life', 'Love Baby', 'Ollington St. Collection', 'Rajrang',\n",
       "       'Raymond', 'Bharatcraft', 'SWHF', 'meSleep', 'Casotec', 'Fonokase',\n",
       "       'Memore', 'Orico', 'Bigkik', 'Tapawire', 'Crystle',\n",
       "       'Amaze Fashion', 'RRP', 'Techone+', 'Himtek', 'KLIQVIK',\n",
       "       'Epresent', 'Task Logistics', 'LUV', 'Rock', 'Generix', 'QP360',\n",
       "       'Zaicus', 'Akshaj', 'Lifestyle-You', '99Gems', 'De TechInn',\n",
       "       'Dizionario', 'Kensington', 'RCE', 'kawal fashion', 'Sivanna',\n",
       "       'Lula', 'Jums', 'Homec', 'Bianca', 'Zikrak Exim', 'Trident',\n",
       "       'MSenterprises', 'Mafatlal', 'Nikunj', 'Textile India', 'Nkp',\n",
       "       'Woven Terry', 'Casa Copenhagen', 'Maspar', 'Sassoon', 'Mandhania',\n",
       "       'Amber', 'Bagru Crafts', 'SSCP', 'IWS', 'LukLuck', 'MB',\n",
       "       'Durga Home Trendz', 'Right', 'Just Linen', 'Rustic India', 'NKP',\n",
       "       'KDS SURGICAL', 'Loreal', 'Prisha India Craft', 'BRANDWAGON',\n",
       "       'Relaxfeel', 'STYLE CLUES FASHION', 'Mega product',\n",
       "       'Cotton On Kids', 'Portia', 'Shoperite', 'Urban Monk', 'Like',\n",
       "       '612 League', 'wallskart', 'Megaway', 'Anjalika', 'Digilight',\n",
       "       'Agrasen International', 'Pinc Ginger', 'Home Delight',\n",
       "       'Valtellina', 'Nagar Handloom', 'Adaa', 'Utsav Handicraft',\n",
       "       'Jaipur Textile Hub', 'Aurraa', 'My Party Suppliers', 'GrandShop',\n",
       "       'The Art Box', 'Al Fakher', 'Weldecor', 'Unnati', 'Eshoppee',\n",
       "       'Arabian Nights', 'The Art Treasure', 'Craft And Curtain',\n",
       "       'Bhalaria', 'Nutcase', 'M S Rugs', 'GIMS', 'FURNISHINGLAND',\n",
       "       'loomkart', 'NYX', 'Checkered Chef', 'Mahadev Handicrafts',\n",
       "       'Sparklings', 'Swastik', 'Bela Home', 'CALCULUS', 'ROYLE KATOCH',\n",
       "       'Jaycoknit', 'Jacadi paris', 'LOTTIE LONDON', 'Deep', 'dongli',\n",
       "       'Aarika', 'Rishan', 'YK', 'Art Godaam', 'Vedic Deals', 'Hand Art',\n",
       "       'Kaatru', 'CoffeeBean', 'Seven Seas', 'Pedrini', 'AM Creation',\n",
       "       'TRESemme', 'L Oreal', 'CTW', 'Happiness Is', 'Balaji',\n",
       "       'Lock&Lock', 'Mom & Me', 'APOLLO+', 'HuppmeGift',\n",
       "       'Doraemon Gift Family Ceramic Coffee Mug', 'Milani',\n",
       "       'e.l.f. Cosmetics', 'Aster Luxury', 'King Traders', 'Wall Decal',\n",
       "       'Dongli', 'SJ', 'Ech oly', 'LAWMAN PG3', 'Toons', 'PRINT SHAPES',\n",
       "       'Good Way', 'Aroma Comfort', 'Transcend', 'OMRD', 'Kerastase',\n",
       "       'Surgical e Sstudio', 'Elite Collection', 'WallDesign', '999store',\n",
       "       'Oren Empower', 'Uberlyfe'], dtype=object)"
      ]
     },
     "execution_count": 9,
     "metadata": {},
     "output_type": "execute_result"
    }
   ],
   "source": [
    "data[\"brand\"].unique()"
   ]
  },
  {
   "cell_type": "markdown",
   "id": "9d69a6a7-92b5-4ac4-8cd3-49c7eafcd7c9",
   "metadata": {
    "tags": []
   },
   "source": [
    "<div class=\"alert alert-block alert-warning\">\n",
    "    <p>It seems that it does not add value to the problem. It contains the names of brands and probably it does not add value to classify images</p>\n",
    "    <p>Despite that, we are going to keep it</p>\n",
    "</div>"
   ]
  },
  {
   "cell_type": "markdown",
   "id": "711fdd04-302a-4587-b43c-dd6de883a34b",
   "metadata": {},
   "source": [
    "<div style=\"background-color: #6D83C5;\" >\n",
    "    <h3 style=\"margin: auto; padding: 20px; color:#fff; \">3.2. Selecting the features</h3>\n",
    "</div>"
   ]
  },
  {
   "cell_type": "markdown",
   "id": "852805a4-5e3f-49a2-803b-56bba5dd1e51",
   "metadata": {},
   "source": [
    "<div class=\"alert alert-block alert-warning\">\n",
    "    <p>To select the features, first, we are going to <b>discard features</b> that do not add value to the problem</p>\n",
    "    <ul style=\"list-style-type: square;\">\n",
    "        <li><b>crawl_timestamp</b></li>\n",
    "        <li><b>product_url</b></li>\n",
    "        <li><b>pid</b></li>\n",
    "        <li><b>is_FK_Advantage_product</b></li>\n",
    "        <li><b>product_rating</b></li>\n",
    "        <li><b>overall_rating</b></li>\n",
    "        <li><b>discounted_price</b></li>\n",
    "        <li><b>product_specifications</b></li>        \n",
    "    </ul> \n",
    "</div>"
   ]
  },
  {
   "cell_type": "code",
   "execution_count": 10,
   "id": "54a6f21f-6848-4238-98a7-fb5c259fdce4",
   "metadata": {},
   "outputs": [],
   "source": [
    "df_data = data.drop(columns=[\"crawl_timestamp\", \"product_url\", \"pid\", \"is_FK_Advantage_product\",\n",
    "                             \"product_rating\", \"overall_rating\", \"discounted_price\", \"product_specifications\"],\n",
    "                    axis=0).copy()"
   ]
  },
  {
   "cell_type": "markdown",
   "id": "02531d3d-b661-4620-b2e5-e3e07e701396",
   "metadata": {},
   "source": [
    "<div class=\"alert alert-block alert-info\">\n",
    "    <p>For now, we are going to keep the following features</p>\n",
    "    <ul style=\"list-style-type: square;\">\n",
    "        <li><b>uniq_id</b> - we can use this feature to keep relations on the data</li>\n",
    "        <li><b>product_name</b></li>\n",
    "        <li><b>product_category_tree</b></li>\n",
    "        <li><b>description</b></li>\n",
    "        <li><b>retail_price</b></li>\n",
    "        <li><b>brand</b></li>\n",
    "    </ul> \n",
    "</div>"
   ]
  },
  {
   "cell_type": "code",
   "execution_count": 11,
   "id": "f8b9c840-b70f-4e8b-b118-ebbb877bbf0a",
   "metadata": {},
   "outputs": [],
   "source": [
    "pd.set_option(\"display.max_rows\", None) # show full of showing rows\n",
    "pd.set_option(\"display.max_columns\", None) # show full of showing cols\n",
    "pd.set_option(\"display.max_colwidth\", None) # show full width of showing cols\n",
    "pd.set_option(\"display.float_format\", lambda x: \"%.5f\" % x) # show full content in cell    "
   ]
  },
  {
   "cell_type": "code",
   "execution_count": 12,
   "id": "bb85b06d-ea35-4070-8158-bc998ef7728d",
   "metadata": {},
   "outputs": [
    {
     "data": {
      "text/html": [
       "<div>\n",
       "<style scoped>\n",
       "    .dataframe tbody tr th:only-of-type {\n",
       "        vertical-align: middle;\n",
       "    }\n",
       "\n",
       "    .dataframe tbody tr th {\n",
       "        vertical-align: top;\n",
       "    }\n",
       "\n",
       "    .dataframe thead th {\n",
       "        text-align: right;\n",
       "    }\n",
       "</style>\n",
       "<table border=\"1\" class=\"dataframe\">\n",
       "  <thead>\n",
       "    <tr style=\"text-align: right;\">\n",
       "      <th></th>\n",
       "      <th>uniq_id</th>\n",
       "      <th>product_name</th>\n",
       "      <th>product_category_tree</th>\n",
       "      <th>retail_price</th>\n",
       "      <th>image</th>\n",
       "      <th>description</th>\n",
       "      <th>brand</th>\n",
       "    </tr>\n",
       "  </thead>\n",
       "  <tbody>\n",
       "    <tr>\n",
       "      <th>0</th>\n",
       "      <td>55b85ea15a1536d46b7190ad6fff8ce7</td>\n",
       "      <td>Elegance Polyester Multicolor Abstract Eyelet Door Curtain</td>\n",
       "      <td>[\"Home Furnishing &gt;&gt; Curtains &amp; Accessories &gt;&gt; Curtains &gt;&gt; Elegance Polyester Multicolor Abstract Eyelet Do...\"]</td>\n",
       "      <td>1899.00000</td>\n",
       "      <td>55b85ea15a1536d46b7190ad6fff8ce7.jpg</td>\n",
       "      <td>Key Features of Elegance Polyester Multicolor Abstract Eyelet Door Curtain Floral Curtain,Elegance Polyester Multicolor Abstract Eyelet Door Curtain (213 cm in Height, Pack of 2) Price: Rs. 899 This curtain enhances the look of the interiors.This curtain is made from 100% high quality polyester fabric.It features an eyelet style stitch with Metal Ring.It makes the room environment romantic and loving.This curtain is ant- wrinkle and anti shrinkage and have elegant apparance.Give your home a bright and modernistic appeal with these designs. The surreal attention is sure to steal hearts. These contemporary eyelet and valance curtains slide smoothly so when you draw them apart first thing in the morning to welcome the bright sun rays you want to wish good morning to the whole world and when you draw them close in the evening, you create the most special moments of joyous beauty given by the soothing prints. Bring home the elegant curtain that softly filters light in your room so that you get the right amount of sunlight.,Specifications of Elegance Polyester Multicolor Abstract Eyelet Door Curtain (213 cm in Height, Pack of 2) General Brand Elegance Designed For Door Type Eyelet Model Name Abstract Polyester Door Curtain Set Of 2 Model ID Duster25 Color Multicolor Dimensions Length 213 cm In the Box Number of Contents in Sales Package Pack of 2 Sales Package 2 Curtains Body &amp; Design Material Polyester</td>\n",
       "      <td>Elegance</td>\n",
       "    </tr>\n",
       "  </tbody>\n",
       "</table>\n",
       "</div>"
      ],
      "text/plain": [
       "                            uniq_id  \\\n",
       "0  55b85ea15a1536d46b7190ad6fff8ce7   \n",
       "\n",
       "                                                 product_name  \\\n",
       "0  Elegance Polyester Multicolor Abstract Eyelet Door Curtain   \n",
       "\n",
       "                                                                                              product_category_tree  \\\n",
       "0  [\"Home Furnishing >> Curtains & Accessories >> Curtains >> Elegance Polyester Multicolor Abstract Eyelet Do...\"]   \n",
       "\n",
       "   retail_price                                 image  \\\n",
       "0    1899.00000  55b85ea15a1536d46b7190ad6fff8ce7.jpg   \n",
       "\n",
       "                                                                                                                                                                                                                                                                                                                                                                                                                                                                                                                                                                                                                                                                                                                                                                                                                                                                                                                                                                                                                                                                                                                                                                                                                                                                                                                                                                                                                                                                    description  \\\n",
       "0  Key Features of Elegance Polyester Multicolor Abstract Eyelet Door Curtain Floral Curtain,Elegance Polyester Multicolor Abstract Eyelet Door Curtain (213 cm in Height, Pack of 2) Price: Rs. 899 This curtain enhances the look of the interiors.This curtain is made from 100% high quality polyester fabric.It features an eyelet style stitch with Metal Ring.It makes the room environment romantic and loving.This curtain is ant- wrinkle and anti shrinkage and have elegant apparance.Give your home a bright and modernistic appeal with these designs. The surreal attention is sure to steal hearts. These contemporary eyelet and valance curtains slide smoothly so when you draw them apart first thing in the morning to welcome the bright sun rays you want to wish good morning to the whole world and when you draw them close in the evening, you create the most special moments of joyous beauty given by the soothing prints. Bring home the elegant curtain that softly filters light in your room so that you get the right amount of sunlight.,Specifications of Elegance Polyester Multicolor Abstract Eyelet Door Curtain (213 cm in Height, Pack of 2) General Brand Elegance Designed For Door Type Eyelet Model Name Abstract Polyester Door Curtain Set Of 2 Model ID Duster25 Color Multicolor Dimensions Length 213 cm In the Box Number of Contents in Sales Package Pack of 2 Sales Package 2 Curtains Body & Design Material Polyester   \n",
       "\n",
       "      brand  \n",
       "0  Elegance  "
      ]
     },
     "execution_count": 12,
     "metadata": {},
     "output_type": "execute_result"
    }
   ],
   "source": [
    "df_data.head(1)"
   ]
  },
  {
   "cell_type": "code",
   "execution_count": 13,
   "id": "d5cfad66-d688-498f-9228-38f60df8448b",
   "metadata": {},
   "outputs": [],
   "source": [
    "pd.reset_option(\"display.max_rows\") # reset max of showing rows\n",
    "pd.reset_option(\"display.max_columns\") # reset max of showing cols\n",
    "pd.reset_option(\"display.max_colwidth\") # reset width of showing cols\n",
    "pd.reset_option(\"display.float_format\") # reset show full content in cell"
   ]
  },
  {
   "cell_type": "code",
   "execution_count": 14,
   "id": "10322f29-4cf3-4682-8878-67ec74c74152",
   "metadata": {},
   "outputs": [
    {
     "name": "stdout",
     "output_type": "stream",
     "text": [
      "\n",
      "Analysis Header of df_data dataset\n",
      "--------------------------------------------------------------------------------\n",
      "- Dataset shape:\t\t\t 1050 rows and 7 columns\n",
      "- Total of NaN values:\t\t\t 339\n",
      "- Percentage of NaN:\t\t\t 4.61 %\n",
      "- Total of full duplicates rows:\t 0\n",
      "- Total of empty rows:\t\t\t 0\n",
      "- Total of empty columns:\t\t 0\n",
      "- Unique indexes:\t\t\t True\n",
      "- Memory usage:\t\t\t\t 57.5+ KB\n",
      "\n",
      "Detailed analysis of df_data dataset\n",
      "------------------------------------------------------------------------------------------------------------------------------------\n"
     ]
    },
    {
     "data": {
      "text/html": [
       "<div>\n",
       "<style scoped>\n",
       "    .dataframe tbody tr th:only-of-type {\n",
       "        vertical-align: middle;\n",
       "    }\n",
       "\n",
       "    .dataframe tbody tr th {\n",
       "        vertical-align: top;\n",
       "    }\n",
       "\n",
       "    .dataframe thead th {\n",
       "        text-align: right;\n",
       "    }\n",
       "</style>\n",
       "<table border=\"1\" class=\"dataframe\">\n",
       "  <thead>\n",
       "    <tr style=\"text-align: right;\">\n",
       "      <th></th>\n",
       "      <th>name</th>\n",
       "      <th>type</th>\n",
       "      <th>records</th>\n",
       "      <th>unique</th>\n",
       "      <th># NaN</th>\n",
       "      <th>% NaN</th>\n",
       "      <th>mean</th>\n",
       "      <th>min</th>\n",
       "      <th>25%</th>\n",
       "      <th>50%</th>\n",
       "      <th>75%</th>\n",
       "      <th>max</th>\n",
       "      <th>std</th>\n",
       "    </tr>\n",
       "  </thead>\n",
       "  <tbody>\n",
       "    <tr>\n",
       "      <th>0</th>\n",
       "      <td>uniq_id</td>\n",
       "      <td>object</td>\n",
       "      <td>1050</td>\n",
       "      <td>1050</td>\n",
       "      <td>0</td>\n",
       "      <td>0.00000</td>\n",
       "      <td>NaN</td>\n",
       "      <td>NaN</td>\n",
       "      <td>NaN</td>\n",
       "      <td>NaN</td>\n",
       "      <td>NaN</td>\n",
       "      <td>NaN</td>\n",
       "      <td>NaN</td>\n",
       "    </tr>\n",
       "    <tr>\n",
       "      <th>1</th>\n",
       "      <td>product_name</td>\n",
       "      <td>object</td>\n",
       "      <td>1050</td>\n",
       "      <td>1050</td>\n",
       "      <td>0</td>\n",
       "      <td>0.00000</td>\n",
       "      <td>NaN</td>\n",
       "      <td>NaN</td>\n",
       "      <td>NaN</td>\n",
       "      <td>NaN</td>\n",
       "      <td>NaN</td>\n",
       "      <td>NaN</td>\n",
       "      <td>NaN</td>\n",
       "    </tr>\n",
       "    <tr>\n",
       "      <th>2</th>\n",
       "      <td>product_category_tree</td>\n",
       "      <td>object</td>\n",
       "      <td>1050</td>\n",
       "      <td>642</td>\n",
       "      <td>0</td>\n",
       "      <td>0.00000</td>\n",
       "      <td>NaN</td>\n",
       "      <td>NaN</td>\n",
       "      <td>NaN</td>\n",
       "      <td>NaN</td>\n",
       "      <td>NaN</td>\n",
       "      <td>NaN</td>\n",
       "      <td>NaN</td>\n",
       "    </tr>\n",
       "    <tr>\n",
       "      <th>4</th>\n",
       "      <td>image</td>\n",
       "      <td>object</td>\n",
       "      <td>1050</td>\n",
       "      <td>1050</td>\n",
       "      <td>0</td>\n",
       "      <td>0.00000</td>\n",
       "      <td>NaN</td>\n",
       "      <td>NaN</td>\n",
       "      <td>NaN</td>\n",
       "      <td>NaN</td>\n",
       "      <td>NaN</td>\n",
       "      <td>NaN</td>\n",
       "      <td>NaN</td>\n",
       "    </tr>\n",
       "    <tr>\n",
       "      <th>5</th>\n",
       "      <td>description</td>\n",
       "      <td>object</td>\n",
       "      <td>1050</td>\n",
       "      <td>1050</td>\n",
       "      <td>0</td>\n",
       "      <td>0.00000</td>\n",
       "      <td>NaN</td>\n",
       "      <td>NaN</td>\n",
       "      <td>NaN</td>\n",
       "      <td>NaN</td>\n",
       "      <td>NaN</td>\n",
       "      <td>NaN</td>\n",
       "      <td>NaN</td>\n",
       "    </tr>\n",
       "    <tr>\n",
       "      <th>3</th>\n",
       "      <td>retail_price</td>\n",
       "      <td>float64</td>\n",
       "      <td>1049</td>\n",
       "      <td>354</td>\n",
       "      <td>1</td>\n",
       "      <td>0.10000</td>\n",
       "      <td>2186.19733</td>\n",
       "      <td>35.00000</td>\n",
       "      <td>555.00000</td>\n",
       "      <td>999.00000</td>\n",
       "      <td>1999.00000</td>\n",
       "      <td>201000.00000</td>\n",
       "      <td>7639.22941</td>\n",
       "    </tr>\n",
       "    <tr>\n",
       "      <th>6</th>\n",
       "      <td>brand</td>\n",
       "      <td>object</td>\n",
       "      <td>712</td>\n",
       "      <td>490</td>\n",
       "      <td>338</td>\n",
       "      <td>32.19000</td>\n",
       "      <td>NaN</td>\n",
       "      <td>NaN</td>\n",
       "      <td>NaN</td>\n",
       "      <td>NaN</td>\n",
       "      <td>NaN</td>\n",
       "      <td>NaN</td>\n",
       "      <td>NaN</td>\n",
       "    </tr>\n",
       "  </tbody>\n",
       "</table>\n",
       "</div>"
      ],
      "text/plain": [
       "                    name     type  records  unique  # NaN    % NaN       mean  \\\n",
       "0                uniq_id   object     1050    1050      0  0.00000        NaN   \n",
       "1           product_name   object     1050    1050      0  0.00000        NaN   \n",
       "2  product_category_tree   object     1050     642      0  0.00000        NaN   \n",
       "4                  image   object     1050    1050      0  0.00000        NaN   \n",
       "5            description   object     1050    1050      0  0.00000        NaN   \n",
       "3           retail_price  float64     1049     354      1  0.10000 2186.19733   \n",
       "6                  brand   object      712     490    338 32.19000        NaN   \n",
       "\n",
       "       min       25%       50%        75%          max        std  \n",
       "0      NaN       NaN       NaN        NaN          NaN        NaN  \n",
       "1      NaN       NaN       NaN        NaN          NaN        NaN  \n",
       "2      NaN       NaN       NaN        NaN          NaN        NaN  \n",
       "4      NaN       NaN       NaN        NaN          NaN        NaN  \n",
       "5      NaN       NaN       NaN        NaN          NaN        NaN  \n",
       "3 35.00000 555.00000 999.00000 1999.00000 201000.00000 7639.22941  \n",
       "6      NaN       NaN       NaN        NaN          NaN        NaN  "
      ]
     },
     "metadata": {},
     "output_type": "display_data"
    }
   ],
   "source": [
    "df_analysis(df_data, \"df_data\", type_analysis=\"complete\")"
   ]
  },
  {
   "cell_type": "markdown",
   "id": "6aa21c88-1b5f-47f0-94c4-ada4e38d9bad",
   "metadata": {},
   "source": [
    "\n",
    "<div class=\"alert alert-block alert-success\">\n",
    "    <p><b>Observations / Conclusions</b></p>\n",
    "    <p>Now, we have a dataset with the following characteristic</p>\n",
    "    <ul style=\"list-style-type: square;\">\n",
    "        <li>30% missing-values in <b>brand</b></li>\n",
    "        <li>One cell with missing-value in <b>retail_price</b></li>\n",
    "    </ul> \n",
    "</div>"
   ]
  },
  {
   "cell_type": "markdown",
   "id": "3d8056b2-8453-407e-b0e7-a9b5167f244e",
   "metadata": {
    "tags": []
   },
   "source": [
    "<div style=\"background-color: #506AB9;\" >\n",
    "    <h2 style=\"margin: auto; padding: 20px; color:#fff; \">4. Treating missing-values</h2>\n",
    "</div>"
   ]
  },
  {
   "cell_type": "markdown",
   "id": "d5695453-9e79-4b42-9c99-ed063cd657a6",
   "metadata": {
    "tags": []
   },
   "source": [
    "<div class=\"alert alert-block alert-info\">\n",
    "    <p><b>To treat missing-values</b>, we are going to do as follows</p>\n",
    "    <ol>\n",
    "        <li>Fill missing-vallues in <b>brand</b> with empty-value.</li>\n",
    "        <li>Fill missing-vallues in <b>retail_price</b> based on the median for the same <b>product category</b>.</li>\n",
    "    </ol>\n",
    "</div>\n",
    "<div class=\"alert alert-block alert-info\">\n",
    "    <p>So, Being the feature called <b>brand</b> only one missing-value, let's proceed to complete it with empty-value</p>\n",
    "</div>"
   ]
  },
  {
   "cell_type": "code",
   "execution_count": 15,
   "id": "b5c1d92a-8d10-40e1-8571-191ff7f983e5",
   "metadata": {},
   "outputs": [],
   "source": [
    "df_data[\"brand\"].fillna(\"\", inplace=True)"
   ]
  },
  {
   "cell_type": "markdown",
   "id": "0a43ccec-1595-4f7a-9f6c-14eaa159ed77",
   "metadata": {},
   "source": [
    "<div style=\"background-color: #6D83C5;\" >\n",
    "    <h3 style=\"margin: auto; padding: 20px; color:#fff; \">4.1. Analyzing \"product_category_tree\"</h3>\n",
    "</div>"
   ]
  },
  {
   "cell_type": "markdown",
   "id": "6d67ff9a-593a-456d-b1e7-b7817de233ce",
   "metadata": {},
   "source": [
    "<div class=\"alert alert-block alert-info\">\n",
    "    <p>Let's analyse the levels of the tree in <b>product_category_tree</b></p>\n",
    "</div>"
   ]
  },
  {
   "cell_type": "code",
   "execution_count": 16,
   "id": "d0b166fb-8c83-4428-9406-436a7a1a6aae",
   "metadata": {},
   "outputs": [
    {
     "name": "stdout",
     "output_type": "stream",
     "text": [
      "[\"Home Furnishing >> Curtains & Accessories >> Curtains >> Elegance Polyester Multicolor Abstract Eyelet Do...\"]\n",
      "[\"Watches >> Wrist Watches >> Calibro Wrist Watches\"]\n",
      "[\"Beauty and Personal Care >> Makeup >> Vanity Boxes >> Goldencollections Vanity Boxes\"]\n",
      "[\"Baby Care >> Baby & Kids Gifts >> Stickers >> Uberlyfe Stickers\"]\n"
     ]
    }
   ],
   "source": [
    "for i in [0, 10, 100, 1049]:\n",
    "    print(df_data.loc[i, \"product_category_tree\"])"
   ]
  },
  {
   "cell_type": "markdown",
   "id": "38d66598-3728-4a45-8ebc-d7d100ee1cca",
   "metadata": {},
   "source": [
    "<div class=\"alert alert-block alert-warning\">\n",
    "    <p><b>Observations / Conclusions</b></p>\n",
    "    <p>The levels in the tree does not seem equals in all records</p>\n",
    "</div>"
   ]
  },
  {
   "cell_type": "code",
   "execution_count": 17,
   "id": "43e6c55f-453d-4f99-a7b4-f1f9fc473442",
   "metadata": {},
   "outputs": [],
   "source": [
    "df_data[\"tree_levels\"] = df_data[\"product_category_tree\"].str.count(\">>\")"
   ]
  },
  {
   "cell_type": "code",
   "execution_count": 18,
   "id": "9e8b0972-b788-4024-a3b2-19ffa66ee557",
   "metadata": {},
   "outputs": [
    {
     "data": {
      "text/plain": [
       "6"
      ]
     },
     "execution_count": 18,
     "metadata": {},
     "output_type": "execute_result"
    }
   ],
   "source": [
    "df_data[\"tree_levels\"].max()"
   ]
  },
  {
   "cell_type": "code",
   "execution_count": 19,
   "id": "fb9adb6a-4282-4f58-bdf3-a7fe6c9ae886",
   "metadata": {},
   "outputs": [],
   "source": [
    "pd.set_option(\"display.max_rows\", None) # show full of showing rows\n",
    "pd.set_option(\"display.max_columns\", None) # show full of showing cols\n",
    "pd.set_option(\"display.max_colwidth\", None) # show full width of showing cols\n",
    "pd.set_option(\"display.float_format\", lambda x: \"%.5f\" % x) # show full content in cell    "
   ]
  },
  {
   "cell_type": "code",
   "execution_count": 20,
   "id": "bf4b9c14-a493-4fc7-a1c1-50b232566c85",
   "metadata": {},
   "outputs": [
    {
     "data": {
      "text/html": [
       "<div>\n",
       "<style scoped>\n",
       "    .dataframe tbody tr th:only-of-type {\n",
       "        vertical-align: middle;\n",
       "    }\n",
       "\n",
       "    .dataframe tbody tr th {\n",
       "        vertical-align: top;\n",
       "    }\n",
       "\n",
       "    .dataframe thead th {\n",
       "        text-align: right;\n",
       "    }\n",
       "</style>\n",
       "<table border=\"1\" class=\"dataframe\">\n",
       "  <thead>\n",
       "    <tr style=\"text-align: right;\">\n",
       "      <th></th>\n",
       "      <th>uniq_id</th>\n",
       "      <th>product_name</th>\n",
       "      <th>product_category_tree</th>\n",
       "      <th>retail_price</th>\n",
       "      <th>image</th>\n",
       "      <th>description</th>\n",
       "      <th>brand</th>\n",
       "      <th>tree_levels</th>\n",
       "    </tr>\n",
       "  </thead>\n",
       "  <tbody>\n",
       "    <tr>\n",
       "      <th>250</th>\n",
       "      <td>17611e6e94d73ef376834e5c6ee03dde</td>\n",
       "      <td>TRUE Bong</td>\n",
       "      <td>[\"Home Decor &amp; Festive Needs &gt;&gt; TRUE Home Decor &amp; Festive Needs\"]</td>\n",
       "      <td>999.00000</td>\n",
       "      <td>17611e6e94d73ef376834e5c6ee03dde.jpg</td>\n",
       "      <td>Buy TRUE Bong for Rs.549 online. TRUE Bong at best prices with FREE shipping &amp; cash on delivery. Only Genuine Products. 30 Day Replacement Guarantee.</td>\n",
       "      <td>TRUE</td>\n",
       "      <td>1</td>\n",
       "    </tr>\n",
       "  </tbody>\n",
       "</table>\n",
       "</div>"
      ],
      "text/plain": [
       "                              uniq_id product_name  \\\n",
       "250  17611e6e94d73ef376834e5c6ee03dde    TRUE Bong   \n",
       "\n",
       "                                                 product_category_tree  \\\n",
       "250  [\"Home Decor & Festive Needs >> TRUE Home Decor & Festive Needs\"]   \n",
       "\n",
       "     retail_price                                 image  \\\n",
       "250     999.00000  17611e6e94d73ef376834e5c6ee03dde.jpg   \n",
       "\n",
       "                                                                                                                                               description  \\\n",
       "250  Buy TRUE Bong for Rs.549 online. TRUE Bong at best prices with FREE shipping & cash on delivery. Only Genuine Products. 30 Day Replacement Guarantee.   \n",
       "\n",
       "    brand  tree_levels  \n",
       "250  TRUE            1  "
      ]
     },
     "execution_count": 20,
     "metadata": {},
     "output_type": "execute_result"
    }
   ],
   "source": [
    "df_data.query(\"tree_levels == tree_levels.min()\").head(1)"
   ]
  },
  {
   "cell_type": "code",
   "execution_count": 21,
   "id": "7d113575-08df-44a6-80c1-adac0f1e821c",
   "metadata": {},
   "outputs": [
    {
     "data": {
      "text/html": [
       "<div>\n",
       "<style scoped>\n",
       "    .dataframe tbody tr th:only-of-type {\n",
       "        vertical-align: middle;\n",
       "    }\n",
       "\n",
       "    .dataframe tbody tr th {\n",
       "        vertical-align: top;\n",
       "    }\n",
       "\n",
       "    .dataframe thead th {\n",
       "        text-align: right;\n",
       "    }\n",
       "</style>\n",
       "<table border=\"1\" class=\"dataframe\">\n",
       "  <thead>\n",
       "    <tr style=\"text-align: right;\">\n",
       "      <th></th>\n",
       "      <th>uniq_id</th>\n",
       "      <th>product_name</th>\n",
       "      <th>product_category_tree</th>\n",
       "      <th>retail_price</th>\n",
       "      <th>image</th>\n",
       "      <th>description</th>\n",
       "      <th>brand</th>\n",
       "      <th>tree_levels</th>\n",
       "    </tr>\n",
       "  </thead>\n",
       "  <tbody>\n",
       "    <tr>\n",
       "      <th>40</th>\n",
       "      <td>90e56526f4c5892beac49f262b85150a</td>\n",
       "      <td>Mom and Kid Baby Girl's Printed Green Top &amp; Pyjama Set</td>\n",
       "      <td>[\"Baby Care &gt;&gt; Infant Wear &gt;&gt; Baby Girls' Clothes &gt;&gt; Innerwear &amp; Sleepwear &gt;&gt; Night Suits &gt;&gt; Mom and Kid Night Suits &gt;&gt; Mom and Kid Baby Girl's Printed Green Top &amp; Pyja...\"]</td>\n",
       "      <td>999.00000</td>\n",
       "      <td>90e56526f4c5892beac49f262b85150a.jpg</td>\n",
       "      <td>Key Features of Mom and Kid Baby Girl's Printed Green Top &amp; Pyjama Set Fabric: Cotton Brand Color: Green,Mom and Kid Baby Girl's Printed Green Top &amp; Pyjama Set Price: Rs. 309 Girls Pyjama set,Specifications of Mom and Kid Baby Girl's Printed Green Top &amp; Pyjama Set General Details Pattern Printed Ideal For Baby Girl's Night Suit Details Fabric Cotton Type Top &amp; Pyjama Set Neck Round Neck In the Box 1 Top &amp; Pyjama Set</td>\n",
       "      <td>Mom and Kid</td>\n",
       "      <td>6</td>\n",
       "    </tr>\n",
       "  </tbody>\n",
       "</table>\n",
       "</div>"
      ],
      "text/plain": [
       "                             uniq_id  \\\n",
       "40  90e56526f4c5892beac49f262b85150a   \n",
       "\n",
       "                                              product_name  \\\n",
       "40  Mom and Kid Baby Girl's Printed Green Top & Pyjama Set   \n",
       "\n",
       "                                                                                                                                                            product_category_tree  \\\n",
       "40  [\"Baby Care >> Infant Wear >> Baby Girls' Clothes >> Innerwear & Sleepwear >> Night Suits >> Mom and Kid Night Suits >> Mom and Kid Baby Girl's Printed Green Top & Pyja...\"]   \n",
       "\n",
       "    retail_price                                 image  \\\n",
       "40     999.00000  90e56526f4c5892beac49f262b85150a.jpg   \n",
       "\n",
       "                                                                                                                                                                                                                                                                                                                                                                                                                            description  \\\n",
       "40  Key Features of Mom and Kid Baby Girl's Printed Green Top & Pyjama Set Fabric: Cotton Brand Color: Green,Mom and Kid Baby Girl's Printed Green Top & Pyjama Set Price: Rs. 309 Girls Pyjama set,Specifications of Mom and Kid Baby Girl's Printed Green Top & Pyjama Set General Details Pattern Printed Ideal For Baby Girl's Night Suit Details Fabric Cotton Type Top & Pyjama Set Neck Round Neck In the Box 1 Top & Pyjama Set   \n",
       "\n",
       "          brand  tree_levels  \n",
       "40  Mom and Kid            6  "
      ]
     },
     "execution_count": 21,
     "metadata": {},
     "output_type": "execute_result"
    }
   ],
   "source": [
    "df_data.query(\"tree_levels == tree_levels.max()\").head(1)"
   ]
  },
  {
   "cell_type": "code",
   "execution_count": 22,
   "id": "48b099ef-2ad3-49b0-89be-7484c7f48027",
   "metadata": {},
   "outputs": [],
   "source": [
    "pd.reset_option(\"display.max_rows\") # reset max of showing rows\n",
    "pd.reset_option(\"display.max_columns\") # reset max of showing cols\n",
    "pd.reset_option(\"display.max_colwidth\") # reset width of showing cols\n",
    "pd.reset_option(\"display.float_format\") # reset show full content in cell"
   ]
  },
  {
   "cell_type": "markdown",
   "id": "7aeb59fb-69aa-4c8f-bde7-3a389d8e6d4b",
   "metadata": {},
   "source": [
    "<div class=\"alert alert-block alert-success\">\n",
    "    <p><b>Observations / Conclusions</b></p>\n",
    "    <p>There are from 2 until 6 levels in <b>product_category_tree</b></p>\n",
    "</div>"
   ]
  },
  {
   "cell_type": "markdown",
   "id": "41e96228-9447-4450-9f16-8cb1585cce1d",
   "metadata": {},
   "source": [
    "<div class=\"alert alert-block alert-info\">\n",
    "    <p>Let's analyze the 2 first levels that are common in all records</p>\n",
    "</div>"
   ]
  },
  {
   "cell_type": "code",
   "execution_count": 23,
   "id": "ab6cff92-70ea-493e-886d-92294d8afdc8",
   "metadata": {},
   "outputs": [],
   "source": [
    "df_data[\"category_1\"] = df_data[\"product_category_tree\"].apply(lambda x :x.split('>>')[0][2:len(x.split(\">>\")[0])])\n",
    "df_data[\"category_1\"] = df_data[\"category_1\"].apply(lambda x :x.strip())\n",
    "\n",
    "df_data[\"category_2\"] = df_data[\"product_category_tree\"].apply(lambda x :x.split('>>')[1])\n",
    "df_data[\"category_2\"] = df_data[\"category_2\"].apply(lambda x :x.strip())"
   ]
  },
  {
   "cell_type": "code",
   "execution_count": 24,
   "id": "09257626-3e40-474e-8c78-e7d9998e58db",
   "metadata": {},
   "outputs": [
    {
     "data": {
      "text/html": [
       "<div>\n",
       "<style scoped>\n",
       "    .dataframe tbody tr th:only-of-type {\n",
       "        vertical-align: middle;\n",
       "    }\n",
       "\n",
       "    .dataframe tbody tr th {\n",
       "        vertical-align: top;\n",
       "    }\n",
       "\n",
       "    .dataframe thead th {\n",
       "        text-align: right;\n",
       "    }\n",
       "</style>\n",
       "<table border=\"1\" class=\"dataframe\">\n",
       "  <thead>\n",
       "    <tr style=\"text-align: right;\">\n",
       "      <th></th>\n",
       "      <th>uniq_id</th>\n",
       "      <th>product_name</th>\n",
       "      <th>product_category_tree</th>\n",
       "      <th>retail_price</th>\n",
       "      <th>image</th>\n",
       "      <th>description</th>\n",
       "      <th>brand</th>\n",
       "      <th>tree_levels</th>\n",
       "      <th>category_1</th>\n",
       "      <th>category_2</th>\n",
       "    </tr>\n",
       "  </thead>\n",
       "  <tbody>\n",
       "    <tr>\n",
       "      <th>0</th>\n",
       "      <td>55b85ea15a1536d46b7190ad6fff8ce7</td>\n",
       "      <td>Elegance Polyester Multicolor Abstract Eyelet ...</td>\n",
       "      <td>[\"Home Furnishing &gt;&gt; Curtains &amp; Accessories &gt;&gt;...</td>\n",
       "      <td>1899.0</td>\n",
       "      <td>55b85ea15a1536d46b7190ad6fff8ce7.jpg</td>\n",
       "      <td>Key Features of Elegance Polyester Multicolor ...</td>\n",
       "      <td>Elegance</td>\n",
       "      <td>3</td>\n",
       "      <td>Home Furnishing</td>\n",
       "      <td>Curtains &amp; Accessories</td>\n",
       "    </tr>\n",
       "    <tr>\n",
       "      <th>1</th>\n",
       "      <td>7b72c92c2f6c40268628ec5f14c6d590</td>\n",
       "      <td>Sathiyas Cotton Bath Towel</td>\n",
       "      <td>[\"Baby Care &gt;&gt; Baby Bath &amp; Skin &gt;&gt; Baby Bath T...</td>\n",
       "      <td>600.0</td>\n",
       "      <td>7b72c92c2f6c40268628ec5f14c6d590.jpg</td>\n",
       "      <td>Specifications of Sathiyas Cotton Bath Towel (...</td>\n",
       "      <td>Sathiyas</td>\n",
       "      <td>4</td>\n",
       "      <td>Baby Care</td>\n",
       "      <td>Baby Bath &amp; Skin</td>\n",
       "    </tr>\n",
       "    <tr>\n",
       "      <th>2</th>\n",
       "      <td>64d5d4a258243731dc7bbb1eef49ad74</td>\n",
       "      <td>Eurospa Cotton Terry Face Towel Set</td>\n",
       "      <td>[\"Baby Care &gt;&gt; Baby Bath &amp; Skin &gt;&gt; Baby Bath T...</td>\n",
       "      <td>NaN</td>\n",
       "      <td>64d5d4a258243731dc7bbb1eef49ad74.jpg</td>\n",
       "      <td>Key Features of Eurospa Cotton Terry Face Towe...</td>\n",
       "      <td>Eurospa</td>\n",
       "      <td>4</td>\n",
       "      <td>Baby Care</td>\n",
       "      <td>Baby Bath &amp; Skin</td>\n",
       "    </tr>\n",
       "    <tr>\n",
       "      <th>3</th>\n",
       "      <td>d4684dcdc759dd9cdf41504698d737d8</td>\n",
       "      <td>SANTOSH ROYAL FASHION Cotton Printed King size...</td>\n",
       "      <td>[\"Home Furnishing &gt;&gt; Bed Linen &gt;&gt; Bedsheets &gt;&gt;...</td>\n",
       "      <td>2699.0</td>\n",
       "      <td>d4684dcdc759dd9cdf41504698d737d8.jpg</td>\n",
       "      <td>Key Features of SANTOSH ROYAL FASHION Cotton P...</td>\n",
       "      <td>SANTOSH ROYAL FASHION</td>\n",
       "      <td>4</td>\n",
       "      <td>Home Furnishing</td>\n",
       "      <td>Bed Linen</td>\n",
       "    </tr>\n",
       "    <tr>\n",
       "      <th>4</th>\n",
       "      <td>6325b6870c54cd47be6ebfbffa620ec7</td>\n",
       "      <td>Jaipur Print Cotton Floral King sized Double B...</td>\n",
       "      <td>[\"Home Furnishing &gt;&gt; Bed Linen &gt;&gt; Bedsheets &gt;&gt;...</td>\n",
       "      <td>2599.0</td>\n",
       "      <td>6325b6870c54cd47be6ebfbffa620ec7.jpg</td>\n",
       "      <td>Key Features of Jaipur Print Cotton Floral Kin...</td>\n",
       "      <td>Jaipur Print</td>\n",
       "      <td>4</td>\n",
       "      <td>Home Furnishing</td>\n",
       "      <td>Bed Linen</td>\n",
       "    </tr>\n",
       "  </tbody>\n",
       "</table>\n",
       "</div>"
      ],
      "text/plain": [
       "                            uniq_id  \\\n",
       "0  55b85ea15a1536d46b7190ad6fff8ce7   \n",
       "1  7b72c92c2f6c40268628ec5f14c6d590   \n",
       "2  64d5d4a258243731dc7bbb1eef49ad74   \n",
       "3  d4684dcdc759dd9cdf41504698d737d8   \n",
       "4  6325b6870c54cd47be6ebfbffa620ec7   \n",
       "\n",
       "                                        product_name  \\\n",
       "0  Elegance Polyester Multicolor Abstract Eyelet ...   \n",
       "1                         Sathiyas Cotton Bath Towel   \n",
       "2                Eurospa Cotton Terry Face Towel Set   \n",
       "3  SANTOSH ROYAL FASHION Cotton Printed King size...   \n",
       "4  Jaipur Print Cotton Floral King sized Double B...   \n",
       "\n",
       "                               product_category_tree  retail_price  \\\n",
       "0  [\"Home Furnishing >> Curtains & Accessories >>...        1899.0   \n",
       "1  [\"Baby Care >> Baby Bath & Skin >> Baby Bath T...         600.0   \n",
       "2  [\"Baby Care >> Baby Bath & Skin >> Baby Bath T...           NaN   \n",
       "3  [\"Home Furnishing >> Bed Linen >> Bedsheets >>...        2699.0   \n",
       "4  [\"Home Furnishing >> Bed Linen >> Bedsheets >>...        2599.0   \n",
       "\n",
       "                                  image  \\\n",
       "0  55b85ea15a1536d46b7190ad6fff8ce7.jpg   \n",
       "1  7b72c92c2f6c40268628ec5f14c6d590.jpg   \n",
       "2  64d5d4a258243731dc7bbb1eef49ad74.jpg   \n",
       "3  d4684dcdc759dd9cdf41504698d737d8.jpg   \n",
       "4  6325b6870c54cd47be6ebfbffa620ec7.jpg   \n",
       "\n",
       "                                         description                  brand  \\\n",
       "0  Key Features of Elegance Polyester Multicolor ...               Elegance   \n",
       "1  Specifications of Sathiyas Cotton Bath Towel (...               Sathiyas   \n",
       "2  Key Features of Eurospa Cotton Terry Face Towe...                Eurospa   \n",
       "3  Key Features of SANTOSH ROYAL FASHION Cotton P...  SANTOSH ROYAL FASHION   \n",
       "4  Key Features of Jaipur Print Cotton Floral Kin...           Jaipur Print   \n",
       "\n",
       "   tree_levels       category_1              category_2  \n",
       "0            3  Home Furnishing  Curtains & Accessories  \n",
       "1            4        Baby Care        Baby Bath & Skin  \n",
       "2            4        Baby Care        Baby Bath & Skin  \n",
       "3            4  Home Furnishing               Bed Linen  \n",
       "4            4  Home Furnishing               Bed Linen  "
      ]
     },
     "execution_count": 24,
     "metadata": {},
     "output_type": "execute_result"
    }
   ],
   "source": [
    "df_data.head()"
   ]
  },
  {
   "cell_type": "code",
   "execution_count": 25,
   "id": "4495eee5-f0dc-4e9a-afed-202000d28ba9",
   "metadata": {},
   "outputs": [
    {
     "name": "stdout",
     "output_type": "stream",
     "text": [
      "Unique categories in level 1: 7\n",
      "Unique categories in level 2: 63\n"
     ]
    }
   ],
   "source": [
    "print(\"Unique categories in level 1:\", df_data[\"category_1\"].nunique())\n",
    "print(\"Unique categories in level 2:\", df_data[\"category_2\"].nunique())"
   ]
  },
  {
   "cell_type": "code",
   "execution_count": 26,
   "id": "63d7bc29-b887-4482-8a6b-d84ecc96db66",
   "metadata": {},
   "outputs": [
    {
     "data": {
      "image/png": "[encoded data removed]",
      "text/plain": [
       "<Figure size 1008x720 with 2 Axes>"
      ]
     },
     "metadata": {},
     "output_type": "display_data"
    }
   ],
   "source": [
    "barplot_and_pie(df_data[\"category_1\"], \"Categories level 1\", \"Categories\")"
   ]
  },
  {
   "cell_type": "markdown",
   "id": "aad4c52f-a016-45e2-932b-aa7f7bd54c89",
   "metadata": {},
   "source": [
    "<div class=\"alert alert-block alert-warning\">\n",
    "    <p><b>Observations / Conclusions</b></p>\n",
    "    <p>Based on the plot, we can ask whether we will get 7 clusters in our modeling? </p>\n",
    "</div>"
   ]
  },
  {
   "cell_type": "markdown",
   "id": "c3e387bb-48fc-4c6f-a789-c5755476047b",
   "metadata": {},
   "source": [
    "<div class=\"alert alert-block alert-info\">\n",
    "    <p>Let's see the record with <b>retail_price</b> missing-value</p>\n",
    "</div>"
   ]
  },
  {
   "cell_type": "code",
   "execution_count": 27,
   "id": "0aaf7b32-e18d-45f6-bedf-390bb17af140",
   "metadata": {},
   "outputs": [
    {
     "data": {
      "image/png": "[encoded data removed]",
      "text/plain": [
       "<Figure size 1800x720 with 2 Axes>"
      ]
     },
     "metadata": {},
     "output_type": "display_data"
    }
   ],
   "source": [
    "barplot_and_pie(df_data[\"category_2\"], \"Categories level 2\", \"Categories\")"
   ]
  },
  {
   "cell_type": "code",
   "execution_count": 28,
   "id": "0495477c-8178-4153-8425-d2546765ba5f",
   "metadata": {},
   "outputs": [
    {
     "data": {
      "text/html": [
       "<div>\n",
       "<style scoped>\n",
       "    .dataframe tbody tr th:only-of-type {\n",
       "        vertical-align: middle;\n",
       "    }\n",
       "\n",
       "    .dataframe tbody tr th {\n",
       "        vertical-align: top;\n",
       "    }\n",
       "\n",
       "    .dataframe thead th {\n",
       "        text-align: right;\n",
       "    }\n",
       "</style>\n",
       "<table border=\"1\" class=\"dataframe\">\n",
       "  <thead>\n",
       "    <tr style=\"text-align: right;\">\n",
       "      <th></th>\n",
       "      <th>uniq_id</th>\n",
       "      <th>product_name</th>\n",
       "      <th>product_category_tree</th>\n",
       "      <th>retail_price</th>\n",
       "      <th>image</th>\n",
       "      <th>description</th>\n",
       "      <th>brand</th>\n",
       "      <th>tree_levels</th>\n",
       "      <th>category_1</th>\n",
       "      <th>category_2</th>\n",
       "    </tr>\n",
       "  </thead>\n",
       "  <tbody>\n",
       "    <tr>\n",
       "      <th>2</th>\n",
       "      <td>64d5d4a258243731dc7bbb1eef49ad74</td>\n",
       "      <td>Eurospa Cotton Terry Face Towel Set</td>\n",
       "      <td>[\"Baby Care &gt;&gt; Baby Bath &amp; Skin &gt;&gt; Baby Bath T...</td>\n",
       "      <td>NaN</td>\n",
       "      <td>64d5d4a258243731dc7bbb1eef49ad74.jpg</td>\n",
       "      <td>Key Features of Eurospa Cotton Terry Face Towe...</td>\n",
       "      <td>Eurospa</td>\n",
       "      <td>4</td>\n",
       "      <td>Baby Care</td>\n",
       "      <td>Baby Bath &amp; Skin</td>\n",
       "    </tr>\n",
       "  </tbody>\n",
       "</table>\n",
       "</div>"
      ],
      "text/plain": [
       "                            uniq_id                         product_name  \\\n",
       "2  64d5d4a258243731dc7bbb1eef49ad74  Eurospa Cotton Terry Face Towel Set   \n",
       "\n",
       "                               product_category_tree  retail_price  \\\n",
       "2  [\"Baby Care >> Baby Bath & Skin >> Baby Bath T...           NaN   \n",
       "\n",
       "                                  image  \\\n",
       "2  64d5d4a258243731dc7bbb1eef49ad74.jpg   \n",
       "\n",
       "                                         description    brand  tree_levels  \\\n",
       "2  Key Features of Eurospa Cotton Terry Face Towe...  Eurospa            4   \n",
       "\n",
       "  category_1        category_2  \n",
       "2  Baby Care  Baby Bath & Skin  "
      ]
     },
     "execution_count": 28,
     "metadata": {},
     "output_type": "execute_result"
    }
   ],
   "source": [
    "df_data[df_data[\"retail_price\"].isna()]"
   ]
  },
  {
   "cell_type": "markdown",
   "id": "74e56029-9dec-400d-a687-98bd228f3b2b",
   "metadata": {},
   "source": [
    "<div class=\"alert alert-block alert-success\">\n",
    "    <p>Let's get to the mean of the <b>retail_price</b> based on the firsts two categories in the tree</p>\n",
    "</div>"
   ]
  },
  {
   "cell_type": "code",
   "execution_count": 29,
   "id": "a9ad86ab-e577-4855-b01f-05a1a0a92c91",
   "metadata": {},
   "outputs": [
    {
     "data": {
      "text/plain": [
       "1200.1538461538462"
      ]
     },
     "execution_count": 29,
     "metadata": {},
     "output_type": "execute_result"
    }
   ],
   "source": [
    "retail_price_mean = df_data[(df_data[\"category_1\"]==\"Baby Care\") & (df_data[\"category_2\"]==\"Baby Bath & Skin\")][\"retail_price\"].mean()\n",
    "retail_price_mean"
   ]
  },
  {
   "cell_type": "markdown",
   "id": "bd40dacd-b684-4f12-a7bf-1106e4a1a15e",
   "metadata": {},
   "source": [
    "<div class=\"alert alert-block alert-info\">\n",
    "    <p>Let's replace the missing-value into <b>retail_price</b></p>\n",
    "</div>"
   ]
  },
  {
   "cell_type": "code",
   "execution_count": 30,
   "id": "f3a74c0e-aec2-4e26-aac5-92002d9b7b44",
   "metadata": {},
   "outputs": [],
   "source": [
    "df_data[\"retail_price\"].fillna(retail_price_mean, inplace=True)"
   ]
  },
  {
   "cell_type": "markdown",
   "id": "89044011-c474-450a-a237-df87a4e8cb0d",
   "metadata": {},
   "source": [
    "<div class=\"alert alert-block alert-info\">\n",
    "    <p>Let's proceed to delete the categories features added</p>\n",
    "</div>"
   ]
  },
  {
   "cell_type": "code",
   "execution_count": 31,
   "id": "3b370839-9b99-4e0c-84ce-ea3f331ca669",
   "metadata": {},
   "outputs": [],
   "source": [
    "df_data.drop(columns=[\"tree_levels\", \"category_1\", \"category_2\"], axis=1, inplace=True)"
   ]
  },
  {
   "cell_type": "markdown",
   "id": "cec8d697-7e29-4eea-86be-ccf27e266182",
   "metadata": {},
   "source": [
    "<div class=\"alert alert-block alert-info\">\n",
    "    <p>Let's analyze the dataset</p>\n",
    "</div>"
   ]
  },
  {
   "cell_type": "code",
   "execution_count": 32,
   "id": "6fcf5311-121a-4225-a014-38019c812341",
   "metadata": {},
   "outputs": [
    {
     "name": "stdout",
     "output_type": "stream",
     "text": [
      "\n",
      "Analysis Header of df_data dataset\n",
      "--------------------------------------------------------------------------------\n",
      "- Dataset shape:\t\t\t 1050 rows and 7 columns\n",
      "- Total of NaN values:\t\t\t 0\n",
      "- Percentage of NaN:\t\t\t 0.0 %\n",
      "- Total of full duplicates rows:\t 0\n",
      "- Total of empty rows:\t\t\t 0\n",
      "- Total of empty columns:\t\t 0\n",
      "- Unique indexes:\t\t\t True\n",
      "- Memory usage:\t\t\t\t 57.5+ KB\n",
      "\n",
      "Detailed analysis of df_data dataset\n",
      "------------------------------------------------------------------------------------------------------------------------------------\n"
     ]
    },
    {
     "data": {
      "text/html": [
       "<div>\n",
       "<style scoped>\n",
       "    .dataframe tbody tr th:only-of-type {\n",
       "        vertical-align: middle;\n",
       "    }\n",
       "\n",
       "    .dataframe tbody tr th {\n",
       "        vertical-align: top;\n",
       "    }\n",
       "\n",
       "    .dataframe thead th {\n",
       "        text-align: right;\n",
       "    }\n",
       "</style>\n",
       "<table border=\"1\" class=\"dataframe\">\n",
       "  <thead>\n",
       "    <tr style=\"text-align: right;\">\n",
       "      <th></th>\n",
       "      <th>name</th>\n",
       "      <th>type</th>\n",
       "      <th>records</th>\n",
       "      <th>unique</th>\n",
       "      <th># NaN</th>\n",
       "      <th>% NaN</th>\n",
       "      <th>mean</th>\n",
       "      <th>min</th>\n",
       "      <th>25%</th>\n",
       "      <th>50%</th>\n",
       "      <th>75%</th>\n",
       "      <th>max</th>\n",
       "      <th>std</th>\n",
       "    </tr>\n",
       "  </thead>\n",
       "  <tbody>\n",
       "    <tr>\n",
       "      <th>0</th>\n",
       "      <td>uniq_id</td>\n",
       "      <td>object</td>\n",
       "      <td>1050</td>\n",
       "      <td>1050</td>\n",
       "      <td>0</td>\n",
       "      <td>0.00000</td>\n",
       "      <td>NaN</td>\n",
       "      <td>NaN</td>\n",
       "      <td>NaN</td>\n",
       "      <td>NaN</td>\n",
       "      <td>NaN</td>\n",
       "      <td>NaN</td>\n",
       "      <td>NaN</td>\n",
       "    </tr>\n",
       "    <tr>\n",
       "      <th>1</th>\n",
       "      <td>product_name</td>\n",
       "      <td>object</td>\n",
       "      <td>1050</td>\n",
       "      <td>1050</td>\n",
       "      <td>0</td>\n",
       "      <td>0.00000</td>\n",
       "      <td>NaN</td>\n",
       "      <td>NaN</td>\n",
       "      <td>NaN</td>\n",
       "      <td>NaN</td>\n",
       "      <td>NaN</td>\n",
       "      <td>NaN</td>\n",
       "      <td>NaN</td>\n",
       "    </tr>\n",
       "    <tr>\n",
       "      <th>2</th>\n",
       "      <td>product_category_tree</td>\n",
       "      <td>object</td>\n",
       "      <td>1050</td>\n",
       "      <td>642</td>\n",
       "      <td>0</td>\n",
       "      <td>0.00000</td>\n",
       "      <td>NaN</td>\n",
       "      <td>NaN</td>\n",
       "      <td>NaN</td>\n",
       "      <td>NaN</td>\n",
       "      <td>NaN</td>\n",
       "      <td>NaN</td>\n",
       "      <td>NaN</td>\n",
       "    </tr>\n",
       "    <tr>\n",
       "      <th>3</th>\n",
       "      <td>retail_price</td>\n",
       "      <td>float64</td>\n",
       "      <td>1050</td>\n",
       "      <td>355</td>\n",
       "      <td>0</td>\n",
       "      <td>0.00000</td>\n",
       "      <td>2185.25824</td>\n",
       "      <td>35.00000</td>\n",
       "      <td>555.75000</td>\n",
       "      <td>999.00000</td>\n",
       "      <td>1999.00000</td>\n",
       "      <td>201000.00000</td>\n",
       "      <td>7635.64798</td>\n",
       "    </tr>\n",
       "    <tr>\n",
       "      <th>4</th>\n",
       "      <td>image</td>\n",
       "      <td>object</td>\n",
       "      <td>1050</td>\n",
       "      <td>1050</td>\n",
       "      <td>0</td>\n",
       "      <td>0.00000</td>\n",
       "      <td>NaN</td>\n",
       "      <td>NaN</td>\n",
       "      <td>NaN</td>\n",
       "      <td>NaN</td>\n",
       "      <td>NaN</td>\n",
       "      <td>NaN</td>\n",
       "      <td>NaN</td>\n",
       "    </tr>\n",
       "    <tr>\n",
       "      <th>5</th>\n",
       "      <td>description</td>\n",
       "      <td>object</td>\n",
       "      <td>1050</td>\n",
       "      <td>1050</td>\n",
       "      <td>0</td>\n",
       "      <td>0.00000</td>\n",
       "      <td>NaN</td>\n",
       "      <td>NaN</td>\n",
       "      <td>NaN</td>\n",
       "      <td>NaN</td>\n",
       "      <td>NaN</td>\n",
       "      <td>NaN</td>\n",
       "      <td>NaN</td>\n",
       "    </tr>\n",
       "    <tr>\n",
       "      <th>6</th>\n",
       "      <td>brand</td>\n",
       "      <td>object</td>\n",
       "      <td>1050</td>\n",
       "      <td>491</td>\n",
       "      <td>0</td>\n",
       "      <td>0.00000</td>\n",
       "      <td>NaN</td>\n",
       "      <td>NaN</td>\n",
       "      <td>NaN</td>\n",
       "      <td>NaN</td>\n",
       "      <td>NaN</td>\n",
       "      <td>NaN</td>\n",
       "      <td>NaN</td>\n",
       "    </tr>\n",
       "  </tbody>\n",
       "</table>\n",
       "</div>"
      ],
      "text/plain": [
       "                    name     type  records  unique  # NaN   % NaN       mean  \\\n",
       "0                uniq_id   object     1050    1050      0 0.00000        NaN   \n",
       "1           product_name   object     1050    1050      0 0.00000        NaN   \n",
       "2  product_category_tree   object     1050     642      0 0.00000        NaN   \n",
       "3           retail_price  float64     1050     355      0 0.00000 2185.25824   \n",
       "4                  image   object     1050    1050      0 0.00000        NaN   \n",
       "5            description   object     1050    1050      0 0.00000        NaN   \n",
       "6                  brand   object     1050     491      0 0.00000        NaN   \n",
       "\n",
       "       min       25%       50%        75%          max        std  \n",
       "0      NaN       NaN       NaN        NaN          NaN        NaN  \n",
       "1      NaN       NaN       NaN        NaN          NaN        NaN  \n",
       "2      NaN       NaN       NaN        NaN          NaN        NaN  \n",
       "3 35.00000 555.75000 999.00000 1999.00000 201000.00000 7635.64798  \n",
       "4      NaN       NaN       NaN        NaN          NaN        NaN  \n",
       "5      NaN       NaN       NaN        NaN          NaN        NaN  \n",
       "6      NaN       NaN       NaN        NaN          NaN        NaN  "
      ]
     },
     "metadata": {},
     "output_type": "display_data"
    }
   ],
   "source": [
    "df_analysis(df_data, \"df_data\", type_analysis=\"complete\")"
   ]
  },
  {
   "cell_type": "markdown",
   "id": "0a90d67a-df78-4ac5-906c-faa2bc2bde89",
   "metadata": {},
   "source": [
    "<div class=\"alert alert-block alert-success\">\n",
    "    <p><b>Observations / Conclusions</b></p>\n",
    "    <p>At this point, we have the dataset without missing-values.</p>\n",
    "    <p>Let's proced to make the normalization.</p>\n",
    "</div>"
   ]
  },
  {
   "cell_type": "markdown",
   "id": "db744315-9d5c-4c05-9203-6cb467b03060",
   "metadata": {
    "tags": []
   },
   "source": [
    "<div style=\"background-color: #506AB9;\" >\n",
    "    <h2 style=\"margin: auto; padding: 20px; color:#fff; \">5. Pre-processing Text data</h2>\n",
    "</div>"
   ]
  },
  {
   "cell_type": "markdown",
   "id": "00ee070b-348c-49de-8957-fc6c380fa6d4",
   "metadata": {
    "tags": []
   },
   "source": [
    "<div class=\"alert alert-block alert-info\">\n",
    "    <p>We are going to processing the following features</p>\n",
    "    <ol>\n",
    "        <li>product_name</li>\n",
    "        <li>product_category_tree</li>\n",
    "        <li>description</li>\n",
    "        <li>brand</li>\n",
    "    </ol>\n",
    "</div>"
   ]
  },
  {
   "cell_type": "code",
   "execution_count": 33,
   "id": "40b29712-9129-4931-895b-72a7933b91cb",
   "metadata": {},
   "outputs": [],
   "source": [
    "text_columns = [\n",
    "    \"product_name\", \"product_category_tree\",\n",
    "    \"description\", \"brand\"\n",
    "]"
   ]
  },
  {
   "cell_type": "markdown",
   "id": "23704951-9ab3-4866-9991-2668592e5a86",
   "metadata": {},
   "source": [
    "<div style=\"background-color: #6D83C5;\" >\n",
    "    <h3 style=\"margin: auto; padding: 20px; color:#fff; \">5.1. Analyzing the characters in the features</h3>\n",
    "</div>"
   ]
  },
  {
   "cell_type": "markdown",
   "id": "6b694be4-ed90-4293-83f4-bd2df240984e",
   "metadata": {
    "tags": []
   },
   "source": [
    "<div class=\"alert alert-block alert-info\">\n",
    "    <p>Before doing the steps above, let's check what type of character we have in the dataset.<br>Then we can use the appropriate tokenizer</p>\n",
    "</div>"
   ]
  },
  {
   "cell_type": "code",
   "execution_count": 34,
   "id": "5d0b4917-65ae-4322-9113-7a5c14182e3e",
   "metadata": {},
   "outputs": [],
   "source": [
    "character_type = [\"numerical\", \"special\"]\n",
    "\n",
    "for col in text_columns:\n",
    "    \n",
    "    # checking the character in each sample by feature\n",
    "    df_data[col + \"_check\"] = df_data[col].apply(lambda x: check_characters(x))\n",
    "    \n",
    "    # Normalizing to column, the dict in the sample\n",
    "    globals()[\"df_\" + col + \"_check\"] = pd.json_normalize(df_data[col + \"_check\"])\n",
    "    \n",
    "    # Counting the characters uniques by feature\n",
    "    for val in character_type:\n",
    "        globals()[\"dict_\" + col + \"_\" + val] = {}\n",
    "\n",
    "        for i in globals()[\"df_\" + col + \"_check\"][val]:\n",
    "            for j in i:\n",
    "                if j not in globals()[\"dict_\" + col + \"_\" + val]:\n",
    "                    globals()[\"dict_\" + col + \"_\" + val][j] = 1\n",
    "                else:\n",
    "                    globals()[\"dict_\" + col + \"_\" + val][j] += 1\n",
    "                    \n",
    "        # Sorting dict by value descending\n",
    "        globals()[\"dict_\" + col + \"_\" + val] = sorted(globals()[\"dict_\" + col + \"_\" + val].items(),\n",
    "                                                      key=operator.itemgetter(1), reverse=True)\n",
    "        globals()[\"dict_\" + col + \"_\" + val] = {k:v for k, v in globals()[\"dict_\" + col + \"_\" + val]}\n",
    "        \n",
    "        # Creating dataset based on the dict\n",
    "        if val == \"special\":\n",
    "            globals()[\"df_\" + col + \"_\" + val] = pd.DataFrame({\"character\" : list(globals()[\"dict_\" + col + \"_\" + val].keys()),\n",
    "                                                              \"number\" : list(globals()[\"dict_\" + col + \"_\" + val].values())})"
   ]
  },
  {
   "cell_type": "markdown",
   "id": "d105d78f-2626-45ad-b5e4-f4aed1e18de4",
   "metadata": {
    "tags": []
   },
   "source": [
    "<div class=\"alert alert-block alert-info\">\n",
    "    <p>Plotting the special characters in <b>description</b></p>\n",
    "</div>"
   ]
  },
  {
   "cell_type": "code",
   "execution_count": 35,
   "id": "e1231b0f-066f-43d0-8e3e-06bc162bbefd",
   "metadata": {},
   "outputs": [
    {
     "name": "stderr",
     "output_type": "stream",
     "text": [
      "C:\\Users\\Samir\\anaconda3\\lib\\site-packages\\matplotlib\\backends\\backend_agg.py:238: RuntimeWarning: Glyph 65533 missing from current font.\n",
      "  font.set_text(s, 0.0, flags=flags)\n",
      "C:\\Users\\Samir\\anaconda3\\lib\\site-packages\\matplotlib\\backends\\backend_agg.py:201: RuntimeWarning: Glyph 65533 missing from current font.\n",
      "  font.set_text(s, 0, flags=flags)\n"
     ]
    },
    {
     "data": {
      "image/png": "[encoded data removed]",
      "text/plain": [
       "<Figure size 720x504 with 1 Axes>"
      ]
     },
     "metadata": {},
     "output_type": "display_data"
    }
   ],
   "source": [
    "fig = plt.figure(figsize=(10, 7))\n",
    "plot = sns.barplot(x=df_description_special[\"character\"], y=df_description_special[\"number\"])\n",
    "for p in plot.patches:\n",
    "    plot.annotate(format(p.get_height(), \".1f\"), (p.get_x() + p.get_width() / 2., p.get_height()), \n",
    "                    ha=\"center\", va=\"center\", xytext=(0, 9), textcoords=\"offset points\")\n",
    "plt.ylabel(\"Number\", size=12)\n",
    "plt.xlabel(\"character\", size=12)\n",
    "plt.title(\"Special characters in \\\"description\\\"\", size=16)\n",
    "plt.tight_layout()\n",
    "plt.show()"
   ]
  },
  {
   "cell_type": "markdown",
   "id": "9c7e3c45-dcca-4bb8-a77f-dfa4a10c7459",
   "metadata": {
    "tags": []
   },
   "source": [
    "<div class=\"alert alert-block alert-info\">\n",
    "    <p>Plotting the special characters in <b>product_category_tree</b></p>\n",
    "</div>"
   ]
  },
  {
   "cell_type": "code",
   "execution_count": 36,
   "id": "efb09405-4967-4c8e-b75f-0bc811afbbd5",
   "metadata": {},
   "outputs": [
    {
     "name": "stderr",
     "output_type": "stream",
     "text": [
      "C:\\Users\\Samir\\anaconda3\\lib\\site-packages\\matplotlib\\backends\\backend_agg.py:238: RuntimeWarning: Glyph 65533 missing from current font.\n",
      "  font.set_text(s, 0.0, flags=flags)\n",
      "C:\\Users\\Samir\\anaconda3\\lib\\site-packages\\matplotlib\\backends\\backend_agg.py:201: RuntimeWarning: Glyph 65533 missing from current font.\n",
      "  font.set_text(s, 0, flags=flags)\n"
     ]
    },
    {
     "data": {
      "image/png": "[encoded data removed]",
      "text/plain": [
       "<Figure size 720x504 with 1 Axes>"
      ]
     },
     "metadata": {},
     "output_type": "display_data"
    }
   ],
   "source": [
    "fig = plt.figure(figsize=(10, 7))\n",
    "plot = sns.barplot(x=df_product_category_tree_special[\"character\"], y=df_product_category_tree_special[\"number\"])\n",
    "for p in plot.patches:\n",
    "    plot.annotate(format(p.get_height(), \".1f\"), (p.get_x() + p.get_width() / 2., p.get_height()), \n",
    "                    ha=\"center\", va=\"center\", xytext=(0, 9), textcoords=\"offset points\")\n",
    "plt.ylabel(\"Number\", size=12)\n",
    "plt.xlabel(\"character\", size=12)\n",
    "plt.title(\"Special characters in \\\"product_category_tree\\\"\", size=16)\n",
    "plt.tight_layout()\n",
    "plt.show()"
   ]
  },
  {
   "cell_type": "markdown",
   "id": "0a4cf21e-b7a2-45d0-9fde-065e9c691468",
   "metadata": {
    "tags": []
   },
   "source": [
    "<div class=\"alert alert-block alert-info\">\n",
    "    <p>Printing the digit characters in <b>product_name</b>, <b>product_category_tree</b>, <b>description</b>, <b>brand</b></p>\n",
    "</div>"
   ]
  },
  {
   "cell_type": "code",
   "execution_count": 37,
   "id": "ed79f269-7dd0-441a-a73a-e1bf7bdea3ba",
   "metadata": {},
   "outputs": [
    {
     "name": "stdout",
     "output_type": "stream",
     "text": [
      "product_name has 10 digit used\n",
      "product_category_tree has 10 digit used\n",
      "description has 10 digit used\n",
      "brand has 8 digit used\n"
     ]
    }
   ],
   "source": [
    "for col in text_columns:\n",
    "    print(col + \" has \" + str(len(globals()[\"dict_\" + col + \"_numerical\"])) + \" digit used\")"
   ]
  },
  {
   "cell_type": "markdown",
   "id": "786ac824-9b03-4f08-8404-51369be2913d",
   "metadata": {},
   "source": [
    "<div class=\"alert alert-block alert-success\">\n",
    "    <p><b>Observations / Conclusions</b></p>\n",
    "    <ul style=\"list-style-type: square;\">\n",
    "        <li>The 4 features have used numerical characters.</li>\n",
    "        <li>It seems there are contractions in the text so, it is necessary to check this point.</li>\n",
    "    </ul>\n",
    "</div>"
   ]
  },
  {
   "cell_type": "markdown",
   "id": "8d8e5353-ae16-4d79-b283-ab7b7eba7e0c",
   "metadata": {
    "tags": []
   },
   "source": [
    "<div class=\"alert alert-block alert-info\">\n",
    "    <p>Deleting the datasets</p>\n",
    "</div>"
   ]
  },
  {
   "cell_type": "code",
   "execution_count": 38,
   "id": "a008ec99-7971-4a7d-84a9-7dd642cc297f",
   "metadata": {},
   "outputs": [],
   "source": [
    "for col in text_columns:\n",
    "    \n",
    "    del globals()[\"df_\" + col + \"_check\"]\n",
    "    del globals()[\"df_\" + col + \"_special\"]\n",
    "        \n",
    "    gc.collect()"
   ]
  },
  {
   "cell_type": "markdown",
   "id": "6cbd9c9b-7730-4fb7-b863-9e1be7bea3be",
   "metadata": {},
   "source": [
    "<div style=\"background-color: #6D83C5;\" >\n",
    "    <h4 style=\"margin: auto; padding: 20px; color:#fff; \">5.1.1. Checking contractions</h4>\n",
    "</div>"
   ]
  },
  {
   "cell_type": "markdown",
   "id": "d033b23b-548c-4572-905e-74ee245fcdca",
   "metadata": {
    "tags": []
   },
   "source": [
    "<div class=\"alert alert-block alert-info\">\n",
    "    <p>Let's check some contractions in the description</p>\n",
    "</div>"
   ]
  },
  {
   "cell_type": "code",
   "execution_count": 82,
   "id": "90387773-4f28-4cab-a5e0-ee81e3f8ec27",
   "metadata": {},
   "outputs": [],
   "source": [
    "characters_to_check = [\"\\'re\", \"\\'d\", \"\\'t\"]"
   ]
  },
  {
   "cell_type": "code",
   "execution_count": 61,
   "id": "6b0972aa-a01f-4972-a3d3-e6656153ad85",
   "metadata": {},
   "outputs": [],
   "source": [
    "df_check_characters = df_data[[\"product_name\", \"product_category_tree\", \"description\"]].copy()"
   ]
  },
  {
   "cell_type": "code",
   "execution_count": 73,
   "id": "e2d30c6d-a21b-4fbc-aea9-4998f7ec79b3",
   "metadata": {},
   "outputs": [],
   "source": [
    "df_check_characters = df_data[[\"description\"]].copy()"
   ]
  },
  {
   "cell_type": "code",
   "execution_count": 62,
   "id": "36b1dfce-5484-4ae3-ac59-b8197706837f",
   "metadata": {},
   "outputs": [],
   "source": [
    "pd.set_option(\"display.max_rows\", None) # show full of showing rows\n",
    "pd.set_option(\"display.max_columns\", None) # show full of showing cols\n",
    "pd.set_option(\"display.max_colwidth\", None) # show full width of showing cols\n",
    "pd.set_option(\"display.float_format\", lambda x: \"%.5f\" % x) # show full content in cell    "
   ]
  },
  {
   "cell_type": "code",
   "execution_count": 83,
   "id": "5bae9a89-07d2-4bda-8492-c0816a463944",
   "metadata": {},
   "outputs": [
    {
     "data": {
      "text/html": [
       "<div>\n",
       "<style scoped>\n",
       "    .dataframe tbody tr th:only-of-type {\n",
       "        vertical-align: middle;\n",
       "    }\n",
       "\n",
       "    .dataframe tbody tr th {\n",
       "        vertical-align: top;\n",
       "    }\n",
       "\n",
       "    .dataframe thead th {\n",
       "        text-align: right;\n",
       "    }\n",
       "</style>\n",
       "<table border=\"1\" class=\"dataframe\">\n",
       "  <thead>\n",
       "    <tr style=\"text-align: right;\">\n",
       "      <th></th>\n",
       "      <th>description</th>\n",
       "    </tr>\n",
       "  </thead>\n",
       "  <tbody>\n",
       "    <tr>\n",
       "      <th>171</th>\n",
       "      <td>Buy Prithish We're All Mad Here Ceramic Mug for Rs.175 online. Prithish We're All Mad Here Ceramic Mug at best prices with FREE shipping &amp; cash on delivery. Only Genuine Products. 30 Day Replacement Guarantee.</td>\n",
       "    </tr>\n",
       "    <tr>\n",
       "      <th>187</th>\n",
       "      <td>Prithish Wild And Free Ceramic Mug (330 ml)\\r\\n                         Price: Rs. 175\\r\\n\\t\\t\\t\\t\\r\\n\\t\\t\\t\"Get talking with your coffee! Our wide selection of cute and catchy designs means you're sure to find the quote that says what it is, the way it is. And if these mugs bring on the smiles, don't forget to share them. Mugs like these make great gifts! Each mug is beautifully designed with quality ink and attractive graphics, perfect for all around enjoyment.\" \"Express yourself! Our distinctive coffee mugs give you the freedom to broadcast your own special message, from holiday cheer to your love of cupcakes. These affordable mugs are also perfect for gifting, so you can show others just how well you know them. Break out the mugs, and bring on the laughs! Happy sipping!\\r\\n\"Get talking with your coffee! Our wide selection of cute and catchy designs means you're sure to find the quote that says what it is, the way it is. And if these mugs bring on the smiles, don't forget to share them. Mugs like these make great gifts! Each mug is beautifully designed with quality ink and attractive graphics, perfect for all around enjoyment.\" \"Express yourself! Our distinctive coffee mugs give you the freedom to broadcast your own special message, from holiday cheer to your love of cupcakes. These affordable mugs are also perfect for gifting, so you can show others just how well you know them. Break out the mugs, and bring on the laughs! Happy sipping!</td>\n",
       "    </tr>\n",
       "    <tr>\n",
       "      <th>917</th>\n",
       "      <td>Megaway 196.85 inch White Rice Lights (Pack of 5)\\r\\n                         Price: Rs. 4,050\\r\\n\\t\\t\\t\\t\\r\\n\\t\\t\\tWarning: Don't Direct Plug into AC Power Supply, Use 12V LED Adaptor provided along with the Strip Light. Warranty for Adaptor is for 6 months only.\\r\\nWarning: Don't Direct Plug into AC Power Supply, Use 12V LED Adaptor provided along with the Strip Light. Warranty for Adaptor is for 6 months only.</td>\n",
       "    </tr>\n",
       "    <tr>\n",
       "      <th>966</th>\n",
       "      <td>Checkered Chef Steel All-Purpose Scissor (Red, Black, Silver, Pack of 1) Price: Rs. 1,921 YOUR SEARCH IS OVER YOU HAVE FINALLY FOUND THE ONLY PAIR OF MULTIFUNCTION KITCHEN SCISSORS YOU WILL EVER NEED - Tackle any kitchen cutting job - fresh chicken, cooked chicken, herbs, meat, vegetables, bones, ribs and cardboard. - Razor sharp stainless steel blades enable you to cut virtually anything with ease! - No more aching fingers! Soft rubberized handles and quality precision workmanship make cutting a breeze! Easy To Clean And Safe Too! Everyone knows that kitchen scissors that don't come apart pose a health risk - they just can't be cleaned properly! But scissors that come apart too easily are annoying and dangerous! Checkered Chef Multifunction Kitchen Scissors are specially designed to only come apart when opened all the way to 90 degrees - wider than the normal cutting range. So you can use your scissors, and clean them too! What About All The Special Features? - Not just a pair of scissors - this is a multifunction kitchen tool! Use as a bottle opener, fish scaler, knife or even a screwdriver! - Our super strong magnetic sheath will keep your scissors safe and within reach at all times - never lose your scissors again! - You've never made a salad this easily - simply cut the lettuce and vegetables straight into the bowl! Are these really the best scissors you can buy? See the boy on our label? That's me - the \"Checkered Chef\". I like to cook and I like to wear checks, that's why they call me the Checkered Chef. I have tested every sample and proto-type that has crossed our kitchen bench. I proclaim these scissors quite simply, the best! Order today by clicking the \"Add to Cart\" tab, check them out for yourself and tell me what you think!,Specifications of Checkered Chef Steel All-Purpose Scissor (Red, Black, Silver, Pack of 1) General Brand Checkered Chef Handle Material Plastic Blade Material Steel Model Number The Original Heavy Duty Multifunction Kitchen Scissors Shears With Magnetic Holder Shade RED Type All-Purpose Scissor Color Red, Black, Silver In the Box Sales Package 1 kitchen scissor Pack of 1</td>\n",
       "    </tr>\n",
       "    <tr>\n",
       "      <th>972</th>\n",
       "      <td>Key Features of CALCULUS Baby Boy's Printed Casual Beige Shirt Fit: SLIM Suitable For: Western Wear Sleeve: Half Sleeve Fabric: COTTON Color:Beige Pattern:Printed Number Of Contents In Package:1,CALCULUS Baby Boy's Printed Casual Beige Shirt Price: Rs. 349 Let your junior enjoy comfort and the attention too in this Colorful solid casual shirt from CALCULUS. Made from Cotton, this lightweight and suitable for casual occasion. For care, wash in cold water and don't brush the garment.,Specifications of CALCULUS Baby Boy's Printed Casual Beige Shirt General Details Pattern Printed Occasion Casual Ideal For Baby Boy's Shirt Details Closure Button Sleeve Half Sleeve Number of Contents in Sales Package Pack of 1 Brand Fit SLIM Fabric COTTON Pockets With Pocket Fit Slim Additional Details Style Code CAL-KIDS-0021 In the Box 1 Kids Shirt Fabric Care Wash with like colours. Hand wash or machine wash with cold water. Use mild detergent. Tumble dry low. Dry in shade. Do not bleach. Iron as per tag.</td>\n",
       "    </tr>\n",
       "  </tbody>\n",
       "</table>\n",
       "</div>"
      ],
      "text/plain": [
       "                                                                                                                                                                                                                                                                                                                                                                                                                                                                                                                                                                                                                                                                                                                                                                                                                                                                                                                                                                                                                                                                                                                                                                                                                                                                                                                                                                                                                                                                                                                                                                                                                                                                                                                                                                                                                                                                                                                                                                                                                                                                                                                                                                                                                       description\n",
       "171                                                                                                                                                                                                                                                                                                                                                                                                                                                                                                                                                                                                                                                                                                                                                                                                                                                                                                                                                                                                                                                                                                                                                                                                                                                                                                                                                                                                                                                                                                                                                                                                                                                                                                                                                                                                                                                                                                                                                                                                              Buy Prithish We're All Mad Here Ceramic Mug for Rs.175 online. Prithish We're All Mad Here Ceramic Mug at best prices with FREE shipping & cash on delivery. Only Genuine Products. 30 Day Replacement Guarantee.\n",
       "187                                                                                                                                                                                                                                                                                                                                                                                                                                                                                                                                                                                                                                                                                                       Prithish Wild And Free Ceramic Mug (330 ml)\\r\\n                         Price: Rs. 175\\r\\n\\t\\t\\t\\t\\r\\n\\t\\t\\t\"Get talking with your coffee! Our wide selection of cute and catchy designs means you're sure to find the quote that says what it is, the way it is. And if these mugs bring on the smiles, don't forget to share them. Mugs like these make great gifts! Each mug is beautifully designed with quality ink and attractive graphics, perfect for all around enjoyment.\" \"Express yourself! Our distinctive coffee mugs give you the freedom to broadcast your own special message, from holiday cheer to your love of cupcakes. These affordable mugs are also perfect for gifting, so you can show others just how well you know them. Break out the mugs, and bring on the laughs! Happy sipping!\\r\\n\"Get talking with your coffee! Our wide selection of cute and catchy designs means you're sure to find the quote that says what it is, the way it is. And if these mugs bring on the smiles, don't forget to share them. Mugs like these make great gifts! Each mug is beautifully designed with quality ink and attractive graphics, perfect for all around enjoyment.\" \"Express yourself! Our distinctive coffee mugs give you the freedom to broadcast your own special message, from holiday cheer to your love of cupcakes. These affordable mugs are also perfect for gifting, so you can show others just how well you know them. Break out the mugs, and bring on the laughs! Happy sipping!\n",
       "917                                                                                                                                                                                                                                                                                                                                                                                                                                                                                                                                                                                                                                                                                                                                                                                                                                                                                                                                                                                                                                                                                                                                                                                                                                                                                                                                                                                                                                                                                                                                                                                                                                                                                                                                                                                               Megaway 196.85 inch White Rice Lights (Pack of 5)\\r\\n                         Price: Rs. 4,050\\r\\n\\t\\t\\t\\t\\r\\n\\t\\t\\tWarning: Don't Direct Plug into AC Power Supply, Use 12V LED Adaptor provided along with the Strip Light. Warranty for Adaptor is for 6 months only.\\r\\nWarning: Don't Direct Plug into AC Power Supply, Use 12V LED Adaptor provided along with the Strip Light. Warranty for Adaptor is for 6 months only.\n",
       "966  Checkered Chef Steel All-Purpose Scissor (Red, Black, Silver, Pack of 1) Price: Rs. 1,921 YOUR SEARCH IS OVER YOU HAVE FINALLY FOUND THE ONLY PAIR OF MULTIFUNCTION KITCHEN SCISSORS YOU WILL EVER NEED - Tackle any kitchen cutting job - fresh chicken, cooked chicken, herbs, meat, vegetables, bones, ribs and cardboard. - Razor sharp stainless steel blades enable you to cut virtually anything with ease! - No more aching fingers! Soft rubberized handles and quality precision workmanship make cutting a breeze! Easy To Clean And Safe Too! Everyone knows that kitchen scissors that don't come apart pose a health risk - they just can't be cleaned properly! But scissors that come apart too easily are annoying and dangerous! Checkered Chef Multifunction Kitchen Scissors are specially designed to only come apart when opened all the way to 90 degrees - wider than the normal cutting range. So you can use your scissors, and clean them too! What About All The Special Features? - Not just a pair of scissors - this is a multifunction kitchen tool! Use as a bottle opener, fish scaler, knife or even a screwdriver! - Our super strong magnetic sheath will keep your scissors safe and within reach at all times - never lose your scissors again! - You've never made a salad this easily - simply cut the lettuce and vegetables straight into the bowl! Are these really the best scissors you can buy? See the boy on our label? That's me - the \"Checkered Chef\". I like to cook and I like to wear checks, that's why they call me the Checkered Chef. I have tested every sample and proto-type that has crossed our kitchen bench. I proclaim these scissors quite simply, the best! Order today by clicking the \"Add to Cart\" tab, check them out for yourself and tell me what you think!,Specifications of Checkered Chef Steel All-Purpose Scissor (Red, Black, Silver, Pack of 1) General Brand Checkered Chef Handle Material Plastic Blade Material Steel Model Number The Original Heavy Duty Multifunction Kitchen Scissors Shears With Magnetic Holder Shade RED Type All-Purpose Scissor Color Red, Black, Silver In the Box Sales Package 1 kitchen scissor Pack of 1\n",
       "972                                                                                                                                                                                                                                                                                                                                                                                                                                                                                                                                                                                                                                                                                                                                                                                                                                                                                                                                                                                                                                                                                                                                                                                      Key Features of CALCULUS Baby Boy's Printed Casual Beige Shirt Fit: SLIM Suitable For: Western Wear Sleeve: Half Sleeve Fabric: COTTON Color:Beige Pattern:Printed Number Of Contents In Package:1,CALCULUS Baby Boy's Printed Casual Beige Shirt Price: Rs. 349 Let your junior enjoy comfort and the attention too in this Colorful solid casual shirt from CALCULUS. Made from Cotton, this lightweight and suitable for casual occasion. For care, wash in cold water and don't brush the garment.,Specifications of CALCULUS Baby Boy's Printed Casual Beige Shirt General Details Pattern Printed Occasion Casual Ideal For Baby Boy's Shirt Details Closure Button Sleeve Half Sleeve Number of Contents in Sales Package Pack of 1 Brand Fit SLIM Fabric COTTON Pockets With Pocket Fit Slim Additional Details Style Code CAL-KIDS-0021 In the Box 1 Kids Shirt Fabric Care Wash with like colours. Hand wash or machine wash with cold water. Use mild detergent. Tumble dry low. Dry in shade. Do not bleach. Iron as per tag."
      ]
     },
     "execution_count": 83,
     "metadata": {},
     "output_type": "execute_result"
    }
   ],
   "source": [
    "df_check_characters[df_check_characters[\"description\"].str.contains(\"|\".join(characters_to_check))].tail()"
   ]
  },
  {
   "cell_type": "code",
   "execution_count": 45,
   "id": "1ddb2e33-a24f-4144-af78-687faef163ac",
   "metadata": {},
   "outputs": [],
   "source": [
    "pd.reset_option(\"display.max_rows\") # reset max of showing rows\n",
    "pd.reset_option(\"display.max_columns\") # reset max of showing cols\n",
    "pd.reset_option(\"display.max_colwidth\") # reset width of showing cols\n",
    "pd.reset_option(\"display.float_format\") # reset show full content in cell"
   ]
  },
  {
   "cell_type": "markdown",
   "id": "5604f0a5-d520-41fa-be7b-e05a764b4fc7",
   "metadata": {},
   "source": [
    "<div class=\"alert alert-block alert-danger\">\n",
    "    <p><b>Observations / Conclusions</b></p>\n",
    "    <p>At this point, we can see in the text:</p>\n",
    "    <ul style=\"list-style-type: square;\">\n",
    "        <li>Characters for new line, tabs, etc..</li>\n",
    "        <li>There are contractions in the descriptions.</li>\n",
    "    </ul>\n",
    "</div>"
   ]
  },
  {
   "cell_type": "markdown",
   "id": "7d968ff8-043f-4d2d-9cc2-a5e1355fb430",
   "metadata": {},
   "source": [
    "<div style=\"background-color: #6D83C5;\" >\n",
    "    <h3 style=\"margin: auto; padding: 20px; color:#fff; \">5.1. Tokenization</h3>\n",
    "</div>"
   ]
  },
  {
   "cell_type": "markdown",
   "id": "70ae8f3a-48b4-40ad-a8b2-1a8af60ba4d6",
   "metadata": {
    "tags": []
   },
   "source": [
    "<div class=\"alert alert-block alert-info\">\n",
    "    <p>First of all, we are going to clean up and tokenize the text doing the following</p>\n",
    "    <ol>\n",
    "        <li>Remove punctuantion</li>\n",
    "        <li>Put everything in lowercase</li>\n",
    "        <li>Tokenizing words</li>\n",
    "        <li>Remove stop words</li>\n",
    "    </ol>\n",
    "</div>"
   ]
  },
  {
   "cell_type": "markdown",
   "id": "98c9ee86-4d63-45e6-adc3-ab701b704529",
   "metadata": {
    "tags": []
   },
   "source": [
    "<div style=\"background-color: #FF5733;\" >\n",
    "    <h1 style=\"margin: auto; padding: 20px; color:#fff; \">--------- FLAG POSITION ---------</h1>\n",
    "</div>"
   ]
  },
  {
   "cell_type": "code",
   "execution_count": null,
   "id": "0114163a-445d-4285-b291-e02bb2c6d8a8",
   "metadata": {},
   "outputs": [],
   "source": [
    "raise SystemExit(\"Stop right there!\")"
   ]
  },
  {
   "cell_type": "markdown",
   "id": "e87e803e-84a0-4a84-b6c7-40ecc247af72",
   "metadata": {
    "tags": []
   },
   "source": [
    "<div style=\"background-color: #FF5733;\" >\n",
    "    <h1 style=\"margin: auto; padding: 20px; color:#fff; \">--------- FLAG POSITION ---------</h1>\n",
    "</div>"
   ]
  },
  {
   "cell_type": "code",
   "execution_count": null,
   "id": "e73c80af-f3d7-4f5f-9da9-098228b5cd0a",
   "metadata": {},
   "outputs": [],
   "source": []
  },
  {
   "cell_type": "code",
   "execution_count": 93,
   "id": "1c5c7523-debc-4d66-a5d5-204f9ca3236d",
   "metadata": {},
   "outputs": [],
   "source": [
    "from nltk.tokenize import RegexpTokenizer\n",
    "A = RegexpTokenizer(\"[\\w']+\")"
   ]
  },
  {
   "cell_type": "code",
   "execution_count": 88,
   "id": "c6099d84-d042-4198-9d11-6771aadcf682",
   "metadata": {},
   "outputs": [
    {
     "data": {
      "text/plain": [
       "[\"Can't\", 'is', 'a', 'contraction']"
      ]
     },
     "execution_count": 88,
     "metadata": {},
     "output_type": "execute_result"
    }
   ],
   "source": [
    "tokenizer.tokenize(\"Can't, is a @ contraction.\")"
   ]
  },
  {
   "cell_type": "code",
   "execution_count": null,
   "id": "823e64ac-a6a1-4364-8fc0-99d9d798e603",
   "metadata": {},
   "outputs": [],
   "source": []
  },
  {
   "cell_type": "code",
   "execution_count": 105,
   "id": "c0e620e8-0811-40f5-ba1a-ce5512776635",
   "metadata": {},
   "outputs": [
    {
     "data": {
      "text/plain": [
       "['Can', 't', 'is', 'a', 'contraction']"
      ]
     },
     "execution_count": 105,
     "metadata": {},
     "output_type": "execute_result"
    }
   ],
   "source": [
    "B = nltk.RegexpTokenizer(r\"\\w+\")\n",
    "tokenizer.tokenize(\"Can't, is a @ contraction.\")"
   ]
  },
  {
   "cell_type": "code",
   "execution_count": 181,
   "id": "d50c5eea-0ed3-4a7c-a048-8ca5a803608a",
   "metadata": {},
   "outputs": [],
   "source": [
    "text = df_check_characters.iloc[917][\"description\"]"
   ]
  },
  {
   "cell_type": "code",
   "execution_count": 109,
   "id": "f083f1d6-b906-4c3d-940e-c09e8a55041b",
   "metadata": {},
   "outputs": [
    {
     "data": {
      "text/plain": [
       "\"Megaway 196.85 inch White Rice Lights (Pack of 5)\\r\\n                         Price: Rs. 4,050\\r\\n\\t\\t\\t\\t\\r\\n\\t\\t\\tWarning: Don't Direct Plug into AC Power Supply, Use 12V LED Adaptor provided along with the Strip Light. Warranty for Adaptor is for 6 months only.\\r\\nWarning: Don't Direct Plug into AC Power Supply, Use 12V LED Adaptor provided along with the Strip Light. Warranty for Adaptor is for 6 months only.\""
      ]
     },
     "execution_count": 109,
     "metadata": {},
     "output_type": "execute_result"
    }
   ],
   "source": [
    "text"
   ]
  },
  {
   "cell_type": "code",
   "execution_count": 110,
   "id": "ca100362-db04-44c4-bba5-c7ea88539bf6",
   "metadata": {},
   "outputs": [
    {
     "data": {
      "text/plain": [
       "['Megaway',\n",
       " '196',\n",
       " '85',\n",
       " 'inch',\n",
       " 'White',\n",
       " 'Rice',\n",
       " 'Lights',\n",
       " 'Pack',\n",
       " 'of',\n",
       " '5',\n",
       " 'Price',\n",
       " 'Rs',\n",
       " '4',\n",
       " '050',\n",
       " 'Warning',\n",
       " \"Don't\",\n",
       " 'Direct',\n",
       " 'Plug',\n",
       " 'into',\n",
       " 'AC',\n",
       " 'Power',\n",
       " 'Supply',\n",
       " 'Use',\n",
       " '12V',\n",
       " 'LED',\n",
       " 'Adaptor',\n",
       " 'provided',\n",
       " 'along',\n",
       " 'with',\n",
       " 'the',\n",
       " 'Strip',\n",
       " 'Light',\n",
       " 'Warranty',\n",
       " 'for',\n",
       " 'Adaptor',\n",
       " 'is',\n",
       " 'for',\n",
       " '6',\n",
       " 'months',\n",
       " 'only',\n",
       " 'Warning',\n",
       " \"Don't\",\n",
       " 'Direct',\n",
       " 'Plug',\n",
       " 'into',\n",
       " 'AC',\n",
       " 'Power',\n",
       " 'Supply',\n",
       " 'Use',\n",
       " '12V',\n",
       " 'LED',\n",
       " 'Adaptor',\n",
       " 'provided',\n",
       " 'along',\n",
       " 'with',\n",
       " 'the',\n",
       " 'Strip',\n",
       " 'Light',\n",
       " 'Warranty',\n",
       " 'for',\n",
       " 'Adaptor',\n",
       " 'is',\n",
       " 'for',\n",
       " '6',\n",
       " 'months',\n",
       " 'only']"
      ]
     },
     "execution_count": 110,
     "metadata": {},
     "output_type": "execute_result"
    }
   ],
   "source": [
    "A.tokenize(text)"
   ]
  },
  {
   "cell_type": "code",
   "execution_count": 111,
   "id": "550e4f56-902a-4ad0-8a64-95f229f1628d",
   "metadata": {},
   "outputs": [
    {
     "data": {
      "text/plain": [
       "['Megaway',\n",
       " '196',\n",
       " '85',\n",
       " 'inch',\n",
       " 'White',\n",
       " 'Rice',\n",
       " 'Lights',\n",
       " 'Pack',\n",
       " 'of',\n",
       " '5',\n",
       " 'Price',\n",
       " 'Rs',\n",
       " '4',\n",
       " '050',\n",
       " 'Warning',\n",
       " 'Don',\n",
       " 't',\n",
       " 'Direct',\n",
       " 'Plug',\n",
       " 'into',\n",
       " 'AC',\n",
       " 'Power',\n",
       " 'Supply',\n",
       " 'Use',\n",
       " '12V',\n",
       " 'LED',\n",
       " 'Adaptor',\n",
       " 'provided',\n",
       " 'along',\n",
       " 'with',\n",
       " 'the',\n",
       " 'Strip',\n",
       " 'Light',\n",
       " 'Warranty',\n",
       " 'for',\n",
       " 'Adaptor',\n",
       " 'is',\n",
       " 'for',\n",
       " '6',\n",
       " 'months',\n",
       " 'only',\n",
       " 'Warning',\n",
       " 'Don',\n",
       " 't',\n",
       " 'Direct',\n",
       " 'Plug',\n",
       " 'into',\n",
       " 'AC',\n",
       " 'Power',\n",
       " 'Supply',\n",
       " 'Use',\n",
       " '12V',\n",
       " 'LED',\n",
       " 'Adaptor',\n",
       " 'provided',\n",
       " 'along',\n",
       " 'with',\n",
       " 'the',\n",
       " 'Strip',\n",
       " 'Light',\n",
       " 'Warranty',\n",
       " 'for',\n",
       " 'Adaptor',\n",
       " 'is',\n",
       " 'for',\n",
       " '6',\n",
       " 'months',\n",
       " 'only']"
      ]
     },
     "execution_count": 111,
     "metadata": {},
     "output_type": "execute_result"
    }
   ],
   "source": [
    "B.tokenize(text)"
   ]
  },
  {
   "cell_type": "code",
   "execution_count": null,
   "id": "74b2c3d0-a35a-4b60-acfc-ce0229b548a1",
   "metadata": {},
   "outputs": [],
   "source": []
  },
  {
   "cell_type": "code",
   "execution_count": null,
   "id": "1473e527-484f-4185-92a8-391a81d8b162",
   "metadata": {},
   "outputs": [],
   "source": []
  },
  {
   "cell_type": "code",
   "execution_count": 127,
   "id": "255245ba-2051-404e-9021-fe767d8f0ed8",
   "metadata": {},
   "outputs": [
    {
     "data": {
      "text/plain": [
       "['Megaway 196.85 inch White Rice Lights (Pack of 5)\\r\\n                         Price: Rs.',\n",
       " \"4,050\\r\\n\\t\\t\\t\\t\\r\\n\\t\\t\\tWarning: Don't Direct Plug into AC Power Supply, Use 12V LED Adaptor provided along with the Strip Light.\",\n",
       " 'Warranty for Adaptor is for 6 months only.',\n",
       " \"Warning: Don't Direct Plug into AC Power Supply, Use 12V LED Adaptor provided along with the Strip Light.\",\n",
       " 'Warranty for Adaptor is for 6 months only.']"
      ]
     },
     "execution_count": 127,
     "metadata": {},
     "output_type": "execute_result"
    }
   ],
   "source": [
    "from nltk.tokenize import sent_tokenize\n",
    "sent_tokenize(text)"
   ]
  },
  {
   "cell_type": "code",
   "execution_count": 128,
   "id": "dcdc856f-5662-42e2-8b54-044433324909",
   "metadata": {},
   "outputs": [
    {
     "data": {
      "text/plain": [
       "['Megaway',\n",
       " '196.85',\n",
       " 'inch',\n",
       " 'White',\n",
       " 'Rice',\n",
       " 'Lights',\n",
       " '(',\n",
       " 'Pack',\n",
       " 'of',\n",
       " '5',\n",
       " ')',\n",
       " 'Price',\n",
       " ':',\n",
       " 'Rs',\n",
       " '.',\n",
       " '4,050',\n",
       " 'Warning',\n",
       " ':',\n",
       " 'Do',\n",
       " \"n't\",\n",
       " 'Direct',\n",
       " 'Plug',\n",
       " 'into',\n",
       " 'AC',\n",
       " 'Power',\n",
       " 'Supply',\n",
       " ',',\n",
       " 'Use',\n",
       " '12V',\n",
       " 'LED',\n",
       " 'Adaptor',\n",
       " 'provided',\n",
       " 'along',\n",
       " 'with',\n",
       " 'the',\n",
       " 'Strip',\n",
       " 'Light',\n",
       " '.',\n",
       " 'Warranty',\n",
       " 'for',\n",
       " 'Adaptor',\n",
       " 'is',\n",
       " 'for',\n",
       " '6',\n",
       " 'months',\n",
       " 'only',\n",
       " '.',\n",
       " 'Warning',\n",
       " ':',\n",
       " 'Do',\n",
       " \"n't\",\n",
       " 'Direct',\n",
       " 'Plug',\n",
       " 'into',\n",
       " 'AC',\n",
       " 'Power',\n",
       " 'Supply',\n",
       " ',',\n",
       " 'Use',\n",
       " '12V',\n",
       " 'LED',\n",
       " 'Adaptor',\n",
       " 'provided',\n",
       " 'along',\n",
       " 'with',\n",
       " 'the',\n",
       " 'Strip',\n",
       " 'Light',\n",
       " '.',\n",
       " 'Warranty',\n",
       " 'for',\n",
       " 'Adaptor',\n",
       " 'is',\n",
       " 'for',\n",
       " '6',\n",
       " 'months',\n",
       " 'only',\n",
       " '.']"
      ]
     },
     "execution_count": 128,
     "metadata": {},
     "output_type": "execute_result"
    }
   ],
   "source": [
    "from nltk.tokenize import word_tokenize\n",
    "word_tokenize(text)"
   ]
  },
  {
   "cell_type": "code",
   "execution_count": 129,
   "id": "b67e2106-17ab-4126-a284-a50aedcc3d90",
   "metadata": {},
   "outputs": [
    {
     "data": {
      "text/plain": [
       "['Megaway',\n",
       " '196.85',\n",
       " 'inch',\n",
       " 'White',\n",
       " 'Rice',\n",
       " 'Lights',\n",
       " '(',\n",
       " 'Pack',\n",
       " 'of',\n",
       " '5',\n",
       " ')',\n",
       " 'Price',\n",
       " ':',\n",
       " 'Rs.',\n",
       " '4,050',\n",
       " 'Warning',\n",
       " ':',\n",
       " 'Do',\n",
       " \"n't\",\n",
       " 'Direct',\n",
       " 'Plug',\n",
       " 'into',\n",
       " 'AC',\n",
       " 'Power',\n",
       " 'Supply',\n",
       " ',',\n",
       " 'Use',\n",
       " '12V',\n",
       " 'LED',\n",
       " 'Adaptor',\n",
       " 'provided',\n",
       " 'along',\n",
       " 'with',\n",
       " 'the',\n",
       " 'Strip',\n",
       " 'Light.',\n",
       " 'Warranty',\n",
       " 'for',\n",
       " 'Adaptor',\n",
       " 'is',\n",
       " 'for',\n",
       " '6',\n",
       " 'months',\n",
       " 'only.',\n",
       " 'Warning',\n",
       " ':',\n",
       " 'Do',\n",
       " \"n't\",\n",
       " 'Direct',\n",
       " 'Plug',\n",
       " 'into',\n",
       " 'AC',\n",
       " 'Power',\n",
       " 'Supply',\n",
       " ',',\n",
       " 'Use',\n",
       " '12V',\n",
       " 'LED',\n",
       " 'Adaptor',\n",
       " 'provided',\n",
       " 'along',\n",
       " 'with',\n",
       " 'the',\n",
       " 'Strip',\n",
       " 'Light.',\n",
       " 'Warranty',\n",
       " 'for',\n",
       " 'Adaptor',\n",
       " 'is',\n",
       " 'for',\n",
       " '6',\n",
       " 'months',\n",
       " 'only',\n",
       " '.']"
      ]
     },
     "execution_count": 129,
     "metadata": {},
     "output_type": "execute_result"
    }
   ],
   "source": [
    "from nltk.tokenize import TreebankWordTokenizer\n",
    "  \n",
    "tokenizer = TreebankWordTokenizer()\n",
    "tokenizer.tokenize(text)"
   ]
  },
  {
   "cell_type": "code",
   "execution_count": 130,
   "id": "42cf5b08-8c1c-4ecf-a5d7-fcbde5807b3f",
   "metadata": {},
   "outputs": [
    {
     "data": {
      "text/plain": [
       "['Megaway',\n",
       " '196',\n",
       " '.',\n",
       " '85',\n",
       " 'inch',\n",
       " 'White',\n",
       " 'Rice',\n",
       " 'Lights',\n",
       " '(',\n",
       " 'Pack',\n",
       " 'of',\n",
       " '5',\n",
       " ')',\n",
       " 'Price',\n",
       " ':',\n",
       " 'Rs',\n",
       " '.',\n",
       " '4',\n",
       " ',',\n",
       " '050',\n",
       " 'Warning',\n",
       " ':',\n",
       " 'Don',\n",
       " \"'\",\n",
       " 't',\n",
       " 'Direct',\n",
       " 'Plug',\n",
       " 'into',\n",
       " 'AC',\n",
       " 'Power',\n",
       " 'Supply',\n",
       " ',',\n",
       " 'Use',\n",
       " '12V',\n",
       " 'LED',\n",
       " 'Adaptor',\n",
       " 'provided',\n",
       " 'along',\n",
       " 'with',\n",
       " 'the',\n",
       " 'Strip',\n",
       " 'Light',\n",
       " '.',\n",
       " 'Warranty',\n",
       " 'for',\n",
       " 'Adaptor',\n",
       " 'is',\n",
       " 'for',\n",
       " '6',\n",
       " 'months',\n",
       " 'only',\n",
       " '.',\n",
       " 'Warning',\n",
       " ':',\n",
       " 'Don',\n",
       " \"'\",\n",
       " 't',\n",
       " 'Direct',\n",
       " 'Plug',\n",
       " 'into',\n",
       " 'AC',\n",
       " 'Power',\n",
       " 'Supply',\n",
       " ',',\n",
       " 'Use',\n",
       " '12V',\n",
       " 'LED',\n",
       " 'Adaptor',\n",
       " 'provided',\n",
       " 'along',\n",
       " 'with',\n",
       " 'the',\n",
       " 'Strip',\n",
       " 'Light',\n",
       " '.',\n",
       " 'Warranty',\n",
       " 'for',\n",
       " 'Adaptor',\n",
       " 'is',\n",
       " 'for',\n",
       " '6',\n",
       " 'months',\n",
       " 'only',\n",
       " '.']"
      ]
     },
     "execution_count": 130,
     "metadata": {},
     "output_type": "execute_result"
    }
   ],
   "source": [
    "from nltk.tokenize import WordPunctTokenizer\n",
    "  \n",
    "tokenizer = WordPunctTokenizer()\n",
    "tokenizer.tokenize(text)"
   ]
  },
  {
   "cell_type": "code",
   "execution_count": 125,
   "id": "22f37124-1ba3-478c-8e94-88ebc5c2acf0",
   "metadata": {},
   "outputs": [
    {
     "data": {
      "text/plain": [
       "[\"Let's\",\n",
       " 'see',\n",
       " 'how',\n",
       " \"it's\",\n",
       " 'working',\n",
       " 'My',\n",
       " 'emails',\n",
       " 'is',\n",
       " 'samir',\n",
       " 'gmail',\n",
       " 'com']"
      ]
     },
     "execution_count": 125,
     "metadata": {},
     "output_type": "execute_result"
    }
   ],
   "source": [
    "from nltk.tokenize import RegexpTokenizer\n",
    "  \n",
    "tokenizer = RegexpTokenizer(\"[\\w']+\")\n",
    "tokenizer.tokenize(text)"
   ]
  },
  {
   "cell_type": "code",
   "execution_count": null,
   "id": "e1c67209-6e26-4a90-ba30-34ebe8f52e27",
   "metadata": {},
   "outputs": [],
   "source": []
  },
  {
   "cell_type": "code",
   "execution_count": 196,
   "id": "9664b002-0881-4ac0-9b38-fa05ebbb193c",
   "metadata": {},
   "outputs": [],
   "source": [
    "def remove_newlines_tabs(text):\n",
    "    \"\"\"\n",
    "    Method used to remove the occurrences of newlines, tabs,\n",
    "    and combinations like: \\\\n, \\\\.\n",
    "    \n",
    "    Parameters:\n",
    "    -----------------\n",
    "        text (string): Text to clean\n",
    "        \n",
    "    Returns:\n",
    "    -----------------\n",
    "        text (string): Text after removing of newlines, tabs, etc.\n",
    "    \n",
    "    \"\"\"\n",
    "    \n",
    "    # Replacing the occurrences with a space.\n",
    "    text = text.replace('\\\\n', ' ').replace('\\n', ' ')\\\n",
    "            .replace('\\r',' ').replace('\\t',' ')\\\n",
    "            .replace('\\\\', ' ').replace('. com', '.com')\n",
    "            \n",
    "    return text\n",
    "\n",
    "\n",
    "def remove_whitespace(text):\n",
    "    \"\"\"\n",
    "    Method used to remove extra whitespaces from the text\n",
    "    \n",
    "    Parameters:\n",
    "    -----------------\n",
    "        text (string): Text to clean\n",
    "        \n",
    "    Returns:\n",
    "    -----------------\n",
    "        text (string): Text after removing extra whitespaces.\n",
    "    \n",
    "    \"\"\"\n",
    "    \n",
    "    pattern = re.compile(r\"\\s+\")\n",
    "    without_whitespace = re.sub(pattern, \" \", text)\n",
    "                         \n",
    "    # Adding space for some instance where there is space before and after.\n",
    "    if not \" ? \" in text:\n",
    "        text = without_whitespace.replace(\"?\", \" ? \")\n",
    "    if not \") \" in text:\n",
    "        text = without_whitespace.replace(\")\", \") \")\n",
    "                         \n",
    "    return text\n"
   ]
  },
  {
   "cell_type": "code",
   "execution_count": 190,
   "id": "c11cf100-2321-42ff-b926-2ff132666d9f",
   "metadata": {},
   "outputs": [],
   "source": [
    "text = df_check_characters.iloc[917][\"description\"]"
   ]
  },
  {
   "cell_type": "code",
   "execution_count": 191,
   "id": "b103caee-da57-44dd-98ea-02ccc037d044",
   "metadata": {},
   "outputs": [
    {
     "data": {
      "text/plain": [
       "\"Megaway 196.85 inch White Rice Lights (Pack of 5)\\r\\n                         Price: Rs. 4,050\\r\\n\\t\\t\\t\\t\\r\\n\\t\\t\\tWarning: Don't Direct Plug into AC Power Supply, Use 12V LED Adaptor provided along with the Strip Light. Warranty for Adaptor is for 6 months only.\\r\\nWarning: Don't Direct Plug into AC Power Supply, Use 12V LED Adaptor provided along with the Strip Light. Warranty for Adaptor is for 6 months only.\""
      ]
     },
     "execution_count": 191,
     "metadata": {},
     "output_type": "execute_result"
    }
   ],
   "source": [
    "text"
   ]
  },
  {
   "cell_type": "code",
   "execution_count": 192,
   "id": "f75931ef-3eed-43e1-9cea-63fe5ef2c235",
   "metadata": {},
   "outputs": [
    {
     "data": {
      "text/plain": [
       "\"Megaway 196.85 inch White Rice Lights (Pack of 5)                           Price: Rs. 4,050           Warning: Don't Direct Plug into AC Power Supply, Use 12V LED Adaptor provided along with the Strip Light. Warranty for Adaptor is for 6 months only.  Warning: Don't Direct Plug into AC Power Supply, Use 12V LED Adaptor provided along with the Strip Light. Warranty for Adaptor is for 6 months only.\""
      ]
     },
     "execution_count": 192,
     "metadata": {},
     "output_type": "execute_result"
    }
   ],
   "source": [
    "new_text = remove_newlines_tabs(text)\n",
    "new_text"
   ]
  },
  {
   "cell_type": "code",
   "execution_count": 197,
   "id": "165c3fb2-01f3-4e54-a03a-49c820576b04",
   "metadata": {},
   "outputs": [
    {
     "data": {
      "text/plain": [
       "\"Megaway 196.85 inch White Rice Lights (Pack of 5) Price: Rs. 4,050 Warning: Don't Direct Plug into AC Power Supply, Use 12V LED Adaptor provided along with the Strip Light. Warranty for Adaptor is for 6 months only. Warning: Don't Direct Plug into AC Power Supply, Use 12V LED Adaptor provided along with the Strip Light. Warranty for Adaptor is for 6 months only.\""
      ]
     },
     "execution_count": 197,
     "metadata": {},
     "output_type": "execute_result"
    }
   ],
   "source": [
    "new_text = remove_whitespace(new_text)\n",
    "new_text"
   ]
  },
  {
   "cell_type": "code",
   "execution_count": null,
   "id": "162cfdc8-4bec-42fb-b515-49b2eca8ff64",
   "metadata": {},
   "outputs": [],
   "source": []
  },
  {
   "cell_type": "code",
   "execution_count": null,
   "id": "eeefd3d4-5138-44cd-bbf3-737ea528dbed",
   "metadata": {},
   "outputs": [],
   "source": []
  },
  {
   "cell_type": "markdown",
   "id": "1e415bd9-9382-448b-94cf-1c55e038956d",
   "metadata": {},
   "source": [
    "<div style=\"background-color: #6D83C5;\" >\n",
    "    <h3 style=\"margin: auto; padding: 20px; color:#fff; \">5.1. Tokenization</h3>\n",
    "</div>"
   ]
  },
  {
   "cell_type": "markdown",
   "id": "6bb0ee9a-3e4c-4cc4-8253-2c01bb919db0",
   "metadata": {
    "tags": []
   },
   "source": [
    "<div class=\"alert alert-block alert-info\">\n",
    "    <p>First of all, we are going to clean up and tokenize the text doing the following</p>\n",
    "    <ol>\n",
    "        <li>Remove punctuantion</li>\n",
    "        <li>Put everything in lowercase</li>\n",
    "        <li>Tokenizing words</li>\n",
    "        <li>Remove stop words</li>\n",
    "    </ol>\n",
    "</div>"
   ]
  },
  {
   "cell_type": "code",
   "execution_count": null,
   "id": "a37b367f-06ec-4859-9043-9f89fdd2e633",
   "metadata": {},
   "outputs": [],
   "source": [
    "cleaned_words_by_feature = {}\n",
    "for col in text_columns:\n",
    "    df_data[col + \"_tokens\"] = df_data[col].apply(lambda x: cleaning_up_text(x))\n",
    "    cleaned_words_by_feature[col] = df_data[col + \"_tokens\"].explode().dropna().value_counts().shape[0]\n",
    "    \n",
    "# Sorting dict by value descending\n",
    "cleaned_words_by_feature = sorted(cleaned_words_by_feature.items(), key=operator.itemgetter(1), reverse=True)\n",
    "cleaned_words_by_feature = {k:v for k, v in cleaned_words_by_feature}"
   ]
  },
  {
   "cell_type": "code",
   "execution_count": null,
   "id": "a4137591-4be5-4cca-a0b9-b1453f3d12b4",
   "metadata": {},
   "outputs": [],
   "source": [
    "pd.set_option(\"display.max_rows\", None) # show full of showing rows\n",
    "pd.set_option(\"display.max_columns\", None) # show full of showing cols\n",
    "pd.set_option(\"display.max_colwidth\", None) # show full width of showing cols\n",
    "pd.set_option(\"display.float_format\", lambda x: \"%.5f\" % x) # show full content in cell    "
   ]
  },
  {
   "cell_type": "code",
   "execution_count": null,
   "id": "2fd11e14-778e-46d3-8ed8-d6448c6990ca",
   "metadata": {},
   "outputs": [],
   "source": [
    "df_data.head(5)"
   ]
  },
  {
   "cell_type": "code",
   "execution_count": null,
   "id": "f1a9f499-b8ca-407f-82a5-0042d4f7b10f",
   "metadata": {},
   "outputs": [],
   "source": [
    "pd.reset_option(\"display.max_rows\") # reset max of showing rows\n",
    "pd.reset_option(\"display.max_columns\") # reset max of showing cols\n",
    "pd.reset_option(\"display.max_colwidth\") # reset width of showing cols\n",
    "pd.reset_option(\"display.float_format\") # reset show full content in cell"
   ]
  },
  {
   "cell_type": "markdown",
   "id": "6bf2c0aa-bf02-4b0e-968c-6127afa878c2",
   "metadata": {},
   "source": [
    "<div style=\"background-color: #6D83C5;\" >\n",
    "    <h4 style=\"margin: auto; padding: 20px; color:#fff; \">5.1.1. Number of words after cleaning up</h4>\n",
    "</div>"
   ]
  },
  {
   "cell_type": "markdown",
   "id": "66446bdb-ebea-497b-beea-67d85747ddc1",
   "metadata": {
    "tags": []
   },
   "source": [
    "<div class=\"alert alert-block alert-info\">\n",
    "    <p>Let's compare the number of words before and after cleaning up</p>\n",
    "</div>"
   ]
  },
  {
   "cell_type": "code",
   "execution_count": null,
   "id": "b96c3787-0cda-443f-9ed0-cb8ef1599fe4",
   "metadata": {},
   "outputs": [],
   "source": [
    "comparison = {}\n",
    "for col in text_columns:\n",
    "    df_data[col + \"_comparison\"] = df_data[col].apply(lambda x: remove_punctuation(x))\n",
    "    df_data[col + \"_comparison\"] = df_data[col + \"_comparison\"].apply(lambda x: tokenizer(x))\n",
    "    comparison[col] = df_data[col + \"_comparison\"].explode().dropna().value_counts().shape[0]\n",
    "\n",
    "    del df_data[col + \"_comparison\"]\n",
    "    \n",
    "# Sorting dict by value descending\n",
    "comparison = sorted(comparison.items(), key=operator.itemgetter(1), reverse=True)\n",
    "comparison = {k:v for k, v in comparison}"
   ]
  },
  {
   "cell_type": "code",
   "execution_count": null,
   "id": "18e27f6c-8b93-46a9-9b41-d62ba03e48d2",
   "metadata": {},
   "outputs": [],
   "source": [
    "fig = plt.figure(figsize=(12, 4))\n",
    "\n",
    "# Plot the total crashes\n",
    "sns.set_color_codes(\"pastel\")\n",
    "plot = sns.barplot(x=list(comparison.values()),\n",
    "                   y=list(comparison.keys()), \n",
    "                   label=\"Initial\", color=\"b\")\n",
    "\n",
    "# Plot the crashes where alcohol was involved\n",
    "sns.set_color_codes(\"muted\")\n",
    "plot = sns.barplot(x=list(cleaned_words_by_feature.values()),\n",
    "                   y=list(cleaned_words_by_feature.keys()),\n",
    "                   label=\"Cleaned\", color=\"b\")\n",
    "\n",
    "plt.legend(ncol=2, loc=\"lower right\", frameon=True)\n",
    "plt.xlabel(\"Numbers of words\", size=12)\n",
    "plt.ylabel(\"Features\", size=12)\n",
    "plt.title(\"Comparison the number of words after cleaning up\", size=16)\n",
    "plt.tight_layout()\n",
    "plt.savefig(\"images/text_analysis/number-of-word-by-features-after-cleaning-up.png\")\n",
    "plt.show()"
   ]
  },
  {
   "cell_type": "markdown",
   "id": "c1b95370-818e-4fab-a714-a7c9a2d7c63b",
   "metadata": {},
   "source": [
    "<div class=\"alert alert-block alert-success\">\n",
    "    <p><b>Observations / Conclusions</b></p>\n",
    "    <p>It is clear that the feature called description has the heigher number of stop words.</p>\n",
    "</div>"
   ]
  },
  {
   "cell_type": "markdown",
   "id": "e36084e0-4780-46f6-85b2-30904a49ea5c",
   "metadata": {},
   "source": [
    "<div style=\"background-color: #6D83C5;\" >\n",
    "    <h3 style=\"margin: auto; padding: 20px; color:#fff; \">5.1. Tokenization</h3>\n",
    "</div>"
   ]
  },
  {
   "cell_type": "markdown",
   "id": "a0145b4e-e2d0-486f-9eed-327302240af7",
   "metadata": {
    "tags": []
   },
   "source": [
    "<div style=\"background-color: #FF5733;\" >\n",
    "    <h1 style=\"margin: auto; padding: 20px; color:#fff; \">--------- FLAG POSITION ---------</h1>\n",
    "</div>"
   ]
  },
  {
   "cell_type": "code",
   "execution_count": null,
   "id": "3c5dde55-e012-40cc-8190-b6ecadd84a1b",
   "metadata": {},
   "outputs": [],
   "source": [
    "raise SystemExit(\"Stop right there!\")"
   ]
  },
  {
   "cell_type": "markdown",
   "id": "a9270bda-ae13-4d6a-9aa3-e1ee130f7d6a",
   "metadata": {
    "tags": []
   },
   "source": [
    "<div style=\"background-color: #FF5733;\" >\n",
    "    <h1 style=\"margin: auto; padding: 20px; color:#fff; \">--------- FLAG POSITION ---------</h1>\n",
    "</div>"
   ]
  },
  {
   "cell_type": "code",
   "execution_count": null,
   "id": "cf13e9a7-bb88-478d-953d-adb4ec40c75a",
   "metadata": {},
   "outputs": [],
   "source": [
    "def check_characters(text):\n",
    "    \n",
    "    digits, special = [[] for i in range(2)]\n",
    "    \n",
    "    for i in range(len(text)):\n",
    "        \n",
    "        if text[i].isalpha():\n",
    "            pass\n",
    "        \n",
    "        elif text[i].isdigit():\n",
    "            digits = list(set(digits + [text[i]]))\n",
    "            \n",
    "        elif not text[i].isspace():\n",
    "            special = list(set(special + [text[i]]))\n",
    "            \n",
    "    characters = {\n",
    "        \"digits\" : digits,\n",
    "        \"special\" : special\n",
    "    }\n",
    "            \n",
    "    return characters"
   ]
  },
  {
   "cell_type": "code",
   "execution_count": null,
   "id": "ae886276-0424-48f6-8e95-e39f24a6b79e",
   "metadata": {},
   "outputs": [],
   "source": [
    "special = check_characters(samir)"
   ]
  },
  {
   "cell_type": "code",
   "execution_count": null,
   "id": "6b1108e8-18eb-47ce-9d0f-7358456f9d8b",
   "metadata": {},
   "outputs": [],
   "source": [
    "special"
   ]
  },
  {
   "cell_type": "code",
   "execution_count": null,
   "id": "9bfeb3c9-5a4e-4b2d-84f9-3c91241b0c18",
   "metadata": {},
   "outputs": [],
   "source": [
    "df_data[\"product_name\"].str.count(\"Cotton\").sum()"
   ]
  },
  {
   "cell_type": "code",
   "execution_count": null,
   "id": "0ec7ca1d-4396-45cc-8e28-6740bce2eeb0",
   "metadata": {},
   "outputs": [],
   "source": [
    "df_data.loc[df_data[\"product_name\"].str.contains(\"Cotton\")].shape"
   ]
  },
  {
   "cell_type": "code",
   "execution_count": null,
   "id": "328f9656-2f75-411e-b9d1-a62ec8d28c83",
   "metadata": {},
   "outputs": [],
   "source": []
  },
  {
   "cell_type": "code",
   "execution_count": null,
   "id": "82663a23-614e-44a7-bcb1-ccacea7efbf3",
   "metadata": {},
   "outputs": [],
   "source": []
  },
  {
   "cell_type": "code",
   "execution_count": null,
   "id": "282226d3-fd52-4c14-83ff-e8a91757d335",
   "metadata": {},
   "outputs": [],
   "source": [
    "# checking for whitespace characters\n",
    "string = ''\n",
    "  \n",
    "print(string.isspace())"
   ]
  },
  {
   "cell_type": "code",
   "execution_count": null,
   "id": "76e4d2f7-3d09-4dc2-a3f3-ba3eceb4c1f7",
   "metadata": {},
   "outputs": [],
   "source": []
  },
  {
   "cell_type": "code",
   "execution_count": null,
   "id": "78128921-e710-45ac-ae80-7c628bcba506",
   "metadata": {},
   "outputs": [],
   "source": []
  },
  {
   "cell_type": "code",
   "execution_count": null,
   "id": "ddd3922d-b85f-46c1-a142-f3c1b42c58c0",
   "metadata": {},
   "outputs": [],
   "source": []
  },
  {
   "cell_type": "code",
   "execution_count": null,
   "id": "946b7947-affc-4f3c-b9bb-6bb07fbcd7fb",
   "metadata": {},
   "outputs": [],
   "source": []
  },
  {
   "cell_type": "code",
   "execution_count": null,
   "id": "5b4cf1be-d5d3-47f0-bf82-3e49f3d32263",
   "metadata": {},
   "outputs": [],
   "source": [
    "new = re.sub('[\\w]+' ,'', samir)"
   ]
  },
  {
   "cell_type": "code",
   "execution_count": null,
   "id": "9de26ee2-31d5-4ad2-9e8e-ab0cb6a7da8d",
   "metadata": {},
   "outputs": [],
   "source": [
    "len(new)"
   ]
  },
  {
   "cell_type": "code",
   "execution_count": null,
   "id": "9385afdf-faef-4b30-abb3-74d3857721dc",
   "metadata": {},
   "outputs": [],
   "source": [
    "new"
   ]
  },
  {
   "cell_type": "code",
   "execution_count": null,
   "id": "f25b3cad-850d-4d51-b4bf-75a22be49406",
   "metadata": {},
   "outputs": [],
   "source": [
    "samir = \"He doesn't go to the school the 11 of november @because, he was felt terrible until 8pm.\""
   ]
  },
  {
   "cell_type": "code",
   "execution_count": null,
   "id": "4577a324-f1de-4579-8f4f-63872918c14d",
   "metadata": {},
   "outputs": [],
   "source": [
    "new_samir = remove_punctuation(samir)\n",
    "print(new_samir)"
   ]
  },
  {
   "cell_type": "code",
   "execution_count": null,
   "id": "5b7874e0-cb4b-4df5-9e39-2a0701318436",
   "metadata": {},
   "outputs": [],
   "source": []
  },
  {
   "cell_type": "code",
   "execution_count": null,
   "id": "9692c341-3568-439a-8f20-9653e4c21482",
   "metadata": {},
   "outputs": [],
   "source": [
    "hola = \"He doesn't go to the school yesterday because, he was felt terrible.\""
   ]
  },
  {
   "cell_type": "code",
   "execution_count": null,
   "id": "f8a60c13-4b56-42c5-bd43-5929b2401bdb",
   "metadata": {},
   "outputs": [],
   "source": [
    "new_hola = tokenizer(hola)\n",
    "print(new_hola)"
   ]
  },
  {
   "cell_type": "code",
   "execution_count": null,
   "id": "53cf2907-98bf-47f9-aff2-b7588ddfb595",
   "metadata": {},
   "outputs": [],
   "source": []
  },
  {
   "cell_type": "code",
   "execution_count": null,
   "id": "60be3f5a-ce69-4cb4-9576-828b1799add6",
   "metadata": {},
   "outputs": [],
   "source": [
    "import nltk   \n",
    "tokenizer = nltk.WordPunctTokenizer()\n",
    "tokens = tokenizer.tokenize(hola)\n",
    "print(tokens)"
   ]
  },
  {
   "cell_type": "code",
   "execution_count": null,
   "id": "74a1bc9a-6239-4baa-95cc-c803b9925679",
   "metadata": {},
   "outputs": [],
   "source": []
  },
  {
   "cell_type": "code",
   "execution_count": null,
   "id": "8a2385b2-6252-484c-8a42-41a82f2fa330",
   "metadata": {},
   "outputs": [],
   "source": [
    "word = 'geeks for geeks'\n",
    "  \n",
    "# returns first occurrence of Substring\n",
    "result = hola.find('\\'')\n",
    "print (\"Substring 'for' found at index:\", result )\n",
    "  "
   ]
  },
  {
   "cell_type": "code",
   "execution_count": null,
   "id": "f52dabae-8011-43d0-a355-e0185fe7093f",
   "metadata": {},
   "outputs": [],
   "source": [
    "from nltk.tokenize import RegexpTokenizer\n",
    "tokenizer = RegexpTokenizer(\"[\\w']+\")"
   ]
  },
  {
   "cell_type": "code",
   "execution_count": null,
   "id": "8b1bf8ab-33c9-47f2-995c-36f895be06ef",
   "metadata": {},
   "outputs": [],
   "source": [
    "tokens = tokenizer.tokenize(hola)\n",
    "print(tokens)"
   ]
  },
  {
   "cell_type": "code",
   "execution_count": null,
   "id": "47d43269-c538-46d1-a0f6-e7b29869546f",
   "metadata": {},
   "outputs": [],
   "source": []
  },
  {
   "cell_type": "code",
   "execution_count": null,
   "id": "35427a7f-3c06-406d-b189-a160b8b8814b",
   "metadata": {},
   "outputs": [],
   "source": []
  },
  {
   "cell_type": "code",
   "execution_count": null,
   "id": "8256090f-b0df-4be0-9f40-10539acc40e0",
   "metadata": {},
   "outputs": [],
   "source": []
  },
  {
   "cell_type": "code",
   "execution_count": null,
   "id": "3ce9de85-f5e7-4fcf-8849-15f7caf6ad3d",
   "metadata": {},
   "outputs": [],
   "source": []
  },
  {
   "cell_type": "code",
   "execution_count": null,
   "id": "46eea0bd-58f6-410f-b695-19758cf1d402",
   "metadata": {},
   "outputs": [],
   "source": []
  },
  {
   "cell_type": "code",
   "execution_count": null,
   "id": "23c3502c-33de-4116-b735-f393e84438bf",
   "metadata": {},
   "outputs": [],
   "source": [
    "# on passe le texte en minuscules\n",
    "    text = text.lower()\n",
    "\n",
    "# on retire tout ce qui n'est pas des lettres\n",
    "text = re.sub('[^a-z]+', ' ', text)"
   ]
  },
  {
   "cell_type": "code",
   "execution_count": null,
   "id": "e2a9af75-d0d7-4b05-81d2-47765c2d1660",
   "metadata": {},
   "outputs": [],
   "source": []
  },
  {
   "cell_type": "code",
   "execution_count": null,
   "id": "c214a775-3e50-4f71-8e0a-62a23b2e05b0",
   "metadata": {},
   "outputs": [],
   "source": [
    "from sklearn.pipeline import Pipeline\n",
    "from sklearn.feature_extraction.text import CountVectorizer, TfidfTransformer\n",
    "from nltk.stem.snowball import EnglishStemmer\n",
    "\n",
    "X = df.description.to_numpy()\n",
    "\n",
    "stemmer = EnglishStemmer()\n",
    "\n",
    "\n",
    "class StemmedCountVectorizer(CountVectorizer):\n",
    "    def build_analyzer(self):\n",
    "        analyzer = super(StemmedCountVectorizer, self).build_analyzer()\n",
    "        return lambda doc: ([stemmer.stem(w) for w in analyzer(doc)])\n",
    "\n",
    "\n",
    "stemTokenizer = StemmedCountVectorizer(analyzer='word',\n",
    "                                       max_features=1000,\n",
    "                                       stop_words='english',\n",
    "                                       max_df=0.20,\n",
    "                                       min_df=3,\n",
    "                                       dtype=np.int32\n",
    "                                       )\n",
    "\n",
    "pipe = Pipeline([('stemTokenizer', stemTokenizer),\n",
    "                 ('tfidf', TfidfTransformer())\n",
    "                 ]\n",
    "\n",
    "                ).fit(X)\n",
    "\n",
    "tfidf = pipe.transform(X)"
   ]
  },
  {
   "cell_type": "code",
   "execution_count": null,
   "id": "fe8caa71-35d9-4175-81e2-5d4c370bf5fe",
   "metadata": {},
   "outputs": [],
   "source": [
    "from sklearn import manifold\n",
    "from sklearn import cluster\n",
    "from sklearn import metrics\n",
    "\n",
    "PERPLEX = np.linspace(5, 70, 5, dtype=int)\n",
    "LR = np.linspace(10, 1000, 5, dtype=int)\n",
    "\n",
    "n = 7\n",
    "cls = cluster.KMeans(n_clusters=n, random_state=13)\n",
    "labels = df_tsne2[\"Description_niv_0\"]\n",
    "\n",
    "for perplex in PERPLEX:\n",
    "    for lr in LR:\n",
    "        tsne = manifold.TSNE(n_components=2,\n",
    "                     perplexity=perplex,\n",
    "                     learning_rate=lr,\n",
    "                     n_iter=2000,\n",
    "                     init='random',\n",
    "                     random_state=12)\n",
    "        X_tsne = tsne.fit_transform(tfidf)\n",
    "        cls.fit(X_tsne)\n",
    "        ARI = metrics.adjusted_rand_score(labels, cls.labels_)\n",
    "        print(f\"LR = {lr:-<20} perplex = {perplex:-<20} ARI = {ARI:.0%}\")"
   ]
  },
  {
   "cell_type": "code",
   "execution_count": null,
   "id": "5bc375a7-1bde-4902-a264-10340c544c96",
   "metadata": {},
   "outputs": [],
   "source": []
  },
  {
   "cell_type": "code",
   "execution_count": null,
   "id": "72e42fce-16b1-4677-9051-6602d876be7a",
   "metadata": {},
   "outputs": [],
   "source": []
  },
  {
   "cell_type": "code",
   "execution_count": null,
   "id": "8c19d8ef-570d-4baa-ae6b-d8c1f39e233b",
   "metadata": {},
   "outputs": [],
   "source": []
  },
  {
   "cell_type": "markdown",
   "id": "e6032e15-aeca-49e1-be52-1c317f1dd2d0",
   "metadata": {},
   "source": [
    "enlaces \n",
    "\n",
    "- https://www.youtube.com/watch?app=desktop&v=1yEwwUasWTY\n",
    "- https://stats.stackexchange.com/questions/263539/clustering-on-the-output-of-t-sne.\n",
    "- https://www.youtube.com/watch?v=gQddtTdmG_8\n",
    "- https://towardsdatascience.com/importing-data-to-google-colab-the-clean-way-5ceef9e9e3c8\n",
    "- https://www.youtube.com/watch?v=T05t-SqKArY\n",
    "- https://stackoverflow.com/questions/64474059/how-to-use-sift-and-surf-algorithm-in-google-colab-with-opencv4\n",
    "- https://machinelearningmastery.com/how-to-use-transfer-learning-when-developing-convolutional-neural-network-models/\n",
    "- https://towardsdatascience.com/how-to-turn-text-into-features-478b57632e99\n",
    "- https://distill.pub/2016/misread-tsne/\n",
    "- http://www.gwylab.com/download/ORB_2012.pdf\n",
    "- https://openclassrooms.com/fr/courses/6532301-introduction-to-natural-language-processing/6532308-build-your-first-word-cloud\n",
    "- https://towardsdatascience.com/cleaning-preprocessing-text-data-by-building-nlp-pipeline-853148add68a\n",
    "- https://www.kaggle.com/tanguypledel/topic-modeling-lda-implementation"
   ]
  }
 ],
 "metadata": {
  "kernelspec": {
   "display_name": "Python 3",
   "language": "python",
   "name": "python3"
  },
  "language_info": {
   "codemirror_mode": {
    "name": "ipython",
    "version": 3
   },
   "file_extension": ".py",
   "mimetype": "text/x-python",
   "name": "python",
   "nbconvert_exporter": "python",
   "pygments_lexer": "ipython3",
   "version": "3.8.8"
  }
 },
 "nbformat": 4,
 "nbformat_minor": 5
}
