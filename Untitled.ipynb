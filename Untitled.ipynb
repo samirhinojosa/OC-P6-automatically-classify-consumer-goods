{
 "cells": [
  {
   "cell_type": "code",
   "execution_count": 1,
   "id": "926cf02d-b9ee-4050-8c07-6b6ee290a8ec",
   "metadata": {},
   "outputs": [],
   "source": [
    "## General\n",
    "import os\n",
    "import pandas as pd\n",
    "import numpy as np\n",
    "\n",
    "## TensorFlow\n",
    "import tensorflow as tf\n",
    "from tensorboard.plugins import projector\n",
    "\n",
    "%load_ext tensorboard"
   ]
  },
  {
   "cell_type": "code",
   "execution_count": 2,
   "id": "3a5a14fc-f573-4ed8-a4e7-e0e4696ad128",
   "metadata": {},
   "outputs": [],
   "source": [
    "# %reload_ext tensorboard"
   ]
  },
  {
   "cell_type": "code",
   "execution_count": null,
   "id": "a948b020-157e-4d66-9f83-6b31640ff006",
   "metadata": {},
   "outputs": [],
   "source": []
  },
  {
   "cell_type": "code",
   "execution_count": null,
   "id": "4a599f83-78e8-4e0b-9d6f-e1c758df00f0",
   "metadata": {},
   "outputs": [],
   "source": []
  },
  {
   "cell_type": "code",
   "execution_count": 3,
   "id": "ebaddd92-2dbd-4535-8ca2-85da9076a4a9",
   "metadata": {},
   "outputs": [],
   "source": [
    "# LOG_DIR = \"logs/\" # Path to save the embedding and checkpoints generated\n",
    "LOG_DIR = \"./samir/\""
   ]
  },
  {
   "cell_type": "code",
   "execution_count": null,
   "id": "97e87cc6-6a0c-4c2b-8837-085d99280c28",
   "metadata": {},
   "outputs": [],
   "source": []
  },
  {
   "cell_type": "code",
   "execution_count": null,
   "id": "da90f8cb-5947-4b9f-9904-b98be4e4db7c",
   "metadata": {},
   "outputs": [],
   "source": []
  },
  {
   "cell_type": "code",
   "execution_count": 4,
   "id": "a3ec4b20-0c3b-4b21-9100-4c3ca61a61ac",
   "metadata": {},
   "outputs": [],
   "source": [
    "tsne = pd.read_csv(r\"temp_datasets\\sift_weighed_price_tfidf_lemma.csv\")"
   ]
  },
  {
   "cell_type": "code",
   "execution_count": 5,
   "id": "563b0c58-c0a4-4258-97f9-21fde1d0e663",
   "metadata": {},
   "outputs": [],
   "source": [
    "features = tsne[[\"tsne1\", \"tsne2\", \"tsne3\"]].copy()\n",
    "features.to_csv(LOG_DIR + \"features.txt\", sep='\\t', index=False, header=False)\n",
    "# features.to_csv(LOG_DIR + \"features.txt\", sep='\\t', index=False)"
   ]
  },
  {
   "cell_type": "code",
   "execution_count": null,
   "id": "c4635490-d2e6-44ae-a2a9-c3ad6cb4e534",
   "metadata": {},
   "outputs": [],
   "source": []
  },
  {
   "cell_type": "code",
   "execution_count": null,
   "id": "a5e672fe-d0d5-4c39-bbb0-e77c21f6bafa",
   "metadata": {},
   "outputs": [],
   "source": []
  },
  {
   "cell_type": "code",
   "execution_count": null,
   "id": "f2062ed6-e8ed-4c7a-8667-4e3dd7636da9",
   "metadata": {},
   "outputs": [],
   "source": []
  },
  {
   "cell_type": "code",
   "execution_count": null,
   "id": "8bdb1dff-db0a-41a3-b6a3-df0b386c03c4",
   "metadata": {},
   "outputs": [],
   "source": []
  },
  {
   "cell_type": "code",
   "execution_count": 6,
   "id": "d7702b2b-455f-4d43-a580-a26e0279c52c",
   "metadata": {},
   "outputs": [],
   "source": [
    "# np.savetxt(LOG_DIR + \"features.txt\", features)"
   ]
  },
  {
   "cell_type": "code",
   "execution_count": null,
   "id": "e1d9c0dc-2619-4713-bbf2-2719c4175736",
   "metadata": {},
   "outputs": [],
   "source": []
  },
  {
   "cell_type": "code",
   "execution_count": 7,
   "id": "b0a43aa1-c5b3-45ae-9960-308f6e50f0bc",
   "metadata": {},
   "outputs": [],
   "source": [
    "md = tsne[[\"cluster\"]].copy()\n",
    "# md.to_csv(LOG_DIR + \"metadata.tsv\", sep='\\t', index=False, header=False)\n",
    "md.to_csv(LOG_DIR + \"metadata.tsv\", sep='\\t', index=False, header=False)\n",
    "metadata = os.path.join(LOG_DIR, 'metadata.tsv')"
   ]
  },
  {
   "cell_type": "code",
   "execution_count": 8,
   "id": "169f4475-bc75-44f3-bd8e-039bccdf5348",
   "metadata": {},
   "outputs": [
    {
     "data": {
      "text/plain": [
       "array([[ 56.119587 ,  58.436615 ,   3.8751395],\n",
       "       [ 39.798027 ,  66.64062  ,  22.980347 ],\n",
       "       [ 25.765162 ,  55.383446 ,  30.379305 ],\n",
       "       ...,\n",
       "       [-42.181313 ,  29.136429 ,  48.90622  ],\n",
       "       [ 50.663353 , -34.374763 , -49.803753 ],\n",
       "       [-80.76941  ,   9.1211195,  35.4123   ]])"
      ]
     },
     "execution_count": 8,
     "metadata": {},
     "output_type": "execute_result"
    }
   ],
   "source": [
    "features_vector = np.loadtxt(LOG_DIR + \"features.txt\")\n",
    "features_vector"
   ]
  },
  {
   "cell_type": "code",
   "execution_count": 9,
   "id": "12cfc39d-d66e-4e70-82a6-1aee1f6b0aee",
   "metadata": {},
   "outputs": [
    {
     "data": {
      "text/plain": [
       "<tf.Variable 'Variable:0' shape=(1050, 3) dtype=float64, numpy=\n",
       "array([[ 56.119587 ,  58.436615 ,   3.8751395],\n",
       "       [ 39.798027 ,  66.64062  ,  22.980347 ],\n",
       "       [ 25.765162 ,  55.383446 ,  30.379305 ],\n",
       "       ...,\n",
       "       [-42.181313 ,  29.136429 ,  48.90622  ],\n",
       "       [ 50.663353 , -34.374763 , -49.803753 ],\n",
       "       [-80.76941  ,   9.1211195,  35.4123   ]])>"
      ]
     },
     "execution_count": 9,
     "metadata": {},
     "output_type": "execute_result"
    }
   ],
   "source": [
    "weights = tf.Variable(features_vector)\n",
    "weights"
   ]
  },
  {
   "cell_type": "code",
   "execution_count": 10,
   "id": "04a4388e-bfc1-4960-a85d-f23fe2ebfe17",
   "metadata": {},
   "outputs": [
    {
     "data": {
      "text/plain": [
       "'./samir/embedding.ckpt-1'"
      ]
     },
     "execution_count": 10,
     "metadata": {},
     "output_type": "execute_result"
    }
   ],
   "source": [
    "checkpoint = tf.train.Checkpoint(embedding=weights)\n",
    "checkpoint.save(os.path.join(LOG_DIR, \"embedding.ckpt\"))"
   ]
  },
  {
   "cell_type": "code",
   "execution_count": 11,
   "id": "680f5ad7-2862-4413-9517-636cb9ea5ddf",
   "metadata": {},
   "outputs": [],
   "source": [
    "# Set up config.\n",
    "config = projector.ProjectorConfig()\n",
    "embedding = config.embeddings.add()"
   ]
  },
  {
   "cell_type": "code",
   "execution_count": 12,
   "id": "437aade4-184a-4803-a2ae-6bb597babe86",
   "metadata": {},
   "outputs": [],
   "source": [
    "embedding.tensor_name = \"embedding/.ATTRIBUTES/VARIABLE_VALUE\"\n",
    "# embedding.tensor_name = \"test\"\n",
    "# embedding.metadata_path = metadata\n",
    "embedding.metadata_path = 'metadata.tsv'\n",
    "\n",
    "# embedding.tensor_name = \"test\""
   ]
  },
  {
   "cell_type": "code",
   "execution_count": 13,
   "id": "7290492e-aaee-4470-8c93-7dd8df2ae737",
   "metadata": {},
   "outputs": [
    {
     "data": {
      "text/plain": [
       "'./samir/'"
      ]
     },
     "execution_count": 13,
     "metadata": {},
     "output_type": "execute_result"
    }
   ],
   "source": [
    "# embedding.metadata_path = metadata\n",
    "LOG_DIR"
   ]
  },
  {
   "cell_type": "code",
   "execution_count": 14,
   "id": "5e673519-cd17-47b6-b85f-fa295410acdd",
   "metadata": {},
   "outputs": [],
   "source": [
    "projector.visualize_embeddings(LOG_DIR, config)"
   ]
  },
  {
   "cell_type": "code",
   "execution_count": 15,
   "id": "4414af47-2b73-4310-aedb-6083cccffa67",
   "metadata": {},
   "outputs": [
    {
     "data": {
      "text/html": [
       "\n",
       "      <iframe id=\"tensorboard-frame-929b061f770e7cfd\" width=\"100%\" height=\"800\" frameborder=\"0\">\n",
       "      </iframe>\n",
       "      <script>\n",
       "        (function() {\n",
       "          const frame = document.getElementById(\"tensorboard-frame-929b061f770e7cfd\");\n",
       "          const url = new URL(\"/\", window.location);\n",
       "          const port = 6006;\n",
       "          if (port) {\n",
       "            url.port = port;\n",
       "          }\n",
       "          frame.src = url;\n",
       "        })();\n",
       "      </script>\n",
       "    "
      ],
      "text/plain": [
       "<IPython.core.display.HTML object>"
      ]
     },
     "metadata": {},
     "output_type": "display_data"
    }
   ],
   "source": [
    "# Now run tensorboard against on log data we just saved.\n",
    "%tensorboard --logdir {LOG_DIR}"
   ]
  },
  {
   "cell_type": "code",
   "execution_count": null,
   "id": "6ba5551e-a599-413b-81e8-4f886c7c7617",
   "metadata": {},
   "outputs": [],
   "source": []
  }
 ],
 "metadata": {
  "kernelspec": {
   "display_name": "Python 3 (ipykernel)",
   "language": "python",
   "name": "python3"
  },
  "language_info": {
   "codemirror_mode": {
    "name": "ipython",
    "version": 3
   },
   "file_extension": ".py",
   "mimetype": "text/x-python",
   "name": "python",
   "nbconvert_exporter": "python",
   "pygments_lexer": "ipython3",
   "version": "3.9.7"
  }
 },
 "nbformat": 4,
 "nbformat_minor": 5
}
