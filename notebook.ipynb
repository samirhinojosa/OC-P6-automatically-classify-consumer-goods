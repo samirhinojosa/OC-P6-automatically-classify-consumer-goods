{
 "cells": [
  {
   "cell_type": "markdown",
   "id": "d08bc296-b953-4e67-b675-0a799b1677dd",
   "metadata": {
    "tags": []
   },
   "source": [
    "<div style=\"display: flex; background-color: #3F579F;\">\n",
    "    <h1 style=\"margin: auto; font-weight: bold; padding: 30px 30px 0px 30px;\" align=\"center\">Automatically classify consumer goods - P6</h1>\n",
    "</div>\n",
    "<div style=\"display: flex; background-color: #3F579F; margin: auto; padding: 5px 30px 0px 30px;\" >\n",
    "    <h3 style=\"width: 100%; text-align: center; float: left; font-size: 24px;\" align=\"center\">| Notebook |</h3>\n",
    "</div>\n",
    "<div style=\"display: flex; background-color: #3F579F; margin: auto; padding: 10px 30px 30px 30px;\">\n",
    "    <h4 style=\"width: 100%; text-align: center; float: left; font-size: 24px;\" align=\"center\">Data Scientist course - OpenClassrooms</h4>\n",
    "</div>"
   ]
  },
  {
   "cell_type": "markdown",
   "id": "15875b00-1c19-4742-a494-e7b8aaa37fe9",
   "metadata": {
    "tags": []
   },
   "source": [
    "<div style=\"background-color: #506AB9;\" >\n",
    "    <h2 style=\"margin: auto; padding: 20px; color:#fff; \">1. Libraries and functions</h2>\n",
    "</div>"
   ]
  },
  {
   "cell_type": "markdown",
   "id": "13c59a62-17d6-4cd4-a4d0-a9e197eedc22",
   "metadata": {},
   "source": [
    "<div style=\"background-color: #6D83C5;\" >\n",
    "    <h3 style=\"margin: auto; padding: 20px; color:#fff; \">1.1. Libraries and functions</h3>\n",
    "</div>"
   ]
  },
  {
   "cell_type": "code",
   "execution_count": 1,
   "id": "1c987284-6588-493d-8d3f-cee6272f6351",
   "metadata": {},
   "outputs": [
    {
     "name": "stderr",
     "output_type": "stream",
     "text": [
      "[nltk_data] Downloading package wordnet to\n",
      "[nltk_data]     C:\\Users\\Samir\\AppData\\Roaming\\nltk_data...\n",
      "[nltk_data]   Package wordnet is already up-to-date!\n",
      "[nltk_data] Downloading package averaged_perceptron_tagger to\n",
      "[nltk_data]     C:\\Users\\Samir\\AppData\\Roaming\\nltk_data...\n",
      "[nltk_data]   Package averaged_perceptron_tagger is already up-to-\n",
      "[nltk_data]       date!\n"
     ]
    }
   ],
   "source": [
    "## General\n",
    "import ast\n",
    "import operator\n",
    "import os\n",
    "import pandas as pd\n",
    "import numpy as np\n",
    "import matplotlib.pyplot as plt\n",
    "import matplotlib.image as mpimg\n",
    "import seaborn as sns\n",
    "\n",
    "%matplotlib inline\n",
    "sns.set_theme(style=\"darkgrid\")\n",
    "\n",
    "## Scikit Learn \n",
    "from sklearn.feature_extraction.text import CountVectorizer\n",
    "from sklearn.feature_extraction.text import TfidfVectorizer\n",
    "\n",
    "## Computer vision library\n",
    "import cv2\n",
    "\n",
    "## Own specific functions \n",
    "from functions_eda import *\n",
    "from functions_nlp import *\n",
    "from functions_img import *\n",
    "\n",
    "## Images paths\n",
    "ORIGINAL_IMAGES_PATH = \"images/Flipkart/\"\n",
    "THUMBNAILS_IMAGES_PATH  = \"images/Flipkart/thumbnails/\"\n",
    "CB_IMAGES_PATH = \"images/Flipkart/thumbnails/contrast_and_brightness/\" # path images with contrast and brightness edit\n",
    "GRAY_IMAGES_PATH = \"images/Flipkart/thumbnails/contrast_and_brightness/gray_images/\"\n",
    "NR_IMAGES_PATH = \"images/Flipkart/thumbnails/contrast_and_brightness/gray_images/noise_reduction/\""
   ]
  },
  {
   "cell_type": "markdown",
   "id": "2114ab61-f7ce-46cb-9cf5-1607a77f6055",
   "metadata": {
    "tags": []
   },
   "source": [
    "<div style=\"background-color: #506AB9;\" >\n",
    "    <h2 style=\"margin: auto; padding: 20px; color:#fff; \">2. Importing files and Initial analysis</h2>\n",
    "</div>"
   ]
  },
  {
   "cell_type": "markdown",
   "id": "9a1f33ae-6c67-41e1-a821-dd694e3c7938",
   "metadata": {},
   "source": [
    "<div style=\"background-color: #6D83C5;\" >\n",
    "    <h3 style=\"margin: auto; padding: 20px; color:#fff; \">2.1. Importing and preparing files</h3>\n",
    "</div>"
   ]
  },
  {
   "cell_type": "markdown",
   "id": "e805a284-b2db-47e8-bde4-44440a51f284",
   "metadata": {
    "tags": []
   },
   "source": [
    "<div class=\"alert alert-block alert-info\">\n",
    "    We are going to load the dateset resulting from the RFM\n",
    "</div>"
   ]
  },
  {
   "cell_type": "code",
   "execution_count": 2,
   "id": "cba3d4ac-0632-44c2-a8e0-ac10b9712242",
   "metadata": {
    "tags": []
   },
   "outputs": [],
   "source": [
    "data = pd.read_csv(r\"datasets\\flipkart_com-ecommerce_sample_1050.csv\")"
   ]
  },
  {
   "cell_type": "code",
   "execution_count": 3,
   "id": "6cd1e69b-51d4-41cf-a31b-820a3d1a1a33",
   "metadata": {},
   "outputs": [
    {
     "data": {
      "text/html": [
       "<div>\n",
       "<style scoped>\n",
       "    .dataframe tbody tr th:only-of-type {\n",
       "        vertical-align: middle;\n",
       "    }\n",
       "\n",
       "    .dataframe tbody tr th {\n",
       "        vertical-align: top;\n",
       "    }\n",
       "\n",
       "    .dataframe thead th {\n",
       "        text-align: right;\n",
       "    }\n",
       "</style>\n",
       "<table border=\"1\" class=\"dataframe\">\n",
       "  <thead>\n",
       "    <tr style=\"text-align: right;\">\n",
       "      <th></th>\n",
       "      <th>uniq_id</th>\n",
       "      <th>crawl_timestamp</th>\n",
       "      <th>product_url</th>\n",
       "      <th>product_name</th>\n",
       "      <th>product_category_tree</th>\n",
       "      <th>pid</th>\n",
       "      <th>retail_price</th>\n",
       "      <th>discounted_price</th>\n",
       "      <th>image</th>\n",
       "      <th>is_FK_Advantage_product</th>\n",
       "      <th>description</th>\n",
       "      <th>product_rating</th>\n",
       "      <th>overall_rating</th>\n",
       "      <th>brand</th>\n",
       "      <th>product_specifications</th>\n",
       "    </tr>\n",
       "  </thead>\n",
       "  <tbody>\n",
       "    <tr>\n",
       "      <th>0</th>\n",
       "      <td>55b85ea15a1536d46b7190ad6fff8ce7</td>\n",
       "      <td>2016-04-30 03:22:56 +0000</td>\n",
       "      <td>http://www.flipkart.com/elegance-polyester-mul...</td>\n",
       "      <td>Elegance Polyester Multicolor Abstract Eyelet ...</td>\n",
       "      <td>[\"Home Furnishing &gt;&gt; Curtains &amp; Accessories &gt;&gt;...</td>\n",
       "      <td>CRNEG7BKMFFYHQ8Z</td>\n",
       "      <td>1899.0</td>\n",
       "      <td>899.0</td>\n",
       "      <td>55b85ea15a1536d46b7190ad6fff8ce7.jpg</td>\n",
       "      <td>False</td>\n",
       "      <td>Key Features of Elegance Polyester Multicolor ...</td>\n",
       "      <td>No rating available</td>\n",
       "      <td>No rating available</td>\n",
       "      <td>Elegance</td>\n",
       "      <td>{\"product_specification\"=&gt;[{\"key\"=&gt;\"Brand\", \"v...</td>\n",
       "    </tr>\n",
       "    <tr>\n",
       "      <th>1</th>\n",
       "      <td>7b72c92c2f6c40268628ec5f14c6d590</td>\n",
       "      <td>2016-04-30 03:22:56 +0000</td>\n",
       "      <td>http://www.flipkart.com/sathiyas-cotton-bath-t...</td>\n",
       "      <td>Sathiyas Cotton Bath Towel</td>\n",
       "      <td>[\"Baby Care &gt;&gt; Baby Bath &amp; Skin &gt;&gt; Baby Bath T...</td>\n",
       "      <td>BTWEGFZHGBXPHZUH</td>\n",
       "      <td>600.0</td>\n",
       "      <td>449.0</td>\n",
       "      <td>7b72c92c2f6c40268628ec5f14c6d590.jpg</td>\n",
       "      <td>False</td>\n",
       "      <td>Specifications of Sathiyas Cotton Bath Towel (...</td>\n",
       "      <td>No rating available</td>\n",
       "      <td>No rating available</td>\n",
       "      <td>Sathiyas</td>\n",
       "      <td>{\"product_specification\"=&gt;[{\"key\"=&gt;\"Machine Wa...</td>\n",
       "    </tr>\n",
       "    <tr>\n",
       "      <th>2</th>\n",
       "      <td>64d5d4a258243731dc7bbb1eef49ad74</td>\n",
       "      <td>2016-04-30 03:22:56 +0000</td>\n",
       "      <td>http://www.flipkart.com/eurospa-cotton-terry-f...</td>\n",
       "      <td>Eurospa Cotton Terry Face Towel Set</td>\n",
       "      <td>[\"Baby Care &gt;&gt; Baby Bath &amp; Skin &gt;&gt; Baby Bath T...</td>\n",
       "      <td>BTWEG6SHXTDB2A2Y</td>\n",
       "      <td>NaN</td>\n",
       "      <td>NaN</td>\n",
       "      <td>64d5d4a258243731dc7bbb1eef49ad74.jpg</td>\n",
       "      <td>False</td>\n",
       "      <td>Key Features of Eurospa Cotton Terry Face Towe...</td>\n",
       "      <td>No rating available</td>\n",
       "      <td>No rating available</td>\n",
       "      <td>Eurospa</td>\n",
       "      <td>{\"product_specification\"=&gt;[{\"key\"=&gt;\"Material\",...</td>\n",
       "    </tr>\n",
       "    <tr>\n",
       "      <th>3</th>\n",
       "      <td>d4684dcdc759dd9cdf41504698d737d8</td>\n",
       "      <td>2016-06-20 08:49:52 +0000</td>\n",
       "      <td>http://www.flipkart.com/santosh-royal-fashion-...</td>\n",
       "      <td>SANTOSH ROYAL FASHION Cotton Printed King size...</td>\n",
       "      <td>[\"Home Furnishing &gt;&gt; Bed Linen &gt;&gt; Bedsheets &gt;&gt;...</td>\n",
       "      <td>BDSEJT9UQWHDUBH4</td>\n",
       "      <td>2699.0</td>\n",
       "      <td>1299.0</td>\n",
       "      <td>d4684dcdc759dd9cdf41504698d737d8.jpg</td>\n",
       "      <td>False</td>\n",
       "      <td>Key Features of SANTOSH ROYAL FASHION Cotton P...</td>\n",
       "      <td>No rating available</td>\n",
       "      <td>No rating available</td>\n",
       "      <td>SANTOSH ROYAL FASHION</td>\n",
       "      <td>{\"product_specification\"=&gt;[{\"key\"=&gt;\"Brand\", \"v...</td>\n",
       "    </tr>\n",
       "    <tr>\n",
       "      <th>4</th>\n",
       "      <td>6325b6870c54cd47be6ebfbffa620ec7</td>\n",
       "      <td>2016-06-20 08:49:52 +0000</td>\n",
       "      <td>http://www.flipkart.com/jaipur-print-cotton-fl...</td>\n",
       "      <td>Jaipur Print Cotton Floral King sized Double B...</td>\n",
       "      <td>[\"Home Furnishing &gt;&gt; Bed Linen &gt;&gt; Bedsheets &gt;&gt;...</td>\n",
       "      <td>BDSEJTHNGWVGWWQU</td>\n",
       "      <td>2599.0</td>\n",
       "      <td>698.0</td>\n",
       "      <td>6325b6870c54cd47be6ebfbffa620ec7.jpg</td>\n",
       "      <td>False</td>\n",
       "      <td>Key Features of Jaipur Print Cotton Floral Kin...</td>\n",
       "      <td>No rating available</td>\n",
       "      <td>No rating available</td>\n",
       "      <td>Jaipur Print</td>\n",
       "      <td>{\"product_specification\"=&gt;[{\"key\"=&gt;\"Machine Wa...</td>\n",
       "    </tr>\n",
       "  </tbody>\n",
       "</table>\n",
       "</div>"
      ],
      "text/plain": [
       "                            uniq_id            crawl_timestamp  \\\n",
       "0  55b85ea15a1536d46b7190ad6fff8ce7  2016-04-30 03:22:56 +0000   \n",
       "1  7b72c92c2f6c40268628ec5f14c6d590  2016-04-30 03:22:56 +0000   \n",
       "2  64d5d4a258243731dc7bbb1eef49ad74  2016-04-30 03:22:56 +0000   \n",
       "3  d4684dcdc759dd9cdf41504698d737d8  2016-06-20 08:49:52 +0000   \n",
       "4  6325b6870c54cd47be6ebfbffa620ec7  2016-06-20 08:49:52 +0000   \n",
       "\n",
       "                                         product_url  \\\n",
       "0  http://www.flipkart.com/elegance-polyester-mul...   \n",
       "1  http://www.flipkart.com/sathiyas-cotton-bath-t...   \n",
       "2  http://www.flipkart.com/eurospa-cotton-terry-f...   \n",
       "3  http://www.flipkart.com/santosh-royal-fashion-...   \n",
       "4  http://www.flipkart.com/jaipur-print-cotton-fl...   \n",
       "\n",
       "                                        product_name  \\\n",
       "0  Elegance Polyester Multicolor Abstract Eyelet ...   \n",
       "1                         Sathiyas Cotton Bath Towel   \n",
       "2                Eurospa Cotton Terry Face Towel Set   \n",
       "3  SANTOSH ROYAL FASHION Cotton Printed King size...   \n",
       "4  Jaipur Print Cotton Floral King sized Double B...   \n",
       "\n",
       "                               product_category_tree               pid  \\\n",
       "0  [\"Home Furnishing >> Curtains & Accessories >>...  CRNEG7BKMFFYHQ8Z   \n",
       "1  [\"Baby Care >> Baby Bath & Skin >> Baby Bath T...  BTWEGFZHGBXPHZUH   \n",
       "2  [\"Baby Care >> Baby Bath & Skin >> Baby Bath T...  BTWEG6SHXTDB2A2Y   \n",
       "3  [\"Home Furnishing >> Bed Linen >> Bedsheets >>...  BDSEJT9UQWHDUBH4   \n",
       "4  [\"Home Furnishing >> Bed Linen >> Bedsheets >>...  BDSEJTHNGWVGWWQU   \n",
       "\n",
       "   retail_price  discounted_price                                 image  \\\n",
       "0        1899.0             899.0  55b85ea15a1536d46b7190ad6fff8ce7.jpg   \n",
       "1         600.0             449.0  7b72c92c2f6c40268628ec5f14c6d590.jpg   \n",
       "2           NaN               NaN  64d5d4a258243731dc7bbb1eef49ad74.jpg   \n",
       "3        2699.0            1299.0  d4684dcdc759dd9cdf41504698d737d8.jpg   \n",
       "4        2599.0             698.0  6325b6870c54cd47be6ebfbffa620ec7.jpg   \n",
       "\n",
       "   is_FK_Advantage_product                                        description  \\\n",
       "0                    False  Key Features of Elegance Polyester Multicolor ...   \n",
       "1                    False  Specifications of Sathiyas Cotton Bath Towel (...   \n",
       "2                    False  Key Features of Eurospa Cotton Terry Face Towe...   \n",
       "3                    False  Key Features of SANTOSH ROYAL FASHION Cotton P...   \n",
       "4                    False  Key Features of Jaipur Print Cotton Floral Kin...   \n",
       "\n",
       "        product_rating       overall_rating                  brand  \\\n",
       "0  No rating available  No rating available               Elegance   \n",
       "1  No rating available  No rating available               Sathiyas   \n",
       "2  No rating available  No rating available                Eurospa   \n",
       "3  No rating available  No rating available  SANTOSH ROYAL FASHION   \n",
       "4  No rating available  No rating available           Jaipur Print   \n",
       "\n",
       "                              product_specifications  \n",
       "0  {\"product_specification\"=>[{\"key\"=>\"Brand\", \"v...  \n",
       "1  {\"product_specification\"=>[{\"key\"=>\"Machine Wa...  \n",
       "2  {\"product_specification\"=>[{\"key\"=>\"Material\",...  \n",
       "3  {\"product_specification\"=>[{\"key\"=>\"Brand\", \"v...  \n",
       "4  {\"product_specification\"=>[{\"key\"=>\"Machine Wa...  "
      ]
     },
     "execution_count": 3,
     "metadata": {},
     "output_type": "execute_result"
    }
   ],
   "source": [
    "data.head()"
   ]
  },
  {
   "cell_type": "markdown",
   "id": "b252417d-2bfe-472a-be5f-f95a04d90345",
   "metadata": {},
   "source": [
    "<div style=\"background-color: #6D83C5;\" >\n",
    "    <h3 style=\"margin: auto; padding: 20px; color:#fff; \">2.2. Initial analysis</h3>\n",
    "</div>"
   ]
  },
  {
   "cell_type": "code",
   "execution_count": 4,
   "id": "ac074185-00a0-4f7c-a777-6f488681e67e",
   "metadata": {},
   "outputs": [
    {
     "name": "stdout",
     "output_type": "stream",
     "text": [
      "\n",
      "Analysis Header of data dataset\n",
      "--------------------------------------------------------------------------------\n",
      "- Dataset shape:\t\t\t 1050 rows and 15 columns\n",
      "- Total of NaN values:\t\t\t 341\n",
      "- Percentage of NaN:\t\t\t 2.17 %\n",
      "- Total of full duplicates rows:\t 0\n",
      "- Total of empty rows:\t\t\t 0\n",
      "- Total of empty columns:\t\t 0\n",
      "- Unique indexes:\t\t\t True\n",
      "- Memory usage:\t\t\t\t 116.0+ KB\n",
      "\n",
      "- The key(s):\t ['uniq_id'] is not present multiple times in the dataframe. \n",
      "\t\t It CAN be used as a primary key.\n",
      "\n",
      "Detailed analysis of data dataset\n",
      "------------------------------------------------------------------------------------------------------------------------------------\n"
     ]
    },
    {
     "data": {
      "text/html": [
       "<div>\n",
       "<style scoped>\n",
       "    .dataframe tbody tr th:only-of-type {\n",
       "        vertical-align: middle;\n",
       "    }\n",
       "\n",
       "    .dataframe tbody tr th {\n",
       "        vertical-align: top;\n",
       "    }\n",
       "\n",
       "    .dataframe thead th {\n",
       "        text-align: right;\n",
       "    }\n",
       "</style>\n",
       "<table border=\"1\" class=\"dataframe\">\n",
       "  <thead>\n",
       "    <tr style=\"text-align: right;\">\n",
       "      <th></th>\n",
       "      <th>name</th>\n",
       "      <th>type</th>\n",
       "      <th>records</th>\n",
       "      <th>unique</th>\n",
       "      <th># NaN</th>\n",
       "      <th>% NaN</th>\n",
       "      <th>mean</th>\n",
       "      <th>min</th>\n",
       "      <th>25%</th>\n",
       "      <th>50%</th>\n",
       "      <th>75%</th>\n",
       "      <th>max</th>\n",
       "      <th>std</th>\n",
       "    </tr>\n",
       "  </thead>\n",
       "  <tbody>\n",
       "    <tr>\n",
       "      <th>0</th>\n",
       "      <td>uniq_id</td>\n",
       "      <td>object</td>\n",
       "      <td>1050</td>\n",
       "      <td>1050</td>\n",
       "      <td>0</td>\n",
       "      <td>0.00000</td>\n",
       "      <td>NaN</td>\n",
       "      <td>NaN</td>\n",
       "      <td>NaN</td>\n",
       "      <td>NaN</td>\n",
       "      <td>NaN</td>\n",
       "      <td>NaN</td>\n",
       "      <td>NaN</td>\n",
       "    </tr>\n",
       "    <tr>\n",
       "      <th>1</th>\n",
       "      <td>crawl_timestamp</td>\n",
       "      <td>object</td>\n",
       "      <td>1050</td>\n",
       "      <td>149</td>\n",
       "      <td>0</td>\n",
       "      <td>0.00000</td>\n",
       "      <td>NaN</td>\n",
       "      <td>NaN</td>\n",
       "      <td>NaN</td>\n",
       "      <td>NaN</td>\n",
       "      <td>NaN</td>\n",
       "      <td>NaN</td>\n",
       "      <td>NaN</td>\n",
       "    </tr>\n",
       "    <tr>\n",
       "      <th>2</th>\n",
       "      <td>product_url</td>\n",
       "      <td>object</td>\n",
       "      <td>1050</td>\n",
       "      <td>1050</td>\n",
       "      <td>0</td>\n",
       "      <td>0.00000</td>\n",
       "      <td>NaN</td>\n",
       "      <td>NaN</td>\n",
       "      <td>NaN</td>\n",
       "      <td>NaN</td>\n",
       "      <td>NaN</td>\n",
       "      <td>NaN</td>\n",
       "      <td>NaN</td>\n",
       "    </tr>\n",
       "    <tr>\n",
       "      <th>3</th>\n",
       "      <td>product_name</td>\n",
       "      <td>object</td>\n",
       "      <td>1050</td>\n",
       "      <td>1050</td>\n",
       "      <td>0</td>\n",
       "      <td>0.00000</td>\n",
       "      <td>NaN</td>\n",
       "      <td>NaN</td>\n",
       "      <td>NaN</td>\n",
       "      <td>NaN</td>\n",
       "      <td>NaN</td>\n",
       "      <td>NaN</td>\n",
       "      <td>NaN</td>\n",
       "    </tr>\n",
       "    <tr>\n",
       "      <th>4</th>\n",
       "      <td>product_category_tree</td>\n",
       "      <td>object</td>\n",
       "      <td>1050</td>\n",
       "      <td>642</td>\n",
       "      <td>0</td>\n",
       "      <td>0.00000</td>\n",
       "      <td>NaN</td>\n",
       "      <td>NaN</td>\n",
       "      <td>NaN</td>\n",
       "      <td>NaN</td>\n",
       "      <td>NaN</td>\n",
       "      <td>NaN</td>\n",
       "      <td>NaN</td>\n",
       "    </tr>\n",
       "    <tr>\n",
       "      <th>5</th>\n",
       "      <td>pid</td>\n",
       "      <td>object</td>\n",
       "      <td>1050</td>\n",
       "      <td>1050</td>\n",
       "      <td>0</td>\n",
       "      <td>0.00000</td>\n",
       "      <td>NaN</td>\n",
       "      <td>NaN</td>\n",
       "      <td>NaN</td>\n",
       "      <td>NaN</td>\n",
       "      <td>NaN</td>\n",
       "      <td>NaN</td>\n",
       "      <td>NaN</td>\n",
       "    </tr>\n",
       "    <tr>\n",
       "      <th>8</th>\n",
       "      <td>image</td>\n",
       "      <td>object</td>\n",
       "      <td>1050</td>\n",
       "      <td>1050</td>\n",
       "      <td>0</td>\n",
       "      <td>0.00000</td>\n",
       "      <td>NaN</td>\n",
       "      <td>NaN</td>\n",
       "      <td>NaN</td>\n",
       "      <td>NaN</td>\n",
       "      <td>NaN</td>\n",
       "      <td>NaN</td>\n",
       "      <td>NaN</td>\n",
       "    </tr>\n",
       "    <tr>\n",
       "      <th>9</th>\n",
       "      <td>is_FK_Advantage_product</td>\n",
       "      <td>bool</td>\n",
       "      <td>1050</td>\n",
       "      <td>2</td>\n",
       "      <td>0</td>\n",
       "      <td>0.00000</td>\n",
       "      <td>NaN</td>\n",
       "      <td>NaN</td>\n",
       "      <td>NaN</td>\n",
       "      <td>NaN</td>\n",
       "      <td>NaN</td>\n",
       "      <td>NaN</td>\n",
       "      <td>NaN</td>\n",
       "    </tr>\n",
       "    <tr>\n",
       "      <th>10</th>\n",
       "      <td>description</td>\n",
       "      <td>object</td>\n",
       "      <td>1050</td>\n",
       "      <td>1050</td>\n",
       "      <td>0</td>\n",
       "      <td>0.00000</td>\n",
       "      <td>NaN</td>\n",
       "      <td>NaN</td>\n",
       "      <td>NaN</td>\n",
       "      <td>NaN</td>\n",
       "      <td>NaN</td>\n",
       "      <td>NaN</td>\n",
       "      <td>NaN</td>\n",
       "    </tr>\n",
       "    <tr>\n",
       "      <th>11</th>\n",
       "      <td>product_rating</td>\n",
       "      <td>object</td>\n",
       "      <td>1050</td>\n",
       "      <td>27</td>\n",
       "      <td>0</td>\n",
       "      <td>0.00000</td>\n",
       "      <td>NaN</td>\n",
       "      <td>NaN</td>\n",
       "      <td>NaN</td>\n",
       "      <td>NaN</td>\n",
       "      <td>NaN</td>\n",
       "      <td>NaN</td>\n",
       "      <td>NaN</td>\n",
       "    </tr>\n",
       "    <tr>\n",
       "      <th>12</th>\n",
       "      <td>overall_rating</td>\n",
       "      <td>object</td>\n",
       "      <td>1050</td>\n",
       "      <td>27</td>\n",
       "      <td>0</td>\n",
       "      <td>0.00000</td>\n",
       "      <td>NaN</td>\n",
       "      <td>NaN</td>\n",
       "      <td>NaN</td>\n",
       "      <td>NaN</td>\n",
       "      <td>NaN</td>\n",
       "      <td>NaN</td>\n",
       "      <td>NaN</td>\n",
       "    </tr>\n",
       "    <tr>\n",
       "      <th>6</th>\n",
       "      <td>retail_price</td>\n",
       "      <td>float64</td>\n",
       "      <td>1049</td>\n",
       "      <td>354</td>\n",
       "      <td>1</td>\n",
       "      <td>0.10000</td>\n",
       "      <td>2186.19733</td>\n",
       "      <td>35.00000</td>\n",
       "      <td>555.00000</td>\n",
       "      <td>999.00000</td>\n",
       "      <td>1999.00000</td>\n",
       "      <td>201000.00000</td>\n",
       "      <td>7639.22941</td>\n",
       "    </tr>\n",
       "    <tr>\n",
       "      <th>7</th>\n",
       "      <td>discounted_price</td>\n",
       "      <td>float64</td>\n",
       "      <td>1049</td>\n",
       "      <td>424</td>\n",
       "      <td>1</td>\n",
       "      <td>0.10000</td>\n",
       "      <td>1584.52717</td>\n",
       "      <td>35.00000</td>\n",
       "      <td>340.00000</td>\n",
       "      <td>600.00000</td>\n",
       "      <td>1199.00000</td>\n",
       "      <td>201000.00000</td>\n",
       "      <td>7475.09968</td>\n",
       "    </tr>\n",
       "    <tr>\n",
       "      <th>14</th>\n",
       "      <td>product_specifications</td>\n",
       "      <td>object</td>\n",
       "      <td>1049</td>\n",
       "      <td>984</td>\n",
       "      <td>1</td>\n",
       "      <td>0.10000</td>\n",
       "      <td>NaN</td>\n",
       "      <td>NaN</td>\n",
       "      <td>NaN</td>\n",
       "      <td>NaN</td>\n",
       "      <td>NaN</td>\n",
       "      <td>NaN</td>\n",
       "      <td>NaN</td>\n",
       "    </tr>\n",
       "    <tr>\n",
       "      <th>13</th>\n",
       "      <td>brand</td>\n",
       "      <td>object</td>\n",
       "      <td>712</td>\n",
       "      <td>490</td>\n",
       "      <td>338</td>\n",
       "      <td>32.19000</td>\n",
       "      <td>NaN</td>\n",
       "      <td>NaN</td>\n",
       "      <td>NaN</td>\n",
       "      <td>NaN</td>\n",
       "      <td>NaN</td>\n",
       "      <td>NaN</td>\n",
       "      <td>NaN</td>\n",
       "    </tr>\n",
       "  </tbody>\n",
       "</table>\n",
       "</div>"
      ],
      "text/plain": [
       "                       name     type  records  unique  # NaN    % NaN  \\\n",
       "0                   uniq_id   object     1050    1050      0  0.00000   \n",
       "1           crawl_timestamp   object     1050     149      0  0.00000   \n",
       "2               product_url   object     1050    1050      0  0.00000   \n",
       "3              product_name   object     1050    1050      0  0.00000   \n",
       "4     product_category_tree   object     1050     642      0  0.00000   \n",
       "5                       pid   object     1050    1050      0  0.00000   \n",
       "8                     image   object     1050    1050      0  0.00000   \n",
       "9   is_FK_Advantage_product     bool     1050       2      0  0.00000   \n",
       "10              description   object     1050    1050      0  0.00000   \n",
       "11           product_rating   object     1050      27      0  0.00000   \n",
       "12           overall_rating   object     1050      27      0  0.00000   \n",
       "6              retail_price  float64     1049     354      1  0.10000   \n",
       "7          discounted_price  float64     1049     424      1  0.10000   \n",
       "14   product_specifications   object     1049     984      1  0.10000   \n",
       "13                    brand   object      712     490    338 32.19000   \n",
       "\n",
       "         mean      min       25%       50%        75%          max        std  \n",
       "0         NaN      NaN       NaN       NaN        NaN          NaN        NaN  \n",
       "1         NaN      NaN       NaN       NaN        NaN          NaN        NaN  \n",
       "2         NaN      NaN       NaN       NaN        NaN          NaN        NaN  \n",
       "3         NaN      NaN       NaN       NaN        NaN          NaN        NaN  \n",
       "4         NaN      NaN       NaN       NaN        NaN          NaN        NaN  \n",
       "5         NaN      NaN       NaN       NaN        NaN          NaN        NaN  \n",
       "8         NaN      NaN       NaN       NaN        NaN          NaN        NaN  \n",
       "9         NaN      NaN       NaN       NaN        NaN          NaN        NaN  \n",
       "10        NaN      NaN       NaN       NaN        NaN          NaN        NaN  \n",
       "11        NaN      NaN       NaN       NaN        NaN          NaN        NaN  \n",
       "12        NaN      NaN       NaN       NaN        NaN          NaN        NaN  \n",
       "6  2186.19733 35.00000 555.00000 999.00000 1999.00000 201000.00000 7639.22941  \n",
       "7  1584.52717 35.00000 340.00000 600.00000 1199.00000 201000.00000 7475.09968  \n",
       "14        NaN      NaN       NaN       NaN        NaN          NaN        NaN  \n",
       "13        NaN      NaN       NaN       NaN        NaN          NaN        NaN  "
      ]
     },
     "metadata": {},
     "output_type": "display_data"
    }
   ],
   "source": [
    "df_analysis(data, \"data\", columns=[\"uniq_id\"], analysis_type=\"complete\")"
   ]
  },
  {
   "cell_type": "markdown",
   "id": "f14868c1-f115-41d8-8b46-c991652d32db",
   "metadata": {
    "tags": []
   },
   "source": [
    "<div class=\"alert alert-block alert-info\">\n",
    "    <p>Plotting the percentage of missing values by features</p>\n",
    "</div>"
   ]
  },
  {
   "cell_type": "code",
   "execution_count": 5,
   "id": "f5fd035d-c9b8-4942-99a3-88829f4d9be1",
   "metadata": {},
   "outputs": [
    {
     "data": {
      "image/png": "[encoded data removed]",
      "text/plain": [
       "<Figure size 720x504 with 1 Axes>"
      ]
     },
     "metadata": {},
     "output_type": "display_data"
    }
   ],
   "source": [
    "missing_values = data.isnull().sum(axis=0).sort_values(ascending=False)/len(data.index)*100\n",
    "\n",
    "fig = plt.figure(figsize=(10, 7))\n",
    "plot = sns.barplot(x=missing_values.index.tolist(), y=missing_values.values.tolist())\n",
    "for p in plot.patches:\n",
    "    plot.annotate(format(p.get_height(), \".1f\"), (p.get_x() + p.get_width() / 2., p.get_height()), \n",
    "                    ha=\"center\", va=\"center\", xytext=(0, 9), textcoords=\"offset points\")\n",
    "plot.set_xticklabels(labels=missing_values.index.tolist(), rotation=70, size=12, horizontalalignment=\"right\")\n",
    "plt.ylabel(\"%\", size=12)\n",
    "plt.xlabel(\"Features\", size=12)\n",
    "plt.title(\"Missing values percentage by feature\", size=16)\n",
    "plt.tight_layout()\n",
    "plt.savefig(\"images/text_analysis/missing-values-percentage-by-feature.png\")\n",
    "plt.show()"
   ]
  },
  {
   "cell_type": "markdown",
   "id": "bd8011db-a556-491b-80bf-728b6e5dc8c8",
   "metadata": {},
   "source": [
    "<div class=\"alert alert-block alert-success\">\n",
    "    <p><b>Observations / Conclusions</b></p>\n",
    "    <ul>\n",
    "        <li>There are some features that are not important to our text analysis. For example, pid, uniq_id, etc.</li>\n",
    "        <li>The missing value percentage is higher only in one feature.</li>\n",
    "    </ul>\n",
    "</div>"
   ]
  },
  {
   "cell_type": "markdown",
   "id": "7a73cb03-1dad-4887-8059-73ee96b360a4",
   "metadata": {
    "tags": []
   },
   "source": [
    "<div style=\"background-color: #506AB9;\" >\n",
    "    <h2 style=\"margin: auto; padding: 20px; color:#fff; \">3. Selecting the features to work</h2>\n",
    "</div>"
   ]
  },
  {
   "cell_type": "markdown",
   "id": "e719ccbc-5e72-4d7b-ac7f-938b1868811b",
   "metadata": {},
   "source": [
    "<div style=\"background-color: #6D83C5;\" >\n",
    "    <h3 style=\"margin: auto; padding: 20px; color:#fff; \">3.1. Analyzing the features</h3>\n",
    "</div>"
   ]
  },
  {
   "cell_type": "code",
   "execution_count": 6,
   "id": "02842532-d5a5-4e50-92b8-45548c0995c3",
   "metadata": {},
   "outputs": [],
   "source": [
    "pd.set_option(\"display.max_rows\", None) # show full of showing rows\n",
    "pd.set_option(\"display.max_columns\", None) # show full of showing cols\n",
    "pd.set_option(\"display.max_colwidth\", None) # show full width of showing cols\n",
    "pd.set_option(\"display.float_format\", lambda x: \"%.5f\" % x) # show full content in cell    "
   ]
  },
  {
   "cell_type": "code",
   "execution_count": 7,
   "id": "2b73c759-e824-4df3-b945-e88fc9e2eaba",
   "metadata": {},
   "outputs": [
    {
     "data": {
      "text/html": [
       "<div>\n",
       "<style scoped>\n",
       "    .dataframe tbody tr th:only-of-type {\n",
       "        vertical-align: middle;\n",
       "    }\n",
       "\n",
       "    .dataframe tbody tr th {\n",
       "        vertical-align: top;\n",
       "    }\n",
       "\n",
       "    .dataframe thead th {\n",
       "        text-align: right;\n",
       "    }\n",
       "</style>\n",
       "<table border=\"1\" class=\"dataframe\">\n",
       "  <thead>\n",
       "    <tr style=\"text-align: right;\">\n",
       "      <th></th>\n",
       "      <th>uniq_id</th>\n",
       "      <th>crawl_timestamp</th>\n",
       "      <th>product_url</th>\n",
       "      <th>product_name</th>\n",
       "      <th>product_category_tree</th>\n",
       "      <th>pid</th>\n",
       "      <th>retail_price</th>\n",
       "      <th>discounted_price</th>\n",
       "      <th>image</th>\n",
       "      <th>is_FK_Advantage_product</th>\n",
       "      <th>description</th>\n",
       "      <th>product_rating</th>\n",
       "      <th>overall_rating</th>\n",
       "      <th>brand</th>\n",
       "      <th>product_specifications</th>\n",
       "    </tr>\n",
       "  </thead>\n",
       "  <tbody>\n",
       "    <tr>\n",
       "      <th>1049</th>\n",
       "      <td>f2f027ad6a6df617c9f125173da71e44</td>\n",
       "      <td>2015-12-01 10:15:43 +0000</td>\n",
       "      <td>http://www.flipkart.com/uberlyfe-large-vinyl-sticker/p/itme2zepqqzr9jt5?pid=STIE2ZEPACRQJKH7</td>\n",
       "      <td>Uberlyfe Large Vinyl Sticker</td>\n",
       "      <td>[\"Baby Care &gt;&gt; Baby &amp; Kids Gifts &gt;&gt; Stickers &gt;&gt; Uberlyfe Stickers\"]</td>\n",
       "      <td>STIE2ZEPACRQJKH7</td>\n",
       "      <td>1190.00000</td>\n",
       "      <td>595.00000</td>\n",
       "      <td>f2f027ad6a6df617c9f125173da71e44.jpg</td>\n",
       "      <td>False</td>\n",
       "      <td>Buy Uberlyfe Large Vinyl Sticker for Rs.595 online. Uberlyfe Large Vinyl Sticker at best prices with FREE shipping &amp; cash on delivery. Only Genuine Products. 30 Day Replacement Guarantee.</td>\n",
       "      <td>4</td>\n",
       "      <td>4</td>\n",
       "      <td>Uberlyfe</td>\n",
       "      <td>{\"product_specification\"=&gt;[{\"key\"=&gt;\"Sales Package\", \"value\"=&gt;\"Sticker\"}, {\"key\"=&gt;\"Brand\", \"value\"=&gt;\"Uberlyfe\"}, {\"key\"=&gt;\"Type\", \"value\"=&gt;\"Vinyl\"}, {\"key\"=&gt;\"Number of Stickers\", \"value\"=&gt;\"1\"}, {\"key\"=&gt;\"Size\", \"value\"=&gt;\"Large\"}]}</td>\n",
       "    </tr>\n",
       "  </tbody>\n",
       "</table>\n",
       "</div>"
      ],
      "text/plain": [
       "                               uniq_id            crawl_timestamp  \\\n",
       "1049  f2f027ad6a6df617c9f125173da71e44  2015-12-01 10:15:43 +0000   \n",
       "\n",
       "                                                                                       product_url  \\\n",
       "1049  http://www.flipkart.com/uberlyfe-large-vinyl-sticker/p/itme2zepqqzr9jt5?pid=STIE2ZEPACRQJKH7   \n",
       "\n",
       "                      product_name  \\\n",
       "1049  Uberlyfe Large Vinyl Sticker   \n",
       "\n",
       "                                                    product_category_tree  \\\n",
       "1049  [\"Baby Care >> Baby & Kids Gifts >> Stickers >> Uberlyfe Stickers\"]   \n",
       "\n",
       "                   pid  retail_price  discounted_price  \\\n",
       "1049  STIE2ZEPACRQJKH7    1190.00000         595.00000   \n",
       "\n",
       "                                     image  is_FK_Advantage_product  \\\n",
       "1049  f2f027ad6a6df617c9f125173da71e44.jpg                    False   \n",
       "\n",
       "                                                                                                                                                                                      description  \\\n",
       "1049  Buy Uberlyfe Large Vinyl Sticker for Rs.595 online. Uberlyfe Large Vinyl Sticker at best prices with FREE shipping & cash on delivery. Only Genuine Products. 30 Day Replacement Guarantee.   \n",
       "\n",
       "     product_rating overall_rating     brand  \\\n",
       "1049              4              4  Uberlyfe   \n",
       "\n",
       "                                                                                                                                                                                                                   product_specifications  \n",
       "1049  {\"product_specification\"=>[{\"key\"=>\"Sales Package\", \"value\"=>\"Sticker\"}, {\"key\"=>\"Brand\", \"value\"=>\"Uberlyfe\"}, {\"key\"=>\"Type\", \"value\"=>\"Vinyl\"}, {\"key\"=>\"Number of Stickers\", \"value\"=>\"1\"}, {\"key\"=>\"Size\", \"value\"=>\"Large\"}]}  "
      ]
     },
     "execution_count": 7,
     "metadata": {},
     "output_type": "execute_result"
    }
   ],
   "source": [
    "data.tail(1)"
   ]
  },
  {
   "cell_type": "code",
   "execution_count": 8,
   "id": "709668bf-78d0-4353-a819-e61a6a6bccaf",
   "metadata": {},
   "outputs": [],
   "source": [
    "pd.reset_option(\"display.max_rows\") # reset max of showing rows\n",
    "pd.reset_option(\"display.max_columns\") # reset max of showing cols\n",
    "pd.reset_option(\"display.max_colwidth\") # reset width of showing cols\n",
    "pd.reset_option(\"display.float_format\") # reset show full content in cell"
   ]
  },
  {
   "cell_type": "markdown",
   "id": "a9ac4a29-b582-41f8-a72d-b9eebdaafbc3",
   "metadata": {
    "tags": []
   },
   "source": [
    "<div class=\"alert alert-block alert-info\">\n",
    "    <p>Let's analyze in detail the feature <b>brand</b></p>\n",
    "</div>"
   ]
  },
  {
   "cell_type": "code",
   "execution_count": 9,
   "id": "447840b3-9fbc-497d-985d-929afa9ef82f",
   "metadata": {},
   "outputs": [
    {
     "data": {
      "text/plain": [
       "array(['Elegance', 'Sathiyas', 'Eurospa', 'SANTOSH ROYAL FASHION',\n",
       "       'Jaipur Print', nan, 'House This', 'Riva Carpets', 'Myesquire',\n",
       "       'Dungri India Craft', 'BFT', 'JMD', 'Mom and Kid', \"Kripa's\",\n",
       "       'Burt s Bees', 'AKUP', 'D-Link', 'Suave', 'RoQ', 'Cookart', 'JRB',\n",
       "       'RYTHMX', 'Brillare Science', 'Mars', 'Aroma Care', 'KOHL',\n",
       "       'Shopmania', 'CHHOTE JANAB', 'Prime', 'SKI', 'GAYATRI CREATIONS',\n",
       "       'Caffeine', 'Garnet', 'Vitamins', 'KE', 'Giorgio Armani',\n",
       "       'florence9', 'VarEesha', 'Treasure', 'CHINMAY KIDS', 'HEAVENLY',\n",
       "       '@home', 'Smart Wall Guru', 'oxford', 'Eureka.in', 'Craft Trade',\n",
       "       'Parv Collections', 'Exotic India', 'Aapno Rajasthan',\n",
       "       'BeYOUtiful', 'My Angel', 'Diviniti', 'K&P', 'Rama',\n",
       "       'Shop Rajasthan', 'Bestway', 'Artisan Creation', 'Remtex Export',\n",
       "       'TWISHA', 'Eternity', 'FS Mini Klub', 'Omic', 'Filink', 'Recrafto',\n",
       "       'FRENEMY', 'Quilt India', 'Toffyhouse', 'Shopizone', 'Craftcart',\n",
       "       'SOS', 'Arsalan', 'Famous', 'Rastogi Handicrafts', 'NEHP',\n",
       "       'S C Handicrafts', 'Tatvaarts', 'Sam', 'Surface180', 'Step4deal',\n",
       "       'MA Design Hut', 'Lal Haveli', 'Purpledip', 'Tirupati',\n",
       "       'Shoppingtara', 'Orange Tree', 'Unique Design', 'Port',\n",
       "       'King International', 'Go Hooked', 'RoyalsCart', 'Apex',\n",
       "       'MCB Exports', 'Agromech', 'Tiedribbons', 'Rajo Raja',\n",
       "       'Surface 180', 'Sovam International', 'The Ethnic Story', 'JSM',\n",
       "       'Celebrity', 'Metallino', 'Ruchiworld', 'Kosher', 'Recon',\n",
       "       'Indian Art Villa', 'Suruchi', 'Bergner', 'Kalash', 'Peacock',\n",
       "       'Leo Natura', 'Malhar', 'Sumeet', 'TRUE', 'The Crafts House',\n",
       "       'Jaipan', 'Unravel India', 'Ruchikainternational', 'Nirlon',\n",
       "       'Monil', 'Pristine', 'Woodino Handicrafts', 'Unique Handicrafts',\n",
       "       'Pigeon', 'Sahara Q Shop', 'Mom Italy', 'Mavi', 'Ndura',\n",
       "       'Supreme Cookwares', 'Babeezworld', 'Pittsburgh Polo Club',\n",
       "       'palito', 'Adino', 'ESIDON', 'Bhavya', 'cherry crumble california',\n",
       "       'Yves Bertelin', 'Services Junction', 'V9', 'Dreamshomes',\n",
       "       'Kandyfloss', 'Brahmz', 'MKB', 'Toddla', 'Baby Moshai',\n",
       "       'My Little Lambs', 'arnavs', 'I Ball', 'Globe', 'JayEnterprise',\n",
       "       'Craftuno', 'Elephant', 'Nihar', 'Homedesires', 'Pg handicrafts',\n",
       "       'Ravishing Variety', 'Infinity India', 'Linksys', 'Intex', 'Asus',\n",
       "       'Apple', 'Tenda', 'Huawei', 'TRENDnet', 'Edimax', 'Binatone',\n",
       "       'Belkin', 'Zyxel', 'TP-LINK', 'Netgear', 'iBall', 'Netis',\n",
       "       'Airtel', 'Digisol', 'Clear Face', 'YGS', 'Majik', 'Zingalalaa',\n",
       "       'BASRA', 'Smartpro', 'Graco', 'ocean', 'Reiki Crystal Products',\n",
       "       'HomeEdge', 'Budding Bees', 'JewelKraft Designs', 'Baby Bucket',\n",
       "       'NAMS', 'Rute', 'Tidy', 'JBC Collection', 'Hako', '3kFactory',\n",
       "       'Saba Garments', 'Upside Down', 'Lushomes', 'Prestige',\n",
       "       'Bed & Bath', 'Scalabedding', 'SRP Linen', 'HP', 'TIGI BED HEAD',\n",
       "       'Beebay', 'vatika', 'Amit Carpet', 'Garnier', 'Fs Mini Klub',\n",
       "       'Chokree', 'Shaun', 'Tks', 'Ocean', 'OGX', 'giftsthatwow',\n",
       "       'Allin Exporters', 'Art n Beyond', 'Cotonex', 'Lapguard', 'ARB',\n",
       "       '4D', 'Clublaptop', 'Rega IT', 'Shopfloor.XYZ', 'Babyoye Premium',\n",
       "       'Furnishing Zone', 'GREENWICH', 'Miracle Retail', 'Mayursflora',\n",
       "       'V Creations', 'LITTLE FEETZ', 'Saco', 'R&Mshoppee',\n",
       "       'posterchacha', 'Curren Nx', 'Soulful Threads', 'MohanJodero',\n",
       "       'Rrsskids', 'Ally The Creations', 'Cheeky Chompers', 'Piyo Piyo',\n",
       "       'Innovative', 'Boreal', 'Pokizo', 'Titrit', 'Young Birds',\n",
       "       'chota packet', 'You Got Plan B', 'Mee Mee', 'Zero', 'Oxolloxo',\n",
       "       'SHOPOJ', 'Ville Style', 'Sarah', 'Wonderchef', 'Kushies baby',\n",
       "       'Wow!', 'CHOCOBERRY', 'Lilliput', 'Jacadi Paris', 'Geol',\n",
       "       'Sunlast', 'NammaBaby', 'Thakkar', 'next steps', 'Intel',\n",
       "       'NeedyBee', 'Seals', 'Esteem', 'KLOCX', 'HomeeHub', 'Marvel',\n",
       "       'Home Creations', 'The Intellect Bazaar', 'BornBabyKids',\n",
       "       'Creative Width Decor', 'Handloomhub', 'Fabutex',\n",
       "       'Divine Gifts & Artificial Jewellery', 'Hargunz',\n",
       "       'Galaxy Decorations', 'Welhouse', 'Ornate', 'Shrikant Traders',\n",
       "       'NIKsales', 'VRCT', 'Home Fashion Gallery', 'BabyBucket', 'Simoco',\n",
       "       'Neyth', 'AsiaCraft', 'Soy Impulse', 'Philips', 'Wallmantra',\n",
       "       'Tallenge', 'HouseAttire', 'Moonleaf', 'Vgstore', 'Sapatos',\n",
       "       'Jaipur Raga', 'Home Originals', 'RajasthaniKart', 'Golmaalshop',\n",
       "       'Indigocart', 'U & ME', 'Frabjous', 'MyKid', 'Pioneer Pragati',\n",
       "       'Pompom Sweethearts', 'SPANGLE', 'Flazee Home Trends', 'Craftartz',\n",
       "       'HoA', 'Gift Studios', 'Dhrohar', 'Canon',\n",
       "       \"Radhika's World of Crafts\", 'AntiqueShop', 'brass gift center',\n",
       "       \"Buyer's Beach\", 'Pindia', 'eCraftIndia', 'Rajasthan Crafts',\n",
       "       'Tuktuk', 'Onlinemaniya', 'Buy Clues', 'Rajlaxmi', 'Bajya',\n",
       "       'Offspring', 'Ireeya', \"Carter'S\", 'My NewBorn', 'Funcart',\n",
       "       'EZ Life', 'Love Baby', 'Ollington St. Collection', 'Rajrang',\n",
       "       'Raymond', 'Bharatcraft', 'SWHF', 'meSleep', 'Casotec', 'Fonokase',\n",
       "       'Memore', 'Orico', 'Bigkik', 'Tapawire', 'Crystle',\n",
       "       'Amaze Fashion', 'RRP', 'Techone+', 'Himtek', 'KLIQVIK',\n",
       "       'Epresent', 'Task Logistics', 'LUV', 'Rock', 'Generix', 'QP360',\n",
       "       'Zaicus', 'Akshaj', 'Lifestyle-You', '99Gems', 'De TechInn',\n",
       "       'Dizionario', 'Kensington', 'RCE', 'kawal fashion', 'Sivanna',\n",
       "       'Lula', 'Jums', 'Homec', 'Bianca', 'Zikrak Exim', 'Trident',\n",
       "       'MSenterprises', 'Mafatlal', 'Nikunj', 'Textile India', 'Nkp',\n",
       "       'Woven Terry', 'Casa Copenhagen', 'Maspar', 'Sassoon', 'Mandhania',\n",
       "       'Amber', 'Bagru Crafts', 'SSCP', 'IWS', 'LukLuck', 'MB',\n",
       "       'Durga Home Trendz', 'Right', 'Just Linen', 'Rustic India', 'NKP',\n",
       "       'KDS SURGICAL', 'Loreal', 'Prisha India Craft', 'BRANDWAGON',\n",
       "       'Relaxfeel', 'STYLE CLUES FASHION', 'Mega product',\n",
       "       'Cotton On Kids', 'Portia', 'Shoperite', 'Urban Monk', 'Like',\n",
       "       '612 League', 'wallskart', 'Megaway', 'Anjalika', 'Digilight',\n",
       "       'Agrasen International', 'Pinc Ginger', 'Home Delight',\n",
       "       'Valtellina', 'Nagar Handloom', 'Adaa', 'Utsav Handicraft',\n",
       "       'Jaipur Textile Hub', 'Aurraa', 'My Party Suppliers', 'GrandShop',\n",
       "       'The Art Box', 'Al Fakher', 'Weldecor', 'Unnati', 'Eshoppee',\n",
       "       'Arabian Nights', 'The Art Treasure', 'Craft And Curtain',\n",
       "       'Bhalaria', 'Nutcase', 'M S Rugs', 'GIMS', 'FURNISHINGLAND',\n",
       "       'loomkart', 'NYX', 'Checkered Chef', 'Mahadev Handicrafts',\n",
       "       'Sparklings', 'Swastik', 'Bela Home', 'CALCULUS', 'ROYLE KATOCH',\n",
       "       'Jaycoknit', 'Jacadi paris', 'LOTTIE LONDON', 'Deep', 'dongli',\n",
       "       'Aarika', 'Rishan', 'YK', 'Art Godaam', 'Vedic Deals', 'Hand Art',\n",
       "       'Kaatru', 'CoffeeBean', 'Seven Seas', 'Pedrini', 'AM Creation',\n",
       "       'TRESemme', 'L Oreal', 'CTW', 'Happiness Is', 'Balaji',\n",
       "       'Lock&Lock', 'Mom & Me', 'APOLLO+', 'HuppmeGift',\n",
       "       'Doraemon Gift Family Ceramic Coffee Mug', 'Milani',\n",
       "       'e.l.f. Cosmetics', 'Aster Luxury', 'King Traders', 'Wall Decal',\n",
       "       'Dongli', 'SJ', 'Ech oly', 'LAWMAN PG3', 'Toons', 'PRINT SHAPES',\n",
       "       'Good Way', 'Aroma Comfort', 'Transcend', 'OMRD', 'Kerastase',\n",
       "       'Surgical e Sstudio', 'Elite Collection', 'WallDesign', '999store',\n",
       "       'Oren Empower', 'Uberlyfe'], dtype=object)"
      ]
     },
     "execution_count": 9,
     "metadata": {},
     "output_type": "execute_result"
    }
   ],
   "source": [
    "data[\"brand\"].unique()"
   ]
  },
  {
   "cell_type": "markdown",
   "id": "9d69a6a7-92b5-4ac4-8cd3-49c7eafcd7c9",
   "metadata": {
    "tags": []
   },
   "source": [
    "<div class=\"alert alert-block alert-warning\">\n",
    "    <p>It seems that it does not add value to the problem. It contains the names of brands and probably it does not add value to classify images</p>\n",
    "    <p>Despite that, we are going to keep it</p>\n",
    "</div>"
   ]
  },
  {
   "cell_type": "markdown",
   "id": "711fdd04-302a-4587-b43c-dd6de883a34b",
   "metadata": {},
   "source": [
    "<div style=\"background-color: #6D83C5;\" >\n",
    "    <h3 style=\"margin: auto; padding: 20px; color:#fff; \">3.2. Selecting the features</h3>\n",
    "</div>"
   ]
  },
  {
   "cell_type": "markdown",
   "id": "852805a4-5e3f-49a2-803b-56bba5dd1e51",
   "metadata": {},
   "source": [
    "<div class=\"alert alert-block alert-warning\">\n",
    "    <p>To select the features, first, we are going to <b>discard features</b> that do not add value to the problem</p>\n",
    "    <ul style=\"list-style-type: square;\">\n",
    "        <li><b>crawl_timestamp</b></li>\n",
    "        <li><b>product_url</b></li>\n",
    "        <li><b>pid</b></li>\n",
    "        <li><b>is_FK_Advantage_product</b></li>\n",
    "        <li><b>product_rating</b></li>\n",
    "        <li><b>overall_rating</b></li>\n",
    "        <li><b>discounted_price</b></li>\n",
    "    </ul> \n",
    "</div>"
   ]
  },
  {
   "cell_type": "code",
   "execution_count": 10,
   "id": "54a6f21f-6848-4238-98a7-fb5c259fdce4",
   "metadata": {},
   "outputs": [],
   "source": [
    "df_data = data.drop(columns=[\"crawl_timestamp\", \"product_url\", \"pid\", \"is_FK_Advantage_product\",\n",
    "                             \"product_rating\", \"overall_rating\", \"discounted_price\"],\n",
    "                    axis=0).copy()"
   ]
  },
  {
   "cell_type": "markdown",
   "id": "02531d3d-b661-4620-b2e5-e3e07e701396",
   "metadata": {},
   "source": [
    "<div class=\"alert alert-block alert-info\">\n",
    "    <p>For now, we are going to keep the following features</p>\n",
    "    <ul style=\"list-style-type: square;\">\n",
    "        <li><b>uniq_id</b> - we can use this feature to keep relations on the data</li>\n",
    "        <li><b>product_name</b></li>\n",
    "        <li><b>product_category_tree</b></li>\n",
    "        <li><b>description</b></li>\n",
    "        <li><b>retail_price</b></li>\n",
    "        <li><b>brand</b></li>\n",
    "        <li><b>product_specifications</b></li>        \n",
    "    </ul> \n",
    "</div>"
   ]
  },
  {
   "cell_type": "code",
   "execution_count": 11,
   "id": "f8b9c840-b70f-4e8b-b118-ebbb877bbf0a",
   "metadata": {},
   "outputs": [],
   "source": [
    "pd.set_option(\"display.max_rows\", None) # show full of showing rows\n",
    "pd.set_option(\"display.max_columns\", None) # show full of showing cols\n",
    "pd.set_option(\"display.max_colwidth\", None) # show full width of showing cols\n",
    "pd.set_option(\"display.float_format\", lambda x: \"%.5f\" % x) # show full content in cell    "
   ]
  },
  {
   "cell_type": "code",
   "execution_count": 12,
   "id": "bb85b06d-ea35-4070-8158-bc998ef7728d",
   "metadata": {},
   "outputs": [
    {
     "data": {
      "text/html": [
       "<div>\n",
       "<style scoped>\n",
       "    .dataframe tbody tr th:only-of-type {\n",
       "        vertical-align: middle;\n",
       "    }\n",
       "\n",
       "    .dataframe tbody tr th {\n",
       "        vertical-align: top;\n",
       "    }\n",
       "\n",
       "    .dataframe thead th {\n",
       "        text-align: right;\n",
       "    }\n",
       "</style>\n",
       "<table border=\"1\" class=\"dataframe\">\n",
       "  <thead>\n",
       "    <tr style=\"text-align: right;\">\n",
       "      <th></th>\n",
       "      <th>uniq_id</th>\n",
       "      <th>product_name</th>\n",
       "      <th>product_category_tree</th>\n",
       "      <th>retail_price</th>\n",
       "      <th>image</th>\n",
       "      <th>description</th>\n",
       "      <th>brand</th>\n",
       "      <th>product_specifications</th>\n",
       "    </tr>\n",
       "  </thead>\n",
       "  <tbody>\n",
       "    <tr>\n",
       "      <th>0</th>\n",
       "      <td>55b85ea15a1536d46b7190ad6fff8ce7</td>\n",
       "      <td>Elegance Polyester Multicolor Abstract Eyelet Door Curtain</td>\n",
       "      <td>[\"Home Furnishing &gt;&gt; Curtains &amp; Accessories &gt;&gt; Curtains &gt;&gt; Elegance Polyester Multicolor Abstract Eyelet Do...\"]</td>\n",
       "      <td>1899.00000</td>\n",
       "      <td>55b85ea15a1536d46b7190ad6fff8ce7.jpg</td>\n",
       "      <td>Key Features of Elegance Polyester Multicolor Abstract Eyelet Door Curtain Floral Curtain,Elegance Polyester Multicolor Abstract Eyelet Door Curtain (213 cm in Height, Pack of 2) Price: Rs. 899 This curtain enhances the look of the interiors.This curtain is made from 100% high quality polyester fabric.It features an eyelet style stitch with Metal Ring.It makes the room environment romantic and loving.This curtain is ant- wrinkle and anti shrinkage and have elegant apparance.Give your home a bright and modernistic appeal with these designs. The surreal attention is sure to steal hearts. These contemporary eyelet and valance curtains slide smoothly so when you draw them apart first thing in the morning to welcome the bright sun rays you want to wish good morning to the whole world and when you draw them close in the evening, you create the most special moments of joyous beauty given by the soothing prints. Bring home the elegant curtain that softly filters light in your room so that you get the right amount of sunlight.,Specifications of Elegance Polyester Multicolor Abstract Eyelet Door Curtain (213 cm in Height, Pack of 2) General Brand Elegance Designed For Door Type Eyelet Model Name Abstract Polyester Door Curtain Set Of 2 Model ID Duster25 Color Multicolor Dimensions Length 213 cm In the Box Number of Contents in Sales Package Pack of 2 Sales Package 2 Curtains Body &amp; Design Material Polyester</td>\n",
       "      <td>Elegance</td>\n",
       "      <td>{\"product_specification\"=&gt;[{\"key\"=&gt;\"Brand\", \"value\"=&gt;\"Elegance\"}, {\"key\"=&gt;\"Designed For\", \"value\"=&gt;\"Door\"}, {\"key\"=&gt;\"Type\", \"value\"=&gt;\"Eyelet\"}, {\"key\"=&gt;\"Model Name\", \"value\"=&gt;\"Abstract Polyester Door Curtain Set Of 2\"}, {\"key\"=&gt;\"Model ID\", \"value\"=&gt;\"Duster25\"}, {\"key\"=&gt;\"Color\", \"value\"=&gt;\"Multicolor\"}, {\"key\"=&gt;\"Length\", \"value\"=&gt;\"213 cm\"}, {\"key\"=&gt;\"Number of Contents in Sales Package\", \"value\"=&gt;\"Pack of 2\"}, {\"key\"=&gt;\"Sales Package\", \"value\"=&gt;\"2 Curtains\"}, {\"key\"=&gt;\"Material\", \"value\"=&gt;\"Polyester\"}]}</td>\n",
       "    </tr>\n",
       "  </tbody>\n",
       "</table>\n",
       "</div>"
      ],
      "text/plain": [
       "                            uniq_id  \\\n",
       "0  55b85ea15a1536d46b7190ad6fff8ce7   \n",
       "\n",
       "                                                 product_name  \\\n",
       "0  Elegance Polyester Multicolor Abstract Eyelet Door Curtain   \n",
       "\n",
       "                                                                                              product_category_tree  \\\n",
       "0  [\"Home Furnishing >> Curtains & Accessories >> Curtains >> Elegance Polyester Multicolor Abstract Eyelet Do...\"]   \n",
       "\n",
       "   retail_price                                 image  \\\n",
       "0    1899.00000  55b85ea15a1536d46b7190ad6fff8ce7.jpg   \n",
       "\n",
       "                                                                                                                                                                                                                                                                                                                                                                                                                                                                                                                                                                                                                                                                                                                                                                                                                                                                                                                                                                                                                                                                                                                                                                                                                                                                                                                                                                                                                                                                    description  \\\n",
       "0  Key Features of Elegance Polyester Multicolor Abstract Eyelet Door Curtain Floral Curtain,Elegance Polyester Multicolor Abstract Eyelet Door Curtain (213 cm in Height, Pack of 2) Price: Rs. 899 This curtain enhances the look of the interiors.This curtain is made from 100% high quality polyester fabric.It features an eyelet style stitch with Metal Ring.It makes the room environment romantic and loving.This curtain is ant- wrinkle and anti shrinkage and have elegant apparance.Give your home a bright and modernistic appeal with these designs. The surreal attention is sure to steal hearts. These contemporary eyelet and valance curtains slide smoothly so when you draw them apart first thing in the morning to welcome the bright sun rays you want to wish good morning to the whole world and when you draw them close in the evening, you create the most special moments of joyous beauty given by the soothing prints. Bring home the elegant curtain that softly filters light in your room so that you get the right amount of sunlight.,Specifications of Elegance Polyester Multicolor Abstract Eyelet Door Curtain (213 cm in Height, Pack of 2) General Brand Elegance Designed For Door Type Eyelet Model Name Abstract Polyester Door Curtain Set Of 2 Model ID Duster25 Color Multicolor Dimensions Length 213 cm In the Box Number of Contents in Sales Package Pack of 2 Sales Package 2 Curtains Body & Design Material Polyester   \n",
       "\n",
       "      brand  \\\n",
       "0  Elegance   \n",
       "\n",
       "                                                                                                                                                                                                                                                                                                                                                                                                                                                                                                    product_specifications  \n",
       "0  {\"product_specification\"=>[{\"key\"=>\"Brand\", \"value\"=>\"Elegance\"}, {\"key\"=>\"Designed For\", \"value\"=>\"Door\"}, {\"key\"=>\"Type\", \"value\"=>\"Eyelet\"}, {\"key\"=>\"Model Name\", \"value\"=>\"Abstract Polyester Door Curtain Set Of 2\"}, {\"key\"=>\"Model ID\", \"value\"=>\"Duster25\"}, {\"key\"=>\"Color\", \"value\"=>\"Multicolor\"}, {\"key\"=>\"Length\", \"value\"=>\"213 cm\"}, {\"key\"=>\"Number of Contents in Sales Package\", \"value\"=>\"Pack of 2\"}, {\"key\"=>\"Sales Package\", \"value\"=>\"2 Curtains\"}, {\"key\"=>\"Material\", \"value\"=>\"Polyester\"}]}  "
      ]
     },
     "execution_count": 12,
     "metadata": {},
     "output_type": "execute_result"
    }
   ],
   "source": [
    "df_data.head(1)"
   ]
  },
  {
   "cell_type": "code",
   "execution_count": 13,
   "id": "d5cfad66-d688-498f-9228-38f60df8448b",
   "metadata": {},
   "outputs": [],
   "source": [
    "pd.reset_option(\"display.max_rows\") # reset max of showing rows\n",
    "pd.reset_option(\"display.max_columns\") # reset max of showing cols\n",
    "pd.reset_option(\"display.max_colwidth\") # reset width of showing cols\n",
    "pd.reset_option(\"display.float_format\") # reset show full content in cell"
   ]
  },
  {
   "cell_type": "code",
   "execution_count": 14,
   "id": "10322f29-4cf3-4682-8878-67ec74c74152",
   "metadata": {},
   "outputs": [
    {
     "name": "stdout",
     "output_type": "stream",
     "text": [
      "\n",
      "Analysis Header of df_data dataset\n",
      "--------------------------------------------------------------------------------\n",
      "- Dataset shape:\t\t\t 1050 rows and 8 columns\n",
      "- Total of NaN values:\t\t\t 340\n",
      "- Percentage of NaN:\t\t\t 4.05 %\n",
      "- Total of full duplicates rows:\t 0\n",
      "- Total of empty rows:\t\t\t 0\n",
      "- Total of empty columns:\t\t 0\n",
      "- Unique indexes:\t\t\t True\n",
      "- Memory usage:\t\t\t\t 65.8+ KB\n",
      "\n",
      "Detailed analysis of df_data dataset\n",
      "------------------------------------------------------------------------------------------------------------------------------------\n"
     ]
    },
    {
     "data": {
      "text/html": [
       "<div>\n",
       "<style scoped>\n",
       "    .dataframe tbody tr th:only-of-type {\n",
       "        vertical-align: middle;\n",
       "    }\n",
       "\n",
       "    .dataframe tbody tr th {\n",
       "        vertical-align: top;\n",
       "    }\n",
       "\n",
       "    .dataframe thead th {\n",
       "        text-align: right;\n",
       "    }\n",
       "</style>\n",
       "<table border=\"1\" class=\"dataframe\">\n",
       "  <thead>\n",
       "    <tr style=\"text-align: right;\">\n",
       "      <th></th>\n",
       "      <th>name</th>\n",
       "      <th>type</th>\n",
       "      <th>records</th>\n",
       "      <th>unique</th>\n",
       "      <th># NaN</th>\n",
       "      <th>% NaN</th>\n",
       "      <th>mean</th>\n",
       "      <th>min</th>\n",
       "      <th>25%</th>\n",
       "      <th>50%</th>\n",
       "      <th>75%</th>\n",
       "      <th>max</th>\n",
       "      <th>std</th>\n",
       "    </tr>\n",
       "  </thead>\n",
       "  <tbody>\n",
       "    <tr>\n",
       "      <th>0</th>\n",
       "      <td>uniq_id</td>\n",
       "      <td>object</td>\n",
       "      <td>1050</td>\n",
       "      <td>1050</td>\n",
       "      <td>0</td>\n",
       "      <td>0.00000</td>\n",
       "      <td>NaN</td>\n",
       "      <td>NaN</td>\n",
       "      <td>NaN</td>\n",
       "      <td>NaN</td>\n",
       "      <td>NaN</td>\n",
       "      <td>NaN</td>\n",
       "      <td>NaN</td>\n",
       "    </tr>\n",
       "    <tr>\n",
       "      <th>1</th>\n",
       "      <td>product_name</td>\n",
       "      <td>object</td>\n",
       "      <td>1050</td>\n",
       "      <td>1050</td>\n",
       "      <td>0</td>\n",
       "      <td>0.00000</td>\n",
       "      <td>NaN</td>\n",
       "      <td>NaN</td>\n",
       "      <td>NaN</td>\n",
       "      <td>NaN</td>\n",
       "      <td>NaN</td>\n",
       "      <td>NaN</td>\n",
       "      <td>NaN</td>\n",
       "    </tr>\n",
       "    <tr>\n",
       "      <th>2</th>\n",
       "      <td>product_category_tree</td>\n",
       "      <td>object</td>\n",
       "      <td>1050</td>\n",
       "      <td>642</td>\n",
       "      <td>0</td>\n",
       "      <td>0.00000</td>\n",
       "      <td>NaN</td>\n",
       "      <td>NaN</td>\n",
       "      <td>NaN</td>\n",
       "      <td>NaN</td>\n",
       "      <td>NaN</td>\n",
       "      <td>NaN</td>\n",
       "      <td>NaN</td>\n",
       "    </tr>\n",
       "    <tr>\n",
       "      <th>4</th>\n",
       "      <td>image</td>\n",
       "      <td>object</td>\n",
       "      <td>1050</td>\n",
       "      <td>1050</td>\n",
       "      <td>0</td>\n",
       "      <td>0.00000</td>\n",
       "      <td>NaN</td>\n",
       "      <td>NaN</td>\n",
       "      <td>NaN</td>\n",
       "      <td>NaN</td>\n",
       "      <td>NaN</td>\n",
       "      <td>NaN</td>\n",
       "      <td>NaN</td>\n",
       "    </tr>\n",
       "    <tr>\n",
       "      <th>5</th>\n",
       "      <td>description</td>\n",
       "      <td>object</td>\n",
       "      <td>1050</td>\n",
       "      <td>1050</td>\n",
       "      <td>0</td>\n",
       "      <td>0.00000</td>\n",
       "      <td>NaN</td>\n",
       "      <td>NaN</td>\n",
       "      <td>NaN</td>\n",
       "      <td>NaN</td>\n",
       "      <td>NaN</td>\n",
       "      <td>NaN</td>\n",
       "      <td>NaN</td>\n",
       "    </tr>\n",
       "    <tr>\n",
       "      <th>3</th>\n",
       "      <td>retail_price</td>\n",
       "      <td>float64</td>\n",
       "      <td>1049</td>\n",
       "      <td>354</td>\n",
       "      <td>1</td>\n",
       "      <td>0.10000</td>\n",
       "      <td>2186.19733</td>\n",
       "      <td>35.00000</td>\n",
       "      <td>555.00000</td>\n",
       "      <td>999.00000</td>\n",
       "      <td>1999.00000</td>\n",
       "      <td>201000.00000</td>\n",
       "      <td>7639.22941</td>\n",
       "    </tr>\n",
       "    <tr>\n",
       "      <th>7</th>\n",
       "      <td>product_specifications</td>\n",
       "      <td>object</td>\n",
       "      <td>1049</td>\n",
       "      <td>984</td>\n",
       "      <td>1</td>\n",
       "      <td>0.10000</td>\n",
       "      <td>NaN</td>\n",
       "      <td>NaN</td>\n",
       "      <td>NaN</td>\n",
       "      <td>NaN</td>\n",
       "      <td>NaN</td>\n",
       "      <td>NaN</td>\n",
       "      <td>NaN</td>\n",
       "    </tr>\n",
       "    <tr>\n",
       "      <th>6</th>\n",
       "      <td>brand</td>\n",
       "      <td>object</td>\n",
       "      <td>712</td>\n",
       "      <td>490</td>\n",
       "      <td>338</td>\n",
       "      <td>32.19000</td>\n",
       "      <td>NaN</td>\n",
       "      <td>NaN</td>\n",
       "      <td>NaN</td>\n",
       "      <td>NaN</td>\n",
       "      <td>NaN</td>\n",
       "      <td>NaN</td>\n",
       "      <td>NaN</td>\n",
       "    </tr>\n",
       "  </tbody>\n",
       "</table>\n",
       "</div>"
      ],
      "text/plain": [
       "                     name     type  records  unique  # NaN    % NaN  \\\n",
       "0                 uniq_id   object     1050    1050      0  0.00000   \n",
       "1            product_name   object     1050    1050      0  0.00000   \n",
       "2   product_category_tree   object     1050     642      0  0.00000   \n",
       "4                   image   object     1050    1050      0  0.00000   \n",
       "5             description   object     1050    1050      0  0.00000   \n",
       "3            retail_price  float64     1049     354      1  0.10000   \n",
       "7  product_specifications   object     1049     984      1  0.10000   \n",
       "6                   brand   object      712     490    338 32.19000   \n",
       "\n",
       "        mean      min       25%       50%        75%          max        std  \n",
       "0        NaN      NaN       NaN       NaN        NaN          NaN        NaN  \n",
       "1        NaN      NaN       NaN       NaN        NaN          NaN        NaN  \n",
       "2        NaN      NaN       NaN       NaN        NaN          NaN        NaN  \n",
       "4        NaN      NaN       NaN       NaN        NaN          NaN        NaN  \n",
       "5        NaN      NaN       NaN       NaN        NaN          NaN        NaN  \n",
       "3 2186.19733 35.00000 555.00000 999.00000 1999.00000 201000.00000 7639.22941  \n",
       "7        NaN      NaN       NaN       NaN        NaN          NaN        NaN  \n",
       "6        NaN      NaN       NaN       NaN        NaN          NaN        NaN  "
      ]
     },
     "metadata": {},
     "output_type": "display_data"
    }
   ],
   "source": [
    "df_analysis(df_data, \"df_data\", type_analysis=\"complete\")"
   ]
  },
  {
   "cell_type": "markdown",
   "id": "6aa21c88-1b5f-47f0-94c4-ada4e38d9bad",
   "metadata": {},
   "source": [
    "\n",
    "<div class=\"alert alert-block alert-success\">\n",
    "    <p><b>Observations / Conclusions</b></p>\n",
    "    <p>Now, we have a dataset with the following characteristic</p>\n",
    "    <ul style=\"list-style-type: square;\">\n",
    "        <li>30% missing-values in <b>brand</b></li>\n",
    "        <li>One cell with missing-value in <b>retail_price</b></li>\n",
    "    </ul> \n",
    "</div>"
   ]
  },
  {
   "cell_type": "markdown",
   "id": "3d8056b2-8453-407e-b0e7-a9b5167f244e",
   "metadata": {
    "tags": []
   },
   "source": [
    "<div style=\"background-color: #506AB9;\" >\n",
    "    <h2 style=\"margin: auto; padding: 20px; color:#fff; \">4. Treating missing-values</h2>\n",
    "</div>"
   ]
  },
  {
   "cell_type": "markdown",
   "id": "d5695453-9e79-4b42-9c99-ed063cd657a6",
   "metadata": {
    "tags": []
   },
   "source": [
    "<div class=\"alert alert-block alert-info\">\n",
    "    <p><b>To treat missing-values</b>, we are going to do as follows</p>\n",
    "    <ol>\n",
    "        <li>Fill missing-vallues in <b>brand</b> and <b>product_specifications</b> with empty-value.</li>\n",
    "        <li>Fill missing-vallues in <b>retail_price</b> based on the median for the same <b>product category</b>.</li>\n",
    "    </ol>\n",
    "</div>\n",
    "<div class=\"alert alert-block alert-info\">\n",
    "    <p>So, Being the feature called <b>brand</b> only one missing-value, let's proceed to complete it with empty-value</p>\n",
    "</div>"
   ]
  },
  {
   "cell_type": "code",
   "execution_count": 15,
   "id": "b5c1d92a-8d10-40e1-8571-191ff7f983e5",
   "metadata": {},
   "outputs": [],
   "source": [
    "df_data[\"brand\"].fillna(\"\", inplace=True)\n",
    "df_data[\"product_specifications\"].fillna(\"\", inplace=True)"
   ]
  },
  {
   "cell_type": "markdown",
   "id": "0a43ccec-1595-4f7a-9f6c-14eaa159ed77",
   "metadata": {},
   "source": [
    "<div style=\"background-color: #6D83C5;\" >\n",
    "    <h3 style=\"margin: auto; padding: 20px; color:#fff; \">4.1. Analyzing \"product_category_tree\"</h3>\n",
    "</div>"
   ]
  },
  {
   "cell_type": "markdown",
   "id": "6d67ff9a-593a-456d-b1e7-b7817de233ce",
   "metadata": {},
   "source": [
    "<div class=\"alert alert-block alert-info\">\n",
    "    <p>Let's analyse the levels of the tree in <b>product_category_tree</b></p>\n",
    "</div>"
   ]
  },
  {
   "cell_type": "code",
   "execution_count": 16,
   "id": "d0b166fb-8c83-4428-9406-436a7a1a6aae",
   "metadata": {},
   "outputs": [
    {
     "name": "stdout",
     "output_type": "stream",
     "text": [
      "[\"Home Furnishing >> Curtains & Accessories >> Curtains >> Elegance Polyester Multicolor Abstract Eyelet Do...\"]\n",
      "[\"Watches >> Wrist Watches >> Calibro Wrist Watches\"]\n",
      "[\"Beauty and Personal Care >> Makeup >> Vanity Boxes >> Goldencollections Vanity Boxes\"]\n",
      "[\"Baby Care >> Baby & Kids Gifts >> Stickers >> Uberlyfe Stickers\"]\n"
     ]
    }
   ],
   "source": [
    "for i in [0, 10, 100, 1049]:\n",
    "    print(df_data.loc[i, \"product_category_tree\"])"
   ]
  },
  {
   "cell_type": "markdown",
   "id": "38d66598-3728-4a45-8ebc-d7d100ee1cca",
   "metadata": {},
   "source": [
    "<div class=\"alert alert-block alert-warning\">\n",
    "    <p><b>Observations / Conclusions</b></p>\n",
    "    <p>The levels in the tree does not seem equals in all records</p>\n",
    "</div>"
   ]
  },
  {
   "cell_type": "code",
   "execution_count": 17,
   "id": "43e6c55f-453d-4f99-a7b4-f1f9fc473442",
   "metadata": {},
   "outputs": [],
   "source": [
    "df_data[\"tree_levels\"] = df_data[\"product_category_tree\"].str.count(\">>\")"
   ]
  },
  {
   "cell_type": "code",
   "execution_count": 18,
   "id": "9e8b0972-b788-4024-a3b2-19ffa66ee557",
   "metadata": {},
   "outputs": [
    {
     "data": {
      "text/plain": [
       "6"
      ]
     },
     "execution_count": 18,
     "metadata": {},
     "output_type": "execute_result"
    }
   ],
   "source": [
    "df_data[\"tree_levels\"].max()"
   ]
  },
  {
   "cell_type": "code",
   "execution_count": 19,
   "id": "fb9adb6a-4282-4f58-bdf3-a7fe6c9ae886",
   "metadata": {},
   "outputs": [],
   "source": [
    "pd.set_option(\"display.max_rows\", None) # show full of showing rows\n",
    "pd.set_option(\"display.max_columns\", None) # show full of showing cols\n",
    "pd.set_option(\"display.max_colwidth\", None) # show full width of showing cols\n",
    "pd.set_option(\"display.float_format\", lambda x: \"%.5f\" % x) # show full content in cell    "
   ]
  },
  {
   "cell_type": "code",
   "execution_count": 20,
   "id": "bf4b9c14-a493-4fc7-a1c1-50b232566c85",
   "metadata": {},
   "outputs": [
    {
     "data": {
      "text/html": [
       "<div>\n",
       "<style scoped>\n",
       "    .dataframe tbody tr th:only-of-type {\n",
       "        vertical-align: middle;\n",
       "    }\n",
       "\n",
       "    .dataframe tbody tr th {\n",
       "        vertical-align: top;\n",
       "    }\n",
       "\n",
       "    .dataframe thead th {\n",
       "        text-align: right;\n",
       "    }\n",
       "</style>\n",
       "<table border=\"1\" class=\"dataframe\">\n",
       "  <thead>\n",
       "    <tr style=\"text-align: right;\">\n",
       "      <th></th>\n",
       "      <th>uniq_id</th>\n",
       "      <th>product_name</th>\n",
       "      <th>product_category_tree</th>\n",
       "      <th>retail_price</th>\n",
       "      <th>image</th>\n",
       "      <th>description</th>\n",
       "      <th>brand</th>\n",
       "      <th>product_specifications</th>\n",
       "      <th>tree_levels</th>\n",
       "    </tr>\n",
       "  </thead>\n",
       "  <tbody>\n",
       "    <tr>\n",
       "      <th>250</th>\n",
       "      <td>17611e6e94d73ef376834e5c6ee03dde</td>\n",
       "      <td>TRUE Bong</td>\n",
       "      <td>[\"Home Decor &amp; Festive Needs &gt;&gt; TRUE Home Decor &amp; Festive Needs\"]</td>\n",
       "      <td>999.00000</td>\n",
       "      <td>17611e6e94d73ef376834e5c6ee03dde.jpg</td>\n",
       "      <td>Buy TRUE Bong for Rs.549 online. TRUE Bong at best prices with FREE shipping &amp; cash on delivery. Only Genuine Products. 30 Day Replacement Guarantee.</td>\n",
       "      <td>TRUE</td>\n",
       "      <td>{\"product_specification\"=&gt;[{\"key\"=&gt;\"Brand\", \"value\"=&gt;\"TRUE\"}, {\"key\"=&gt;\"Model Number\", \"value\"=&gt;\"SN. 109\"}, {\"key\"=&gt;\"Model Name\", \"value\"=&gt;\"Acrylic Rasta -16 Inch\"}, {\"key\"=&gt;\"Material\", \"value\"=&gt;\"Plastic\"}, {\"key\"=&gt;\"Function Type\", \"value\"=&gt;\"Ice\"}, {\"key\"=&gt;\"Color\", \"value\"=&gt;\"Multicolor\"}, {\"value\"=&gt;\"1 Bong\"}, {\"key\"=&gt;\"Joint Size\", \"value\"=&gt;\"14.5 mm\"}, {\"key\"=&gt;\"Height\", \"value\"=&gt;\"40 cm\"}]}</td>\n",
       "      <td>1</td>\n",
       "    </tr>\n",
       "  </tbody>\n",
       "</table>\n",
       "</div>"
      ],
      "text/plain": [
       "                              uniq_id product_name  \\\n",
       "250  17611e6e94d73ef376834e5c6ee03dde    TRUE Bong   \n",
       "\n",
       "                                                 product_category_tree  \\\n",
       "250  [\"Home Decor & Festive Needs >> TRUE Home Decor & Festive Needs\"]   \n",
       "\n",
       "     retail_price                                 image  \\\n",
       "250     999.00000  17611e6e94d73ef376834e5c6ee03dde.jpg   \n",
       "\n",
       "                                                                                                                                               description  \\\n",
       "250  Buy TRUE Bong for Rs.549 online. TRUE Bong at best prices with FREE shipping & cash on delivery. Only Genuine Products. 30 Day Replacement Guarantee.   \n",
       "\n",
       "    brand  \\\n",
       "250  TRUE   \n",
       "\n",
       "                                                                                                                                                                                                                                                                                                                                                                                     product_specifications  \\\n",
       "250  {\"product_specification\"=>[{\"key\"=>\"Brand\", \"value\"=>\"TRUE\"}, {\"key\"=>\"Model Number\", \"value\"=>\"SN. 109\"}, {\"key\"=>\"Model Name\", \"value\"=>\"Acrylic Rasta -16 Inch\"}, {\"key\"=>\"Material\", \"value\"=>\"Plastic\"}, {\"key\"=>\"Function Type\", \"value\"=>\"Ice\"}, {\"key\"=>\"Color\", \"value\"=>\"Multicolor\"}, {\"value\"=>\"1 Bong\"}, {\"key\"=>\"Joint Size\", \"value\"=>\"14.5 mm\"}, {\"key\"=>\"Height\", \"value\"=>\"40 cm\"}]}   \n",
       "\n",
       "     tree_levels  \n",
       "250            1  "
      ]
     },
     "execution_count": 20,
     "metadata": {},
     "output_type": "execute_result"
    }
   ],
   "source": [
    "df_data.query(\"tree_levels == tree_levels.min()\").head(1)"
   ]
  },
  {
   "cell_type": "code",
   "execution_count": 21,
   "id": "7d113575-08df-44a6-80c1-adac0f1e821c",
   "metadata": {},
   "outputs": [
    {
     "data": {
      "text/html": [
       "<div>\n",
       "<style scoped>\n",
       "    .dataframe tbody tr th:only-of-type {\n",
       "        vertical-align: middle;\n",
       "    }\n",
       "\n",
       "    .dataframe tbody tr th {\n",
       "        vertical-align: top;\n",
       "    }\n",
       "\n",
       "    .dataframe thead th {\n",
       "        text-align: right;\n",
       "    }\n",
       "</style>\n",
       "<table border=\"1\" class=\"dataframe\">\n",
       "  <thead>\n",
       "    <tr style=\"text-align: right;\">\n",
       "      <th></th>\n",
       "      <th>uniq_id</th>\n",
       "      <th>product_name</th>\n",
       "      <th>product_category_tree</th>\n",
       "      <th>retail_price</th>\n",
       "      <th>image</th>\n",
       "      <th>description</th>\n",
       "      <th>brand</th>\n",
       "      <th>product_specifications</th>\n",
       "      <th>tree_levels</th>\n",
       "    </tr>\n",
       "  </thead>\n",
       "  <tbody>\n",
       "    <tr>\n",
       "      <th>40</th>\n",
       "      <td>90e56526f4c5892beac49f262b85150a</td>\n",
       "      <td>Mom and Kid Baby Girl's Printed Green Top &amp; Pyjama Set</td>\n",
       "      <td>[\"Baby Care &gt;&gt; Infant Wear &gt;&gt; Baby Girls' Clothes &gt;&gt; Innerwear &amp; Sleepwear &gt;&gt; Night Suits &gt;&gt; Mom and Kid Night Suits &gt;&gt; Mom and Kid Baby Girl's Printed Green Top &amp; Pyja...\"]</td>\n",
       "      <td>999.00000</td>\n",
       "      <td>90e56526f4c5892beac49f262b85150a.jpg</td>\n",
       "      <td>Key Features of Mom and Kid Baby Girl's Printed Green Top &amp; Pyjama Set Fabric: Cotton Brand Color: Green,Mom and Kid Baby Girl's Printed Green Top &amp; Pyjama Set Price: Rs. 309 Girls Pyjama set,Specifications of Mom and Kid Baby Girl's Printed Green Top &amp; Pyjama Set General Details Pattern Printed Ideal For Baby Girl's Night Suit Details Fabric Cotton Type Top &amp; Pyjama Set Neck Round Neck In the Box 1 Top &amp; Pyjama Set</td>\n",
       "      <td>Mom and Kid</td>\n",
       "      <td>{\"product_specification\"=&gt;[{\"key\"=&gt;\"Pattern\", \"value\"=&gt;\"Printed\"}, {\"key\"=&gt;\"Ideal For\", \"value\"=&gt;\"Baby Girl's\"}, {\"key\"=&gt;\"Fabric\", \"value\"=&gt;\"Cotton\"}, {\"key\"=&gt;\"Type\", \"value\"=&gt;\"Top and Pyjama Set\"}, {\"key\"=&gt;\"Neck\", \"value\"=&gt;\"Round Neck\"}, {\"value\"=&gt;\"1 Top and Pyjama Set\"}]}</td>\n",
       "      <td>6</td>\n",
       "    </tr>\n",
       "  </tbody>\n",
       "</table>\n",
       "</div>"
      ],
      "text/plain": [
       "                             uniq_id  \\\n",
       "40  90e56526f4c5892beac49f262b85150a   \n",
       "\n",
       "                                              product_name  \\\n",
       "40  Mom and Kid Baby Girl's Printed Green Top & Pyjama Set   \n",
       "\n",
       "                                                                                                                                                            product_category_tree  \\\n",
       "40  [\"Baby Care >> Infant Wear >> Baby Girls' Clothes >> Innerwear & Sleepwear >> Night Suits >> Mom and Kid Night Suits >> Mom and Kid Baby Girl's Printed Green Top & Pyja...\"]   \n",
       "\n",
       "    retail_price                                 image  \\\n",
       "40     999.00000  90e56526f4c5892beac49f262b85150a.jpg   \n",
       "\n",
       "                                                                                                                                                                                                                                                                                                                                                                                                                            description  \\\n",
       "40  Key Features of Mom and Kid Baby Girl's Printed Green Top & Pyjama Set Fabric: Cotton Brand Color: Green,Mom and Kid Baby Girl's Printed Green Top & Pyjama Set Price: Rs. 309 Girls Pyjama set,Specifications of Mom and Kid Baby Girl's Printed Green Top & Pyjama Set General Details Pattern Printed Ideal For Baby Girl's Night Suit Details Fabric Cotton Type Top & Pyjama Set Neck Round Neck In the Box 1 Top & Pyjama Set   \n",
       "\n",
       "          brand  \\\n",
       "40  Mom and Kid   \n",
       "\n",
       "                                                                                                                                                                                                                                                                product_specifications  \\\n",
       "40  {\"product_specification\"=>[{\"key\"=>\"Pattern\", \"value\"=>\"Printed\"}, {\"key\"=>\"Ideal For\", \"value\"=>\"Baby Girl's\"}, {\"key\"=>\"Fabric\", \"value\"=>\"Cotton\"}, {\"key\"=>\"Type\", \"value\"=>\"Top and Pyjama Set\"}, {\"key\"=>\"Neck\", \"value\"=>\"Round Neck\"}, {\"value\"=>\"1 Top and Pyjama Set\"}]}   \n",
       "\n",
       "    tree_levels  \n",
       "40            6  "
      ]
     },
     "execution_count": 21,
     "metadata": {},
     "output_type": "execute_result"
    }
   ],
   "source": [
    "df_data.query(\"tree_levels == tree_levels.max()\").head(1)"
   ]
  },
  {
   "cell_type": "code",
   "execution_count": 22,
   "id": "48b099ef-2ad3-49b0-89be-7484c7f48027",
   "metadata": {},
   "outputs": [],
   "source": [
    "pd.reset_option(\"display.max_rows\") # reset max of showing rows\n",
    "pd.reset_option(\"display.max_columns\") # reset max of showing cols\n",
    "pd.reset_option(\"display.max_colwidth\") # reset width of showing cols\n",
    "pd.reset_option(\"display.float_format\") # reset show full content in cell"
   ]
  },
  {
   "cell_type": "markdown",
   "id": "7aeb59fb-69aa-4c8f-bde7-3a389d8e6d4b",
   "metadata": {},
   "source": [
    "<div class=\"alert alert-block alert-success\">\n",
    "    <p><b>Observations / Conclusions</b></p>\n",
    "    <p>There are from 2 until 6 levels in <b>product_category_tree</b></p>\n",
    "</div>"
   ]
  },
  {
   "cell_type": "markdown",
   "id": "41e96228-9447-4450-9f16-8cb1585cce1d",
   "metadata": {},
   "source": [
    "<div class=\"alert alert-block alert-info\">\n",
    "    <p>Let's analyze the 2 first levels that are common in all records</p>\n",
    "</div>"
   ]
  },
  {
   "cell_type": "code",
   "execution_count": 23,
   "id": "ab6cff92-70ea-493e-886d-92294d8afdc8",
   "metadata": {},
   "outputs": [],
   "source": [
    "df_data[\"category_1\"] = df_data[\"product_category_tree\"].apply(lambda x :x.split('>>')[0][2:len(x.split(\">>\")[0])])\n",
    "df_data[\"category_1\"] = df_data[\"category_1\"].apply(lambda x :x.strip())\n",
    "\n",
    "df_data[\"category_2\"] = df_data[\"product_category_tree\"].apply(lambda x :x.split('>>')[1])\n",
    "df_data[\"category_2\"] = df_data[\"category_2\"].apply(lambda x :x.strip())"
   ]
  },
  {
   "cell_type": "code",
   "execution_count": 24,
   "id": "09257626-3e40-474e-8c78-e7d9998e58db",
   "metadata": {},
   "outputs": [
    {
     "data": {
      "text/html": [
       "<div>\n",
       "<style scoped>\n",
       "    .dataframe tbody tr th:only-of-type {\n",
       "        vertical-align: middle;\n",
       "    }\n",
       "\n",
       "    .dataframe tbody tr th {\n",
       "        vertical-align: top;\n",
       "    }\n",
       "\n",
       "    .dataframe thead th {\n",
       "        text-align: right;\n",
       "    }\n",
       "</style>\n",
       "<table border=\"1\" class=\"dataframe\">\n",
       "  <thead>\n",
       "    <tr style=\"text-align: right;\">\n",
       "      <th></th>\n",
       "      <th>uniq_id</th>\n",
       "      <th>product_name</th>\n",
       "      <th>product_category_tree</th>\n",
       "      <th>retail_price</th>\n",
       "      <th>image</th>\n",
       "      <th>description</th>\n",
       "      <th>brand</th>\n",
       "      <th>product_specifications</th>\n",
       "      <th>tree_levels</th>\n",
       "      <th>category_1</th>\n",
       "      <th>category_2</th>\n",
       "    </tr>\n",
       "  </thead>\n",
       "  <tbody>\n",
       "    <tr>\n",
       "      <th>0</th>\n",
       "      <td>55b85ea15a1536d46b7190ad6fff8ce7</td>\n",
       "      <td>Elegance Polyester Multicolor Abstract Eyelet ...</td>\n",
       "      <td>[\"Home Furnishing &gt;&gt; Curtains &amp; Accessories &gt;&gt;...</td>\n",
       "      <td>1899.0</td>\n",
       "      <td>55b85ea15a1536d46b7190ad6fff8ce7.jpg</td>\n",
       "      <td>Key Features of Elegance Polyester Multicolor ...</td>\n",
       "      <td>Elegance</td>\n",
       "      <td>{\"product_specification\"=&gt;[{\"key\"=&gt;\"Brand\", \"v...</td>\n",
       "      <td>3</td>\n",
       "      <td>Home Furnishing</td>\n",
       "      <td>Curtains &amp; Accessories</td>\n",
       "    </tr>\n",
       "    <tr>\n",
       "      <th>1</th>\n",
       "      <td>7b72c92c2f6c40268628ec5f14c6d590</td>\n",
       "      <td>Sathiyas Cotton Bath Towel</td>\n",
       "      <td>[\"Baby Care &gt;&gt; Baby Bath &amp; Skin &gt;&gt; Baby Bath T...</td>\n",
       "      <td>600.0</td>\n",
       "      <td>7b72c92c2f6c40268628ec5f14c6d590.jpg</td>\n",
       "      <td>Specifications of Sathiyas Cotton Bath Towel (...</td>\n",
       "      <td>Sathiyas</td>\n",
       "      <td>{\"product_specification\"=&gt;[{\"key\"=&gt;\"Machine Wa...</td>\n",
       "      <td>4</td>\n",
       "      <td>Baby Care</td>\n",
       "      <td>Baby Bath &amp; Skin</td>\n",
       "    </tr>\n",
       "    <tr>\n",
       "      <th>2</th>\n",
       "      <td>64d5d4a258243731dc7bbb1eef49ad74</td>\n",
       "      <td>Eurospa Cotton Terry Face Towel Set</td>\n",
       "      <td>[\"Baby Care &gt;&gt; Baby Bath &amp; Skin &gt;&gt; Baby Bath T...</td>\n",
       "      <td>NaN</td>\n",
       "      <td>64d5d4a258243731dc7bbb1eef49ad74.jpg</td>\n",
       "      <td>Key Features of Eurospa Cotton Terry Face Towe...</td>\n",
       "      <td>Eurospa</td>\n",
       "      <td>{\"product_specification\"=&gt;[{\"key\"=&gt;\"Material\",...</td>\n",
       "      <td>4</td>\n",
       "      <td>Baby Care</td>\n",
       "      <td>Baby Bath &amp; Skin</td>\n",
       "    </tr>\n",
       "    <tr>\n",
       "      <th>3</th>\n",
       "      <td>d4684dcdc759dd9cdf41504698d737d8</td>\n",
       "      <td>SANTOSH ROYAL FASHION Cotton Printed King size...</td>\n",
       "      <td>[\"Home Furnishing &gt;&gt; Bed Linen &gt;&gt; Bedsheets &gt;&gt;...</td>\n",
       "      <td>2699.0</td>\n",
       "      <td>d4684dcdc759dd9cdf41504698d737d8.jpg</td>\n",
       "      <td>Key Features of SANTOSH ROYAL FASHION Cotton P...</td>\n",
       "      <td>SANTOSH ROYAL FASHION</td>\n",
       "      <td>{\"product_specification\"=&gt;[{\"key\"=&gt;\"Brand\", \"v...</td>\n",
       "      <td>4</td>\n",
       "      <td>Home Furnishing</td>\n",
       "      <td>Bed Linen</td>\n",
       "    </tr>\n",
       "    <tr>\n",
       "      <th>4</th>\n",
       "      <td>6325b6870c54cd47be6ebfbffa620ec7</td>\n",
       "      <td>Jaipur Print Cotton Floral King sized Double B...</td>\n",
       "      <td>[\"Home Furnishing &gt;&gt; Bed Linen &gt;&gt; Bedsheets &gt;&gt;...</td>\n",
       "      <td>2599.0</td>\n",
       "      <td>6325b6870c54cd47be6ebfbffa620ec7.jpg</td>\n",
       "      <td>Key Features of Jaipur Print Cotton Floral Kin...</td>\n",
       "      <td>Jaipur Print</td>\n",
       "      <td>{\"product_specification\"=&gt;[{\"key\"=&gt;\"Machine Wa...</td>\n",
       "      <td>4</td>\n",
       "      <td>Home Furnishing</td>\n",
       "      <td>Bed Linen</td>\n",
       "    </tr>\n",
       "  </tbody>\n",
       "</table>\n",
       "</div>"
      ],
      "text/plain": [
       "                            uniq_id  \\\n",
       "0  55b85ea15a1536d46b7190ad6fff8ce7   \n",
       "1  7b72c92c2f6c40268628ec5f14c6d590   \n",
       "2  64d5d4a258243731dc7bbb1eef49ad74   \n",
       "3  d4684dcdc759dd9cdf41504698d737d8   \n",
       "4  6325b6870c54cd47be6ebfbffa620ec7   \n",
       "\n",
       "                                        product_name  \\\n",
       "0  Elegance Polyester Multicolor Abstract Eyelet ...   \n",
       "1                         Sathiyas Cotton Bath Towel   \n",
       "2                Eurospa Cotton Terry Face Towel Set   \n",
       "3  SANTOSH ROYAL FASHION Cotton Printed King size...   \n",
       "4  Jaipur Print Cotton Floral King sized Double B...   \n",
       "\n",
       "                               product_category_tree  retail_price  \\\n",
       "0  [\"Home Furnishing >> Curtains & Accessories >>...        1899.0   \n",
       "1  [\"Baby Care >> Baby Bath & Skin >> Baby Bath T...         600.0   \n",
       "2  [\"Baby Care >> Baby Bath & Skin >> Baby Bath T...           NaN   \n",
       "3  [\"Home Furnishing >> Bed Linen >> Bedsheets >>...        2699.0   \n",
       "4  [\"Home Furnishing >> Bed Linen >> Bedsheets >>...        2599.0   \n",
       "\n",
       "                                  image  \\\n",
       "0  55b85ea15a1536d46b7190ad6fff8ce7.jpg   \n",
       "1  7b72c92c2f6c40268628ec5f14c6d590.jpg   \n",
       "2  64d5d4a258243731dc7bbb1eef49ad74.jpg   \n",
       "3  d4684dcdc759dd9cdf41504698d737d8.jpg   \n",
       "4  6325b6870c54cd47be6ebfbffa620ec7.jpg   \n",
       "\n",
       "                                         description                  brand  \\\n",
       "0  Key Features of Elegance Polyester Multicolor ...               Elegance   \n",
       "1  Specifications of Sathiyas Cotton Bath Towel (...               Sathiyas   \n",
       "2  Key Features of Eurospa Cotton Terry Face Towe...                Eurospa   \n",
       "3  Key Features of SANTOSH ROYAL FASHION Cotton P...  SANTOSH ROYAL FASHION   \n",
       "4  Key Features of Jaipur Print Cotton Floral Kin...           Jaipur Print   \n",
       "\n",
       "                              product_specifications  tree_levels  \\\n",
       "0  {\"product_specification\"=>[{\"key\"=>\"Brand\", \"v...            3   \n",
       "1  {\"product_specification\"=>[{\"key\"=>\"Machine Wa...            4   \n",
       "2  {\"product_specification\"=>[{\"key\"=>\"Material\",...            4   \n",
       "3  {\"product_specification\"=>[{\"key\"=>\"Brand\", \"v...            4   \n",
       "4  {\"product_specification\"=>[{\"key\"=>\"Machine Wa...            4   \n",
       "\n",
       "        category_1              category_2  \n",
       "0  Home Furnishing  Curtains & Accessories  \n",
       "1        Baby Care        Baby Bath & Skin  \n",
       "2        Baby Care        Baby Bath & Skin  \n",
       "3  Home Furnishing               Bed Linen  \n",
       "4  Home Furnishing               Bed Linen  "
      ]
     },
     "execution_count": 24,
     "metadata": {},
     "output_type": "execute_result"
    }
   ],
   "source": [
    "df_data.head()"
   ]
  },
  {
   "cell_type": "code",
   "execution_count": 25,
   "id": "4495eee5-f0dc-4e9a-afed-202000d28ba9",
   "metadata": {},
   "outputs": [
    {
     "name": "stdout",
     "output_type": "stream",
     "text": [
      "Unique categories in level 1: 7\n",
      "Unique categories in level 2: 63\n"
     ]
    }
   ],
   "source": [
    "print(\"Unique categories in level 1:\", df_data[\"category_1\"].nunique())\n",
    "print(\"Unique categories in level 2:\", df_data[\"category_2\"].nunique())"
   ]
  },
  {
   "cell_type": "code",
   "execution_count": 26,
   "id": "63d7bc29-b887-4482-8a6b-d84ecc96db66",
   "metadata": {},
   "outputs": [
    {
     "data": {
      "image/png": "[encoded data removed]",
      "text/plain": [
       "<Figure size 1008x576 with 2 Axes>"
      ]
     },
     "metadata": {},
     "output_type": "display_data"
    }
   ],
   "source": [
    "barplot_and_pie(df_data[\"category_1\"], \"Categories level 1\", \"Categories\")"
   ]
  },
  {
   "cell_type": "markdown",
   "id": "aad4c52f-a016-45e2-932b-aa7f7bd54c89",
   "metadata": {},
   "source": [
    "<div class=\"alert alert-block alert-warning\">\n",
    "    <p><b>Observations / Conclusions</b></p>\n",
    "    <p>Based on the plot, we can ask whether we will get 7 clusters in our modeling? </p>\n",
    "</div>"
   ]
  },
  {
   "cell_type": "markdown",
   "id": "c3e387bb-48fc-4c6f-a789-c5755476047b",
   "metadata": {},
   "source": [
    "<div class=\"alert alert-block alert-info\">\n",
    "    <p>Let's see the record with <b>retail_price</b> missing-value</p>\n",
    "</div>"
   ]
  },
  {
   "cell_type": "code",
   "execution_count": 27,
   "id": "0aaf7b32-e18d-45f6-bedf-390bb17af140",
   "metadata": {},
   "outputs": [
    {
     "data": {
      "image/png": "[encoded data removed]",
      "text/plain": [
       "<Figure size 1800x720 with 2 Axes>"
      ]
     },
     "metadata": {},
     "output_type": "display_data"
    }
   ],
   "source": [
    "barplot_and_pie(df_data[\"category_2\"], \"Categories level 2\", \"Categories\")"
   ]
  },
  {
   "cell_type": "code",
   "execution_count": 28,
   "id": "0495477c-8178-4153-8425-d2546765ba5f",
   "metadata": {},
   "outputs": [
    {
     "data": {
      "text/html": [
       "<div>\n",
       "<style scoped>\n",
       "    .dataframe tbody tr th:only-of-type {\n",
       "        vertical-align: middle;\n",
       "    }\n",
       "\n",
       "    .dataframe tbody tr th {\n",
       "        vertical-align: top;\n",
       "    }\n",
       "\n",
       "    .dataframe thead th {\n",
       "        text-align: right;\n",
       "    }\n",
       "</style>\n",
       "<table border=\"1\" class=\"dataframe\">\n",
       "  <thead>\n",
       "    <tr style=\"text-align: right;\">\n",
       "      <th></th>\n",
       "      <th>uniq_id</th>\n",
       "      <th>product_name</th>\n",
       "      <th>product_category_tree</th>\n",
       "      <th>retail_price</th>\n",
       "      <th>image</th>\n",
       "      <th>description</th>\n",
       "      <th>brand</th>\n",
       "      <th>product_specifications</th>\n",
       "      <th>tree_levels</th>\n",
       "      <th>category_1</th>\n",
       "      <th>category_2</th>\n",
       "    </tr>\n",
       "  </thead>\n",
       "  <tbody>\n",
       "    <tr>\n",
       "      <th>2</th>\n",
       "      <td>64d5d4a258243731dc7bbb1eef49ad74</td>\n",
       "      <td>Eurospa Cotton Terry Face Towel Set</td>\n",
       "      <td>[\"Baby Care &gt;&gt; Baby Bath &amp; Skin &gt;&gt; Baby Bath T...</td>\n",
       "      <td>NaN</td>\n",
       "      <td>64d5d4a258243731dc7bbb1eef49ad74.jpg</td>\n",
       "      <td>Key Features of Eurospa Cotton Terry Face Towe...</td>\n",
       "      <td>Eurospa</td>\n",
       "      <td>{\"product_specification\"=&gt;[{\"key\"=&gt;\"Material\",...</td>\n",
       "      <td>4</td>\n",
       "      <td>Baby Care</td>\n",
       "      <td>Baby Bath &amp; Skin</td>\n",
       "    </tr>\n",
       "  </tbody>\n",
       "</table>\n",
       "</div>"
      ],
      "text/plain": [
       "                            uniq_id                         product_name  \\\n",
       "2  64d5d4a258243731dc7bbb1eef49ad74  Eurospa Cotton Terry Face Towel Set   \n",
       "\n",
       "                               product_category_tree  retail_price  \\\n",
       "2  [\"Baby Care >> Baby Bath & Skin >> Baby Bath T...           NaN   \n",
       "\n",
       "                                  image  \\\n",
       "2  64d5d4a258243731dc7bbb1eef49ad74.jpg   \n",
       "\n",
       "                                         description    brand  \\\n",
       "2  Key Features of Eurospa Cotton Terry Face Towe...  Eurospa   \n",
       "\n",
       "                              product_specifications  tree_levels category_1  \\\n",
       "2  {\"product_specification\"=>[{\"key\"=>\"Material\",...            4  Baby Care   \n",
       "\n",
       "         category_2  \n",
       "2  Baby Bath & Skin  "
      ]
     },
     "execution_count": 28,
     "metadata": {},
     "output_type": "execute_result"
    }
   ],
   "source": [
    "df_data[df_data[\"retail_price\"].isna()]"
   ]
  },
  {
   "cell_type": "markdown",
   "id": "74e56029-9dec-400d-a687-98bd228f3b2b",
   "metadata": {},
   "source": [
    "<div class=\"alert alert-block alert-success\">\n",
    "    <p>Let's get to the mean of the <b>retail_price</b> based on the firsts two categories in the tree</p>\n",
    "</div>"
   ]
  },
  {
   "cell_type": "code",
   "execution_count": 29,
   "id": "a9ad86ab-e577-4855-b01f-05a1a0a92c91",
   "metadata": {},
   "outputs": [
    {
     "data": {
      "text/plain": [
       "1200.1538461538462"
      ]
     },
     "execution_count": 29,
     "metadata": {},
     "output_type": "execute_result"
    }
   ],
   "source": [
    "retail_price_mean = df_data[(df_data[\"category_1\"]==\"Baby Care\") & (df_data[\"category_2\"]==\"Baby Bath & Skin\")][\"retail_price\"].mean()\n",
    "retail_price_mean"
   ]
  },
  {
   "cell_type": "markdown",
   "id": "bd40dacd-b684-4f12-a7bf-1106e4a1a15e",
   "metadata": {},
   "source": [
    "<div class=\"alert alert-block alert-info\">\n",
    "    <p>Let's replace the missing-value into <b>retail_price</b></p>\n",
    "</div>"
   ]
  },
  {
   "cell_type": "code",
   "execution_count": 30,
   "id": "f3a74c0e-aec2-4e26-aac5-92002d9b7b44",
   "metadata": {},
   "outputs": [],
   "source": [
    "df_data[\"retail_price\"].fillna(retail_price_mean, inplace=True)"
   ]
  },
  {
   "cell_type": "markdown",
   "id": "89044011-c474-450a-a237-df87a4e8cb0d",
   "metadata": {},
   "source": [
    "<div class=\"alert alert-block alert-info\">\n",
    "    <p>Let's proceed to delete the categories features added</p>\n",
    "</div>"
   ]
  },
  {
   "cell_type": "code",
   "execution_count": 31,
   "id": "3b370839-9b99-4e0c-84ce-ea3f331ca669",
   "metadata": {},
   "outputs": [],
   "source": [
    "df_data.drop(columns=[\"tree_levels\", \"category_2\"], axis=1, inplace=True)"
   ]
  },
  {
   "cell_type": "markdown",
   "id": "cec8d697-7e29-4eea-86be-ccf27e266182",
   "metadata": {},
   "source": [
    "<div class=\"alert alert-block alert-info\">\n",
    "    <p>Let's analyze the dataset</p>\n",
    "</div>"
   ]
  },
  {
   "cell_type": "code",
   "execution_count": 32,
   "id": "6fcf5311-121a-4225-a014-38019c812341",
   "metadata": {},
   "outputs": [
    {
     "name": "stdout",
     "output_type": "stream",
     "text": [
      "\n",
      "Analysis Header of df_data dataset\n",
      "--------------------------------------------------------------------------------\n",
      "- Dataset shape:\t\t\t 1050 rows and 9 columns\n",
      "- Total of NaN values:\t\t\t 0\n",
      "- Percentage of NaN:\t\t\t 0.0 %\n",
      "- Total of full duplicates rows:\t 0\n",
      "- Total of empty rows:\t\t\t 0\n",
      "- Total of empty columns:\t\t 0\n",
      "- Unique indexes:\t\t\t True\n",
      "- Memory usage:\t\t\t\t 74.0+ KB\n",
      "\n",
      "Detailed analysis of df_data dataset\n",
      "------------------------------------------------------------------------------------------------------------------------------------\n"
     ]
    },
    {
     "data": {
      "text/html": [
       "<div>\n",
       "<style scoped>\n",
       "    .dataframe tbody tr th:only-of-type {\n",
       "        vertical-align: middle;\n",
       "    }\n",
       "\n",
       "    .dataframe tbody tr th {\n",
       "        vertical-align: top;\n",
       "    }\n",
       "\n",
       "    .dataframe thead th {\n",
       "        text-align: right;\n",
       "    }\n",
       "</style>\n",
       "<table border=\"1\" class=\"dataframe\">\n",
       "  <thead>\n",
       "    <tr style=\"text-align: right;\">\n",
       "      <th></th>\n",
       "      <th>name</th>\n",
       "      <th>type</th>\n",
       "      <th>records</th>\n",
       "      <th>unique</th>\n",
       "      <th># NaN</th>\n",
       "      <th>% NaN</th>\n",
       "      <th>mean</th>\n",
       "      <th>min</th>\n",
       "      <th>25%</th>\n",
       "      <th>50%</th>\n",
       "      <th>75%</th>\n",
       "      <th>max</th>\n",
       "      <th>std</th>\n",
       "    </tr>\n",
       "  </thead>\n",
       "  <tbody>\n",
       "    <tr>\n",
       "      <th>0</th>\n",
       "      <td>uniq_id</td>\n",
       "      <td>object</td>\n",
       "      <td>1050</td>\n",
       "      <td>1050</td>\n",
       "      <td>0</td>\n",
       "      <td>0.00000</td>\n",
       "      <td>NaN</td>\n",
       "      <td>NaN</td>\n",
       "      <td>NaN</td>\n",
       "      <td>NaN</td>\n",
       "      <td>NaN</td>\n",
       "      <td>NaN</td>\n",
       "      <td>NaN</td>\n",
       "    </tr>\n",
       "    <tr>\n",
       "      <th>1</th>\n",
       "      <td>product_name</td>\n",
       "      <td>object</td>\n",
       "      <td>1050</td>\n",
       "      <td>1050</td>\n",
       "      <td>0</td>\n",
       "      <td>0.00000</td>\n",
       "      <td>NaN</td>\n",
       "      <td>NaN</td>\n",
       "      <td>NaN</td>\n",
       "      <td>NaN</td>\n",
       "      <td>NaN</td>\n",
       "      <td>NaN</td>\n",
       "      <td>NaN</td>\n",
       "    </tr>\n",
       "    <tr>\n",
       "      <th>2</th>\n",
       "      <td>product_category_tree</td>\n",
       "      <td>object</td>\n",
       "      <td>1050</td>\n",
       "      <td>642</td>\n",
       "      <td>0</td>\n",
       "      <td>0.00000</td>\n",
       "      <td>NaN</td>\n",
       "      <td>NaN</td>\n",
       "      <td>NaN</td>\n",
       "      <td>NaN</td>\n",
       "      <td>NaN</td>\n",
       "      <td>NaN</td>\n",
       "      <td>NaN</td>\n",
       "    </tr>\n",
       "    <tr>\n",
       "      <th>3</th>\n",
       "      <td>retail_price</td>\n",
       "      <td>float64</td>\n",
       "      <td>1050</td>\n",
       "      <td>355</td>\n",
       "      <td>0</td>\n",
       "      <td>0.00000</td>\n",
       "      <td>2185.25824</td>\n",
       "      <td>35.00000</td>\n",
       "      <td>555.75000</td>\n",
       "      <td>999.00000</td>\n",
       "      <td>1999.00000</td>\n",
       "      <td>201000.00000</td>\n",
       "      <td>7635.64798</td>\n",
       "    </tr>\n",
       "    <tr>\n",
       "      <th>4</th>\n",
       "      <td>image</td>\n",
       "      <td>object</td>\n",
       "      <td>1050</td>\n",
       "      <td>1050</td>\n",
       "      <td>0</td>\n",
       "      <td>0.00000</td>\n",
       "      <td>NaN</td>\n",
       "      <td>NaN</td>\n",
       "      <td>NaN</td>\n",
       "      <td>NaN</td>\n",
       "      <td>NaN</td>\n",
       "      <td>NaN</td>\n",
       "      <td>NaN</td>\n",
       "    </tr>\n",
       "    <tr>\n",
       "      <th>5</th>\n",
       "      <td>description</td>\n",
       "      <td>object</td>\n",
       "      <td>1050</td>\n",
       "      <td>1050</td>\n",
       "      <td>0</td>\n",
       "      <td>0.00000</td>\n",
       "      <td>NaN</td>\n",
       "      <td>NaN</td>\n",
       "      <td>NaN</td>\n",
       "      <td>NaN</td>\n",
       "      <td>NaN</td>\n",
       "      <td>NaN</td>\n",
       "      <td>NaN</td>\n",
       "    </tr>\n",
       "    <tr>\n",
       "      <th>6</th>\n",
       "      <td>brand</td>\n",
       "      <td>object</td>\n",
       "      <td>1050</td>\n",
       "      <td>491</td>\n",
       "      <td>0</td>\n",
       "      <td>0.00000</td>\n",
       "      <td>NaN</td>\n",
       "      <td>NaN</td>\n",
       "      <td>NaN</td>\n",
       "      <td>NaN</td>\n",
       "      <td>NaN</td>\n",
       "      <td>NaN</td>\n",
       "      <td>NaN</td>\n",
       "    </tr>\n",
       "    <tr>\n",
       "      <th>7</th>\n",
       "      <td>product_specifications</td>\n",
       "      <td>object</td>\n",
       "      <td>1050</td>\n",
       "      <td>985</td>\n",
       "      <td>0</td>\n",
       "      <td>0.00000</td>\n",
       "      <td>NaN</td>\n",
       "      <td>NaN</td>\n",
       "      <td>NaN</td>\n",
       "      <td>NaN</td>\n",
       "      <td>NaN</td>\n",
       "      <td>NaN</td>\n",
       "      <td>NaN</td>\n",
       "    </tr>\n",
       "    <tr>\n",
       "      <th>8</th>\n",
       "      <td>category_1</td>\n",
       "      <td>object</td>\n",
       "      <td>1050</td>\n",
       "      <td>7</td>\n",
       "      <td>0</td>\n",
       "      <td>0.00000</td>\n",
       "      <td>NaN</td>\n",
       "      <td>NaN</td>\n",
       "      <td>NaN</td>\n",
       "      <td>NaN</td>\n",
       "      <td>NaN</td>\n",
       "      <td>NaN</td>\n",
       "      <td>NaN</td>\n",
       "    </tr>\n",
       "  </tbody>\n",
       "</table>\n",
       "</div>"
      ],
      "text/plain": [
       "                     name     type  records  unique  # NaN   % NaN       mean  \\\n",
       "0                 uniq_id   object     1050    1050      0 0.00000        NaN   \n",
       "1            product_name   object     1050    1050      0 0.00000        NaN   \n",
       "2   product_category_tree   object     1050     642      0 0.00000        NaN   \n",
       "3            retail_price  float64     1050     355      0 0.00000 2185.25824   \n",
       "4                   image   object     1050    1050      0 0.00000        NaN   \n",
       "5             description   object     1050    1050      0 0.00000        NaN   \n",
       "6                   brand   object     1050     491      0 0.00000        NaN   \n",
       "7  product_specifications   object     1050     985      0 0.00000        NaN   \n",
       "8              category_1   object     1050       7      0 0.00000        NaN   \n",
       "\n",
       "       min       25%       50%        75%          max        std  \n",
       "0      NaN       NaN       NaN        NaN          NaN        NaN  \n",
       "1      NaN       NaN       NaN        NaN          NaN        NaN  \n",
       "2      NaN       NaN       NaN        NaN          NaN        NaN  \n",
       "3 35.00000 555.75000 999.00000 1999.00000 201000.00000 7635.64798  \n",
       "4      NaN       NaN       NaN        NaN          NaN        NaN  \n",
       "5      NaN       NaN       NaN        NaN          NaN        NaN  \n",
       "6      NaN       NaN       NaN        NaN          NaN        NaN  \n",
       "7      NaN       NaN       NaN        NaN          NaN        NaN  \n",
       "8      NaN       NaN       NaN        NaN          NaN        NaN  "
      ]
     },
     "metadata": {},
     "output_type": "display_data"
    }
   ],
   "source": [
    "df_analysis(df_data, \"df_data\", type_analysis=\"complete\")"
   ]
  },
  {
   "cell_type": "markdown",
   "id": "0a90d67a-df78-4ac5-906c-faa2bc2bde89",
   "metadata": {},
   "source": [
    "<div class=\"alert alert-block alert-success\">\n",
    "    <p><b>Observations / Conclusions</b></p>\n",
    "    <p>At this point, we have the dataset without missing-values.</p>\n",
    "    <p>Let's proced to make the normalization.</p>\n",
    "</div>"
   ]
  },
  {
   "cell_type": "markdown",
   "id": "db744315-9d5c-4c05-9203-6cb467b03060",
   "metadata": {
    "tags": []
   },
   "source": [
    "<div style=\"background-color: #506AB9;\" >\n",
    "    <h2 style=\"margin: auto; padding: 20px; color:#fff; \">5. Pre-processing Text data</h2>\n",
    "</div>"
   ]
  },
  {
   "cell_type": "markdown",
   "id": "00ee070b-348c-49de-8957-fc6c380fa6d4",
   "metadata": {
    "tags": []
   },
   "source": [
    "<div class=\"alert alert-block alert-info\">\n",
    "    <p>We are going to process the following features</p>\n",
    "    <ol>\n",
    "        <li>product_name</li>\n",
    "        <li>product_category_tree</li>\n",
    "        <li>description</li>\n",
    "        <li>brand</li>\n",
    "    </ol>\n",
    "</div>"
   ]
  },
  {
   "cell_type": "code",
   "execution_count": 33,
   "id": "40b29712-9129-4931-895b-72a7933b91cb",
   "metadata": {},
   "outputs": [],
   "source": [
    "text_columns = [\n",
    "    \"product_name\", \"product_category_tree\",\n",
    "    \"description\", \"brand\", \"product_specifications\"\n",
    "]"
   ]
  },
  {
   "cell_type": "markdown",
   "id": "23704951-9ab3-4866-9991-2668592e5a86",
   "metadata": {},
   "source": [
    "<div style=\"background-color: #6D83C5;\" >\n",
    "    <h3 style=\"margin: auto; padding: 20px; color:#fff; \">5.1. Analyzing the characters in the features</h3>\n",
    "</div>"
   ]
  },
  {
   "cell_type": "markdown",
   "id": "6b694be4-ed90-4293-83f4-bd2df240984e",
   "metadata": {
    "tags": []
   },
   "source": [
    "<div class=\"alert alert-block alert-info\">\n",
    "    <p>Before doing the steps above, let's check what type of character we have in the dataset.<br>Then we can use the appropriate tokenizer</p>\n",
    "</div>"
   ]
  },
  {
   "cell_type": "code",
   "execution_count": 34,
   "id": "5d0b4917-65ae-4322-9113-7a5c14182e3e",
   "metadata": {},
   "outputs": [],
   "source": [
    "character_type = [\"numerical\", \"special\"]\n",
    "\n",
    "for col in text_columns:\n",
    "    \n",
    "    # checking the character in each sample by feature\n",
    "    df_data[col + \"_check\"] = df_data[col].apply(lambda x: check_characters(x))\n",
    "    \n",
    "    # Normalizing to column, the dict in the sample\n",
    "    globals()[\"df_\" + col + \"_check\"] = pd.json_normalize(df_data[col + \"_check\"])\n",
    "    \n",
    "    # Counting the characters uniques by feature\n",
    "    for val in character_type:\n",
    "        globals()[\"dict_\" + col + \"_\" + val] = {}\n",
    "\n",
    "        for i in globals()[\"df_\" + col + \"_check\"][val]:\n",
    "            for j in i:\n",
    "                if j not in globals()[\"dict_\" + col + \"_\" + val]:\n",
    "                    globals()[\"dict_\" + col + \"_\" + val][j] = 1\n",
    "                else:\n",
    "                    globals()[\"dict_\" + col + \"_\" + val][j] += 1\n",
    "                    \n",
    "        # Sorting dict by value descending\n",
    "        globals()[\"dict_\" + col + \"_\" + val] = sorted(globals()[\"dict_\" + col + \"_\" + val].items(),\n",
    "                                                      key=operator.itemgetter(1), reverse=True)\n",
    "        globals()[\"dict_\" + col + \"_\" + val] = {k:v for k, v in globals()[\"dict_\" + col + \"_\" + val]}\n",
    "        \n",
    "        # Creating dataset based on the dict\n",
    "        if val == \"special\":\n",
    "            globals()[\"df_\" + col + \"_\" + val] = pd.DataFrame({\"character\" : list(globals()[\"dict_\" + col + \"_\" + val].keys()),\n",
    "                                                              \"number\" : list(globals()[\"dict_\" + col + \"_\" + val].values())})"
   ]
  },
  {
   "cell_type": "markdown",
   "id": "d105d78f-2626-45ad-b5e4-f4aed1e18de4",
   "metadata": {
    "tags": []
   },
   "source": [
    "<div class=\"alert alert-block alert-info\">\n",
    "    <p>Plotting the special characters in <b>description</b></p>\n",
    "</div>"
   ]
  },
  {
   "cell_type": "code",
   "execution_count": 35,
   "id": "e1231b0f-066f-43d0-8e3e-06bc162bbefd",
   "metadata": {},
   "outputs": [
    {
     "name": "stderr",
     "output_type": "stream",
     "text": [
      "C:\\Users\\Samir\\anaconda3\\lib\\site-packages\\matplotlib\\backends\\backend_agg.py:238: RuntimeWarning: Glyph 65533 missing from current font.\n",
      "  font.set_text(s, 0.0, flags=flags)\n",
      "C:\\Users\\Samir\\anaconda3\\lib\\site-packages\\matplotlib\\backends\\backend_agg.py:201: RuntimeWarning: Glyph 65533 missing from current font.\n",
      "  font.set_text(s, 0, flags=flags)\n"
     ]
    },
    {
     "data": {
      "image/png": "[encoded data removed]",
      "text/plain": [
       "<Figure size 720x504 with 1 Axes>"
      ]
     },
     "metadata": {},
     "output_type": "display_data"
    }
   ],
   "source": [
    "fig = plt.figure(figsize=(10, 7))\n",
    "plot = sns.barplot(x=df_description_special[\"character\"], y=df_description_special[\"number\"])\n",
    "for p in plot.patches:\n",
    "    plot.annotate(format(p.get_height(), \".1f\"), (p.get_x() + p.get_width() / 2., p.get_height()), \n",
    "                    ha=\"center\", va=\"center\", xytext=(0, 9), textcoords=\"offset points\")\n",
    "plt.ylabel(\"Number\", size=12)\n",
    "plt.xlabel(\"character\", size=12)\n",
    "plt.title(\"Special characters in \\\"description\\\"\", size=16)\n",
    "plt.tight_layout()\n",
    "plt.show()"
   ]
  },
  {
   "cell_type": "markdown",
   "id": "9c7e3c45-dcca-4bb8-a77f-dfa4a10c7459",
   "metadata": {
    "tags": []
   },
   "source": [
    "<div class=\"alert alert-block alert-info\">\n",
    "    <p>Plotting the special characters in <b>product_category_tree</b></p>\n",
    "</div>"
   ]
  },
  {
   "cell_type": "code",
   "execution_count": 36,
   "id": "efb09405-4967-4c8e-b75f-0bc811afbbd5",
   "metadata": {},
   "outputs": [
    {
     "name": "stderr",
     "output_type": "stream",
     "text": [
      "C:\\Users\\Samir\\anaconda3\\lib\\site-packages\\matplotlib\\backends\\backend_agg.py:238: RuntimeWarning: Glyph 65533 missing from current font.\n",
      "  font.set_text(s, 0.0, flags=flags)\n",
      "C:\\Users\\Samir\\anaconda3\\lib\\site-packages\\matplotlib\\backends\\backend_agg.py:201: RuntimeWarning: Glyph 65533 missing from current font.\n",
      "  font.set_text(s, 0, flags=flags)\n"
     ]
    },
    {
     "data": {
      "image/png": "[encoded data removed]",
      "text/plain": [
       "<Figure size 720x504 with 1 Axes>"
      ]
     },
     "metadata": {},
     "output_type": "display_data"
    }
   ],
   "source": [
    "fig = plt.figure(figsize=(10, 7))\n",
    "plot = sns.barplot(x=df_product_category_tree_special[\"character\"], y=df_product_category_tree_special[\"number\"])\n",
    "for p in plot.patches:\n",
    "    plot.annotate(format(p.get_height(), \".1f\"), (p.get_x() + p.get_width() / 2., p.get_height()), \n",
    "                    ha=\"center\", va=\"center\", xytext=(0, 9), textcoords=\"offset points\")\n",
    "plt.ylabel(\"Number\", size=12)\n",
    "plt.xlabel(\"character\", size=12)\n",
    "plt.title(\"Special characters in \\\"product_category_tree\\\"\", size=16)\n",
    "plt.tight_layout()\n",
    "plt.show()"
   ]
  },
  {
   "cell_type": "markdown",
   "id": "7fbf3169-c378-4895-8777-5c1a23347b51",
   "metadata": {
    "tags": []
   },
   "source": [
    "<div class=\"alert alert-block alert-info\">\n",
    "    <p>Plotting the special characters in <b>product_specifications</b></p>\n",
    "</div>"
   ]
  },
  {
   "cell_type": "code",
   "execution_count": 37,
   "id": "69a2c4bb-e9e6-44fb-801f-3ca84df2f4eb",
   "metadata": {},
   "outputs": [
    {
     "name": "stderr",
     "output_type": "stream",
     "text": [
      "C:\\Users\\Samir\\anaconda3\\lib\\site-packages\\matplotlib\\backends\\backend_agg.py:238: RuntimeWarning: Glyph 65533 missing from current font.\n",
      "  font.set_text(s, 0.0, flags=flags)\n",
      "C:\\Users\\Samir\\anaconda3\\lib\\site-packages\\matplotlib\\backends\\backend_agg.py:201: RuntimeWarning: Glyph 65533 missing from current font.\n",
      "  font.set_text(s, 0, flags=flags)\n"
     ]
    },
    {
     "data": {
      "image/png": "[encoded data removed]",
      "text/plain": [
       "<Figure size 720x504 with 1 Axes>"
      ]
     },
     "metadata": {},
     "output_type": "display_data"
    }
   ],
   "source": [
    "fig = plt.figure(figsize=(10, 7))\n",
    "plot = sns.barplot(x=df_product_specifications_special[\"character\"], y=df_product_specifications_special[\"number\"])\n",
    "for p in plot.patches:\n",
    "    plot.annotate(format(p.get_height(), \".1f\"), (p.get_x() + p.get_width() / 2., p.get_height()), \n",
    "                    ha=\"center\", va=\"center\", xytext=(0, 9), textcoords=\"offset points\")\n",
    "plt.ylabel(\"Number\", size=12)\n",
    "plt.xlabel(\"character\", size=12)\n",
    "plt.title(\"Special characters in \\\"product_specifications\\\"\", size=16)\n",
    "plt.tight_layout()\n",
    "plt.show()"
   ]
  },
  {
   "cell_type": "markdown",
   "id": "0a4cf21e-b7a2-45d0-9fde-065e9c691468",
   "metadata": {
    "tags": []
   },
   "source": [
    "<div class=\"alert alert-block alert-info\">\n",
    "    <p>Printing the digit characters in <b>product_name</b>, <b>product_category_tree</b>, <b>description</b>, <b>brand</b></p>\n",
    "</div>"
   ]
  },
  {
   "cell_type": "code",
   "execution_count": 38,
   "id": "ed79f269-7dd0-441a-a73a-e1bf7bdea3ba",
   "metadata": {},
   "outputs": [
    {
     "name": "stdout",
     "output_type": "stream",
     "text": [
      "product_name has 10 digit used\n",
      "product_category_tree has 10 digit used\n",
      "description has 10 digit used\n",
      "brand has 8 digit used\n",
      "product_specifications has 10 digit used\n"
     ]
    }
   ],
   "source": [
    "for col in text_columns:\n",
    "    print(col + \" has \" + str(len(globals()[\"dict_\" + col + \"_numerical\"])) + \" digit used\")"
   ]
  },
  {
   "cell_type": "markdown",
   "id": "786ac824-9b03-4f08-8404-51369be2913d",
   "metadata": {},
   "source": [
    "<div class=\"alert alert-block alert-success\">\n",
    "    <p><b>Observations / Conclusions</b></p>\n",
    "    <ul style=\"list-style-type: square;\">\n",
    "        <li>The 4 features have used numerical characters.</li>\n",
    "        <li>It seems there are contractions in the text so, it is necessary to check this point.</li>\n",
    "    </ul>\n",
    "</div>"
   ]
  },
  {
   "cell_type": "markdown",
   "id": "8d8e5353-ae16-4d79-b283-ab7b7eba7e0c",
   "metadata": {
    "tags": []
   },
   "source": [
    "<div class=\"alert alert-block alert-info\">\n",
    "    <p>Deleting the datasets</p>\n",
    "</div>"
   ]
  },
  {
   "cell_type": "code",
   "execution_count": 39,
   "id": "a008ec99-7971-4a7d-84a9-7dd642cc297f",
   "metadata": {},
   "outputs": [],
   "source": [
    "for col in text_columns:\n",
    "    \n",
    "    del globals()[\"df_\" + col + \"_check\"]\n",
    "    del globals()[\"df_\" + col + \"_special\"]\n",
    "    \n",
    "    del df_data[col + \"_check\"]\n",
    "        \n",
    "    gc.collect()"
   ]
  },
  {
   "cell_type": "code",
   "execution_count": 40,
   "id": "8664019c-8913-4ecd-b98b-38c39c24207a",
   "metadata": {},
   "outputs": [
    {
     "data": {
      "text/html": [
       "<div>\n",
       "<style scoped>\n",
       "    .dataframe tbody tr th:only-of-type {\n",
       "        vertical-align: middle;\n",
       "    }\n",
       "\n",
       "    .dataframe tbody tr th {\n",
       "        vertical-align: top;\n",
       "    }\n",
       "\n",
       "    .dataframe thead th {\n",
       "        text-align: right;\n",
       "    }\n",
       "</style>\n",
       "<table border=\"1\" class=\"dataframe\">\n",
       "  <thead>\n",
       "    <tr style=\"text-align: right;\">\n",
       "      <th></th>\n",
       "      <th>uniq_id</th>\n",
       "      <th>product_name</th>\n",
       "      <th>product_category_tree</th>\n",
       "      <th>retail_price</th>\n",
       "      <th>image</th>\n",
       "      <th>description</th>\n",
       "      <th>brand</th>\n",
       "      <th>product_specifications</th>\n",
       "      <th>category_1</th>\n",
       "    </tr>\n",
       "  </thead>\n",
       "  <tbody>\n",
       "    <tr>\n",
       "      <th>0</th>\n",
       "      <td>55b85ea15a1536d46b7190ad6fff8ce7</td>\n",
       "      <td>Elegance Polyester Multicolor Abstract Eyelet ...</td>\n",
       "      <td>[\"Home Furnishing &gt;&gt; Curtains &amp; Accessories &gt;&gt;...</td>\n",
       "      <td>1899.000000</td>\n",
       "      <td>55b85ea15a1536d46b7190ad6fff8ce7.jpg</td>\n",
       "      <td>Key Features of Elegance Polyester Multicolor ...</td>\n",
       "      <td>Elegance</td>\n",
       "      <td>{\"product_specification\"=&gt;[{\"key\"=&gt;\"Brand\", \"v...</td>\n",
       "      <td>Home Furnishing</td>\n",
       "    </tr>\n",
       "    <tr>\n",
       "      <th>1</th>\n",
       "      <td>7b72c92c2f6c40268628ec5f14c6d590</td>\n",
       "      <td>Sathiyas Cotton Bath Towel</td>\n",
       "      <td>[\"Baby Care &gt;&gt; Baby Bath &amp; Skin &gt;&gt; Baby Bath T...</td>\n",
       "      <td>600.000000</td>\n",
       "      <td>7b72c92c2f6c40268628ec5f14c6d590.jpg</td>\n",
       "      <td>Specifications of Sathiyas Cotton Bath Towel (...</td>\n",
       "      <td>Sathiyas</td>\n",
       "      <td>{\"product_specification\"=&gt;[{\"key\"=&gt;\"Machine Wa...</td>\n",
       "      <td>Baby Care</td>\n",
       "    </tr>\n",
       "    <tr>\n",
       "      <th>2</th>\n",
       "      <td>64d5d4a258243731dc7bbb1eef49ad74</td>\n",
       "      <td>Eurospa Cotton Terry Face Towel Set</td>\n",
       "      <td>[\"Baby Care &gt;&gt; Baby Bath &amp; Skin &gt;&gt; Baby Bath T...</td>\n",
       "      <td>1200.153846</td>\n",
       "      <td>64d5d4a258243731dc7bbb1eef49ad74.jpg</td>\n",
       "      <td>Key Features of Eurospa Cotton Terry Face Towe...</td>\n",
       "      <td>Eurospa</td>\n",
       "      <td>{\"product_specification\"=&gt;[{\"key\"=&gt;\"Material\",...</td>\n",
       "      <td>Baby Care</td>\n",
       "    </tr>\n",
       "    <tr>\n",
       "      <th>3</th>\n",
       "      <td>d4684dcdc759dd9cdf41504698d737d8</td>\n",
       "      <td>SANTOSH ROYAL FASHION Cotton Printed King size...</td>\n",
       "      <td>[\"Home Furnishing &gt;&gt; Bed Linen &gt;&gt; Bedsheets &gt;&gt;...</td>\n",
       "      <td>2699.000000</td>\n",
       "      <td>d4684dcdc759dd9cdf41504698d737d8.jpg</td>\n",
       "      <td>Key Features of SANTOSH ROYAL FASHION Cotton P...</td>\n",
       "      <td>SANTOSH ROYAL FASHION</td>\n",
       "      <td>{\"product_specification\"=&gt;[{\"key\"=&gt;\"Brand\", \"v...</td>\n",
       "      <td>Home Furnishing</td>\n",
       "    </tr>\n",
       "    <tr>\n",
       "      <th>4</th>\n",
       "      <td>6325b6870c54cd47be6ebfbffa620ec7</td>\n",
       "      <td>Jaipur Print Cotton Floral King sized Double B...</td>\n",
       "      <td>[\"Home Furnishing &gt;&gt; Bed Linen &gt;&gt; Bedsheets &gt;&gt;...</td>\n",
       "      <td>2599.000000</td>\n",
       "      <td>6325b6870c54cd47be6ebfbffa620ec7.jpg</td>\n",
       "      <td>Key Features of Jaipur Print Cotton Floral Kin...</td>\n",
       "      <td>Jaipur Print</td>\n",
       "      <td>{\"product_specification\"=&gt;[{\"key\"=&gt;\"Machine Wa...</td>\n",
       "      <td>Home Furnishing</td>\n",
       "    </tr>\n",
       "  </tbody>\n",
       "</table>\n",
       "</div>"
      ],
      "text/plain": [
       "                            uniq_id  \\\n",
       "0  55b85ea15a1536d46b7190ad6fff8ce7   \n",
       "1  7b72c92c2f6c40268628ec5f14c6d590   \n",
       "2  64d5d4a258243731dc7bbb1eef49ad74   \n",
       "3  d4684dcdc759dd9cdf41504698d737d8   \n",
       "4  6325b6870c54cd47be6ebfbffa620ec7   \n",
       "\n",
       "                                        product_name  \\\n",
       "0  Elegance Polyester Multicolor Abstract Eyelet ...   \n",
       "1                         Sathiyas Cotton Bath Towel   \n",
       "2                Eurospa Cotton Terry Face Towel Set   \n",
       "3  SANTOSH ROYAL FASHION Cotton Printed King size...   \n",
       "4  Jaipur Print Cotton Floral King sized Double B...   \n",
       "\n",
       "                               product_category_tree  retail_price  \\\n",
       "0  [\"Home Furnishing >> Curtains & Accessories >>...   1899.000000   \n",
       "1  [\"Baby Care >> Baby Bath & Skin >> Baby Bath T...    600.000000   \n",
       "2  [\"Baby Care >> Baby Bath & Skin >> Baby Bath T...   1200.153846   \n",
       "3  [\"Home Furnishing >> Bed Linen >> Bedsheets >>...   2699.000000   \n",
       "4  [\"Home Furnishing >> Bed Linen >> Bedsheets >>...   2599.000000   \n",
       "\n",
       "                                  image  \\\n",
       "0  55b85ea15a1536d46b7190ad6fff8ce7.jpg   \n",
       "1  7b72c92c2f6c40268628ec5f14c6d590.jpg   \n",
       "2  64d5d4a258243731dc7bbb1eef49ad74.jpg   \n",
       "3  d4684dcdc759dd9cdf41504698d737d8.jpg   \n",
       "4  6325b6870c54cd47be6ebfbffa620ec7.jpg   \n",
       "\n",
       "                                         description                  brand  \\\n",
       "0  Key Features of Elegance Polyester Multicolor ...               Elegance   \n",
       "1  Specifications of Sathiyas Cotton Bath Towel (...               Sathiyas   \n",
       "2  Key Features of Eurospa Cotton Terry Face Towe...                Eurospa   \n",
       "3  Key Features of SANTOSH ROYAL FASHION Cotton P...  SANTOSH ROYAL FASHION   \n",
       "4  Key Features of Jaipur Print Cotton Floral Kin...           Jaipur Print   \n",
       "\n",
       "                              product_specifications       category_1  \n",
       "0  {\"product_specification\"=>[{\"key\"=>\"Brand\", \"v...  Home Furnishing  \n",
       "1  {\"product_specification\"=>[{\"key\"=>\"Machine Wa...        Baby Care  \n",
       "2  {\"product_specification\"=>[{\"key\"=>\"Material\",...        Baby Care  \n",
       "3  {\"product_specification\"=>[{\"key\"=>\"Brand\", \"v...  Home Furnishing  \n",
       "4  {\"product_specification\"=>[{\"key\"=>\"Machine Wa...  Home Furnishing  "
      ]
     },
     "execution_count": 40,
     "metadata": {},
     "output_type": "execute_result"
    }
   ],
   "source": [
    "df_data.head()"
   ]
  },
  {
   "cell_type": "markdown",
   "id": "6cbd9c9b-7730-4fb7-b863-9e1be7bea3be",
   "metadata": {},
   "source": [
    "<div style=\"background-color: #6D83C5;\" >\n",
    "    <h4 style=\"margin: auto; padding: 20px; color:#fff; \">5.1.1. Checking contractions</h4>\n",
    "</div>"
   ]
  },
  {
   "cell_type": "markdown",
   "id": "d033b23b-548c-4572-905e-74ee245fcdca",
   "metadata": {
    "tags": []
   },
   "source": [
    "<div class=\"alert alert-block alert-info\">\n",
    "    <p>Let's check some contractions in the description</p>\n",
    "</div>"
   ]
  },
  {
   "cell_type": "code",
   "execution_count": 41,
   "id": "90387773-4f28-4cab-a5e0-ee81e3f8ec27",
   "metadata": {},
   "outputs": [],
   "source": [
    "characters_to_check = [\"\\'re\", \"\\'d\", \"\\'t\"]"
   ]
  },
  {
   "cell_type": "code",
   "execution_count": 42,
   "id": "e2d30c6d-a21b-4fbc-aea9-4998f7ec79b3",
   "metadata": {},
   "outputs": [],
   "source": [
    "df_check_characters = df_data[[\"description\"]].copy()"
   ]
  },
  {
   "cell_type": "code",
   "execution_count": 43,
   "id": "36b1dfce-5484-4ae3-ac59-b8197706837f",
   "metadata": {},
   "outputs": [],
   "source": [
    "pd.set_option(\"display.max_rows\", None) # show full of showing rows\n",
    "pd.set_option(\"display.max_columns\", None) # show full of showing cols\n",
    "pd.set_option(\"display.max_colwidth\", None) # show full width of showing cols\n",
    "pd.set_option(\"display.float_format\", lambda x: \"%.5f\" % x) # show full content in cell    "
   ]
  },
  {
   "cell_type": "code",
   "execution_count": 44,
   "id": "5bae9a89-07d2-4bda-8492-c0816a463944",
   "metadata": {},
   "outputs": [
    {
     "data": {
      "text/html": [
       "<div>\n",
       "<style scoped>\n",
       "    .dataframe tbody tr th:only-of-type {\n",
       "        vertical-align: middle;\n",
       "    }\n",
       "\n",
       "    .dataframe tbody tr th {\n",
       "        vertical-align: top;\n",
       "    }\n",
       "\n",
       "    .dataframe thead th {\n",
       "        text-align: right;\n",
       "    }\n",
       "</style>\n",
       "<table border=\"1\" class=\"dataframe\">\n",
       "  <thead>\n",
       "    <tr style=\"text-align: right;\">\n",
       "      <th></th>\n",
       "      <th>description</th>\n",
       "    </tr>\n",
       "  </thead>\n",
       "  <tbody>\n",
       "    <tr>\n",
       "      <th>171</th>\n",
       "      <td>Buy Prithish We're All Mad Here Ceramic Mug for Rs.175 online. Prithish We're All Mad Here Ceramic Mug at best prices with FREE shipping &amp; cash on delivery. Only Genuine Products. 30 Day Replacement Guarantee.</td>\n",
       "    </tr>\n",
       "    <tr>\n",
       "      <th>187</th>\n",
       "      <td>Prithish Wild And Free Ceramic Mug (330 ml)\\r\\n                         Price: Rs. 175\\r\\n\\t\\t\\t\\t\\r\\n\\t\\t\\t\"Get talking with your coffee! Our wide selection of cute and catchy designs means you're sure to find the quote that says what it is, the way it is. And if these mugs bring on the smiles, don't forget to share them. Mugs like these make great gifts! Each mug is beautifully designed with quality ink and attractive graphics, perfect for all around enjoyment.\" \"Express yourself! Our distinctive coffee mugs give you the freedom to broadcast your own special message, from holiday cheer to your love of cupcakes. These affordable mugs are also perfect for gifting, so you can show others just how well you know them. Break out the mugs, and bring on the laughs! Happy sipping!\\r\\n\"Get talking with your coffee! Our wide selection of cute and catchy designs means you're sure to find the quote that says what it is, the way it is. And if these mugs bring on the smiles, don't forget to share them. Mugs like these make great gifts! Each mug is beautifully designed with quality ink and attractive graphics, perfect for all around enjoyment.\" \"Express yourself! Our distinctive coffee mugs give you the freedom to broadcast your own special message, from holiday cheer to your love of cupcakes. These affordable mugs are also perfect for gifting, so you can show others just how well you know them. Break out the mugs, and bring on the laughs! Happy sipping!</td>\n",
       "    </tr>\n",
       "    <tr>\n",
       "      <th>917</th>\n",
       "      <td>Megaway 196.85 inch White Rice Lights (Pack of 5)\\r\\n                         Price: Rs. 4,050\\r\\n\\t\\t\\t\\t\\r\\n\\t\\t\\tWarning: Don't Direct Plug into AC Power Supply, Use 12V LED Adaptor provided along with the Strip Light. Warranty for Adaptor is for 6 months only.\\r\\nWarning: Don't Direct Plug into AC Power Supply, Use 12V LED Adaptor provided along with the Strip Light. Warranty for Adaptor is for 6 months only.</td>\n",
       "    </tr>\n",
       "    <tr>\n",
       "      <th>966</th>\n",
       "      <td>Checkered Chef Steel All-Purpose Scissor (Red, Black, Silver, Pack of 1) Price: Rs. 1,921 YOUR SEARCH IS OVER YOU HAVE FINALLY FOUND THE ONLY PAIR OF MULTIFUNCTION KITCHEN SCISSORS YOU WILL EVER NEED - Tackle any kitchen cutting job - fresh chicken, cooked chicken, herbs, meat, vegetables, bones, ribs and cardboard. - Razor sharp stainless steel blades enable you to cut virtually anything with ease! - No more aching fingers! Soft rubberized handles and quality precision workmanship make cutting a breeze! Easy To Clean And Safe Too! Everyone knows that kitchen scissors that don't come apart pose a health risk - they just can't be cleaned properly! But scissors that come apart too easily are annoying and dangerous! Checkered Chef Multifunction Kitchen Scissors are specially designed to only come apart when opened all the way to 90 degrees - wider than the normal cutting range. So you can use your scissors, and clean them too! What About All The Special Features? - Not just a pair of scissors - this is a multifunction kitchen tool! Use as a bottle opener, fish scaler, knife or even a screwdriver! - Our super strong magnetic sheath will keep your scissors safe and within reach at all times - never lose your scissors again! - You've never made a salad this easily - simply cut the lettuce and vegetables straight into the bowl! Are these really the best scissors you can buy? See the boy on our label? That's me - the \"Checkered Chef\". I like to cook and I like to wear checks, that's why they call me the Checkered Chef. I have tested every sample and proto-type that has crossed our kitchen bench. I proclaim these scissors quite simply, the best! Order today by clicking the \"Add to Cart\" tab, check them out for yourself and tell me what you think!,Specifications of Checkered Chef Steel All-Purpose Scissor (Red, Black, Silver, Pack of 1) General Brand Checkered Chef Handle Material Plastic Blade Material Steel Model Number The Original Heavy Duty Multifunction Kitchen Scissors Shears With Magnetic Holder Shade RED Type All-Purpose Scissor Color Red, Black, Silver In the Box Sales Package 1 kitchen scissor Pack of 1</td>\n",
       "    </tr>\n",
       "    <tr>\n",
       "      <th>972</th>\n",
       "      <td>Key Features of CALCULUS Baby Boy's Printed Casual Beige Shirt Fit: SLIM Suitable For: Western Wear Sleeve: Half Sleeve Fabric: COTTON Color:Beige Pattern:Printed Number Of Contents In Package:1,CALCULUS Baby Boy's Printed Casual Beige Shirt Price: Rs. 349 Let your junior enjoy comfort and the attention too in this Colorful solid casual shirt from CALCULUS. Made from Cotton, this lightweight and suitable for casual occasion. For care, wash in cold water and don't brush the garment.,Specifications of CALCULUS Baby Boy's Printed Casual Beige Shirt General Details Pattern Printed Occasion Casual Ideal For Baby Boy's Shirt Details Closure Button Sleeve Half Sleeve Number of Contents in Sales Package Pack of 1 Brand Fit SLIM Fabric COTTON Pockets With Pocket Fit Slim Additional Details Style Code CAL-KIDS-0021 In the Box 1 Kids Shirt Fabric Care Wash with like colours. Hand wash or machine wash with cold water. Use mild detergent. Tumble dry low. Dry in shade. Do not bleach. Iron as per tag.</td>\n",
       "    </tr>\n",
       "  </tbody>\n",
       "</table>\n",
       "</div>"
      ],
      "text/plain": [
       "                                                                                                                                                                                                                                                                                                                                                                                                                                                                                                                                                                                                                                                                                                                                                                                                                                                                                                                                                                                                                                                                                                                                                                                                                                                                                                                                                                                                                                                                                                                                                                                                                                                                                                                                                                                                                                                                                                                                                                                                                                                                                                                                                                                                                       description\n",
       "171                                                                                                                                                                                                                                                                                                                                                                                                                                                                                                                                                                                                                                                                                                                                                                                                                                                                                                                                                                                                                                                                                                                                                                                                                                                                                                                                                                                                                                                                                                                                                                                                                                                                                                                                                                                                                                                                                                                                                                                                              Buy Prithish We're All Mad Here Ceramic Mug for Rs.175 online. Prithish We're All Mad Here Ceramic Mug at best prices with FREE shipping & cash on delivery. Only Genuine Products. 30 Day Replacement Guarantee.\n",
       "187                                                                                                                                                                                                                                                                                                                                                                                                                                                                                                                                                                                                                                                                                                       Prithish Wild And Free Ceramic Mug (330 ml)\\r\\n                         Price: Rs. 175\\r\\n\\t\\t\\t\\t\\r\\n\\t\\t\\t\"Get talking with your coffee! Our wide selection of cute and catchy designs means you're sure to find the quote that says what it is, the way it is. And if these mugs bring on the smiles, don't forget to share them. Mugs like these make great gifts! Each mug is beautifully designed with quality ink and attractive graphics, perfect for all around enjoyment.\" \"Express yourself! Our distinctive coffee mugs give you the freedom to broadcast your own special message, from holiday cheer to your love of cupcakes. These affordable mugs are also perfect for gifting, so you can show others just how well you know them. Break out the mugs, and bring on the laughs! Happy sipping!\\r\\n\"Get talking with your coffee! Our wide selection of cute and catchy designs means you're sure to find the quote that says what it is, the way it is. And if these mugs bring on the smiles, don't forget to share them. Mugs like these make great gifts! Each mug is beautifully designed with quality ink and attractive graphics, perfect for all around enjoyment.\" \"Express yourself! Our distinctive coffee mugs give you the freedom to broadcast your own special message, from holiday cheer to your love of cupcakes. These affordable mugs are also perfect for gifting, so you can show others just how well you know them. Break out the mugs, and bring on the laughs! Happy sipping!\n",
       "917                                                                                                                                                                                                                                                                                                                                                                                                                                                                                                                                                                                                                                                                                                                                                                                                                                                                                                                                                                                                                                                                                                                                                                                                                                                                                                                                                                                                                                                                                                                                                                                                                                                                                                                                                                                               Megaway 196.85 inch White Rice Lights (Pack of 5)\\r\\n                         Price: Rs. 4,050\\r\\n\\t\\t\\t\\t\\r\\n\\t\\t\\tWarning: Don't Direct Plug into AC Power Supply, Use 12V LED Adaptor provided along with the Strip Light. Warranty for Adaptor is for 6 months only.\\r\\nWarning: Don't Direct Plug into AC Power Supply, Use 12V LED Adaptor provided along with the Strip Light. Warranty for Adaptor is for 6 months only.\n",
       "966  Checkered Chef Steel All-Purpose Scissor (Red, Black, Silver, Pack of 1) Price: Rs. 1,921 YOUR SEARCH IS OVER YOU HAVE FINALLY FOUND THE ONLY PAIR OF MULTIFUNCTION KITCHEN SCISSORS YOU WILL EVER NEED - Tackle any kitchen cutting job - fresh chicken, cooked chicken, herbs, meat, vegetables, bones, ribs and cardboard. - Razor sharp stainless steel blades enable you to cut virtually anything with ease! - No more aching fingers! Soft rubberized handles and quality precision workmanship make cutting a breeze! Easy To Clean And Safe Too! Everyone knows that kitchen scissors that don't come apart pose a health risk - they just can't be cleaned properly! But scissors that come apart too easily are annoying and dangerous! Checkered Chef Multifunction Kitchen Scissors are specially designed to only come apart when opened all the way to 90 degrees - wider than the normal cutting range. So you can use your scissors, and clean them too! What About All The Special Features? - Not just a pair of scissors - this is a multifunction kitchen tool! Use as a bottle opener, fish scaler, knife or even a screwdriver! - Our super strong magnetic sheath will keep your scissors safe and within reach at all times - never lose your scissors again! - You've never made a salad this easily - simply cut the lettuce and vegetables straight into the bowl! Are these really the best scissors you can buy? See the boy on our label? That's me - the \"Checkered Chef\". I like to cook and I like to wear checks, that's why they call me the Checkered Chef. I have tested every sample and proto-type that has crossed our kitchen bench. I proclaim these scissors quite simply, the best! Order today by clicking the \"Add to Cart\" tab, check them out for yourself and tell me what you think!,Specifications of Checkered Chef Steel All-Purpose Scissor (Red, Black, Silver, Pack of 1) General Brand Checkered Chef Handle Material Plastic Blade Material Steel Model Number The Original Heavy Duty Multifunction Kitchen Scissors Shears With Magnetic Holder Shade RED Type All-Purpose Scissor Color Red, Black, Silver In the Box Sales Package 1 kitchen scissor Pack of 1\n",
       "972                                                                                                                                                                                                                                                                                                                                                                                                                                                                                                                                                                                                                                                                                                                                                                                                                                                                                                                                                                                                                                                                                                                                                                                      Key Features of CALCULUS Baby Boy's Printed Casual Beige Shirt Fit: SLIM Suitable For: Western Wear Sleeve: Half Sleeve Fabric: COTTON Color:Beige Pattern:Printed Number Of Contents In Package:1,CALCULUS Baby Boy's Printed Casual Beige Shirt Price: Rs. 349 Let your junior enjoy comfort and the attention too in this Colorful solid casual shirt from CALCULUS. Made from Cotton, this lightweight and suitable for casual occasion. For care, wash in cold water and don't brush the garment.,Specifications of CALCULUS Baby Boy's Printed Casual Beige Shirt General Details Pattern Printed Occasion Casual Ideal For Baby Boy's Shirt Details Closure Button Sleeve Half Sleeve Number of Contents in Sales Package Pack of 1 Brand Fit SLIM Fabric COTTON Pockets With Pocket Fit Slim Additional Details Style Code CAL-KIDS-0021 In the Box 1 Kids Shirt Fabric Care Wash with like colours. Hand wash or machine wash with cold water. Use mild detergent. Tumble dry low. Dry in shade. Do not bleach. Iron as per tag."
      ]
     },
     "execution_count": 44,
     "metadata": {},
     "output_type": "execute_result"
    }
   ],
   "source": [
    "df_check_characters[df_check_characters[\"description\"].str.contains(\"|\".join(characters_to_check))].tail()"
   ]
  },
  {
   "cell_type": "code",
   "execution_count": 45,
   "id": "1ddb2e33-a24f-4144-af78-687faef163ac",
   "metadata": {},
   "outputs": [],
   "source": [
    "pd.reset_option(\"display.max_rows\") # reset max of showing rows\n",
    "pd.reset_option(\"display.max_columns\") # reset max of showing cols\n",
    "pd.reset_option(\"display.max_colwidth\") # reset width of showing cols\n",
    "pd.reset_option(\"display.float_format\") # reset show full content in cell"
   ]
  },
  {
   "cell_type": "markdown",
   "id": "e242fff8-ba33-4cc5-b111-126ea7838516",
   "metadata": {
    "tags": []
   },
   "source": [
    "<div class=\"alert alert-block alert-info\">\n",
    "    <p>Deleting the dataset</p>\n",
    "</div>"
   ]
  },
  {
   "cell_type": "code",
   "execution_count": 46,
   "id": "a1011770-fee9-4d24-8105-05e769c76309",
   "metadata": {},
   "outputs": [
    {
     "data": {
      "text/plain": [
       "51"
      ]
     },
     "execution_count": 46,
     "metadata": {},
     "output_type": "execute_result"
    }
   ],
   "source": [
    "del df_check_characters\n",
    "gc.collect()"
   ]
  },
  {
   "cell_type": "markdown",
   "id": "5604f0a5-d520-41fa-be7b-e05a764b4fc7",
   "metadata": {},
   "source": [
    "<div class=\"alert alert-block alert-warning\">\n",
    "    <p><b>Observations / Conclusions</b></p>\n",
    "    <p>At this point, we can see in the text:</p>\n",
    "    <ul style=\"list-style-type: square;\">\n",
    "        <li>Characters for new line, tabs, etc..</li>\n",
    "        <li>There are contractions in the descriptions.</li>\n",
    "    </ul>\n",
    "</div>"
   ]
  },
  {
   "cell_type": "markdown",
   "id": "7d968ff8-043f-4d2d-9cc2-a5e1355fb430",
   "metadata": {},
   "source": [
    "<div style=\"background-color: #6D83C5;\" >\n",
    "    <h3 style=\"margin: auto; padding: 20px; color:#fff; \">5.2. Tokenization</h3>\n",
    "</div>"
   ]
  },
  {
   "cell_type": "markdown",
   "id": "d41afc89-4eef-4a41-9698-5fce7145dd99",
   "metadata": {
    "tags": []
   },
   "source": [
    "<div class=\"alert alert-block alert-info\">\n",
    "    <p>To tokenize the text, we are going to do the following</p>\n",
    "    <ul style=\"list-style-type: square;\">\n",
    "        <li>Cleaning up the text</li>\n",
    "        <li>Remove stop words</li>\n",
    "    </ul>\n",
    "    <p>Finally, we are going to compare the results</p>\n",
    "</div>    \n",
    "</div>"
   ]
  },
  {
   "cell_type": "markdown",
   "id": "8d682036-097f-416d-87ae-ad4367de5934",
   "metadata": {},
   "source": [
    "<div style=\"background-color: #6D83C5;\" >\n",
    "    <h4 style=\"margin: auto; padding: 20px; color:#fff; \">5.2.2. Cleaning up the text</h4>\n",
    "</div>"
   ]
  },
  {
   "cell_type": "markdown",
   "id": "0bee7c94-eb64-483b-9c00-5e6c0156b79c",
   "metadata": {
    "tags": []
   },
   "source": [
    "<div class=\"alert alert-block alert-info\">\n",
    "    <p>To clean up the text, we are going to remove the following</p>\n",
    "    <ul style=\"list-style-type: square;\">\n",
    "        <li>Newlines, tabs, etc.</li>\n",
    "        <li>HTML tags</li>\n",
    "        <li>Extra whitespace</li>\n",
    "        <li>Emails</li>\n",
    "        <li>Accented characters</li>\n",
    "        <li>Incorrect characters</li>\n",
    "        <li>Punctuations</li>\n",
    "        <li>Non alphabet characters</li>\n",
    "    </ul>\n",
    "    <p>Also, we are going to do: </p>\n",
    "    <ul style=\"list-style-type: square;\">\n",
    "        <li>To transform to lowercase.</li>\n",
    "        <li>To expand contractions</li>\n",
    "    </ul>\n",
    "</div>    \n",
    "</div>"
   ]
  },
  {
   "cell_type": "markdown",
   "id": "903aa645-a399-4329-beab-ff2ad97d1bfa",
   "metadata": {
    "tags": []
   },
   "source": [
    "<div class=\"alert alert-block alert-info\">\n",
    "    <p>Reading a english contractions dictionay</p>\n",
    "</div>"
   ]
  },
  {
   "cell_type": "code",
   "execution_count": 47,
   "id": "b1e815cd-9ddd-475d-a77c-056ddc6b44c6",
   "metadata": {},
   "outputs": [],
   "source": [
    "file = open(\"datasets\\english_contractions.txt\")\n",
    "contents = file.read()\n",
    "english_contractions = ast.literal_eval(contents)\n",
    "file.close()"
   ]
  },
  {
   "cell_type": "markdown",
   "id": "2eddc8d5-86e2-492b-9585-ea517f5d10fa",
   "metadata": {
    "tags": []
   },
   "source": [
    "<div class=\"alert alert-block alert-info\">\n",
    "    <p>Let's cleaning the features</p>\n",
    "</div>"
   ]
  },
  {
   "cell_type": "code",
   "execution_count": 48,
   "id": "b1bf7ae8-095a-4a30-8f40-aeeaa054aec9",
   "metadata": {},
   "outputs": [],
   "source": [
    "initial_tokens_by_feature, cleaned_words_by_feature = [{} for i in range(2)]\n",
    "for col in text_columns:\n",
    "    \n",
    "    # Tokenization of text without clean\n",
    "    df_data[col + \"_initial\"] = df_data[col].apply(lambda x: tokenizer(x))\n",
    "    initial_tokens_by_feature[col] = df_data[col + \"_initial\"].explode().dropna().value_counts().shape[0]\n",
    "    del df_data[col + \"_initial\"]\n",
    "    \n",
    "    # Tokenization of text after cleanning\n",
    "    if col == \"product_specifications\":\n",
    "        df_data[col + \"_cleaned\"] = df_data[col].apply(lambda x: cleaning_up_product_specifications(x))\n",
    "        df_data[col + \"_cleaned\"] = df_data[col + \"_cleaned\"].apply(lambda x: cleaning_up_text(x, english_contractions))\n",
    "    else:    \n",
    "        df_data[col + \"_cleaned\"] = df_data[col].apply(lambda x: cleaning_up_text(x, english_contractions))\n",
    "    \n",
    "    cleaned_words_by_feature[col] = df_data[col + \"_cleaned\"].explode().dropna().value_counts().shape[0]\n",
    "    \n",
    "    \n",
    "# Sorting dict by value desc\n",
    "initial_tokens_by_feature = sorted(initial_tokens_by_feature.items(), key=operator.itemgetter(1), reverse=True)\n",
    "initial_tokens_by_feature = {k:v for k, v in initial_tokens_by_feature}\n",
    "\n",
    "cleaned_words_by_feature = sorted(cleaned_words_by_feature.items(), key=operator.itemgetter(1), reverse=True)\n",
    "cleaned_words_by_feature = {k:v for k, v in cleaned_words_by_feature}"
   ]
  },
  {
   "cell_type": "code",
   "execution_count": 49,
   "id": "80d20bfe-5532-433b-a3c3-08c77e2878e0",
   "metadata": {},
   "outputs": [],
   "source": [
    "pd.set_option(\"display.max_rows\", None) # show full of showing rows\n",
    "pd.set_option(\"display.max_columns\", None) # show full of showing cols\n",
    "pd.set_option(\"display.max_colwidth\", None) # show full width of showing cols\n",
    "pd.set_option(\"display.float_format\", lambda x: \"%.5f\" % x) # show full content in cell    "
   ]
  },
  {
   "cell_type": "code",
   "execution_count": 50,
   "id": "e14d4232-c4ef-46f2-aeac-26f66d924463",
   "metadata": {},
   "outputs": [
    {
     "data": {
      "text/html": [
       "<div>\n",
       "<style scoped>\n",
       "    .dataframe tbody tr th:only-of-type {\n",
       "        vertical-align: middle;\n",
       "    }\n",
       "\n",
       "    .dataframe tbody tr th {\n",
       "        vertical-align: top;\n",
       "    }\n",
       "\n",
       "    .dataframe thead th {\n",
       "        text-align: right;\n",
       "    }\n",
       "</style>\n",
       "<table border=\"1\" class=\"dataframe\">\n",
       "  <thead>\n",
       "    <tr style=\"text-align: right;\">\n",
       "      <th></th>\n",
       "      <th>uniq_id</th>\n",
       "      <th>product_name</th>\n",
       "      <th>product_category_tree</th>\n",
       "      <th>retail_price</th>\n",
       "      <th>image</th>\n",
       "      <th>description</th>\n",
       "      <th>brand</th>\n",
       "      <th>product_specifications</th>\n",
       "      <th>category_1</th>\n",
       "      <th>product_name_cleaned</th>\n",
       "      <th>product_category_tree_cleaned</th>\n",
       "      <th>description_cleaned</th>\n",
       "      <th>brand_cleaned</th>\n",
       "      <th>product_specifications_cleaned</th>\n",
       "    </tr>\n",
       "  </thead>\n",
       "  <tbody>\n",
       "    <tr>\n",
       "      <th>0</th>\n",
       "      <td>55b85ea15a1536d46b7190ad6fff8ce7</td>\n",
       "      <td>Elegance Polyester Multicolor Abstract Eyelet Door Curtain</td>\n",
       "      <td>[\"Home Furnishing &gt;&gt; Curtains &amp; Accessories &gt;&gt; Curtains &gt;&gt; Elegance Polyester Multicolor Abstract Eyelet Do...\"]</td>\n",
       "      <td>1899.00000</td>\n",
       "      <td>55b85ea15a1536d46b7190ad6fff8ce7.jpg</td>\n",
       "      <td>Key Features of Elegance Polyester Multicolor Abstract Eyelet Door Curtain Floral Curtain,Elegance Polyester Multicolor Abstract Eyelet Door Curtain (213 cm in Height, Pack of 2) Price: Rs. 899 This curtain enhances the look of the interiors.This curtain is made from 100% high quality polyester fabric.It features an eyelet style stitch with Metal Ring.It makes the room environment romantic and loving.This curtain is ant- wrinkle and anti shrinkage and have elegant apparance.Give your home a bright and modernistic appeal with these designs. The surreal attention is sure to steal hearts. These contemporary eyelet and valance curtains slide smoothly so when you draw them apart first thing in the morning to welcome the bright sun rays you want to wish good morning to the whole world and when you draw them close in the evening, you create the most special moments of joyous beauty given by the soothing prints. Bring home the elegant curtain that softly filters light in your room so that you get the right amount of sunlight.,Specifications of Elegance Polyester Multicolor Abstract Eyelet Door Curtain (213 cm in Height, Pack of 2) General Brand Elegance Designed For Door Type Eyelet Model Name Abstract Polyester Door Curtain Set Of 2 Model ID Duster25 Color Multicolor Dimensions Length 213 cm In the Box Number of Contents in Sales Package Pack of 2 Sales Package 2 Curtains Body &amp; Design Material Polyester</td>\n",
       "      <td>Elegance</td>\n",
       "      <td>{\"product_specification\"=&gt;[{\"key\"=&gt;\"Brand\", \"value\"=&gt;\"Elegance\"}, {\"key\"=&gt;\"Designed For\", \"value\"=&gt;\"Door\"}, {\"key\"=&gt;\"Type\", \"value\"=&gt;\"Eyelet\"}, {\"key\"=&gt;\"Model Name\", \"value\"=&gt;\"Abstract Polyester Door Curtain Set Of 2\"}, {\"key\"=&gt;\"Model ID\", \"value\"=&gt;\"Duster25\"}, {\"key\"=&gt;\"Color\", \"value\"=&gt;\"Multicolor\"}, {\"key\"=&gt;\"Length\", \"value\"=&gt;\"213 cm\"}, {\"key\"=&gt;\"Number of Contents in Sales Package\", \"value\"=&gt;\"Pack of 2\"}, {\"key\"=&gt;\"Sales Package\", \"value\"=&gt;\"2 Curtains\"}, {\"key\"=&gt;\"Material\", \"value\"=&gt;\"Polyester\"}]}</td>\n",
       "      <td>Home Furnishing</td>\n",
       "      <td>[elegance, polyester, multicolor, abstract, eyelet, door, curtain]</td>\n",
       "      <td>[home, furnishing, curtains, accessories, curtains, elegance, polyester, multicolor, abstract, eyelet, do]</td>\n",
       "      <td>[key, features, of, elegance, polyester, multicolor, abstract, eyelet, door, curtain, floral, curtain, elegance, polyester, multicolor, abstract, eyelet, door, curtain, cm, in, height, pack, of, price, rs, this, curtain, enhances, the, look, of, the, interiors, this, curtain, is, made, from, high, quality, polyester, fabric, it, features, an, eyelet, style, stitch, with, metal, ring, it, makes, the, room, environment, romantic, and, loving, this, curtain, is, ant, wrinkle, and, anti, shrinkage, and, have, elegant, apparance, give, your, home, a, bright, and, modernistic, appeal, with, these, designs, the, surreal, attention, is, sure, to, steal, hearts, these, contemporary, eyelet, and, valance, curtains, slide, smoothly, so, ...]</td>\n",
       "      <td>[elegance]</td>\n",
       "      <td>[elegance, door, eyelet, abstract, polyester, door, curtain, set, of, duster, multicolor, cm, pack, of, curtains, polyester]</td>\n",
       "    </tr>\n",
       "  </tbody>\n",
       "</table>\n",
       "</div>"
      ],
      "text/plain": [
       "                            uniq_id  \\\n",
       "0  55b85ea15a1536d46b7190ad6fff8ce7   \n",
       "\n",
       "                                                 product_name  \\\n",
       "0  Elegance Polyester Multicolor Abstract Eyelet Door Curtain   \n",
       "\n",
       "                                                                                              product_category_tree  \\\n",
       "0  [\"Home Furnishing >> Curtains & Accessories >> Curtains >> Elegance Polyester Multicolor Abstract Eyelet Do...\"]   \n",
       "\n",
       "   retail_price                                 image  \\\n",
       "0    1899.00000  55b85ea15a1536d46b7190ad6fff8ce7.jpg   \n",
       "\n",
       "                                                                                                                                                                                                                                                                                                                                                                                                                                                                                                                                                                                                                                                                                                                                                                                                                                                                                                                                                                                                                                                                                                                                                                                                                                                                                                                                                                                                                                                                    description  \\\n",
       "0  Key Features of Elegance Polyester Multicolor Abstract Eyelet Door Curtain Floral Curtain,Elegance Polyester Multicolor Abstract Eyelet Door Curtain (213 cm in Height, Pack of 2) Price: Rs. 899 This curtain enhances the look of the interiors.This curtain is made from 100% high quality polyester fabric.It features an eyelet style stitch with Metal Ring.It makes the room environment romantic and loving.This curtain is ant- wrinkle and anti shrinkage and have elegant apparance.Give your home a bright and modernistic appeal with these designs. The surreal attention is sure to steal hearts. These contemporary eyelet and valance curtains slide smoothly so when you draw them apart first thing in the morning to welcome the bright sun rays you want to wish good morning to the whole world and when you draw them close in the evening, you create the most special moments of joyous beauty given by the soothing prints. Bring home the elegant curtain that softly filters light in your room so that you get the right amount of sunlight.,Specifications of Elegance Polyester Multicolor Abstract Eyelet Door Curtain (213 cm in Height, Pack of 2) General Brand Elegance Designed For Door Type Eyelet Model Name Abstract Polyester Door Curtain Set Of 2 Model ID Duster25 Color Multicolor Dimensions Length 213 cm In the Box Number of Contents in Sales Package Pack of 2 Sales Package 2 Curtains Body & Design Material Polyester   \n",
       "\n",
       "      brand  \\\n",
       "0  Elegance   \n",
       "\n",
       "                                                                                                                                                                                                                                                                                                                                                                                                                                                                                                    product_specifications  \\\n",
       "0  {\"product_specification\"=>[{\"key\"=>\"Brand\", \"value\"=>\"Elegance\"}, {\"key\"=>\"Designed For\", \"value\"=>\"Door\"}, {\"key\"=>\"Type\", \"value\"=>\"Eyelet\"}, {\"key\"=>\"Model Name\", \"value\"=>\"Abstract Polyester Door Curtain Set Of 2\"}, {\"key\"=>\"Model ID\", \"value\"=>\"Duster25\"}, {\"key\"=>\"Color\", \"value\"=>\"Multicolor\"}, {\"key\"=>\"Length\", \"value\"=>\"213 cm\"}, {\"key\"=>\"Number of Contents in Sales Package\", \"value\"=>\"Pack of 2\"}, {\"key\"=>\"Sales Package\", \"value\"=>\"2 Curtains\"}, {\"key\"=>\"Material\", \"value\"=>\"Polyester\"}]}   \n",
       "\n",
       "        category_1  \\\n",
       "0  Home Furnishing   \n",
       "\n",
       "                                                 product_name_cleaned  \\\n",
       "0  [elegance, polyester, multicolor, abstract, eyelet, door, curtain]   \n",
       "\n",
       "                                                                                product_category_tree_cleaned  \\\n",
       "0  [home, furnishing, curtains, accessories, curtains, elegance, polyester, multicolor, abstract, eyelet, do]   \n",
       "\n",
       "                                                                                                                                                                                                                                                                                                                                                                                                                                                                                                                                                                                                                                                                                                                                                    description_cleaned  \\\n",
       "0  [key, features, of, elegance, polyester, multicolor, abstract, eyelet, door, curtain, floral, curtain, elegance, polyester, multicolor, abstract, eyelet, door, curtain, cm, in, height, pack, of, price, rs, this, curtain, enhances, the, look, of, the, interiors, this, curtain, is, made, from, high, quality, polyester, fabric, it, features, an, eyelet, style, stitch, with, metal, ring, it, makes, the, room, environment, romantic, and, loving, this, curtain, is, ant, wrinkle, and, anti, shrinkage, and, have, elegant, apparance, give, your, home, a, bright, and, modernistic, appeal, with, these, designs, the, surreal, attention, is, sure, to, steal, hearts, these, contemporary, eyelet, and, valance, curtains, slide, smoothly, so, ...]   \n",
       "\n",
       "  brand_cleaned  \\\n",
       "0    [elegance]   \n",
       "\n",
       "                                                                                                 product_specifications_cleaned  \n",
       "0  [elegance, door, eyelet, abstract, polyester, door, curtain, set, of, duster, multicolor, cm, pack, of, curtains, polyester]  "
      ]
     },
     "execution_count": 50,
     "metadata": {},
     "output_type": "execute_result"
    }
   ],
   "source": [
    "df_data.head(1)"
   ]
  },
  {
   "cell_type": "code",
   "execution_count": 51,
   "id": "09ec4513-e91e-4a54-b716-389c0c833c8e",
   "metadata": {},
   "outputs": [],
   "source": [
    "pd.reset_option(\"display.max_rows\") # reset max of showing rows\n",
    "pd.reset_option(\"display.max_columns\") # reset max of showing cols\n",
    "pd.reset_option(\"display.max_colwidth\") # reset width of showing cols\n",
    "pd.reset_option(\"display.float_format\") # reset show full content in cell"
   ]
  },
  {
   "cell_type": "markdown",
   "id": "d518dc79-842b-44f0-947a-2b64fcd8f14c",
   "metadata": {},
   "source": [
    "<div style=\"background-color: #6D83C5;\" >\n",
    "    <h4 style=\"margin: auto; padding: 20px; color:#fff; \">5.2.2. Removing words</h4>\n",
    "</div>"
   ]
  },
  {
   "cell_type": "markdown",
   "id": "393ecb87-39ed-4e7d-88ad-a03a3b6c137e",
   "metadata": {
    "tags": []
   },
   "source": [
    "<div class=\"alert alert-block alert-info\">\n",
    "    <p>Now, we are going to reduce words based on the following:</p>\n",
    "    <ul style=\"list-style-type: square;\">\n",
    "        <li>Stop words</li>\n",
    "        <li>Non english words</li>\n",
    "        <li>Keep Nouns</li>\n",
    "    </ul>    \n",
    "    <p>It must consider that the mission is not about sentiment analysis, it is about classification</p>\n",
    "</div>"
   ]
  },
  {
   "cell_type": "code",
   "execution_count": null,
   "id": "cb7288de-1040-4a89-8d02-3bb8b8708a0a",
   "metadata": {},
   "outputs": [],
   "source": [
    "reduced_words_by_feature = {}\n",
    "for col in text_columns:\n",
    "    df_data[col + \"_tokens\"] = df_data[col + \"_cleaned\"].apply(lambda x: remove_words(x, \"english\"))\n",
    "    reduced_words_by_feature[col] = df_data[col + \"_tokens\"].explode().dropna().value_counts().shape[0]\n",
    "\n",
    "    del df_data[col + \"_cleaned\"]\n",
    "    \n",
    "# Sorting dict by value descending\n",
    "reduced_words_by_feature = sorted(reduced_words_by_feature.items(), key=operator.itemgetter(1), reverse=True)\n",
    "reduced_words_by_feature = {k:v for k, v in reduced_words_by_feature}"
   ]
  },
  {
   "cell_type": "code",
   "execution_count": null,
   "id": "237f2534-e07a-4748-8fbf-14c03ffaffdf",
   "metadata": {},
   "outputs": [],
   "source": [
    "pd.set_option(\"display.max_rows\", None) # show full of showing rows\n",
    "pd.set_option(\"display.max_columns\", None) # show full of showing cols\n",
    "pd.set_option(\"display.max_colwidth\", None) # show full width of showing cols\n",
    "pd.set_option(\"display.float_format\", lambda x: \"%.5f\" % x) # show full content in cell    "
   ]
  },
  {
   "cell_type": "code",
   "execution_count": null,
   "id": "bdfc3709-aa74-415e-b0fe-9ee15cd8b508",
   "metadata": {},
   "outputs": [],
   "source": [
    "df_data.head(1)"
   ]
  },
  {
   "cell_type": "code",
   "execution_count": null,
   "id": "d68d3fe8-acae-45fb-8e54-e32c8fcc9217",
   "metadata": {},
   "outputs": [],
   "source": [
    "pd.reset_option(\"display.max_rows\") # reset max of showing rows\n",
    "pd.reset_option(\"display.max_columns\") # reset max of showing cols\n",
    "pd.reset_option(\"display.max_colwidth\") # reset width of showing cols\n",
    "pd.reset_option(\"display.float_format\") # reset show full content in cell"
   ]
  },
  {
   "cell_type": "markdown",
   "id": "269c19ba-84f0-4992-ad69-6c4048f61364",
   "metadata": {},
   "source": [
    "<div style=\"background-color: #6D83C5;\" >\n",
    "    <h4 style=\"margin: auto; padding: 20px; color:#fff; \">5.2.3. Compare the results</h4>\n",
    "</div>"
   ]
  },
  {
   "cell_type": "markdown",
   "id": "59b49077-cb2a-4fe6-aaa7-593f200843aa",
   "metadata": {},
   "source": [
    "<div class=\"alert alert-block alert-info\">\n",
    "    <p>Let's compare the number of words during the all process</p>\n",
    "</div>"
   ]
  },
  {
   "cell_type": "code",
   "execution_count": null,
   "id": "ee811438-41f6-47f3-be26-9122d8e9b727",
   "metadata": {},
   "outputs": [],
   "source": [
    "fig = plt.figure(figsize=(15, 4))\n",
    "\n",
    "# Plot the total words tokenized\n",
    "sns.set_color_codes(\"pastel\")\n",
    "plot = sns.barplot(x=list(initial_tokens_by_feature.values()),\n",
    "                   y=list(initial_tokens_by_feature.keys()), \n",
    "                   label=\"Initial\", color=\"b\")\n",
    "\n",
    "# Plot the words tokenized after cleanning up\n",
    "sns.set_color_codes(\"muted\")\n",
    "plot = sns.barplot(x=list(cleaned_words_by_feature.values()),\n",
    "                   y=list(cleaned_words_by_feature.keys()),\n",
    "                   label=\"Intermediate\", color=\"b\")\n",
    "\n",
    "# Plot the words tokenized after reducing stop words\n",
    "sns.set_color_codes(\"dark\")\n",
    "plot = sns.barplot(x=list(reduced_words_by_feature.values()),\n",
    "                   y=list(reduced_words_by_feature.keys()),\n",
    "                   label=\"Final\", color=\"b\")\n",
    "\n",
    "plt.legend(ncol=3, loc=\"lower right\", frameon=True)\n",
    "plt.xlabel(\"Numbers of tokens\", size=12)\n",
    "plt.ylabel(\"Features\", size=12)\n",
    "plt.title(\"Number of tokens during all process\", size=16)\n",
    "plt.tight_layout()\n",
    "plt.savefig(\"images/text_analysis/number-of-tokens-during-process.png\")\n",
    "plt.show()"
   ]
  },
  {
   "cell_type": "markdown",
   "id": "56293392-f2f4-45d9-be5e-e9873a1103f0",
   "metadata": {},
   "source": [
    "<div class=\"alert alert-block alert-success\">\n",
    "    <p><b>Observations / Conclusions</b></p>\n",
    "    <p>Here, we can see how the tokens have reduced during all process, being description the features with more tokens during the process</p>\n",
    "</div>"
   ]
  },
  {
   "cell_type": "markdown",
   "id": "af5ce781-e5d5-44ba-877c-1b36060071c0",
   "metadata": {},
   "source": [
    "<div style=\"background-color: #6D83C5;\" >\n",
    "    <h3 style=\"margin: auto; padding: 20px; color:#fff; \">5.3. Stemming the tokens</h3>\n",
    "</div>"
   ]
  },
  {
   "cell_type": "markdown",
   "id": "36261130-c7b9-48f8-9f4b-af4597fe6bf8",
   "metadata": {},
   "source": [
    "<div class=\"alert alert-block alert-info\">\n",
    "    <p>We use <b>Porter stemming algorithm</b> because it has a less agressive approach in comparison with <b>Plancaster stemming algorithm</b></p>\n",
    "</div>"
   ]
  },
  {
   "cell_type": "code",
   "execution_count": null,
   "id": "7c7848ca-b7db-4038-ba59-ae3403a84629",
   "metadata": {},
   "outputs": [],
   "source": [
    "for col in text_columns:\n",
    "    df_data[col + \"_stemmed\"] = df_data[col + \"_tokens\"].apply(lambda x: stem_words(x))"
   ]
  },
  {
   "cell_type": "code",
   "execution_count": null,
   "id": "850c6570-94fc-44fc-ae3c-431249a6b1cd",
   "metadata": {},
   "outputs": [],
   "source": [
    "pd.set_option(\"display.max_rows\", None) # show full of showing rows\n",
    "pd.set_option(\"display.max_columns\", None) # show full of showing cols\n",
    "pd.set_option(\"display.max_colwidth\", None) # show full width of showing cols\n",
    "pd.set_option(\"display.float_format\", lambda x: \"%.5f\" % x) # show full content in cell    "
   ]
  },
  {
   "cell_type": "code",
   "execution_count": null,
   "id": "58d2ea4e-76a5-4745-8f3f-be4d218b61c1",
   "metadata": {},
   "outputs": [],
   "source": [
    "df_data[[\"description\", \"description_tokens\", \"description_stemmed\"]].head(3)"
   ]
  },
  {
   "cell_type": "code",
   "execution_count": null,
   "id": "596b458d-0e06-4b69-b26e-c26a5bb1fcb4",
   "metadata": {},
   "outputs": [],
   "source": [
    "pd.reset_option(\"display.max_rows\") # reset max of showing rows\n",
    "pd.reset_option(\"display.max_columns\") # reset max of showing cols\n",
    "pd.reset_option(\"display.max_colwidth\") # reset width of showing cols\n",
    "pd.reset_option(\"display.float_format\") # reset show full content in cell@nhurpertuzs"
   ]
  },
  {
   "cell_type": "markdown",
   "id": "f3e9f123-1625-43c1-ad09-7f81a4214693",
   "metadata": {},
   "source": [
    "<div style=\"background-color: #6D83C5;\" >\n",
    "    <h3 style=\"margin: auto; padding: 20px; color:#fff; \">5.4. Lemmatization the tokens</h3>\n",
    "</div>"
   ]
  },
  {
   "cell_type": "markdown",
   "id": "634143f9-4b99-4620-8025-b0fe7bc8d42b",
   "metadata": {},
   "source": [
    "<div class=\"alert alert-block alert-info\">\n",
    "    <p>Let's do the lemmatization</p>\n",
    "</div>"
   ]
  },
  {
   "cell_type": "code",
   "execution_count": null,
   "id": "4fe86767-9350-46ef-9e24-7a896ac6b26b",
   "metadata": {},
   "outputs": [],
   "source": [
    "for col in text_columns:\n",
    "    df_data[col + \"_lemma\"] = df_data[col + \"_tokens\"].apply(lambda x: lemma_words(x))"
   ]
  },
  {
   "cell_type": "code",
   "execution_count": null,
   "id": "c9230a3f-a0a8-434f-a75c-90493fce99d9",
   "metadata": {},
   "outputs": [],
   "source": [
    "pd.set_option(\"display.max_rows\", None) # show full of showing rows\n",
    "pd.set_option(\"display.max_columns\", None) # show full of showing cols\n",
    "pd.set_option(\"display.max_colwidth\", None) # show full width of showing cols\n",
    "pd.set_option(\"display.float_format\", lambda x: \"%.5f\" % x) # show full content in cell    "
   ]
  },
  {
   "cell_type": "code",
   "execution_count": null,
   "id": "59632d18-990b-485f-83f1-8ee482d210aa",
   "metadata": {},
   "outputs": [],
   "source": [
    "df_data[[\"description\", \"description_tokens\", \"description_stemmed\", \"description_lemma\"]].head(2)"
   ]
  },
  {
   "cell_type": "markdown",
   "id": "9ec618e5-8dfb-44a6-b2d7-9993c9396fd9",
   "metadata": {},
   "source": [
    "<div class=\"alert alert-block alert-success\">\n",
    "    <p><b>Observations / Conclusions</b></p>\n",
    "    <p>At this point, we can see an example of text after doing all process</p>\n",
    "    <p>It seems that the lemmatization have got better results than stemming</p>\n",
    "</div>"
   ]
  },
  {
   "cell_type": "markdown",
   "id": "32ddf5d3-1483-496a-9f3c-39d630d545bd",
   "metadata": {
    "tags": []
   },
   "source": [
    "<div style=\"background-color: #506AB9;\" >\n",
    "    <h2 style=\"margin: auto; padding: 20px; color:#fff; \">6. Text Vectorization</h2>\n",
    "</div>"
   ]
  },
  {
   "cell_type": "markdown",
   "id": "d77f2b96-e1e5-4c69-b7a7-1ef41b0dcbbc",
   "metadata": {
    "tags": []
   },
   "source": [
    "<div class=\"alert alert-block alert-info\">\n",
    "    <p>First of all, let's see all features transformed</p>\n",
    "</div>"
   ]
  },
  {
   "cell_type": "code",
   "execution_count": null,
   "id": "5173d584-ba62-43d6-8b2f-51aa0446aae8",
   "metadata": {},
   "outputs": [],
   "source": [
    "for col in text_columns:\n",
    "    \n",
    "    if col == \"description\":\n",
    "        head = 2\n",
    "    else:\n",
    "        head = 5\n",
    "    \n",
    "    print(\"-\"*200)\n",
    "    print(\" >> \" + col)\n",
    "    display(df_data[[col, col + \"_tokens\", col + \"_stemmed\", col + \"_lemma\"]].head(head))\n",
    "    print(\"\\n\")"
   ]
  },
  {
   "cell_type": "markdown",
   "id": "3d81ec2f-ff8c-448a-91b3-e9965540a4a1",
   "metadata": {},
   "source": [
    "<div class=\"alert alert-block alert-success\">\n",
    "    <p><b>Observations / Conclusions</b></p>\n",
    "    <p>At this point, we can see how the features have been transformed</p>\n",
    "</div>"
   ]
  },
  {
   "cell_type": "code",
   "execution_count": null,
   "id": "201cb443-8c0f-46b4-a908-f82e00d0e16a",
   "metadata": {},
   "outputs": [],
   "source": [
    "pd.reset_option(\"display.max_rows\") # reset max of showing rows\n",
    "pd.reset_option(\"display.max_columns\") # reset max of showing cols\n",
    "pd.reset_option(\"display.max_colwidth\") # reset width of showing cols\n",
    "pd.reset_option(\"display.float_format\") # reset show full content in cell"
   ]
  },
  {
   "cell_type": "markdown",
   "id": "dbef6efc-e6e0-4d93-9de3-10401242457a",
   "metadata": {},
   "source": [
    "<div style=\"background-color: #6D83C5;\" >\n",
    "    <h3 style=\"margin: auto; padding: 20px; color:#fff; \">6.1. Thresholds lower frequency</h3>\n",
    "</div>"
   ]
  },
  {
   "cell_type": "markdown",
   "id": "bb148c71-b1d0-4578-8634-4c2dd464d47d",
   "metadata": {
    "tags": []
   },
   "source": [
    "<div class=\"alert alert-block alert-info\">\n",
    "    <p>Before doing the <b>Text Vectorization</b>, let's analyse the number of words with lower frequency in each feature, to define the threshold (min_df) to tream them </p>\n",
    "    <p>To do that we are going to use BoW in default mode and plot the numbers of words with lower frequency</p>\n",
    "</div>"
   ]
  },
  {
   "cell_type": "code",
   "execution_count": null,
   "id": "e8263568-0fb2-46f6-a099-ff10299e8110",
   "metadata": {},
   "outputs": [],
   "source": [
    "cv_vectorizer = CountVectorizer()"
   ]
  },
  {
   "cell_type": "code",
   "execution_count": null,
   "id": "219fb375-2fc2-42e8-92f2-d14bf229ffa4",
   "metadata": {},
   "outputs": [],
   "source": [
    "for col in text_columns:\n",
    "    \n",
    "    for var in [\"stemmed\", \"lemma\"]:\n",
    "        \n",
    "        globals()[\"bow_\" + col + \"_\" + var] = cv_vectorizer.fit_transform(df_data[col + \"_\" + var].astype(\"U\"))\n",
    "        globals()[\"df_bow_\" + col + \"_\" + var] = pd.DataFrame(globals()[\"bow_\" + col + \"_\" + var].toarray(),\n",
    "                                                              columns=cv_vectorizer.get_feature_names())\n",
    "        \n",
    "        if var == \"stemmed\":\n",
    "            palette = \"flare\"\n",
    "        else:\n",
    "            palette = \"crest\"\n",
    "        \n",
    "        # Plottint the results\n",
    "        most_frequent_words = (globals()[\"df_bow_\" + col + \"_\" + var].sum(axis=0)).sort_values(ascending=True)\n",
    "        globals()[\"df_lower_frequent_words_\" + col + \"_\" + var] = pd.DataFrame.from_dict({\"words\" : most_frequent_words.index,\n",
    "                                                                                          \"frequency\" : most_frequent_words.values})\n",
    "\n",
    "        lower_frequent_words = globals()[\"df_lower_frequent_words_\" + col + \"_\" + var].groupby(\"frequency\")[\"frequency\"].count().head(30)\n",
    "\n",
    "        fig = plt.figure(figsize=(15, 5))\n",
    "        plot = sns.barplot(x=lower_frequent_words.index, y=lower_frequent_words, palette=palette)\n",
    "        for p in plot.patches:\n",
    "            plot.annotate(format(p.get_height(), \".1f\"), (p.get_x() + p.get_width() / 2., p.get_height()), \n",
    "                            ha=\"center\", va=\"center\", xytext=(0, 9), textcoords=\"offset points\")\n",
    "        plot.set_xticklabels(labels=lower_frequent_words.index, rotation=70, size=12,\n",
    "                                 horizontalalignment=\"right\")\n",
    "        plt.ylabel(\"Number of words\", size=12)\n",
    "        plt.xlabel(\"Frequency\", size=12)\n",
    "        plt.title(\"Numbers of words by frequency\\n(\" + col + \" - \" + var + \")\", size=16)\n",
    "        plt.tight_layout()\n",
    "        plt.show()\n",
    "            \n",
    "    print(\"\\n\\n\")\n"
   ]
  },
  {
   "cell_type": "markdown",
   "id": "6b5c63c2-3521-4593-8d19-bbbcc27bc068",
   "metadata": {},
   "source": [
    "<div class=\"alert alert-block alert-success\">\n",
    "    <p><b>Observations / Conclusions</b></p>\n",
    "    <p>Now, we are going to define the following thresholds (min_df)</p>\n",
    "    <ul style=\"list-style-type: square;\">\n",
    "        <li>product_name: min_df=3</li>\n",
    "        <li>product_category_tree: min_df=3</li>\n",
    "        <li>description: min_df=5</li>\n",
    "        <li>brand: min_df=2</li>\n",
    "        <li>product_specifications:min_df=4</li>\n",
    "    </ul>  \n",
    "</div>"
   ]
  },
  {
   "cell_type": "code",
   "execution_count": null,
   "id": "8e3a9b48-20b3-4193-8125-1a5f02a3f8ce",
   "metadata": {},
   "outputs": [],
   "source": [
    "text_columns = {\n",
    "    \"product_name\": 3,\n",
    "    \"product_category_tree\": 3,\n",
    "    \"description\": 5,\n",
    "    \"brand\": 2,\n",
    "    \"product_specifications\": 4\n",
    "}"
   ]
  },
  {
   "cell_type": "markdown",
   "id": "cb165047-222f-4494-a9d6-a3fec6c03fbd",
   "metadata": {},
   "source": [
    "<div style=\"background-color: #6D83C5;\" >\n",
    "    <h3 style=\"margin: auto; padding: 20px; color:#fff; \">6.2. Bag of Word - BoW</h3>\n",
    "</div>"
   ]
  },
  {
   "cell_type": "code",
   "execution_count": null,
   "id": "b2ae8ec7-c11d-48b2-a9cf-4efa46df562b",
   "metadata": {},
   "outputs": [],
   "source": [
    "pd.set_option(\"display.max_columns\", 25) # show full of showing cols"
   ]
  },
  {
   "cell_type": "markdown",
   "id": "bc0c6ec3-7cb2-4853-9d2b-e88901de9211",
   "metadata": {
    "tags": []
   },
   "source": [
    "<div class=\"alert alert-block alert-info\">\n",
    "    <p>Now, we are going to do a BoW for each feature, considering the stemmed and lemma treatments</p>\n",
    "    <p>Let's initialize the CountVectorizer based on the min_df defined</p>\n",
    "</div>"
   ]
  },
  {
   "cell_type": "code",
   "execution_count": null,
   "id": "28f5717c-4efe-4b35-9a43-ad7179c4a9eb",
   "metadata": {},
   "outputs": [],
   "source": [
    "for key, value in text_columns.items():\n",
    "    \n",
    "    # Initializing the CountVectorizer based on the min_df defined previously\n",
    "    cv_vectorizer = CountVectorizer(min_df=value)\n",
    "    \n",
    "    for var in [\"stemmed\", \"lemma\"]:\n",
    "        \n",
    "        globals()[\"bow_\" + key + \"_\" + var] = cv_vectorizer.fit_transform(df_data[key + \"_\" + var].astype(\"U\"))\n",
    "        globals()[\"df_bow_\" + key + \"_\" + var] = pd.DataFrame(globals()[\"bow_\" + key + \"_\" + var].toarray(),\n",
    "                                                              columns=cv_vectorizer.get_feature_names())"
   ]
  },
  {
   "cell_type": "markdown",
   "id": "954a4851-1478-4ff2-97a3-b30caaa69e7a",
   "metadata": {
    "tags": []
   },
   "source": [
    "<div class=\"alert alert-block alert-info\">\n",
    "    <p>Printing some resultants datasets</p>\n",
    "</div>"
   ]
  },
  {
   "cell_type": "code",
   "execution_count": null,
   "id": "4aa6e723-77e7-4cf9-83f5-56317f93d6c0",
   "metadata": {},
   "outputs": [],
   "source": [
    "print(\"-\"*120)\n",
    "print(\" >> product_name_stemmed\")\n",
    "display(df_bow_product_name_stemmed.head())\n",
    "print(\" >> product_name_lemma\")\n",
    "display(df_bow_product_name_lemma.head())\n",
    "print(\"\\n\")\n",
    "print(\"-\"*120)\n",
    "print(\" >> description_stemmed\")\n",
    "display(df_bow_description_stemmed.head())\n",
    "print(\" >> description_lemma\")\n",
    "display(df_bow_description_lemma.head())"
   ]
  },
  {
   "cell_type": "markdown",
   "id": "6cd365a8-d37a-46f1-86f4-6ba225602c10",
   "metadata": {},
   "source": [
    "<div style=\"background-color: #6D83C5;\" >\n",
    "    <h3 style=\"margin: auto; padding: 20px; color:#fff; \">6.3. Term Frequency - TF-IDF</h3>\n",
    "</div>"
   ]
  },
  {
   "cell_type": "markdown",
   "id": "bacdfb81-dfb2-4d74-a5b0-71dbce90d0d7",
   "metadata": {
    "tags": []
   },
   "source": [
    "<div class=\"alert alert-block alert-info\">\n",
    "    <p>Now, we are going to do a TF-IDF for each feature, considering the stemmed and lemma treatments</p>\n",
    "    <p>Let's initialize the TfidfVectorizer based on the min_df defined</p>\n",
    "</div>"
   ]
  },
  {
   "cell_type": "code",
   "execution_count": null,
   "id": "37744913-f3fa-46fd-9cb8-827e057fbb4c",
   "metadata": {},
   "outputs": [],
   "source": [
    "for key, value in text_columns.items():\n",
    "    \n",
    "    # Initializing the TfidfVectorizer based on the min_df defined previously\n",
    "    tfidf_vectorizer = TfidfVectorizer(min_df=value)\n",
    "    \n",
    "    for var in [\"stemmed\", \"lemma\"]:\n",
    "        \n",
    "        globals()[\"tfidf_\" + key + \"_\" + var] = tfidf_vectorizer.fit_transform(df_data[key + \"_\" + var].astype(\"U\"))\n",
    "        globals()[\"df_tfidf_\" + key + \"_\" + var] = pd.DataFrame(globals()[\"tfidf_\" + key + \"_\" + var].toarray(),\n",
    "                                                                columns=tfidf_vectorizer.get_feature_names())"
   ]
  },
  {
   "cell_type": "markdown",
   "id": "69ad0cb9-4812-47cc-9c26-3b00a8980cf8",
   "metadata": {
    "tags": []
   },
   "source": [
    "<div class=\"alert alert-block alert-info\">\n",
    "    <p>Printing some resultants datasets</p>\n",
    "</div>"
   ]
  },
  {
   "cell_type": "code",
   "execution_count": null,
   "id": "50604ff0-de9e-4d22-94cb-241247762527",
   "metadata": {},
   "outputs": [],
   "source": [
    "print(\"-\"*120)\n",
    "print(\" >> product_name_stemmed\")\n",
    "display(df_tfidf_product_name_stemmed.head())\n",
    "print(\" >> product_name_lemma\")\n",
    "display(df_tfidf_product_name_lemma.head())\n",
    "print(\"\\n\")\n",
    "print(\"-\"*120)\n",
    "print(\" >> description_stemmed\")\n",
    "display(df_tfidf_description_stemmed.head())\n",
    "print(\" >> description_lemma\")\n",
    "display(df_tfidf_description_lemma.head())"
   ]
  },
  {
   "cell_type": "markdown",
   "id": "5203735b-c50b-4d55-bc66-f4f7ffb80de5",
   "metadata": {},
   "source": [
    "<div style=\"background-color: #6D83C5;\" >\n",
    "    <h3 style=\"margin: auto; padding: 20px; color:#fff; \">6.3. Compare the results</h3>\n",
    "</div>"
   ]
  },
  {
   "cell_type": "markdown",
   "id": "3e42480f-adb0-4fa4-b1c2-66dd8de2cd84",
   "metadata": {
    "tags": []
   },
   "source": [
    "<div class=\"alert alert-block alert-info\">\n",
    "    <p>Let's compare the words most frequents based on BoW and TI-IDF</p>\n",
    "</div>"
   ]
  },
  {
   "cell_type": "code",
   "execution_count": null,
   "id": "43afcaea-4ce2-4760-badc-0241c77fdd60",
   "metadata": {},
   "outputs": [],
   "source": [
    "for col, value in text_columns.items():\n",
    "    \n",
    "    for var in [\"stemmed\", \"lemma\"]:\n",
    "        \n",
    "        for type_of_vector in [\"bow\", \"tfidf\"]:\n",
    "            \n",
    "            if type_of_vector == \"bow\":\n",
    "                palette = \"flare\"\n",
    "                temp = \"BoW\"\n",
    "            else:\n",
    "                palette = \"crest\"\n",
    "                temp = \"TF-IDF\"\n",
    "        \n",
    "             # Plottint the results\n",
    "            most_frequent_words = (globals()[\"df_\" + type_of_vector + \"_\" + col + \"_\" + var].sum(axis=0)).sort_values(ascending=False).head(30)\n",
    "\n",
    "            fig = plt.figure(figsize=(15, 5))\n",
    "            plot = sns.barplot(x=most_frequent_words.index, y=most_frequent_words, palette=palette)\n",
    "            plot.set_xticklabels(labels=most_frequent_words.index, rotation=70, size=12,\n",
    "                                     horizontalalignment=\"right\")\n",
    "            plt.ylabel(\"count\", size=12)\n",
    "            plt.xlabel(\"words\", size=12)\n",
    "            plt.title(\"The 30 words most frequents words in \\\"\" + col + \"\\\" - \\\"\" + var + \"\\\"\\n\" + temp, size=16)\n",
    "            plt.tight_layout()\n",
    "            plt.show()\n",
    "            \n",
    "        print(\"\\n\\n\")"
   ]
  },
  {
   "cell_type": "markdown",
   "id": "27a6b2f6-ff2b-4611-9e03-90d8522ad885",
   "metadata": {
    "tags": []
   },
   "source": [
    "<div style=\"background-color: #506AB9;\" >\n",
    "    <h2 style=\"margin: auto; padding: 20px; color:#fff; \">7. Pre-processing Images</h2>\n",
    "</div>"
   ]
  },
  {
   "cell_type": "markdown",
   "id": "43cc6408-8fd8-464c-822e-01ae7d3c7345",
   "metadata": {},
   "source": [
    "<div style=\"background-color: #6D83C5;\" >\n",
    "    <h3 style=\"margin: auto; padding: 20px; color:#fff; \">7.1. Analyzing images</h3>\n",
    "</div>"
   ]
  },
  {
   "cell_type": "markdown",
   "id": "e7038917-5b80-4505-951f-3319bbfb9d4b",
   "metadata": {
    "tags": []
   },
   "source": [
    "<div class=\"alert alert-block alert-info\">\n",
    "    <p>Let's take a look at some images before dealing with them</p>\n",
    "</div>"
   ]
  },
  {
   "cell_type": "code",
   "execution_count": null,
   "id": "8ba5486a-a6d9-47ab-914f-77ef2a2141e0",
   "metadata": {},
   "outputs": [],
   "source": [
    "n_rows, n_cols = 1, 10\n",
    "\n",
    "# Grpuping data by category\n",
    "df_groupby = df_data.groupby(\"category_1\")\n",
    "\n",
    "for category, sub_df in df_groupby:\n",
    "    \n",
    "    #  list to save images size\n",
    "    image_name, height_size, width_size = [[] for i in range(3)]\n",
    "    \n",
    "    # Filtering random images by each category\n",
    "    images_index_by_category = sub_df.sample(10).index\n",
    "    \n",
    "    # Initializing each figure/plot\n",
    "    fig = plt.figure(figsize=(15, 2))\n",
    "    plt.suptitle(category, fontweight=\"bold\")\n",
    "    \n",
    "    for i, image_index in enumerate(images_index_by_category, 1):\n",
    "        \n",
    "        # Identifying an image\n",
    "        image = df_data[\"image\"].loc[image_index]\n",
    "        image_name.append(image)\n",
    "        \n",
    "        # Reading the image attributes\n",
    "        img = cv2.imread(ORIGINAL_IMAGES_PATH + image, cv2.IMREAD_UNCHANGED)\n",
    "        height_size.append(img.shape[0])\n",
    "        width_size.append(img.shape[1])\n",
    "        \n",
    "        # Reading a specific image based on index\n",
    "        image = mpimg.imread(ORIGINAL_IMAGES_PATH + image)\n",
    "        \n",
    "        # Plotting imaga in one row based on category\n",
    "        ax = fig.add_subplot(n_rows, n_cols, i)        \n",
    "        ax.imshow(image)\n",
    "        plt.axis(\"off\")\n",
    "        \n",
    "    df_images = pd.DataFrame({\n",
    "        \"Image\": image_name,\n",
    "        \"Width\": width_size,\n",
    "        \"Height\": height_size\n",
    "    })\n",
    "    \n",
    "    plt.show()\n",
    "    display(df_images)\n",
    "    print(\"\\n\")\n"
   ]
  },
  {
   "cell_type": "markdown",
   "id": "0dd884db-9aa3-4b0b-8ce3-fe93b2905721",
   "metadata": {},
   "source": [
    "<div class=\"alert alert-block alert-success\">\n",
    "    <p><b>Observations / Conclusions</b></p>\n",
    "    <p>At this point, we can conclude </p>\n",
    "    <ul style=\"list-style-type: square;\">\n",
    "        <li>It seems that images are good categorized based on the 1º level of the tree of categories</li>\n",
    "        <li>Most of images are a big size</li>\n",
    "    </ul>  \n",
    "</div>"
   ]
  },
  {
   "cell_type": "markdown",
   "id": "bc537b3e-88a8-4ce0-bc60-4039634af304",
   "metadata": {},
   "source": [
    "<div style=\"background-color: #6D83C5;\" >\n",
    "    <h3 style=\"margin: auto; padding: 20px; color:#fff; \">7.2. Processing images</h3>\n",
    "</div>"
   ]
  },
  {
   "cell_type": "markdown",
   "id": "8dfe502c-8616-42ce-a034-799c46b755fa",
   "metadata": {
    "tags": []
   },
   "source": [
    "<div class=\"alert alert-block alert-info\">\n",
    "    <p>We are going to process images as follows:</p>\n",
    "    <ol>\n",
    "        <li>Size reduction</li>\n",
    "        <li>Adjusting contrast and brightness</li>\n",
    "        <li>Transform to gray</li>\n",
    "        <li>Noise reduction</li>\n",
    "    </ol>\n",
    "</div>"
   ]
  },
  {
   "cell_type": "markdown",
   "id": "a6790ef4-8d91-41e6-a762-24d4b8cc904d",
   "metadata": {},
   "source": [
    "<div style=\"background-color: #6D83C5;\" >\n",
    "    <h4 style=\"margin: auto; padding: 20px; color:#fff; \">7.2.1. Size reduction</h4>\n",
    "</div>"
   ]
  },
  {
   "cell_type": "markdown",
   "id": "f7351432-ca8f-453b-abe2-d305cce1cbc6",
   "metadata": {
    "tags": []
   },
   "source": [
    "<div class=\"alert alert-block alert-info\">\n",
    "    <p>Let's reduce images</p>\n",
    "</div>"
   ]
  },
  {
   "cell_type": "code",
   "execution_count": null,
   "id": "650382b2-ff2e-4cb0-9144-be1db3734fae",
   "metadata": {},
   "outputs": [],
   "source": [
    "df_data[\"image\"].apply(lambda x: thumbnail_image(x, basewidth=224, path=ORIGINAL_IMAGES_PATH))"
   ]
  },
  {
   "cell_type": "markdown",
   "id": "ab36019f-9c41-4bfb-9a0f-a6b289a74e07",
   "metadata": {
    "tags": []
   },
   "source": [
    "<div class=\"alert alert-block alert-info\">\n",
    "    <p>Let's look at the results</p>\n",
    "</div>"
   ]
  },
  {
   "cell_type": "code",
   "execution_count": null,
   "id": "b3bed156-d253-4a4d-aabd-8d146ef92172",
   "metadata": {},
   "outputs": [],
   "source": [
    "df_images[[\"new_width\", \"new_height\"]] = df_images[\"Image\"].apply(lambda x: image_size(x, ORIGINAL_IMAGES_PATH + \"thumbnails/\")).to_list()\n",
    "df_images"
   ]
  },
  {
   "cell_type": "markdown",
   "id": "a5897dc9-fa8b-4cb7-8e9b-eb59b7322b06",
   "metadata": {
    "tags": []
   },
   "source": [
    "<div class=\"alert alert-block alert-success\">\n",
    "    <p>Now, we get the image reduced</p>\n",
    "</div>"
   ]
  },
  {
   "cell_type": "markdown",
   "id": "efd7a5ce-35e7-4cda-9fd3-703c1966c08b",
   "metadata": {},
   "source": [
    "<div style=\"background-color: #6D83C5;\" >\n",
    "    <h4 style=\"margin: auto; padding: 20px; color:#fff; \">7.2.2. Adjusting contrast and brightness</h4>\n",
    "</div>"
   ]
  },
  {
   "cell_type": "markdown",
   "id": "676566d7-a5a3-404e-86c9-3905519748fd",
   "metadata": {
    "tags": []
   },
   "source": [
    "<div class=\"alert alert-block alert-info\">\n",
    "    <p>Now, we are going to use the thumbnails created</p>\n",
    "</div>"
   ]
  },
  {
   "cell_type": "code",
   "execution_count": null,
   "id": "05775544-54c3-416a-a6fa-58ccab32890a",
   "metadata": {},
   "outputs": [],
   "source": [
    "df_data[\"image\"].apply(lambda x: contrast_and_brightness(x, path=THUMBNAILS_IMAGES_PATH))"
   ]
  },
  {
   "cell_type": "markdown",
   "id": "e3d66a8d-faab-4a5c-ba81-598d1c4074f7",
   "metadata": {
    "tags": []
   },
   "source": [
    "<div class=\"alert alert-block alert-info\">\n",
    "    <p>Let's look at the results</p>\n",
    "</div>"
   ]
  },
  {
   "cell_type": "code",
   "execution_count": null,
   "id": "2b521a31-66df-4456-8a93-fe0af94417ac",
   "metadata": {},
   "outputs": [],
   "source": [
    "show_image_and_histogram(\"0ec47240feda42c63e42f1e9cee60f7a.jpg\", \n",
    "                        ORIGINAL_IMAGES_PATH, CB_IMAGES_PATH)"
   ]
  },
  {
   "cell_type": "markdown",
   "id": "62ffb047-8c63-497c-983a-c0d22d4a8c05",
   "metadata": {},
   "source": [
    "<div style=\"background-color: #6D83C5;\" >\n",
    "    <h4 style=\"margin: auto; padding: 20px; color:#fff; \">7.2.3. Gray images</h4>\n",
    "</div>"
   ]
  },
  {
   "cell_type": "markdown",
   "id": "5801e56b-a4a2-48cc-9984-d502850cf527",
   "metadata": {
    "tags": []
   },
   "source": [
    "<div class=\"alert alert-block alert-info\">\n",
    "    <p>To transform images to gray escals, we are going to use the image with contrast and brightness modified</p>\n",
    "</div>"
   ]
  },
  {
   "cell_type": "code",
   "execution_count": null,
   "id": "f1beb61a-01a8-4b6d-baa9-ef2810a6e786",
   "metadata": {},
   "outputs": [],
   "source": [
    "df_data[\"image\"].apply(lambda x: gray_image(x, CB_IMAGES_PATH))"
   ]
  },
  {
   "cell_type": "markdown",
   "id": "0a170ab8-9f85-4d26-aa98-0ee28d10052a",
   "metadata": {
    "tags": []
   },
   "source": [
    "<div class=\"alert alert-block alert-info\">\n",
    "    <p>Let's look at the results</p>\n",
    "</div>"
   ]
  },
  {
   "cell_type": "code",
   "execution_count": null,
   "id": "d851b915-4d9f-498e-a767-c312f3ee3aaa",
   "metadata": {},
   "outputs": [],
   "source": [
    "original_image = cv2.imread(ORIGINAL_IMAGES_PATH + \"0ec47240feda42c63e42f1e9cee60f7a.jpg\")\n",
    "gray_image = cv2.imread(GRAY_IMAGES_PATH + \"0ec47240feda42c63e42f1e9cee60f7a.jpg\")\n",
    "\n",
    "# Initializing each figure/plot\n",
    "fig, (ax1, ax2) = plt.subplots(1, 2, figsize=(12, 5)) \n",
    "\n",
    "ax1.imshow(original_image)\n",
    "ax1.set_title(\"Image with contrast and brightness modified\", fontsize=14)\n",
    "ax1.grid(None)\n",
    "ax1.axis(\"off\")\n",
    "\n",
    "ax2.imshow(gray_image)\n",
    "ax2.set_title(\"Gray image\", fontsize=14)\n",
    "ax2.grid(None)\n",
    "ax2.axis(\"off\")\n",
    "\n",
    "plt.tight_layout()\n",
    "plt.show()"
   ]
  },
  {
   "cell_type": "markdown",
   "id": "99a98196-f72a-4cc2-a8a9-348a092f5a57",
   "metadata": {},
   "source": [
    "<div style=\"background-color: #6D83C5;\" >\n",
    "    <h4 style=\"margin: auto; padding: 20px; color:#fff; \">7.2.4. Noise reduction</h4>\n",
    "</div>"
   ]
  },
  {
   "cell_type": "markdown",
   "id": "c839f340-04da-4a2c-b487-54d29edf0de2",
   "metadata": {
    "tags": []
   },
   "source": [
    "<div class=\"alert alert-block alert-info\">\n",
    "    <p>Now, we are going to use the gray images</p>\n",
    "</div>"
   ]
  },
  {
   "cell_type": "code",
   "execution_count": null,
   "id": "fc8899ea-1140-4f56-b5da-3af9d0746ee1",
   "metadata": {},
   "outputs": [],
   "source": [
    "df_data[\"image\"].apply(lambda x: gray_image(noise_reduction, GRAY_IMAGES_PATH))"
   ]
  },
  {
   "cell_type": "markdown",
   "id": "c64fc82e-d297-4129-9524-98b13b8bf521",
   "metadata": {
    "tags": []
   },
   "source": [
    "<div class=\"alert alert-block alert-info\">\n",
    "    <p>Let's look at the results</p>\n",
    "</div>"
   ]
  },
  {
   "cell_type": "code",
   "execution_count": null,
   "id": "4d52a4f6-80bc-4101-bc5e-e842093f7e37",
   "metadata": {
    "tags": []
   },
   "outputs": [],
   "source": [
    "gray_image = cv2.imread(GRAY_IMAGES_PATH + \"0ec47240feda42c63e42f1e9cee60f7a.jpg\")\n",
    "image_with_noise_reduced = cv2.imread(NR_IMAGES_PATH + \"0ec47240feda42c63e42f1e9cee60f7a.jpg\")\n",
    "\n",
    "# Initializing each figure/plot\n",
    "fig, (ax1, ax2) = plt.subplots(1, 2, figsize=(12, 5)) \n",
    "\n",
    "ax1.imshow(gray_image)\n",
    "ax1.set_title(\"Gray image\", fontsize=14)\n",
    "ax1.grid(None)\n",
    "ax1.axis(\"off\")\n",
    "\n",
    "ax2.imshow(image_with_noise_reduced)\n",
    "ax2.set_title(\"Image with noise reduced\", fontsize=14)\n",
    "ax2.grid(None)\n",
    "ax2.axis(\"off\")\n",
    "\n",
    "plt.tight_layout()\n",
    "plt.show()"
   ]
  },
  {
   "cell_type": "code",
   "execution_count": null,
   "id": "d4c7a619-8650-48a9-afdd-6732de79bc48",
   "metadata": {},
   "outputs": [],
   "source": []
  },
  {
   "cell_type": "markdown",
   "id": "98c9ee86-4d63-45e6-adc3-ab701b704529",
   "metadata": {
    "tags": []
   },
   "source": [
    "<div style=\"background-color: #FF5733;\" >\n",
    "    <h1 style=\"margin: auto; padding: 20px; color:#fff; \">--------- FLAG POSITION ---------</h1>\n",
    "</div>"
   ]
  },
  {
   "cell_type": "code",
   "execution_count": null,
   "id": "0114163a-445d-4285-b291-e02bb2c6d8a8",
   "metadata": {},
   "outputs": [],
   "source": [
    "raise SystemExit(\"Stop right there!\")"
   ]
  },
  {
   "cell_type": "markdown",
   "id": "e87e803e-84a0-4a84-b6c7-40ecc247af72",
   "metadata": {
    "tags": []
   },
   "source": [
    "<div style=\"background-color: #FF5733;\" >\n",
    "    <h1 style=\"margin: auto; padding: 20px; color:#fff; \">--------- FLAG POSITION ---------</h1>\n",
    "</div>"
   ]
  },
  {
   "cell_type": "code",
   "execution_count": null,
   "id": "69146cdb-0167-4bc9-9ee2-a39d3fe259e5",
   "metadata": {},
   "outputs": [],
   "source": []
  },
  {
   "cell_type": "code",
   "execution_count": null,
   "id": "fbf45d66-0b21-418c-953d-932296aa6d40",
   "metadata": {},
   "outputs": [],
   "source": []
  },
  {
   "cell_type": "code",
   "execution_count": null,
   "id": "664ccaaf-1d02-470e-9c5a-269e9b5f3e8a",
   "metadata": {},
   "outputs": [],
   "source": []
  },
  {
   "cell_type": "code",
   "execution_count": null,
   "id": "e02fa312-41cf-408c-8945-520521e26a8e",
   "metadata": {},
   "outputs": [],
   "source": []
  },
  {
   "cell_type": "code",
   "execution_count": null,
   "id": "410f0619-a8e3-4670-ae9d-07f20bcc0f47",
   "metadata": {},
   "outputs": [],
   "source": []
  },
  {
   "cell_type": "code",
   "execution_count": null,
   "id": "cb9c021c-2b2f-4388-8a4f-268acaf99f7f",
   "metadata": {},
   "outputs": [],
   "source": []
  }
 ],
 "metadata": {
  "kernelspec": {
   "display_name": "Python 3",
   "language": "python",
   "name": "python3"
  },
  "language_info": {
   "codemirror_mode": {
    "name": "ipython",
    "version": 3
   },
   "file_extension": ".py",
   "mimetype": "text/x-python",
   "name": "python",
   "nbconvert_exporter": "python",
   "pygments_lexer": "ipython3",
   "version": "3.8.8"
  }
 },
 "nbformat": 4,
 "nbformat_minor": 5
}
