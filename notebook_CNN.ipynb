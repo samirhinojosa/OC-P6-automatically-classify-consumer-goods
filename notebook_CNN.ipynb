{
 "cells": [
  {
   "cell_type": "markdown",
   "id": "c55a18bb-4886-4389-b2a4-961844aeb823",
   "metadata": {},
   "source": [
    "<div style=\"display: flex; background-color: #3F579F;\">\n",
    "    <h1 style=\"margin: auto; font-weight: bold; padding: 30px 30px 0px 30px; color:#fff;\" align=\"center\">Automatically classify consumer goods - P6</h1>\n",
    "</div>\n",
    "<div style=\"display: flex; background-color: #3F579F; margin: auto; padding: 5px 30px 0px 30px;\" >\n",
    "    <h3 style=\"width: 100%; text-align: center; float: left; font-size: 24px; color:#fff;\" align=\"center\">| Notebook - Convolutional Neural Networks |</h3>\n",
    "</div>\n",
    "<div style=\"display: flex; background-color: #3F579F; margin: auto; padding: 10px 30px 30px 30px;\">\n",
    "    <h4 style=\"width: 100%; text-align: center; float: left; font-size: 24px; color:#fff;\" align=\"center\">Data Scientist course - OpenClassrooms</h4>\n",
    "</div>"
   ]
  },
  {
   "cell_type": "markdown",
   "id": "dd18d322-d315-43f5-ab34-37889f2033ed",
   "metadata": {
    "tags": []
   },
   "source": [
    "<div class=\"alert alert-block alert-info\">\n",
    "    <p>In this notebook, we are going to do the image classification through Convolutional Neural Networks - CNN</p>\n",
    "</div>"
   ]
  },
  {
   "cell_type": "markdown",
   "id": "6c451fcf-c67c-4173-bc81-bf530c69fd95",
   "metadata": {},
   "source": [
    "<div style=\"background-color: #506AB9;\" >\n",
    "    <h2 style=\"margin: auto; padding: 20px; color:#fff; \">1. Libraries and functions</h2>\n",
    "</div>"
   ]
  },
  {
   "cell_type": "markdown",
   "id": "e73f7a9e-4512-4c1f-aedd-3bb2024dc489",
   "metadata": {},
   "source": [
    "<div style=\"background-color: #6D83C5;\" >\n",
    "    <h3 style=\"margin: auto; padding: 20px; color:#fff; \">1.1. Libraries and functions</h3>\n",
    "</div>"
   ]
  },
  {
   "cell_type": "code",
   "execution_count": 1,
   "id": "4f7b7312-da4d-449f-9ac6-5c30a9da9d0b",
   "metadata": {},
   "outputs": [],
   "source": [
    "## General\n",
    "import os\n",
    "import pandas as pd\n",
    "import numpy as np\n",
    "\n",
    "## TensorFlow\n",
    "import tensorflow as tf\n",
    "from tensorflow.keras.models import Sequential\n",
    "from tensorflow.keras.layers import Dense\n",
    "from tensorflow.keras.optimizers import SGD\n",
    "\n",
    "## Own specific functions \n",
    "from functions import *\n",
    "\n",
    "%load_ext tensorboard\n",
    "\n",
    "# Path to save the embedding and checkpoints generated\n",
    "LOG_DIR = \"./logs/projections/\""
   ]
  },
  {
   "cell_type": "code",
   "execution_count": null,
   "id": "ae5b5604-ca65-48c9-babf-9c1593a18360",
   "metadata": {},
   "outputs": [],
   "source": [
    "Convolutional Neural Networks"
   ]
  }
 ],
 "metadata": {
  "kernelspec": {
   "display_name": "Python 3 (ipykernel)",
   "language": "python",
   "name": "python3"
  },
  "language_info": {
   "codemirror_mode": {
    "name": "ipython",
    "version": 3
   },
   "file_extension": ".py",
   "mimetype": "text/x-python",
   "name": "python",
   "nbconvert_exporter": "python",
   "pygments_lexer": "ipython3",
   "version": "3.9.7"
  }
 },
 "nbformat": 4,
 "nbformat_minor": 5
}
