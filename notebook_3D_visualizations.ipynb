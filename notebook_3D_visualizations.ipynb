{
 "cells": [
  {
   "cell_type": "markdown",
   "id": "8e743681-c5e1-4835-83ce-8e644993dd58",
   "metadata": {},
   "source": [
    "<div style=\"display: flex; background-color: #3F579F;\">\n",
    "    <h1 style=\"margin: auto; font-weight: bold; padding: 30px 30px 0px 30px; color:#fff;\" align=\"center\">Automatically classify consumer goods - P6</h1>\n",
    "</div>\n",
    "<div style=\"display: flex; background-color: #3F579F; margin: auto; padding: 5px 30px 0px 30px;\" >\n",
    "    <h3 style=\"width: 100%; text-align: center; float: left; font-size: 24px; color:#fff;\" align=\"center\">| Notebook - 3D visualization |</h3>\n",
    "</div>\n",
    "<div style=\"display: flex; background-color: #3F579F; margin: auto; padding: 10px 30px 30px 30px;\">\n",
    "    <h4 style=\"width: 100%; text-align: center; float: left; font-size: 24px; color:#fff;\" align=\"center\">Data Scientist course - OpenClassrooms</h4>\n",
    "</div>"
   ]
  },
  {
   "cell_type": "markdown",
   "id": "b2c63160-26d1-41d2-915e-23cb40d01347",
   "metadata": {},
   "source": [
    "<div style=\"background-color: #506AB9;\" >\n",
    "    <h2 style=\"margin: auto; padding: 20px; color:#fff; \">1. Libraries and functions</h2>\n",
    "</div>"
   ]
  },
  {
   "cell_type": "markdown",
   "id": "41ce6e85-6c4f-4652-b8a3-dbd9a19d359b",
   "metadata": {},
   "source": [
    "<div style=\"background-color: #6D83C5;\" >\n",
    "    <h3 style=\"margin: auto; padding: 20px; color:#fff; \">1.1. Libraries and functions</h3>\n",
    "</div>"
   ]
  },
  {
   "cell_type": "code",
   "execution_count": 1,
   "id": "83549a80-8b5f-4829-9213-49ec44064205",
   "metadata": {},
   "outputs": [],
   "source": [
    "## General\n",
    "import os\n",
    "import pandas as pd\n",
    "import numpy as np\n",
    "\n",
    "## TensorFlow\n",
    "import tensorflow as tf\n",
    "from tensorboard.plugins import projector\n",
    "\n",
    "## Own specific functions \n",
    "from functions import *\n",
    "\n",
    "%load_ext tensorboard\n",
    "\n",
    "# Path to save the embedding and checkpoints generated\n",
    "LOG_DIR_SIFT = \"./logs/projections/sift/\"\n",
    "LOG_DIR_TEXT = \"./logs/projections/text/\""
   ]
  },
  {
   "cell_type": "markdown",
   "id": "e37224ae-eae1-454d-b890-747d2ac72c39",
   "metadata": {},
   "source": [
    "<div style=\"background-color: #506AB9;\" >\n",
    "    <h2 style=\"margin: auto; padding: 20px; color:#fff; \">2. Importing files and Initial analysis</h2>\n",
    "</div>"
   ]
  },
  {
   "cell_type": "markdown",
   "id": "0fbad6b4-1d9f-4242-9b6e-fc962050a7db",
   "metadata": {},
   "source": [
    "<div style=\"background-color: #6D83C5;\" >\n",
    "    <h3 style=\"margin: auto; padding: 20px; color:#fff; \">2.1. Importing and preparing files</h3>\n",
    "</div>"
   ]
  },
  {
   "cell_type": "markdown",
   "id": "114b6b57-16b0-48c9-afa8-e5179308ad49",
   "metadata": {
    "tags": []
   },
   "source": [
    "<div class=\"alert alert-block alert-info\">\n",
    "    We are going to load two datesets to plot them in 3D\n",
    "</div>"
   ]
  },
  {
   "cell_type": "code",
   "execution_count": 2,
   "id": "bc44b194-98e8-4f0e-97fe-bff59f8b42b4",
   "metadata": {
    "tags": []
   },
   "outputs": [],
   "source": [
    "df_text = pd.read_csv(r\"datasets\\tfidf_lemma_price.csv\", index_col=[0])\n",
    "df_sift = pd.read_csv(r\"datasets\\sift_price_bow_stemmed.csv\", index_col=[0])"
   ]
  },
  {
   "cell_type": "markdown",
   "id": "a4020ef5-161f-4ea2-9044-5c54b96918c2",
   "metadata": {},
   "source": [
    "<div style=\"background-color: #506AB9;\" >\n",
    "    <h2 style=\"margin: auto; padding: 20px; color:#fff; \">3. Tensorboard projection</h2>\n",
    "</div>"
   ]
  },
  {
   "cell_type": "markdown",
   "id": "e5298fca-ce66-45c6-97fc-42169c0ff3b0",
   "metadata": {},
   "source": [
    "<div style=\"background-color: #6D83C5;\" >\n",
    "    <h3 style=\"margin: auto; padding: 20px; color:#fff; \">3.1. Features from text</h3>\n",
    "</div>"
   ]
  },
  {
   "cell_type": "markdown",
   "id": "78a6c75a-ae06-49d1-9520-c89084ae6108",
   "metadata": {
    "tags": []
   },
   "source": [
    "<div class=\"alert alert-block alert-info\">\n",
    "    <p> In this case, we are going to plot the features from text features, it means that we don't use the descriptors and keypoints from the images</p>\n",
    "</div>"
   ]
  },
  {
   "cell_type": "code",
   "execution_count": 3,
   "id": "31694472-9ba9-4318-837a-543660b81b90",
   "metadata": {},
   "outputs": [
    {
     "data": {
      "text/html": [
       "<div>\n",
       "<style scoped>\n",
       "    .dataframe tbody tr th:only-of-type {\n",
       "        vertical-align: middle;\n",
       "    }\n",
       "\n",
       "    .dataframe tbody tr th {\n",
       "        vertical-align: top;\n",
       "    }\n",
       "\n",
       "    .dataframe thead th {\n",
       "        text-align: right;\n",
       "    }\n",
       "</style>\n",
       "<table border=\"1\" class=\"dataframe\">\n",
       "  <thead>\n",
       "    <tr style=\"text-align: right;\">\n",
       "      <th></th>\n",
       "      <th>tsne1</th>\n",
       "      <th>tsne2</th>\n",
       "      <th>tsne3</th>\n",
       "      <th>class_encode</th>\n",
       "      <th>class</th>\n",
       "      <th>cluster</th>\n",
       "    </tr>\n",
       "  </thead>\n",
       "  <tbody>\n",
       "    <tr>\n",
       "      <th>0</th>\n",
       "      <td>0.598403</td>\n",
       "      <td>-5.262136</td>\n",
       "      <td>-18.087257</td>\n",
       "      <td>4</td>\n",
       "      <td>Home Furnishing</td>\n",
       "      <td>0</td>\n",
       "    </tr>\n",
       "    <tr>\n",
       "      <th>1</th>\n",
       "      <td>9.759707</td>\n",
       "      <td>-2.279524</td>\n",
       "      <td>-7.274200</td>\n",
       "      <td>0</td>\n",
       "      <td>Baby Care</td>\n",
       "      <td>0</td>\n",
       "    </tr>\n",
       "    <tr>\n",
       "      <th>2</th>\n",
       "      <td>10.362164</td>\n",
       "      <td>-3.132142</td>\n",
       "      <td>-7.469657</td>\n",
       "      <td>0</td>\n",
       "      <td>Baby Care</td>\n",
       "      <td>0</td>\n",
       "    </tr>\n",
       "    <tr>\n",
       "      <th>3</th>\n",
       "      <td>8.143699</td>\n",
       "      <td>-0.299828</td>\n",
       "      <td>-11.685761</td>\n",
       "      <td>4</td>\n",
       "      <td>Home Furnishing</td>\n",
       "      <td>0</td>\n",
       "    </tr>\n",
       "    <tr>\n",
       "      <th>4</th>\n",
       "      <td>9.323577</td>\n",
       "      <td>0.523113</td>\n",
       "      <td>-12.829890</td>\n",
       "      <td>4</td>\n",
       "      <td>Home Furnishing</td>\n",
       "      <td>0</td>\n",
       "    </tr>\n",
       "  </tbody>\n",
       "</table>\n",
       "</div>"
      ],
      "text/plain": [
       "       tsne1     tsne2      tsne3  class_encode            class  cluster\n",
       "0   0.598403 -5.262136 -18.087257             4  Home Furnishing        0\n",
       "1   9.759707 -2.279524  -7.274200             0        Baby Care        0\n",
       "2  10.362164 -3.132142  -7.469657             0        Baby Care        0\n",
       "3   8.143699 -0.299828 -11.685761             4  Home Furnishing        0\n",
       "4   9.323577  0.523113 -12.829890             4  Home Furnishing        0"
      ]
     },
     "execution_count": 3,
     "metadata": {},
     "output_type": "execute_result"
    }
   ],
   "source": [
    "df_text.head()"
   ]
  },
  {
   "cell_type": "markdown",
   "id": "f2a858e4-b76c-4280-be22-875eb8f32415",
   "metadata": {
    "tags": []
   },
   "source": [
    "<div class=\"alert alert-block alert-info\">\n",
    "    <p> Creating a file with only the features</p>\n",
    "</div>"
   ]
  },
  {
   "cell_type": "code",
   "execution_count": 4,
   "id": "ac9a2cc4-e642-4819-850a-5aecf4e8fa70",
   "metadata": {},
   "outputs": [],
   "source": [
    "features = df_text[[\"tsne1\", \"tsne2\", \"tsne3\"]].copy()\n",
    "features.to_csv(LOG_DIR_TEXT + \"features.txt\", sep='\\t', index=False, header=False)"
   ]
  },
  {
   "cell_type": "markdown",
   "id": "94b9b239-ec99-411e-beaf-4c3903319b52",
   "metadata": {
    "tags": []
   },
   "source": [
    "<div class=\"alert alert-block alert-info\">\n",
    "    <p> Creating a file with only the cluters (labels) as metadata</p>\n",
    "</div>"
   ]
  },
  {
   "cell_type": "code",
   "execution_count": 5,
   "id": "8bf06fae-d606-4224-99f1-0078e0ba0d54",
   "metadata": {},
   "outputs": [],
   "source": [
    "metadata = df_text[[\"cluster\"]].copy()\n",
    "metadata.to_csv(LOG_DIR_TEXT + \"metadata.tsv\", sep='\\t', index=False, header=False)\n",
    "metadata = os.path.join(LOG_DIR_TEXT, 'metadata.tsv')"
   ]
  },
  {
   "cell_type": "markdown",
   "id": "07bb0f59-9c56-4e16-9785-f18e415a3168",
   "metadata": {
    "tags": []
   },
   "source": [
    "<div class=\"alert alert-block alert-info\">\n",
    "    <p>Defining the vectos and weights</p>\n",
    "</div>"
   ]
  },
  {
   "cell_type": "code",
   "execution_count": 6,
   "id": "c1048ac4-5b1f-4c0f-beac-6a8ecea6c267",
   "metadata": {},
   "outputs": [
    {
     "data": {
      "text/plain": [
       "array([[  0.5984031,  -5.262136 , -18.087257 ],\n",
       "       [  9.759707 ,  -2.2795243,  -7.2742004],\n",
       "       [ 10.362164 ,  -3.132142 ,  -7.4696574],\n",
       "       ...,\n",
       "       [ -0.7556431,   2.2882307,   8.618675 ],\n",
       "       [ -1.5104922,   4.792037 ,   9.938412 ],\n",
       "       [ -1.1745269,   2.4400692,   9.097878 ]])"
      ]
     },
     "execution_count": 6,
     "metadata": {},
     "output_type": "execute_result"
    }
   ],
   "source": [
    "features_vector = np.loadtxt(LOG_DIR_TEXT + \"features.txt\")\n",
    "features_vector"
   ]
  },
  {
   "cell_type": "code",
   "execution_count": 7,
   "id": "db26fc22-5881-4c2e-8c1b-15111f9ff4d9",
   "metadata": {},
   "outputs": [
    {
     "data": {
      "text/plain": [
       "<tf.Variable 'Variable:0' shape=(1050, 3) dtype=float64, numpy=\n",
       "array([[  0.5984031,  -5.262136 , -18.087257 ],\n",
       "       [  9.759707 ,  -2.2795243,  -7.2742004],\n",
       "       [ 10.362164 ,  -3.132142 ,  -7.4696574],\n",
       "       ...,\n",
       "       [ -0.7556431,   2.2882307,   8.618675 ],\n",
       "       [ -1.5104922,   4.792037 ,   9.938412 ],\n",
       "       [ -1.1745269,   2.4400692,   9.097878 ]])>"
      ]
     },
     "execution_count": 7,
     "metadata": {},
     "output_type": "execute_result"
    }
   ],
   "source": [
    "weights = tf.Variable(features_vector)\n",
    "weights"
   ]
  },
  {
   "cell_type": "markdown",
   "id": "86984f01-0443-41d5-adbc-fc5101917cfc",
   "metadata": {
    "tags": []
   },
   "source": [
    "<div class=\"alert alert-block alert-info\">\n",
    "    <p>Setting up the checkpoints</p>\n",
    "</div>"
   ]
  },
  {
   "cell_type": "code",
   "execution_count": 8,
   "id": "73c8dd6f-7a42-4390-96bd-ecba04727252",
   "metadata": {},
   "outputs": [
    {
     "data": {
      "text/plain": [
       "'./logs/projections/text/embedding.ckpt-1'"
      ]
     },
     "execution_count": 8,
     "metadata": {},
     "output_type": "execute_result"
    }
   ],
   "source": [
    "checkpoint = tf.train.Checkpoint(embedding=weights)\n",
    "checkpoint.save(os.path.join(LOG_DIR_TEXT, \"embedding.ckpt\"))"
   ]
  },
  {
   "cell_type": "markdown",
   "id": "754d2ed4-7e6d-4243-b04f-9e271aab6667",
   "metadata": {
    "tags": []
   },
   "source": [
    "<div class=\"alert alert-block alert-info\">\n",
    "    <p>Setting up config</p>\n",
    "</div>"
   ]
  },
  {
   "cell_type": "code",
   "execution_count": 9,
   "id": "145af3a3-214c-48ac-a637-d13b1fa72cbc",
   "metadata": {},
   "outputs": [],
   "source": [
    "# Set up config.\n",
    "config = projector.ProjectorConfig()\n",
    "embedding = config.embeddings.add()"
   ]
  },
  {
   "cell_type": "markdown",
   "id": "a3ffcaf4-2c63-4f93-a88c-44a1d0a44a80",
   "metadata": {
    "tags": []
   },
   "source": [
    "<div class=\"alert alert-block alert-info\">\n",
    "    <p>Defining embeddings</p>\n",
    "</div>"
   ]
  },
  {
   "cell_type": "code",
   "execution_count": 10,
   "id": "6428a636-b872-47f5-a198-8299d759a932",
   "metadata": {},
   "outputs": [],
   "source": [
    "embedding.tensor_name = \"embedding/.ATTRIBUTES/VARIABLE_VALUE\"\n",
    "embedding.metadata_path = \"metadata.tsv\""
   ]
  },
  {
   "cell_type": "markdown",
   "id": "ca08463e-0d85-4083-8a5b-9529ddfc6afe",
   "metadata": {
    "tags": []
   },
   "source": [
    "<div class=\"alert alert-block alert-info\">\n",
    "    <p>Initializing the projector based on the setup defined</p>\n",
    "</div>"
   ]
  },
  {
   "cell_type": "code",
   "execution_count": 11,
   "id": "4c162704-156c-4d65-87fa-29fe6223b68a",
   "metadata": {},
   "outputs": [],
   "source": [
    "projector.visualize_embeddings(LOG_DIR_TEXT, config)"
   ]
  },
  {
   "cell_type": "markdown",
   "id": "ab219327-0e10-415a-be2f-3113230616f8",
   "metadata": {
    "tags": []
   },
   "source": [
    "<div class=\"alert alert-block alert-info\">\n",
    "    <p>Now run tensorboard against on log data we just saved.</p>\n",
    "</div>"
   ]
  },
  {
   "cell_type": "code",
   "execution_count": 14,
   "id": "165975bc-af18-4297-8d5b-101ae11c23da",
   "metadata": {},
   "outputs": [
    {
     "data": {
      "text/html": [
       "\n",
       "      <iframe id=\"tensorboard-frame-a76d3b7fdd1506dc\" width=\"100%\" height=\"800\" frameborder=\"0\">\n",
       "      </iframe>\n",
       "      <script>\n",
       "        (function() {\n",
       "          const frame = document.getElementById(\"tensorboard-frame-a76d3b7fdd1506dc\");\n",
       "          const url = new URL(\"/\", window.location);\n",
       "          const port = 6006;\n",
       "          if (port) {\n",
       "            url.port = port;\n",
       "          }\n",
       "          frame.src = url;\n",
       "        })();\n",
       "      </script>\n",
       "    "
      ],
      "text/plain": [
       "<IPython.core.display.HTML object>"
      ]
     },
     "metadata": {},
     "output_type": "display_data"
    }
   ],
   "source": [
    "%tensorboard --logdir {LOG_DIR_TEXT}"
   ]
  },
  {
   "cell_type": "code",
   "execution_count": 13,
   "id": "99ebe361-0a33-4768-b1e4-2b7f55221478",
   "metadata": {},
   "outputs": [
    {
     "ename": "NameError",
     "evalue": "name 'ccc' is not defined",
     "output_type": "error",
     "traceback": [
      "\u001b[1;31m---------------------------------------------------------------------------\u001b[0m",
      "\u001b[1;31mNameError\u001b[0m                                 Traceback (most recent call last)",
      "\u001b[1;32m~\\AppData\\Local\\Temp/ipykernel_8512/1391208896.py\u001b[0m in \u001b[0;36m<module>\u001b[1;34m\u001b[0m\n\u001b[1;32m----> 1\u001b[1;33m \u001b[0mccc\u001b[0m\u001b[1;33m\u001b[0m\u001b[1;33m\u001b[0m\u001b[0m\n\u001b[0m",
      "\u001b[1;31mNameError\u001b[0m: name 'ccc' is not defined"
     ]
    }
   ],
   "source": [
    "ccc"
   ]
  },
  {
   "cell_type": "code",
   "execution_count": null,
   "id": "aab182f9-4022-49d9-a627-9603211c410e",
   "metadata": {},
   "outputs": [],
   "source": []
  },
  {
   "cell_type": "code",
   "execution_count": null,
   "id": "d108e904-22eb-4f4f-b16c-dd97a04486c3",
   "metadata": {},
   "outputs": [],
   "source": []
  },
  {
   "cell_type": "code",
   "execution_count": null,
   "id": "7adc7b00-edef-4770-bfab-c40e35e78117",
   "metadata": {},
   "outputs": [],
   "source": []
  },
  {
   "cell_type": "code",
   "execution_count": null,
   "id": "0fe3415e-506e-400c-9d59-ac0a76efc936",
   "metadata": {},
   "outputs": [],
   "source": []
  },
  {
   "cell_type": "code",
   "execution_count": null,
   "id": "0a2bac2e-4103-4d3b-a80b-b6d1c1661aab",
   "metadata": {},
   "outputs": [],
   "source": []
  },
  {
   "cell_type": "code",
   "execution_count": null,
   "id": "ed271e69-c3ac-41fe-a076-79c4456654b3",
   "metadata": {},
   "outputs": [],
   "source": []
  },
  {
   "cell_type": "code",
   "execution_count": null,
   "id": "dd13092f-b27a-4ac5-b42d-9b22a5fd2729",
   "metadata": {},
   "outputs": [],
   "source": [
    "## General\n",
    "import ast\n",
    "import operator\n",
    "import os\n",
    "import re\n",
    "import pandas as pd\n",
    "import numpy as np\n",
    "\n",
    "\n",
    "\n",
    "## TensorFlow\n",
    "import tensorflow as tf\n",
    "from tensorboard.plugins import projector\n",
    "\n",
    "%load_ext tensorboard\n",
    "\n"
   ]
  },
  {
   "cell_type": "code",
   "execution_count": null,
   "id": "cb8efab5-3a3e-477e-a97d-4da4588bff2d",
   "metadata": {},
   "outputs": [],
   "source": [
    "LOG_DIR = \"./logs/tf_files/\" # Path to save the embedding and checkpoints generated"
   ]
  },
  {
   "cell_type": "code",
   "execution_count": null,
   "id": "8ca89ebc-e58d-4a00-bf25-911a7f0590fa",
   "metadata": {},
   "outputs": [],
   "source": [
    "tsne = pd.read_csv(r\"temp_datasets\\sift_weighed_price_tfidf_lemma.csv\")"
   ]
  },
  {
   "cell_type": "code",
   "execution_count": null,
   "id": "5173c29c-880e-414a-a5d4-de89dd3c6a58",
   "metadata": {},
   "outputs": [],
   "source": [
    "features = tsne[[\"tsne1\", \"tsne2\", \"tsne3\"]].copy()\n",
    "features.to_csv(LOG_DIR + \"features.txt\", sep='\\t', index=False, header=False)"
   ]
  },
  {
   "cell_type": "code",
   "execution_count": null,
   "id": "8f4a5321-2ba6-4d36-ad94-d45a70a71033",
   "metadata": {},
   "outputs": [],
   "source": [
    "md = tsne[[\"cluster\"]].copy()\n",
    "md.to_csv(LOG_DIR + \"metadata.tsv\", sep='\\t', index=False, header=False)\n",
    "metadata = os.path.join(LOG_DIR, 'metadata.tsv')"
   ]
  },
  {
   "cell_type": "code",
   "execution_count": null,
   "id": "d1da7cf5-7855-4a88-8c57-90dd2c03405f",
   "metadata": {},
   "outputs": [],
   "source": [
    "features_vector = np.loadtxt(LOG_DIR + \"features.txt\")\n",
    "features_vector"
   ]
  },
  {
   "cell_type": "code",
   "execution_count": null,
   "id": "6c24d9d2-9c02-45b8-9223-904034f057b8",
   "metadata": {},
   "outputs": [],
   "source": [
    "weights = tf.Variable(features_vector)\n",
    "weights"
   ]
  },
  {
   "cell_type": "code",
   "execution_count": null,
   "id": "fb2b571e-51e7-4708-a192-0b884fa2de93",
   "metadata": {},
   "outputs": [],
   "source": [
    "checkpoint = tf.train.Checkpoint(embedding=weights)\n",
    "checkpoint.save(os.path.join(LOG_DIR, \"embedding.ckpt\"))"
   ]
  },
  {
   "cell_type": "code",
   "execution_count": null,
   "id": "edbedb2b-cb54-4f0c-aa63-8f3ab1f45fdb",
   "metadata": {},
   "outputs": [],
   "source": [
    "# Set up config.\n",
    "config = projector.ProjectorConfig()\n",
    "embedding = config.embeddings.add()"
   ]
  },
  {
   "cell_type": "code",
   "execution_count": null,
   "id": "9587c609-17e5-4541-bc95-1d3b73afd438",
   "metadata": {},
   "outputs": [],
   "source": [
    "# embedding.tensor_name = \"embedding/.ATTRIBUTES/VARIABLE_VALUE\"\n",
    "embedding.tensor_name = \"embedding/.ATTRIBUTES/VARIABLE_VALUE\"\n",
    "embedding.metadata_path = \"metadata.tsv\"\n",
    "\n",
    "# embedding.tensor_name = \"test\""
   ]
  },
  {
   "cell_type": "code",
   "execution_count": null,
   "id": "7cbab64a-5a42-4c56-afb7-0c294461b28d",
   "metadata": {},
   "outputs": [],
   "source": [
    "projector.visualize_embeddings(LOG_DIR, config)"
   ]
  },
  {
   "cell_type": "code",
   "execution_count": null,
   "id": "391d023d-edb0-4d2f-97b6-302669247621",
   "metadata": {},
   "outputs": [],
   "source": [
    "# Now run tensorboard against on log data we just saved.\n",
    "%tensorboard --logdir {LOG_DIR}"
   ]
  },
  {
   "cell_type": "code",
   "execution_count": null,
   "id": "c316bf7f-84a2-4705-9afc-1f6fff461999",
   "metadata": {},
   "outputs": [],
   "source": []
  }
 ],
 "metadata": {
  "kernelspec": {
   "display_name": "Python 3 (ipykernel)",
   "language": "python",
   "name": "python3"
  },
  "language_info": {
   "codemirror_mode": {
    "name": "ipython",
    "version": 3
   },
   "file_extension": ".py",
   "mimetype": "text/x-python",
   "name": "python",
   "nbconvert_exporter": "python",
   "pygments_lexer": "ipython3",
   "version": "3.9.7"
  }
 },
 "nbformat": 4,
 "nbformat_minor": 5
}
