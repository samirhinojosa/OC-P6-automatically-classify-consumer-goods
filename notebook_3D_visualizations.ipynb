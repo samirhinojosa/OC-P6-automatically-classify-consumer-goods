{
 "cells": [
  {
   "cell_type": "markdown",
   "id": "8e743681-c5e1-4835-83ce-8e644993dd58",
   "metadata": {},
   "source": [
    "<div style=\"display: flex; background-color: #3F579F;\">\n",
    "    <h1 style=\"margin: auto; font-weight: bold; padding: 30px 30px 0px 30px; color:#fff;\" align=\"center\">Automatically classify consumer goods - P6</h1>\n",
    "</div>\n",
    "<div style=\"display: flex; background-color: #3F579F; margin: auto; padding: 5px 30px 0px 30px;\" >\n",
    "    <h3 style=\"width: 100%; text-align: center; float: left; font-size: 24px; color:#fff;\" align=\"center\">| Notebook - 3D visualization |</h3>\n",
    "</div>\n",
    "<div style=\"display: flex; background-color: #3F579F; margin: auto; padding: 10px 30px 30px 30px;\">\n",
    "    <h4 style=\"width: 100%; text-align: center; float: left; font-size: 24px; color:#fff;\" align=\"center\">Data Scientist course - OpenClassrooms</h4>\n",
    "</div>"
   ]
  },
  {
   "cell_type": "markdown",
   "id": "b2c63160-26d1-41d2-915e-23cb40d01347",
   "metadata": {},
   "source": [
    "<div style=\"background-color: #506AB9;\" >\n",
    "    <h2 style=\"margin: auto; padding: 20px; color:#fff; \">1. Libraries and functions</h2>\n",
    "</div>"
   ]
  },
  {
   "cell_type": "markdown",
   "id": "41ce6e85-6c4f-4652-b8a3-dbd9a19d359b",
   "metadata": {},
   "source": [
    "<div style=\"background-color: #6D83C5;\" >\n",
    "    <h3 style=\"margin: auto; padding: 20px; color:#fff; \">1.1. Libraries and functions</h3>\n",
    "</div>"
   ]
  },
  {
   "cell_type": "code",
   "execution_count": 1,
   "id": "83549a80-8b5f-4829-9213-49ec44064205",
   "metadata": {},
   "outputs": [],
   "source": [
    "## General\n",
    "import os\n",
    "import pandas as pd\n",
    "import numpy as np\n",
    "\n",
    "## TensorFlow\n",
    "import tensorflow as tf\n",
    "from tensorboard.plugins import projector\n",
    "\n",
    "## Own specific functions \n",
    "from functions import *\n",
    "\n",
    "%load_ext tensorboard\n",
    "\n",
    "# Path to save the embedding and checkpoints generated\n",
    "LOG_DIR = \"./logs/projections/\""
   ]
  },
  {
   "cell_type": "markdown",
   "id": "e37224ae-eae1-454d-b890-747d2ac72c39",
   "metadata": {
    "tags": []
   },
   "source": [
    "<div style=\"background-color: #506AB9;\" >\n",
    "    <h2 style=\"margin: auto; padding: 20px; color:#fff; \">2. Importing files and Initial analysis</h2>\n",
    "</div>"
   ]
  },
  {
   "cell_type": "markdown",
   "id": "0fbad6b4-1d9f-4242-9b6e-fc962050a7db",
   "metadata": {},
   "source": [
    "<div style=\"background-color: #6D83C5;\" >\n",
    "    <h3 style=\"margin: auto; padding: 20px; color:#fff; \">2.1. Importing and preparing files</h3>\n",
    "</div>"
   ]
  },
  {
   "cell_type": "markdown",
   "id": "114b6b57-16b0-48c9-afa8-e5179308ad49",
   "metadata": {
    "tags": []
   },
   "source": [
    "<div class=\"alert alert-block alert-info\">\n",
    "    We are going to load two datesets to plot them in 3D\n",
    "</div>"
   ]
  },
  {
   "cell_type": "code",
   "execution_count": 2,
   "id": "bc44b194-98e8-4f0e-97fe-bff59f8b42b4",
   "metadata": {
    "tags": []
   },
   "outputs": [],
   "source": [
    "df_text = pd.read_csv(r\"datasets\\tfidf_lemma_price_pca_tsne_3c.csv\", index_col=[0])\n",
    "df_sift = pd.read_csv(r\"datasets\\sift_price_bow_stemmed_pca_tsne_3c.csv\", index_col=[0])"
   ]
  },
  {
   "cell_type": "markdown",
   "id": "a4020ef5-161f-4ea2-9044-5c54b96918c2",
   "metadata": {},
   "source": [
    "<div style=\"background-color: #506AB9;\" >\n",
    "    <h2 style=\"margin: auto; padding: 20px; color:#fff; \">3. Tensorboard projection</h2>\n",
    "</div>"
   ]
  },
  {
   "cell_type": "markdown",
   "id": "e5298fca-ce66-45c6-97fc-42169c0ff3b0",
   "metadata": {},
   "source": [
    "<div style=\"background-color: #6D83C5;\" >\n",
    "    <h3 style=\"margin: auto; padding: 20px; color:#fff; \">3.1. Features from text (Lemmatization + TF-IDF) and price</h3>\n",
    "</div>"
   ]
  },
  {
   "cell_type": "markdown",
   "id": "78a6c75a-ae06-49d1-9520-c89084ae6108",
   "metadata": {
    "tags": []
   },
   "source": [
    "<div class=\"alert alert-block alert-info\">\n",
    "    <p> In this case, we are going to plot the features from text features, it means that we don't use the descriptors and keypoints from the images</p>\n",
    "</div>"
   ]
  },
  {
   "cell_type": "code",
   "execution_count": 24,
   "id": "31694472-9ba9-4318-837a-543660b81b90",
   "metadata": {},
   "outputs": [
    {
     "data": {
      "text/html": [
       "<div>\n",
       "<style scoped>\n",
       "    .dataframe tbody tr th:only-of-type {\n",
       "        vertical-align: middle;\n",
       "    }\n",
       "\n",
       "    .dataframe tbody tr th {\n",
       "        vertical-align: top;\n",
       "    }\n",
       "\n",
       "    .dataframe thead th {\n",
       "        text-align: right;\n",
       "    }\n",
       "</style>\n",
       "<table border=\"1\" class=\"dataframe\">\n",
       "  <thead>\n",
       "    <tr style=\"text-align: right;\">\n",
       "      <th></th>\n",
       "      <th>tsne1</th>\n",
       "      <th>tsne2</th>\n",
       "      <th>tsne3</th>\n",
       "      <th>class_encode</th>\n",
       "      <th>class</th>\n",
       "      <th>cluster</th>\n",
       "    </tr>\n",
       "  </thead>\n",
       "  <tbody>\n",
       "    <tr>\n",
       "      <th>0</th>\n",
       "      <td>0.598403</td>\n",
       "      <td>-5.262136</td>\n",
       "      <td>-18.087257</td>\n",
       "      <td>4</td>\n",
       "      <td>Home Furnishing</td>\n",
       "      <td>0</td>\n",
       "    </tr>\n",
       "    <tr>\n",
       "      <th>1</th>\n",
       "      <td>9.759707</td>\n",
       "      <td>-2.279524</td>\n",
       "      <td>-7.274200</td>\n",
       "      <td>0</td>\n",
       "      <td>Baby Care</td>\n",
       "      <td>0</td>\n",
       "    </tr>\n",
       "    <tr>\n",
       "      <th>2</th>\n",
       "      <td>10.362164</td>\n",
       "      <td>-3.132142</td>\n",
       "      <td>-7.469657</td>\n",
       "      <td>0</td>\n",
       "      <td>Baby Care</td>\n",
       "      <td>0</td>\n",
       "    </tr>\n",
       "    <tr>\n",
       "      <th>3</th>\n",
       "      <td>8.143699</td>\n",
       "      <td>-0.299828</td>\n",
       "      <td>-11.685761</td>\n",
       "      <td>4</td>\n",
       "      <td>Home Furnishing</td>\n",
       "      <td>0</td>\n",
       "    </tr>\n",
       "    <tr>\n",
       "      <th>4</th>\n",
       "      <td>9.323577</td>\n",
       "      <td>0.523113</td>\n",
       "      <td>-12.829890</td>\n",
       "      <td>4</td>\n",
       "      <td>Home Furnishing</td>\n",
       "      <td>0</td>\n",
       "    </tr>\n",
       "  </tbody>\n",
       "</table>\n",
       "</div>"
      ],
      "text/plain": [
       "       tsne1     tsne2      tsne3  class_encode            class  cluster\n",
       "0   0.598403 -5.262136 -18.087257             4  Home Furnishing        0\n",
       "1   9.759707 -2.279524  -7.274200             0        Baby Care        0\n",
       "2  10.362164 -3.132142  -7.469657             0        Baby Care        0\n",
       "3   8.143699 -0.299828 -11.685761             4  Home Furnishing        0\n",
       "4   9.323577  0.523113 -12.829890             4  Home Furnishing        0"
      ]
     },
     "execution_count": 24,
     "metadata": {},
     "output_type": "execute_result"
    }
   ],
   "source": [
    "df_text.head()"
   ]
  },
  {
   "cell_type": "markdown",
   "id": "f2a858e4-b76c-4280-be22-875eb8f32415",
   "metadata": {
    "tags": []
   },
   "source": [
    "<div class=\"alert alert-block alert-info\">\n",
    "    <p> Creating a file with only the features</p>\n",
    "</div>"
   ]
  },
  {
   "cell_type": "code",
   "execution_count": 25,
   "id": "ac9a2cc4-e642-4819-850a-5aecf4e8fa70",
   "metadata": {},
   "outputs": [],
   "source": [
    "features = df_text[[\"tsne1\", \"tsne2\", \"tsne3\"]].copy()\n",
    "features.to_csv(LOG_DIR + \"features.txt\", sep='\\t', index=False, header=False)"
   ]
  },
  {
   "cell_type": "markdown",
   "id": "94b9b239-ec99-411e-beaf-4c3903319b52",
   "metadata": {
    "tags": []
   },
   "source": [
    "<div class=\"alert alert-block alert-info\">\n",
    "    <p> Creating a file with only the cluters (labels) as metadata</p>\n",
    "</div>"
   ]
  },
  {
   "cell_type": "code",
   "execution_count": 26,
   "id": "8bf06fae-d606-4224-99f1-0078e0ba0d54",
   "metadata": {},
   "outputs": [],
   "source": [
    "metadata = df_text[[\"cluster\"]].copy()\n",
    "metadata.to_csv(LOG_DIR + \"metadata.tsv\", sep='\\t', index=False, header=False)\n",
    "metadata = os.path.join(LOG_DIR, 'metadata.tsv')"
   ]
  },
  {
   "cell_type": "markdown",
   "id": "07bb0f59-9c56-4e16-9785-f18e415a3168",
   "metadata": {
    "tags": []
   },
   "source": [
    "<div class=\"alert alert-block alert-info\">\n",
    "    <p>Defining the vectos and weights</p>\n",
    "</div>"
   ]
  },
  {
   "cell_type": "code",
   "execution_count": 27,
   "id": "c1048ac4-5b1f-4c0f-beac-6a8ecea6c267",
   "metadata": {},
   "outputs": [
    {
     "data": {
      "text/plain": [
       "array([[  0.5984031,  -5.262136 , -18.087257 ],\n",
       "       [  9.759707 ,  -2.2795243,  -7.2742004],\n",
       "       [ 10.362164 ,  -3.132142 ,  -7.4696574],\n",
       "       ...,\n",
       "       [ -0.7556431,   2.2882307,   8.618675 ],\n",
       "       [ -1.5104922,   4.792037 ,   9.938412 ],\n",
       "       [ -1.1745269,   2.4400692,   9.097878 ]])"
      ]
     },
     "execution_count": 27,
     "metadata": {},
     "output_type": "execute_result"
    }
   ],
   "source": [
    "features_vector = np.loadtxt(LOG_DIR + \"features.txt\")\n",
    "features_vector"
   ]
  },
  {
   "cell_type": "code",
   "execution_count": 28,
   "id": "db26fc22-5881-4c2e-8c1b-15111f9ff4d9",
   "metadata": {},
   "outputs": [
    {
     "data": {
      "text/plain": [
       "<tf.Variable 'Variable:0' shape=(1050, 3) dtype=float64, numpy=\n",
       "array([[  0.5984031,  -5.262136 , -18.087257 ],\n",
       "       [  9.759707 ,  -2.2795243,  -7.2742004],\n",
       "       [ 10.362164 ,  -3.132142 ,  -7.4696574],\n",
       "       ...,\n",
       "       [ -0.7556431,   2.2882307,   8.618675 ],\n",
       "       [ -1.5104922,   4.792037 ,   9.938412 ],\n",
       "       [ -1.1745269,   2.4400692,   9.097878 ]])>"
      ]
     },
     "execution_count": 28,
     "metadata": {},
     "output_type": "execute_result"
    }
   ],
   "source": [
    "weights = tf.Variable(features_vector)\n",
    "weights"
   ]
  },
  {
   "cell_type": "markdown",
   "id": "86984f01-0443-41d5-adbc-fc5101917cfc",
   "metadata": {
    "tags": []
   },
   "source": [
    "<div class=\"alert alert-block alert-info\">\n",
    "    <p>Setting up the checkpoints</p>\n",
    "</div>"
   ]
  },
  {
   "cell_type": "code",
   "execution_count": 29,
   "id": "73c8dd6f-7a42-4390-96bd-ecba04727252",
   "metadata": {},
   "outputs": [
    {
     "data": {
      "text/plain": [
       "'./logs/projections/embedding.ckpt-1'"
      ]
     },
     "execution_count": 29,
     "metadata": {},
     "output_type": "execute_result"
    }
   ],
   "source": [
    "checkpoint = tf.train.Checkpoint(embedding=weights)\n",
    "checkpoint.save(os.path.join(LOG_DIR, \"embedding.ckpt\"))"
   ]
  },
  {
   "cell_type": "markdown",
   "id": "754d2ed4-7e6d-4243-b04f-9e271aab6667",
   "metadata": {
    "tags": []
   },
   "source": [
    "<div class=\"alert alert-block alert-info\">\n",
    "    <p>Setting up config</p>\n",
    "</div>"
   ]
  },
  {
   "cell_type": "code",
   "execution_count": 30,
   "id": "145af3a3-214c-48ac-a637-d13b1fa72cbc",
   "metadata": {},
   "outputs": [],
   "source": [
    "# Set up config.\n",
    "config = projector.ProjectorConfig()\n",
    "embedding = config.embeddings.add()"
   ]
  },
  {
   "cell_type": "markdown",
   "id": "a3ffcaf4-2c63-4f93-a88c-44a1d0a44a80",
   "metadata": {
    "tags": []
   },
   "source": [
    "<div class=\"alert alert-block alert-info\">\n",
    "    <p>Defining embeddings</p>\n",
    "</div>"
   ]
  },
  {
   "cell_type": "code",
   "execution_count": 31,
   "id": "6428a636-b872-47f5-a198-8299d759a932",
   "metadata": {},
   "outputs": [],
   "source": [
    "embedding.tensor_name = \"embedding/.ATTRIBUTES/VARIABLE_VALUE\"\n",
    "embedding.metadata_path = \"metadata.tsv\""
   ]
  },
  {
   "cell_type": "markdown",
   "id": "ca08463e-0d85-4083-8a5b-9529ddfc6afe",
   "metadata": {
    "tags": []
   },
   "source": [
    "<div class=\"alert alert-block alert-info\">\n",
    "    <p>Initializing the projector based on the setup defined</p>\n",
    "</div>"
   ]
  },
  {
   "cell_type": "code",
   "execution_count": 32,
   "id": "4c162704-156c-4d65-87fa-29fe6223b68a",
   "metadata": {},
   "outputs": [],
   "source": [
    "projector.visualize_embeddings(LOG_DIR, config)"
   ]
  },
  {
   "cell_type": "markdown",
   "id": "ab219327-0e10-415a-be2f-3113230616f8",
   "metadata": {
    "tags": []
   },
   "source": [
    "<div class=\"alert alert-block alert-info\">\n",
    "    <p>Now run tensorboard against on log data we just saved.</p>\n",
    "</div>"
   ]
  },
  {
   "cell_type": "code",
   "execution_count": 33,
   "id": "165975bc-af18-4297-8d5b-101ae11c23da",
   "metadata": {
    "tags": []
   },
   "outputs": [
    {
     "data": {
      "text/plain": [
       "Reusing TensorBoard on port 6006 (pid 10136), started 0:38:25 ago. (Use '!kill 10136' to kill it.)"
      ]
     },
     "metadata": {},
     "output_type": "display_data"
    },
    {
     "data": {
      "text/html": [
       "\n",
       "      <iframe id=\"tensorboard-frame-ea27522be948078\" width=\"100%\" height=\"800\" frameborder=\"0\">\n",
       "      </iframe>\n",
       "      <script>\n",
       "        (function() {\n",
       "          const frame = document.getElementById(\"tensorboard-frame-ea27522be948078\");\n",
       "          const url = new URL(\"/\", window.location);\n",
       "          const port = 6006;\n",
       "          if (port) {\n",
       "            url.port = port;\n",
       "          }\n",
       "          frame.src = url;\n",
       "        })();\n",
       "      </script>\n",
       "    "
      ],
      "text/plain": [
       "<IPython.core.display.HTML object>"
      ]
     },
     "metadata": {},
     "output_type": "display_data"
    }
   ],
   "source": [
    "%tensorboard --logdir {LOG_DIR}"
   ]
  },
  {
   "cell_type": "markdown",
   "id": "3498a5e6-432a-41f5-9f79-35da30b41182",
   "metadata": {
    "tags": []
   },
   "source": [
    "<div class=\"alert alert-block alert-info\">\n",
    "    <p>Below, a GIF with the visualization result.</p>\n",
    "</div>"
   ]
  },
  {
   "cell_type": "markdown",
   "id": "9a31491c-53a3-4964-a266-5d3916396147",
   "metadata": {},
   "source": [
    "![3D visualization](images/text_analysis/3D-text-and-price.gif)"
   ]
  },
  {
   "cell_type": "markdown",
   "id": "8b147384-204a-409b-8f04-541997206e91",
   "metadata": {},
   "source": [
    "<div class=\"alert alert-block alert-success\">\n",
    "    <p><b>Observations / Conclusions</b></p>\n",
    "    <p>It is clear the clusters in the plot. Also we can notice the inertia in each cluster</p>\n",
    "</div>"
   ]
  },
  {
   "cell_type": "markdown",
   "id": "36270ad4-6e71-475f-87ed-911e9d13f1a0",
   "metadata": {},
   "source": [
    "<div style=\"background-color: #6D83C5;\" >\n",
    "    <h3 style=\"margin: auto; padding: 20px; color:#fff; \">3.2. Features from images (SIFT), text (Stemmatization + BoW) and price</h3>\n",
    "</div>"
   ]
  },
  {
   "cell_type": "markdown",
   "id": "8a1e0062-ac22-4c1b-a967-5cb5bd75e981",
   "metadata": {
    "tags": []
   },
   "source": [
    "<div class=\"alert alert-block alert-info\">\n",
    "    <p> In this case, we are going to plot the features from images features, text and price, it means that we use the descriptors and keypoints from the images</p>\n",
    "</div>"
   ]
  },
  {
   "cell_type": "code",
   "execution_count": 13,
   "id": "91500c66-41ed-42d5-bdd9-a87c05cd7b15",
   "metadata": {},
   "outputs": [
    {
     "data": {
      "text/html": [
       "<div>\n",
       "<style scoped>\n",
       "    .dataframe tbody tr th:only-of-type {\n",
       "        vertical-align: middle;\n",
       "    }\n",
       "\n",
       "    .dataframe tbody tr th {\n",
       "        vertical-align: top;\n",
       "    }\n",
       "\n",
       "    .dataframe thead th {\n",
       "        text-align: right;\n",
       "    }\n",
       "</style>\n",
       "<table border=\"1\" class=\"dataframe\">\n",
       "  <thead>\n",
       "    <tr style=\"text-align: right;\">\n",
       "      <th></th>\n",
       "      <th>tsne1</th>\n",
       "      <th>tsne2</th>\n",
       "      <th>tsne3</th>\n",
       "      <th>class_encode</th>\n",
       "      <th>class</th>\n",
       "      <th>cluster</th>\n",
       "    </tr>\n",
       "  </thead>\n",
       "  <tbody>\n",
       "    <tr>\n",
       "      <th>0</th>\n",
       "      <td>18.040327</td>\n",
       "      <td>-27.914232</td>\n",
       "      <td>21.225372</td>\n",
       "      <td>4</td>\n",
       "      <td>Home Furnishing</td>\n",
       "      <td>3</td>\n",
       "    </tr>\n",
       "    <tr>\n",
       "      <th>1</th>\n",
       "      <td>25.596672</td>\n",
       "      <td>-14.931697</td>\n",
       "      <td>-10.460277</td>\n",
       "      <td>0</td>\n",
       "      <td>Baby Care</td>\n",
       "      <td>1</td>\n",
       "    </tr>\n",
       "    <tr>\n",
       "      <th>2</th>\n",
       "      <td>25.068176</td>\n",
       "      <td>-9.576262</td>\n",
       "      <td>-17.148710</td>\n",
       "      <td>0</td>\n",
       "      <td>Baby Care</td>\n",
       "      <td>6</td>\n",
       "    </tr>\n",
       "    <tr>\n",
       "      <th>3</th>\n",
       "      <td>-1.152819</td>\n",
       "      <td>44.023730</td>\n",
       "      <td>9.688732</td>\n",
       "      <td>4</td>\n",
       "      <td>Home Furnishing</td>\n",
       "      <td>2</td>\n",
       "    </tr>\n",
       "    <tr>\n",
       "      <th>4</th>\n",
       "      <td>17.697859</td>\n",
       "      <td>26.595018</td>\n",
       "      <td>24.333076</td>\n",
       "      <td>4</td>\n",
       "      <td>Home Furnishing</td>\n",
       "      <td>2</td>\n",
       "    </tr>\n",
       "  </tbody>\n",
       "</table>\n",
       "</div>"
      ],
      "text/plain": [
       "       tsne1      tsne2      tsne3  class_encode            class  cluster\n",
       "0  18.040327 -27.914232  21.225372             4  Home Furnishing        3\n",
       "1  25.596672 -14.931697 -10.460277             0        Baby Care        1\n",
       "2  25.068176  -9.576262 -17.148710             0        Baby Care        6\n",
       "3  -1.152819  44.023730   9.688732             4  Home Furnishing        2\n",
       "4  17.697859  26.595018  24.333076             4  Home Furnishing        2"
      ]
     },
     "execution_count": 13,
     "metadata": {},
     "output_type": "execute_result"
    }
   ],
   "source": [
    "df_sift.head()"
   ]
  },
  {
   "cell_type": "markdown",
   "id": "4540621e-542e-499b-8f27-9235e287589d",
   "metadata": {
    "tags": []
   },
   "source": [
    "<div class=\"alert alert-block alert-info\">\n",
    "    <p> Creating a file with only the features</p>\n",
    "</div>"
   ]
  },
  {
   "cell_type": "code",
   "execution_count": 14,
   "id": "69e1dbb2-59ba-484a-83cf-8c9f0b8de824",
   "metadata": {},
   "outputs": [],
   "source": [
    "features = df_sift[[\"tsne1\", \"tsne2\", \"tsne3\"]].copy()\n",
    "features.to_csv(LOG_DIR + \"features.txt\", sep='\\t', index=False, header=False)"
   ]
  },
  {
   "cell_type": "markdown",
   "id": "f5304197-2381-4e82-bd78-10864c1a6ed8",
   "metadata": {
    "tags": []
   },
   "source": [
    "<div class=\"alert alert-block alert-info\">\n",
    "    <p> Creating a file with only the cluters (labels) as metadata</p>\n",
    "</div>"
   ]
  },
  {
   "cell_type": "code",
   "execution_count": 15,
   "id": "a0530b46-d116-4e5f-84da-c638e073cc7d",
   "metadata": {},
   "outputs": [],
   "source": [
    "metadata = df_sift[[\"cluster\"]].copy()\n",
    "metadata.to_csv(LOG_DIR + \"metadata.tsv\", sep='\\t', index=False, header=False)\n",
    "metadata = os.path.join(LOG_DIR, 'metadata.tsv')"
   ]
  },
  {
   "cell_type": "markdown",
   "id": "abd2b107-8290-4ca0-b050-67bd2a2ca350",
   "metadata": {
    "tags": []
   },
   "source": [
    "<div class=\"alert alert-block alert-info\">\n",
    "    <p>Defining the vectos and weights</p>\n",
    "</div>"
   ]
  },
  {
   "cell_type": "code",
   "execution_count": 16,
   "id": "2a285e79-d42a-4625-b799-568614bdd7d7",
   "metadata": {},
   "outputs": [
    {
     "data": {
      "text/plain": [
       "array([[ 18.040327 , -27.914232 ,  21.225372 ],\n",
       "       [ 25.596672 , -14.931697 , -10.460277 ],\n",
       "       [ 25.068176 ,  -9.576262 , -17.14871  ],\n",
       "       ...,\n",
       "       [ 14.725035 ,   1.4500479,  20.14525  ],\n",
       "       [-10.671568 , -25.556484 , -10.067908 ],\n",
       "       [  4.5293903, -15.778702 ,  26.165033 ]])"
      ]
     },
     "execution_count": 16,
     "metadata": {},
     "output_type": "execute_result"
    }
   ],
   "source": [
    "features_vector = np.loadtxt(LOG_DIR + \"features.txt\")\n",
    "features_vector"
   ]
  },
  {
   "cell_type": "code",
   "execution_count": 17,
   "id": "788e3405-0896-40f2-b23d-626f72072862",
   "metadata": {},
   "outputs": [
    {
     "data": {
      "text/plain": [
       "<tf.Variable 'Variable:0' shape=(1050, 3) dtype=float64, numpy=\n",
       "array([[ 18.040327 , -27.914232 ,  21.225372 ],\n",
       "       [ 25.596672 , -14.931697 , -10.460277 ],\n",
       "       [ 25.068176 ,  -9.576262 , -17.14871  ],\n",
       "       ...,\n",
       "       [ 14.725035 ,   1.4500479,  20.14525  ],\n",
       "       [-10.671568 , -25.556484 , -10.067908 ],\n",
       "       [  4.5293903, -15.778702 ,  26.165033 ]])>"
      ]
     },
     "execution_count": 17,
     "metadata": {},
     "output_type": "execute_result"
    }
   ],
   "source": [
    "weights = tf.Variable(features_vector)\n",
    "weights"
   ]
  },
  {
   "cell_type": "markdown",
   "id": "32393721-f931-482b-811b-55dc0d7eb8fe",
   "metadata": {
    "tags": []
   },
   "source": [
    "<div class=\"alert alert-block alert-info\">\n",
    "    <p>Setting up the checkpoints</p>\n",
    "</div>"
   ]
  },
  {
   "cell_type": "code",
   "execution_count": 18,
   "id": "868fe608-e72f-4a29-9e8d-7a3e16a85522",
   "metadata": {},
   "outputs": [
    {
     "data": {
      "text/plain": [
       "'./logs/projections/embedding.ckpt-1'"
      ]
     },
     "execution_count": 18,
     "metadata": {},
     "output_type": "execute_result"
    }
   ],
   "source": [
    "checkpoint = tf.train.Checkpoint(embedding=weights)\n",
    "checkpoint.save(os.path.join(LOG_DIR, \"embedding.ckpt\"))"
   ]
  },
  {
   "cell_type": "markdown",
   "id": "94ef35b6-4ea3-4ce5-9ae5-e10ef6440120",
   "metadata": {
    "tags": []
   },
   "source": [
    "<div class=\"alert alert-block alert-info\">\n",
    "    <p>Setting up config</p>\n",
    "</div>"
   ]
  },
  {
   "cell_type": "code",
   "execution_count": 19,
   "id": "8500a917-3a8b-41d3-9eb1-451a51aae430",
   "metadata": {},
   "outputs": [],
   "source": [
    "# Set up config.\n",
    "config = projector.ProjectorConfig()\n",
    "embedding = config.embeddings.add()"
   ]
  },
  {
   "cell_type": "markdown",
   "id": "583c1003-d1ff-4463-842e-e74b867a1c13",
   "metadata": {
    "tags": []
   },
   "source": [
    "<div class=\"alert alert-block alert-info\">\n",
    "    <p>Defining embeddings</p>\n",
    "</div>"
   ]
  },
  {
   "cell_type": "code",
   "execution_count": 20,
   "id": "0d0c5d82-38f6-499a-95de-c1090805693e",
   "metadata": {},
   "outputs": [],
   "source": [
    "embedding.tensor_name = \"embedding/.ATTRIBUTES/VARIABLE_VALUE\"\n",
    "embedding.metadata_path = \"metadata.tsv\""
   ]
  },
  {
   "cell_type": "markdown",
   "id": "a1d461ac-d29f-4e51-9580-a8ce541613ec",
   "metadata": {
    "tags": []
   },
   "source": [
    "<div class=\"alert alert-block alert-info\">\n",
    "    <p>Initializing the projector based on the setup defined</p>\n",
    "</div>"
   ]
  },
  {
   "cell_type": "code",
   "execution_count": 21,
   "id": "af759224-f0ba-4c1c-a83b-e95729c641fa",
   "metadata": {},
   "outputs": [],
   "source": [
    "projector.visualize_embeddings(LOG_DIR, config)"
   ]
  },
  {
   "cell_type": "markdown",
   "id": "ab152c0b-de03-4561-95a9-c68e0ab6bf2d",
   "metadata": {
    "tags": []
   },
   "source": [
    "<div class=\"alert alert-block alert-info\">\n",
    "    <p>Now run tensorboard against on log data we just saved.</p>\n",
    "</div>"
   ]
  },
  {
   "cell_type": "code",
   "execution_count": 22,
   "id": "c9f95154-0ea5-4965-9b40-a4e11e444e39",
   "metadata": {},
   "outputs": [
    {
     "data": {
      "text/plain": [
       "Reusing TensorBoard on port 6006 (pid 10136), started 0:21:39 ago. (Use '!kill 10136' to kill it.)"
      ]
     },
     "metadata": {},
     "output_type": "display_data"
    },
    {
     "data": {
      "text/html": [
       "\n",
       "      <iframe id=\"tensorboard-frame-8265771527e2ae6f\" width=\"100%\" height=\"800\" frameborder=\"0\">\n",
       "      </iframe>\n",
       "      <script>\n",
       "        (function() {\n",
       "          const frame = document.getElementById(\"tensorboard-frame-8265771527e2ae6f\");\n",
       "          const url = new URL(\"/\", window.location);\n",
       "          const port = 6006;\n",
       "          if (port) {\n",
       "            url.port = port;\n",
       "          }\n",
       "          frame.src = url;\n",
       "        })();\n",
       "      </script>\n",
       "    "
      ],
      "text/plain": [
       "<IPython.core.display.HTML object>"
      ]
     },
     "metadata": {},
     "output_type": "display_data"
    }
   ],
   "source": [
    "%tensorboard --logdir {LOG_DIR}"
   ]
  },
  {
   "cell_type": "markdown",
   "id": "dd4b8403-6000-4f8f-be07-5fe4b6ad0106",
   "metadata": {
    "tags": []
   },
   "source": [
    "<div class=\"alert alert-block alert-info\">\n",
    "    <p>Below, a GIF with the visualization result.</p>\n",
    "</div>"
   ]
  },
  {
   "cell_type": "markdown",
   "id": "63546d49-6079-4e49-98cf-cf4115d2de9e",
   "metadata": {},
   "source": [
    "![3D visualization](images/text_analysis/3D-sift-text-price.gif)"
   ]
  },
  {
   "cell_type": "markdown",
   "id": "9270ffb1-0007-4f26-b057-ce591336d9dd",
   "metadata": {},
   "source": [
    "<div class=\"alert alert-block alert-success\">\n",
    "    <p><b>Observations / Conclusions</b></p>\n",
    "    <p>The clusters are not clear in the plot, they are dispersed</p>\n",
    "</div>"
   ]
  },
  {
   "cell_type": "markdown",
   "id": "85a6d5b9-9fd8-43ac-bdea-3df5c73d8466",
   "metadata": {
    "tags": []
   },
   "source": [
    "<div class=\"alert alert-block alert-danger\">\n",
    "    <h1>>>>> FLAG POSITION &lt;&lt;&lt;&lt; </h1>\n",
    "</div>"
   ]
  },
  {
   "cell_type": "code",
   "execution_count": 23,
   "id": "2f7f8228-3eae-48a2-b7eb-26d2580c0fc0",
   "metadata": {
    "tags": []
   },
   "outputs": [
    {
     "ename": "SystemExit",
     "evalue": "Stop right there!",
     "output_type": "error",
     "traceback": [
      "An exception has occurred, use %tb to see the full traceback.\n",
      "\u001b[1;31mSystemExit\u001b[0m\u001b[1;31m:\u001b[0m Stop right there!\n"
     ]
    },
    {
     "name": "stderr",
     "output_type": "stream",
     "text": [
      "C:\\Users\\Samir\\anaconda3\\envs\\tf\\lib\\site-packages\\IPython\\core\\interactiveshell.py:3452: UserWarning: To exit: use 'exit', 'quit', or Ctrl-D.\n",
      "  warn(\"To exit: use 'exit', 'quit', or Ctrl-D.\", stacklevel=1)\n"
     ]
    }
   ],
   "source": [
    "raise SystemExit(\"Stop right there!\")"
   ]
  },
  {
   "cell_type": "code",
   "execution_count": null,
   "id": "d108e904-22eb-4f4f-b16c-dd97a04486c3",
   "metadata": {},
   "outputs": [],
   "source": []
  },
  {
   "cell_type": "code",
   "execution_count": null,
   "id": "7adc7b00-edef-4770-bfab-c40e35e78117",
   "metadata": {},
   "outputs": [],
   "source": []
  },
  {
   "cell_type": "code",
   "execution_count": null,
   "id": "0fe3415e-506e-400c-9d59-ac0a76efc936",
   "metadata": {},
   "outputs": [],
   "source": []
  },
  {
   "cell_type": "code",
   "execution_count": null,
   "id": "0a2bac2e-4103-4d3b-a80b-b6d1c1661aab",
   "metadata": {},
   "outputs": [],
   "source": []
  },
  {
   "cell_type": "code",
   "execution_count": null,
   "id": "ed271e69-c3ac-41fe-a076-79c4456654b3",
   "metadata": {},
   "outputs": [],
   "source": []
  },
  {
   "cell_type": "code",
   "execution_count": null,
   "id": "c316bf7f-84a2-4705-9afc-1f6fff461999",
   "metadata": {},
   "outputs": [],
   "source": []
  }
 ],
 "metadata": {
  "kernelspec": {
   "display_name": "Python 3 (ipykernel)",
   "language": "python",
   "name": "python3"
  },
  "language_info": {
   "codemirror_mode": {
    "name": "ipython",
    "version": 3
   },
   "file_extension": ".py",
   "mimetype": "text/x-python",
   "name": "python",
   "nbconvert_exporter": "python",
   "pygments_lexer": "ipython3",
   "version": "3.9.7"
  }
 },
 "nbformat": 4,
 "nbformat_minor": 5
}
